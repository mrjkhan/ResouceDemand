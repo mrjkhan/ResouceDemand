{
 "cells": [
  {
   "cell_type": "code",
   "execution_count": 1,
   "metadata": {},
   "outputs": [],
   "source": [
    "# import libraries and modules\n",
    "from IPython.display import HTML\n",
    "get_ipython().run_line_magic('matplotlib', 'notebook')\n",
    "import matplotlib.pyplot as plt\n",
    "from tabulate import tabulate\n",
    "import pandas as pd\n",
    "import numpy as np\n",
    "import sys\n",
    "import IPython.display as display\n",
    "import warnings\n",
    "warnings.filterwarnings('ignore')\n",
    "import re\n",
    "import matplotlib as mpl\n",
    "from scipy import stats\n",
    "from pandas.io.html import read_html\n",
    "import statsmodels.api as sm\n",
    "import statsmodels.formula.api as smf\n",
    "from scipy.optimize import curve_fit\n",
    "\n",
    "\n",
    "\n",
    "def logistic(x, a, b, c, d):\n",
    "    return a / (d + np.exp(-c * x + b))\n",
    "\n",
    "def obs_pred_rsquare(obs, pred):\n",
    "    return 1 - sum((obs - pred) ** 2) / sum((obs - np.mean(obs)) ** 2)\n",
    "\n",
    "def exponential(x, a, b, c, d):\n",
    "    return a * np.exp(b * x) + c\n",
    "\n",
    "\n",
    "\n",
    "### Pull online data:\n",
    "### 1. COVID-19: John's Hopkins (https://github.com/CSSEGISandData/COVID-19)\n",
    "### 2. COVID-19: Sito del Dipartimento della Protezione Civile, Italia (https://github.com/pcm-dpc/COVID-19)\n",
    "### 3. Population size: klocey/COVID-dash/master/worldcities.csv\n",
    "\n",
    "\n",
    "JH_DATA_URL = 'https://raw.githubusercontent.com/CSSEGISandData/COVID-19/master/csse_covid_19_data/csse_covid_19_time_series/time_series_19-covid-'\n",
    "Italia_DATA_URL = 'https://raw.githubusercontent.com/pcm-dpc/COVID-19/master/dati-province/dpc-covid19-ita-province.csv'\n",
    "CITIES_URL = 'https://raw.githubusercontent.com/klocey/COVID-dash/master/worldcities.csv'\n",
    "\n",
    "\n",
    "df_confirmed = pd.read_csv(JH_DATA_URL + 'Confirmed.csv', index_col=False)\n",
    "ser = pd.Series(df_confirmed.index.tolist()).astype(str)\n",
    "df_confirmed['Province/State'].fillna(ser + df_confirmed['Country/Region'],inplace=True)\n",
    "df_confirmed['type'] = 'Confirmed'\n",
    "\n",
    "\n",
    "df_deaths = pd.read_csv(JH_DATA_URL + 'Deaths.csv', index_col=False)\n",
    "ser = pd.Series(df_deaths.index.tolist()).astype(str)\n",
    "df_deaths['Province/State'].fillna(ser + df_deaths['Country/Region'],inplace=True)\n",
    "df_deaths['type'] = 'Deaths'\n",
    "        \n",
    "    \n",
    "df_recovered = pd.read_csv(JH_DATA_URL + 'Recovered.csv', index_col=False)\n",
    "ser = pd.Series(df_recovered.index.tolist()).astype(str)\n",
    "df_recovered['Province/State'].fillna(ser + df_recovered['Country/Region'],inplace=True)\n",
    "df_recovered['type'] = 'Recovered'        \n",
    "       \n",
    "    \n",
    "ProvState = df_confirmed['Province/State']\n",
    "CountryRegion = df_confirmed['Country/Region']\n",
    "\n",
    "\n",
    "WorldCities = pd.read_csv(CITIES_URL, index_col=False)\n",
    "places = ProvState.tolist()\n",
    "\n",
    "\n",
    "popsizes = []\n",
    "for place in places:\n",
    "    popsize = 0\n",
    "    p_ls = ['Taiwan', 'San Diego County', 'Humboldt County', 'Sacramento County']\n",
    "    s_ls = [23545963, 3095313, 132646, 1418788]\n",
    "        \n",
    "    if place in p_ls:\n",
    "        i = p_ls.index(place)\n",
    "        popsize = s_ls[i]\n",
    "        \n",
    "    else:\n",
    "        try:\n",
    "            pattern = re.compile(r'\\w\\,')\n",
    "            if pattern.findall(place):\n",
    "                place = ','.join(place.split(',')[:-1])    \n",
    "    \n",
    "            subdf = WorldCities[WorldCities.isin([place]).any(1)]\n",
    "            popsize = sum(subdf['population'])\n",
    "        except:\n",
    "            pass\n",
    "    popsizes.append(popsize)\n",
    "    \n",
    "    \n",
    "df_confirmed['population size'] = list(popsizes)\n",
    "df_recovered['population size'] = list(popsizes)\n",
    "df_deaths['population size'] = list(popsizes)\n",
    "\n",
    "\n",
    "df = pd.concat([df_confirmed, df_deaths, df_recovered])\n",
    "col1 = df.pop('type')\n",
    "col2 = df.pop('population size')\n",
    "df.insert(0, 'type', col1)\n",
    "df.insert(1, 'population size', col2)\n",
    "\n",
    "\n",
    "yi = list(df)\n",
    "dates = yi[6:]\n",
    "\n",
    "\n",
    "df_Italia = pd.read_csv(Italia_DATA_URL, sep='\\,', error_bad_lines=False)\n",
    "dates = df_Italia['data'].tolist()\n",
    "\n",
    "\n",
    "try:\n",
    "    df_Italia['data'] = df_Italia['data'].map(lambda x: x.rstrip(u\"18:0\"))\n",
    "except:\n",
    "    pass\n",
    "try:\n",
    "    df_Italia['data'] = df_Italia['data'].map(lambda x: x.rstrip(u\"17:0\"))\n",
    "except:\n",
    "    pass\n",
    "\n",
    "df_Italia['data'] = pd.to_datetime(df_Italia['data'])\n",
    "df_Italia['data'] = df_Italia['data'].dt.strftime('%m/%d/%Y')\n",
    "\n",
    "\n",
    "try:\n",
    "    df_Italia['data'] = df_Italia['data'].map(lambda x: x.rstrip('0'))\n",
    "    df_Italia['data'] = df_Italia['data'].map(lambda x: x.rstrip('2'))\n",
    "    df_Italia['data'] = df_Italia['data'].map(lambda x: x.lstrip('0'))\n",
    "except:\n",
    "    pass\n",
    "\n",
    "\n",
    "#df_ItaliaT = df_Italia.T\n",
    "Italia_df  = pd.DataFrame(columns = list(df))\n",
    "Italia_df['type'] = 'Confirmed'\n",
    "Italia_df['population size'] = 0\n",
    "\n",
    "\n",
    "df_temp = df_Italia.filter(items=['denominazione_provincia', 'lat', 'long'])\n",
    "df_temp.drop_duplicates(inplace=True)\n",
    "\n",
    "\n",
    "Italia_df['Province/State'] = df_temp['denominazione_provincia']\n",
    "Italia_df['Country/Region'] = 'Italia'\n",
    "Italia_df['Lat'] = df_temp['lat']\n",
    "Italia_df['Long'] = df_temp['long']\n",
    "Italia_df = Italia_df.fillna(0)\n",
    "\n",
    "\n",
    "df_Italia = df_Italia.fillna(0)\n",
    "for index, row in Italia_df.iterrows():\n",
    "    p = row['Province/State']\n",
    "    df_temp = df_Italia[df_Italia['denominazione_provincia'] == p] \n",
    "    dates = df_temp['data'].tolist()\n",
    "    \n",
    "    cases = df_temp['totale_casi'].tolist()\n",
    "    \n",
    "    for i, date in enumerate(dates):\n",
    "        Italia_df.set_value(index, date, int(cases[i]))\n",
    "        \n",
    "        \n",
    "Italia_df = Italia_df[df.columns]\n",
    "Italia_df['type'] = ['Confirmed']*Italia_df.shape[0]\n",
    "\n",
    "\n",
    "dfMain = pd.concat([Italia_df, df], ignore_index=True)\n",
    "df_ProvState = dfMain.dropna(how='any')\n",
    "\n",
    "\n",
    "df_ProvState.to_csv('GlobalCOVID-DF2.txt', sep='\\t')"
   ]
  },
  {
   "cell_type": "code",
   "execution_count": null,
   "metadata": {},
   "outputs": [],
   "source": []
  }
 ],
 "metadata": {
  "kernelspec": {
   "display_name": "Python 3",
   "language": "python",
   "name": "python3"
  },
  "language_info": {
   "codemirror_mode": {
    "name": "ipython",
    "version": 3
   },
   "file_extension": ".py",
   "mimetype": "text/x-python",
   "name": "python",
   "nbconvert_exporter": "python",
   "pygments_lexer": "ipython3",
   "version": "3.7.4"
  },
  "widgets": {
   "application/vnd.jupyter.widget-state+json": {
    "state": {
     "009a3c331c3344c784cce5353e8986aa": {
      "model_module": "jupyter-leaflet",
      "model_module_version": "^0.12.2",
      "model_name": "LeafletMapStyleModel",
      "state": {
       "_model_module_version": "^0.12.2",
       "cursor": "move"
      }
     },
     "014b7896faa34f03b741cd681015e977": {
      "model_module": "jupyter-leaflet",
      "model_module_version": "^0.12.2",
      "model_name": "LeafletMapStyleModel",
      "state": {
       "_model_module_version": "^0.12.2"
      }
     },
     "02017643638d4ecda62350cd85cc149d": {
      "model_module": "@jupyter-widgets/controls",
      "model_module_version": "1.5.0",
      "model_name": "DescriptionStyleModel",
      "state": {
       "description_width": ""
      }
     },
     "0228b80b3cef4c9d8d81bbc77919d1b1": {
      "model_module": "jupyter-leaflet",
      "model_module_version": "^0.12.2",
      "model_name": "LeafletMapStyleModel",
      "state": {
       "_model_module_version": "^0.12.2"
      }
     },
     "04ac72f9d9144241accb90631d55e872": {
      "model_module": "jupyter-leaflet",
      "model_module_version": "^0.12.2",
      "model_name": "LeafletTileLayerModel",
      "state": {
       "_model_module_version": "^0.12.2",
       "_view_module_version": "^0.12.2",
       "attribution": "Imagery provided by services from the Global Imagery Browse Services (GIBS), operated by the NASA/GSFC/Earth Science Data and Information System (<a href=\"https://earthdata.nasa.gov\">ESDIS</a>) with funding provided by NASA/HQ.",
       "max_native_zoom": 18,
       "max_zoom": 9,
       "min_native_zoom": 0,
       "min_zoom": 1,
       "name": "NASAGIBS.ModisTerraTrueColorCR",
       "no_wrap": false,
       "options": [
        "attribution",
        "detect_retina",
        "max_native_zoom",
        "max_zoom",
        "min_native_zoom",
        "min_zoom",
        "no_wrap",
        "tile_size",
        "tms"
       ],
       "url": "https://gibs.earthdata.nasa.gov/wmts/epsg3857/best/MODIS_Terra_CorrectedReflectance_TrueColor/default/2017-04-08/GoogleMapsCompatible_Level9/{z}/{y}/{x}.jpg"
      }
     },
     "04dec21a04534408b81f35bb9e050988": {
      "model_module": "jupyter-leaflet",
      "model_module_version": "^0.12.2",
      "model_name": "LeafletMapStyleModel",
      "state": {
       "_model_module_version": "^0.12.2"
      }
     },
     "06f8d52c85674356b8169ffad5b3d9a0": {
      "model_module": "jupyter-leaflet",
      "model_module_version": "^0.12.2",
      "model_name": "LeafletMapStyleModel",
      "state": {
       "_model_module_version": "^0.12.2"
      }
     },
     "074521471c864488b0569c947c607720": {
      "model_module": "jupyter-leaflet",
      "model_module_version": "^0.12.2",
      "model_name": "LeafletMapStyleModel",
      "state": {
       "_model_module_version": "^0.12.2"
      }
     },
     "08509a22f0b641f89de622cb1d978083": {
      "model_module": "jupyter-leaflet",
      "model_module_version": "^0.12.2",
      "model_name": "LeafletMapStyleModel",
      "state": {
       "_model_module_version": "^0.12.2",
       "cursor": "move"
      }
     },
     "09fb918c2f20469c90417ab62eff3b94": {
      "model_module": "jupyter-leaflet",
      "model_module_version": "^0.12.2",
      "model_name": "LeafletPopupModel",
      "state": {
       "_model_module_version": "^0.12.2",
       "_view_module_version": "^0.12.2",
       "auto_close": false,
       "auto_pan": true,
       "auto_pan_padding": [
        5,
        5
       ],
       "auto_pan_padding_bottom_right": [],
       "auto_pan_padding_top_left": [],
       "child": "IPY_MODEL_5ea7d46233a043938ec2d566bc6fe41c",
       "class_name": "",
       "close_button": false,
       "close_on_escape_key": false,
       "keep_in_view": false,
       "location": [
        41.8781,
        87.6298
       ],
       "options": [
        "auto_close",
        "auto_pan",
        "auto_pan_padding",
        "auto_pan_padding_bottom_right",
        "auto_pan_padding_top_left",
        "class_name",
        "close_button",
        "close_on_escape_key",
        "keep_in_view",
        "max_height",
        "max_width",
        "min_width"
       ]
      }
     },
     "0a04c382b9eb4f8ab4b69e5cd7ab53ae": {
      "model_module": "@jupyter-widgets/base",
      "model_module_version": "1.2.0",
      "model_name": "LayoutModel",
      "state": {}
     },
     "0d75490cc30c41dfa2c19bdd729341dc": {
      "model_module": "jupyter-leaflet",
      "model_module_version": "^0.12.2",
      "model_name": "LeafletTileLayerModel",
      "state": {
       "_model_module_version": "^0.12.2",
       "_view_module_version": "^0.12.2",
       "attribution": "Imagery provided by services from the Global Imagery Browse Services (GIBS), operated by the NASA/GSFC/Earth Science Data and Information System (<a href=\"https://earthdata.nasa.gov\">ESDIS</a>) with funding provided by NASA/HQ.",
       "max_native_zoom": 18,
       "max_zoom": 9,
       "min_native_zoom": 0,
       "min_zoom": 1,
       "name": "NASAGIBS.ModisTerraTrueColorCR",
       "no_wrap": false,
       "options": [
        "attribution",
        "detect_retina",
        "max_native_zoom",
        "max_zoom",
        "min_native_zoom",
        "min_zoom",
        "no_wrap",
        "tile_size",
        "tms"
       ],
       "url": "https://gibs.earthdata.nasa.gov/wmts/epsg3857/best/MODIS_Terra_CorrectedReflectance_TrueColor/default/2017-04-08/GoogleMapsCompatible_Level9/{z}/{y}/{x}.jpg"
      }
     },
     "0dea335967d14284a08c542a8952b0ce": {
      "model_module": "@jupyter-widgets/controls",
      "model_module_version": "1.5.0",
      "model_name": "DescriptionStyleModel",
      "state": {
       "description_width": ""
      }
     },
     "0e6b8e4de90e4e958cc53443846e768b": {
      "model_module": "jupyter-leaflet",
      "model_module_version": "^0.12.2",
      "model_name": "LeafletTileLayerModel",
      "state": {
       "_model_module_version": "^0.12.2",
       "_view_module_version": "^0.12.2",
       "base": true,
       "max_native_zoom": 18,
       "max_zoom": 19,
       "min_native_zoom": 0,
       "min_zoom": 1,
       "no_wrap": false,
       "options": [
        "attribution",
        "detect_retina",
        "max_native_zoom",
        "max_zoom",
        "min_native_zoom",
        "min_zoom",
        "no_wrap",
        "tile_size",
        "tms"
       ]
      }
     },
     "101faba6e1eb4bfaa9ebc62a468d654e": {
      "model_module": "jupyter-leaflet",
      "model_module_version": "^0.12.2",
      "model_name": "LeafletAttributionControlModel",
      "state": {
       "_model_module_version": "^0.12.2",
       "_view_module_version": "^0.12.2",
       "options": [
        "position",
        "prefix"
       ],
       "position": "bottomright",
       "prefix": "Leaflet"
      }
     },
     "11d153caf2c944dcbe6df497b035f0f5": {
      "model_module": "jupyter-leaflet",
      "model_module_version": "^0.12.2",
      "model_name": "LeafletMapModel",
      "state": {
       "_model_module_version": "^0.12.2",
       "_view_module_version": "^0.12.2",
       "center": [
        33.89891688437142,
        35.41717529296876
       ],
       "controls": [
        "IPY_MODEL_7a7f7ae5fbc4488e92667af3a4fb6a31",
        "IPY_MODEL_3e6bab2c69134a56805abbb32e72e038"
       ],
       "default_style": "IPY_MODEL_d4cc496f7b5249afbba5aa65997dc732",
       "dragging_style": "IPY_MODEL_9d8b5e927081434fb762f24cdf84686f",
       "east": -180,
       "fullscreen": false,
       "interpolation": "bilinear",
       "layers": [
        "IPY_MODEL_6b548f5e7b3d467f89367ff9925e59e2"
       ],
       "layout": "IPY_MODEL_d079fa611c1943fcbd41c81b4c3cc92b",
       "modisdate": "yesterday",
       "north": -90,
       "options": [
        "bounce_at_zoom_limits",
        "box_zoom",
        "center",
        "close_popup_on_click",
        "double_click_zoom",
        "dragging",
        "fullscreen",
        "inertia",
        "inertia_deceleration",
        "inertia_max_speed",
        "interpolation",
        "keyboard",
        "keyboard_pan_offset",
        "keyboard_zoom_offset",
        "max_zoom",
        "min_zoom",
        "scroll_wheel_zoom",
        "tap",
        "tap_tolerance",
        "touch_zoom",
        "world_copy_jump",
        "zoom",
        "zoom_animation_threshold",
        "zoom_start"
       ],
       "south": 90,
       "style": "IPY_MODEL_d4cc496f7b5249afbba5aa65997dc732",
       "west": 180,
       "zoom": 4
      }
     },
     "11f555e1a46841c48f7c80efead788a0": {
      "model_module": "@jupyter-widgets/base",
      "model_module_version": "1.2.0",
      "model_name": "LayoutModel",
      "state": {}
     },
     "151950345da147549e8b4ba348199a27": {
      "model_module": "jupyter-leaflet",
      "model_module_version": "^0.12.2",
      "model_name": "LeafletMapStyleModel",
      "state": {
       "_model_module_version": "^0.12.2"
      }
     },
     "1570b3c928cf426c80f96b8a2f36d118": {
      "model_module": "jupyter-leaflet",
      "model_module_version": "^0.12.2",
      "model_name": "LeafletMapModel",
      "state": {
       "_model_module_version": "^0.12.2",
       "_view_module_version": "^0.12.2",
       "center": [
        41.87774145109676,
        -87.626953125
       ],
       "controls": [
        "IPY_MODEL_d2d85d1bd6254598a18e01e5a47ef0ad",
        "IPY_MODEL_7833848f5db549b88a4d37321e3d9674"
       ],
       "default_style": "IPY_MODEL_9d665e42000d4ea2807dacc284048b5e",
       "dragging_style": "IPY_MODEL_8574861807e54288a110d15a41960f99",
       "east": -180,
       "fullscreen": false,
       "interpolation": "bilinear",
       "layers": [
        "IPY_MODEL_6cc67c13da094714a6f6ab53133d523c",
        "IPY_MODEL_8791f3ffac7841ee8c93f7d689c91ceb"
       ],
       "layout": "IPY_MODEL_0a04c382b9eb4f8ab4b69e5cd7ab53ae",
       "modisdate": "yesterday",
       "north": -90,
       "options": [
        "bounce_at_zoom_limits",
        "box_zoom",
        "center",
        "close_popup_on_click",
        "double_click_zoom",
        "dragging",
        "fullscreen",
        "inertia",
        "inertia_deceleration",
        "inertia_max_speed",
        "interpolation",
        "keyboard",
        "keyboard_pan_offset",
        "keyboard_zoom_offset",
        "max_zoom",
        "min_zoom",
        "scroll_wheel_zoom",
        "tap",
        "tap_tolerance",
        "touch_zoom",
        "world_copy_jump",
        "zoom",
        "zoom_animation_threshold",
        "zoom_start"
       ],
       "south": 90,
       "style": "IPY_MODEL_9d665e42000d4ea2807dacc284048b5e",
       "west": 180,
       "zoom": 7
      }
     },
     "1c2b8020daa4480197a8daa097855a2d": {
      "model_module": "@jupyter-widgets/base",
      "model_module_version": "1.2.0",
      "model_name": "LayoutModel",
      "state": {}
     },
     "1d48f89c69014ccabc98a3d0b99bb383": {
      "model_module": "jupyter-leaflet",
      "model_module_version": "^0.12.2",
      "model_name": "LeafletZoomControlModel",
      "state": {
       "_model_module_version": "^0.12.2",
       "_view_module_version": "^0.12.2",
       "options": [
        "position",
        "zoom_in_text",
        "zoom_in_title",
        "zoom_out_text",
        "zoom_out_title"
       ]
      }
     },
     "1d9c1aa2290d49e1abbe4896bfe7b3f1": {
      "model_module": "jupyter-leaflet",
      "model_module_version": "^0.12.2",
      "model_name": "LeafletMapStyleModel",
      "state": {
       "_model_module_version": "^0.12.2",
       "cursor": "move"
      }
     },
     "1e1ed4bdf84842808dff0eafcef26e61": {
      "model_module": "jupyter-leaflet",
      "model_module_version": "^0.12.2",
      "model_name": "LeafletMapStyleModel",
      "state": {
       "_model_module_version": "^0.12.2"
      }
     },
     "1ea30fd90a7f4b4e82b1df7657f33b3a": {
      "model_module": "jupyter-leaflet",
      "model_module_version": "^0.12.2",
      "model_name": "LeafletTileLayerModel",
      "state": {
       "_model_module_version": "^0.12.2",
       "_view_module_version": "^0.12.2",
       "attribution": "Imagery provided by services from the Global Imagery Browse Services (GIBS), operated by the NASA/GSFC/Earth Science Data and Information System (<a href=\"https://earthdata.nasa.gov\">ESDIS</a>) with funding provided by NASA/HQ.",
       "max_native_zoom": 18,
       "max_zoom": 9,
       "min_native_zoom": 0,
       "min_zoom": 1,
       "name": "NASAGIBS.ModisTerraTrueColorCR",
       "no_wrap": false,
       "options": [
        "attribution",
        "detect_retina",
        "max_native_zoom",
        "max_zoom",
        "min_native_zoom",
        "min_zoom",
        "no_wrap",
        "tile_size",
        "tms"
       ],
       "url": "https://gibs.earthdata.nasa.gov/wmts/epsg3857/best/MODIS_Terra_CorrectedReflectance_TrueColor/default/2017-04-08/GoogleMapsCompatible_Level9/{z}/{y}/{x}.jpg"
      }
     },
     "223a4b5181634a7bb46316b0618d24fe": {
      "model_module": "jupyter-leaflet",
      "model_module_version": "^0.12.2",
      "model_name": "LeafletMapStyleModel",
      "state": {
       "_model_module_version": "^0.12.2"
      }
     },
     "23a393a52b3d453189839aebb94f0337": {
      "model_module": "@jupyter-widgets/base",
      "model_module_version": "1.2.0",
      "model_name": "LayoutModel",
      "state": {}
     },
     "24c76d4b15824515854bfb6f02d36c6a": {
      "model_module": "jupyter-leaflet",
      "model_module_version": "^0.12.2",
      "model_name": "LeafletMapModel",
      "state": {
       "_model_module_version": "^0.12.2",
       "_view_module_version": "^0.12.2",
       "center": [
        41.8781,
        -87.6298
       ],
       "controls": [
        "IPY_MODEL_7a54c32c1b4c4047a13aa1dc6bb73962",
        "IPY_MODEL_2c2469f99115464481d424e85502d2a6"
       ],
       "default_style": "IPY_MODEL_223a4b5181634a7bb46316b0618d24fe",
       "dragging_style": "IPY_MODEL_fa25771dcf9e46f082d85dc09b92c36b",
       "east": -84.93530273437501,
       "fullscreen": false,
       "interpolation": "bilinear",
       "layers": [
        "IPY_MODEL_8564701f0c0445dab1a419ea7fa78f6d"
       ],
       "layout": "IPY_MODEL_46ce6bda68c24ecd8b71ec887329f461",
       "modisdate": "yesterday",
       "north": 42.69051116998241,
       "options": [
        "bounce_at_zoom_limits",
        "box_zoom",
        "center",
        "close_popup_on_click",
        "double_click_zoom",
        "dragging",
        "fullscreen",
        "inertia",
        "inertia_deceleration",
        "inertia_max_speed",
        "interpolation",
        "keyboard",
        "keyboard_pan_offset",
        "keyboard_zoom_offset",
        "max_zoom",
        "min_zoom",
        "scroll_wheel_zoom",
        "tap",
        "tap_tolerance",
        "touch_zoom",
        "world_copy_jump",
        "zoom",
        "zoom_animation_threshold",
        "zoom_start"
       ],
       "south": 41.054501963290505,
       "style": "IPY_MODEL_06f8d52c85674356b8169ffad5b3d9a0",
       "west": -90.32409667968751,
       "zoom": 8
      }
     },
     "253b8f6556b64fdeac1bec2477024a8d": {
      "model_module": "jupyter-leaflet",
      "model_module_version": "^0.12.2",
      "model_name": "LeafletMapStyleModel",
      "state": {
       "_model_module_version": "^0.12.2",
       "cursor": "move"
      }
     },
     "25a573eac76541b3bc1452e208db688f": {
      "model_module": "jupyter-leaflet",
      "model_module_version": "^0.12.2",
      "model_name": "LeafletZoomControlModel",
      "state": {
       "_model_module_version": "^0.12.2",
       "_view_module_version": "^0.12.2",
       "options": [
        "position",
        "zoom_in_text",
        "zoom_in_title",
        "zoom_out_text",
        "zoom_out_title"
       ]
      }
     },
     "26c5b8ebda354056b8b9d47cba69ea9d": {
      "model_module": "jupyter-leaflet",
      "model_module_version": "^0.12.2",
      "model_name": "LeafletMapStyleModel",
      "state": {
       "_model_module_version": "^0.12.2",
       "cursor": "move"
      }
     },
     "27892dff123140dfb29701c43b732ddc": {
      "model_module": "jupyter-leaflet",
      "model_module_version": "^0.12.2",
      "model_name": "LeafletMapStyleModel",
      "state": {
       "_model_module_version": "^0.12.2"
      }
     },
     "285fd4b2143448afa876d7091b94ffd6": {
      "model_module": "@jupyter-widgets/controls",
      "model_module_version": "1.5.0",
      "model_name": "HTMLModel",
      "state": {
       "layout": "IPY_MODEL_8d4fce19d2f5401487845a8026509cbd",
       "style": "IPY_MODEL_32f3115dc0dd4d81961faeab9c6c0e15",
       "value": "Try clicking the marker!"
      }
     },
     "292a75fee2034561a9b5678a3f5cef9f": {
      "model_module": "jupyter-leaflet",
      "model_module_version": "^0.12.2",
      "model_name": "LeafletTileLayerModel",
      "state": {
       "_model_module_version": "^0.12.2",
       "_view_module_version": "^0.12.2",
       "base": true,
       "max_native_zoom": 18,
       "max_zoom": 19,
       "min_native_zoom": 0,
       "min_zoom": 1,
       "no_wrap": false,
       "options": [
        "attribution",
        "detect_retina",
        "max_native_zoom",
        "max_zoom",
        "min_native_zoom",
        "min_zoom",
        "no_wrap",
        "tile_size",
        "tms"
       ]
      }
     },
     "2a2a2345bb9e44228eaad516700816db": {
      "model_module": "jupyter-leaflet",
      "model_module_version": "^0.12.2",
      "model_name": "LeafletMapStyleModel",
      "state": {
       "_model_module_version": "^0.12.2",
       "cursor": "move"
      }
     },
     "2a31e2c29d424169b076e8db404514a3": {
      "model_module": "jupyter-leaflet",
      "model_module_version": "^0.12.2",
      "model_name": "LeafletMarkerModel",
      "state": {
       "_model_module_version": "^0.12.2",
       "_view_module_version": "^0.12.2",
       "location": [
        41.8781,
        87.6298
       ],
       "options": [
        "alt",
        "draggable",
        "keyboard",
        "rise_offset",
        "rise_on_hover",
        "rotation_angle",
        "rotation_origin",
        "title",
        "z_index_offset"
       ],
       "popup": "IPY_MODEL_6392e5efbba84675b9ad2605ad6098e9"
      }
     },
     "2a7e3557514b4d889b15aa5f49f6ceb0": {
      "model_module": "jupyter-leaflet",
      "model_module_version": "^0.12.2",
      "model_name": "LeafletTileLayerModel",
      "state": {
       "_model_module_version": "^0.12.2",
       "_view_module_version": "^0.12.2",
       "attribution": "Tiles &copy; Esri &mdash; Source: Esri, i-cubed, USDA, USGS, AEX, GeoEye, Getmapping, Aerogrid, IGN, IGP, UPR-EGP, and the GIS User Community",
       "max_native_zoom": 18,
       "max_zoom": 20,
       "min_native_zoom": 0,
       "min_zoom": 1,
       "name": "Esri.WorldImagery",
       "no_wrap": false,
       "options": [
        "attribution",
        "detect_retina",
        "max_native_zoom",
        "max_zoom",
        "min_native_zoom",
        "min_zoom",
        "no_wrap",
        "tile_size",
        "tms"
       ],
       "url": "http://server.arcgisonline.com/ArcGIS/rest/services/World_Imagery/MapServer/tile/{z}/{y}/{x}"
      }
     },
     "2c2469f99115464481d424e85502d2a6": {
      "model_module": "jupyter-leaflet",
      "model_module_version": "^0.12.2",
      "model_name": "LeafletAttributionControlModel",
      "state": {
       "_model_module_version": "^0.12.2",
       "_view_module_version": "^0.12.2",
       "options": [
        "position",
        "prefix"
       ],
       "position": "bottomright",
       "prefix": "Leaflet"
      }
     },
     "2c2915d236994c6aa892b48db282b430": {
      "model_module": "jupyter-leaflet",
      "model_module_version": "^0.12.2",
      "model_name": "LeafletMapStyleModel",
      "state": {
       "_model_module_version": "^0.12.2"
      }
     },
     "2d801263b12c436181f4c6da288e14f2": {
      "model_module": "jupyter-leaflet",
      "model_module_version": "^0.12.2",
      "model_name": "LeafletZoomControlModel",
      "state": {
       "_model_module_version": "^0.12.2",
       "_view_module_version": "^0.12.2",
       "options": [
        "position",
        "zoom_in_text",
        "zoom_in_title",
        "zoom_out_text",
        "zoom_out_title"
       ]
      }
     },
     "2fd7469bfc854f91a8c15aec85525948": {
      "model_module": "jupyter-leaflet",
      "model_module_version": "^0.12.2",
      "model_name": "LeafletMapModel",
      "state": {
       "_model_module_version": "^0.12.2",
       "_view_module_version": "^0.12.2",
       "center": [
        42.032974332441405,
        -87.18750000000001
       ],
       "controls": [
        "IPY_MODEL_387ea86e716c4bedb4f6734379093d47",
        "IPY_MODEL_b867b3e706d542f58a6788db11f7235b"
       ],
       "default_style": "IPY_MODEL_397560cb8605456fa17233847d8c5a60",
       "dragging_style": "IPY_MODEL_8ab7bd85a2b64edab9f7d6fa23ab734d",
       "east": -180,
       "fullscreen": false,
       "interpolation": "bilinear",
       "layers": [
        "IPY_MODEL_0d75490cc30c41dfa2c19bdd729341dc"
       ],
       "layout": "IPY_MODEL_7cb5186fb83444dbb1324b5639446dbb",
       "modisdate": "yesterday",
       "north": -90,
       "options": [
        "bounce_at_zoom_limits",
        "box_zoom",
        "center",
        "close_popup_on_click",
        "double_click_zoom",
        "dragging",
        "fullscreen",
        "inertia",
        "inertia_deceleration",
        "inertia_max_speed",
        "interpolation",
        "keyboard",
        "keyboard_pan_offset",
        "keyboard_zoom_offset",
        "max_zoom",
        "min_zoom",
        "scroll_wheel_zoom",
        "tap",
        "tap_tolerance",
        "touch_zoom",
        "world_copy_jump",
        "zoom",
        "zoom_animation_threshold",
        "zoom_start"
       ],
       "south": 90,
       "style": "IPY_MODEL_397560cb8605456fa17233847d8c5a60",
       "west": 180,
       "zoom": 1
      }
     },
     "30093b6677e6428ba9428d00c0b6a23a": {
      "model_module": "@jupyter-widgets/base",
      "model_module_version": "1.2.0",
      "model_name": "LayoutModel",
      "state": {}
     },
     "310e87973a3c4d3682e65bca5621a8a5": {
      "model_module": "jupyter-leaflet",
      "model_module_version": "^0.12.2",
      "model_name": "LeafletMapModel",
      "state": {
       "_model_module_version": "^0.12.2",
       "_view_module_version": "^0.12.2",
       "center": [
        42.168365634940436,
        -87.8170680999756
       ],
       "controls": [
        "IPY_MODEL_4297b226a5ae48268ec8412a24abbad4",
        "IPY_MODEL_aecebc3bc2ce4cd79ebe80cc2bdad6c6"
       ],
       "default_style": "IPY_MODEL_014b7896faa34f03b741cd681015e977",
       "dragging_style": "IPY_MODEL_5b386fe7345f4616ac0656d2cd71faf5",
       "east": -85.12267112731935,
       "fullscreen": false,
       "interpolation": "bilinear",
       "layers": [
        "IPY_MODEL_65bd485db9b24686abd73cbd8f9f50f2"
       ],
       "layout": "IPY_MODEL_11f555e1a46841c48f7c80efead788a0",
       "modisdate": "yesterday",
       "north": 42.97739984385911,
       "options": [
        "bounce_at_zoom_limits",
        "box_zoom",
        "center",
        "close_popup_on_click",
        "double_click_zoom",
        "dragging",
        "fullscreen",
        "inertia",
        "inertia_deceleration",
        "inertia_max_speed",
        "interpolation",
        "keyboard",
        "keyboard_pan_offset",
        "keyboard_zoom_offset",
        "max_zoom",
        "min_zoom",
        "scroll_wheel_zoom",
        "tap",
        "tap_tolerance",
        "touch_zoom",
        "world_copy_jump",
        "zoom",
        "zoom_animation_threshold",
        "zoom_start"
       ],
       "south": 41.348850564433505,
       "style": "IPY_MODEL_014b7896faa34f03b741cd681015e977",
       "west": -90.51146507263185,
       "zoom": 8
      }
     },
     "32f3115dc0dd4d81961faeab9c6c0e15": {
      "model_module": "@jupyter-widgets/controls",
      "model_module_version": "1.5.0",
      "model_name": "DescriptionStyleModel",
      "state": {
       "description_width": ""
      }
     },
     "33126502946a41c1a132bc91d32b54c0": {
      "model_module": "jupyter-leaflet",
      "model_module_version": "^0.12.2",
      "model_name": "LeafletAttributionControlModel",
      "state": {
       "_model_module_version": "^0.12.2",
       "_view_module_version": "^0.12.2",
       "options": [
        "position",
        "prefix"
       ],
       "position": "bottomright",
       "prefix": "Leaflet"
      }
     },
     "33e6a5f03c554fcaa40780f9d2f3c762": {
      "model_module": "jupyter-leaflet",
      "model_module_version": "^0.12.2",
      "model_name": "LeafletPopupModel",
      "state": {
       "_model_module_version": "^0.12.2",
       "_view_module_version": "^0.12.2",
       "auto_close": false,
       "auto_pan": true,
       "auto_pan_padding": [
        5,
        5
       ],
       "auto_pan_padding_bottom_right": [],
       "auto_pan_padding_top_left": [],
       "child": "IPY_MODEL_285fd4b2143448afa876d7091b94ffd6",
       "class_name": "",
       "close_button": false,
       "close_on_escape_key": false,
       "keep_in_view": false,
       "location": [
        41.8781,
        -87.6298
       ],
       "options": [
        "auto_close",
        "auto_pan",
        "auto_pan_padding",
        "auto_pan_padding_bottom_right",
        "auto_pan_padding_top_left",
        "class_name",
        "close_button",
        "close_on_escape_key",
        "keep_in_view",
        "max_height",
        "max_width",
        "min_width"
       ]
      }
     },
     "348187cbe0544c0ea8bb5c352e06e2f3": {
      "model_module": "jupyter-leaflet",
      "model_module_version": "^0.12.2",
      "model_name": "LeafletTileLayerModel",
      "state": {
       "_model_module_version": "^0.12.2",
       "_view_module_version": "^0.12.2",
       "attribution": "Imagery provided by services from the Global Imagery Browse Services (GIBS), operated by the NASA/GSFC/Earth Science Data and Information System (<a href=\"https://earthdata.nasa.gov\">ESDIS</a>) with funding provided by NASA/HQ.",
       "max_native_zoom": 18,
       "max_zoom": 9,
       "min_native_zoom": 0,
       "min_zoom": 1,
       "name": "NASAGIBS.ModisTerraTrueColorCR",
       "no_wrap": false,
       "options": [
        "attribution",
        "detect_retina",
        "max_native_zoom",
        "max_zoom",
        "min_native_zoom",
        "min_zoom",
        "no_wrap",
        "tile_size",
        "tms"
       ],
       "url": "https://gibs.earthdata.nasa.gov/wmts/epsg3857/best/MODIS_Terra_CorrectedReflectance_TrueColor/default/2017-04-08/GoogleMapsCompatible_Level9/{z}/{y}/{x}.jpg"
      }
     },
     "36ebc2a3721a4ef99aa0937d6a9f1a0e": {
      "model_module": "jupyter-leaflet",
      "model_module_version": "^0.12.2",
      "model_name": "LeafletMapModel",
      "state": {
       "_model_module_version": "^0.12.2",
       "_view_module_version": "^0.12.2",
       "center": [
        41.73775190618871,
        -87.63358354568481
       ],
       "close_popup_on_click": false,
       "controls": [
        "IPY_MODEL_40b75d769a3a404ea4c50b8e504bc51f",
        "IPY_MODEL_f9eaca8a0b164163bd04b0b973a53831"
       ],
       "default_style": "IPY_MODEL_b40a4a2593db4a97aab43297f2438c1a",
       "dragging_style": "IPY_MODEL_2a2a2345bb9e44228eaad516700816db",
       "east": -86.2863850593567,
       "fullscreen": false,
       "interpolation": "bilinear",
       "layers": [
        "IPY_MODEL_f632959c7d5a483c99a77a68be9dd4f3",
        "IPY_MODEL_2a31e2c29d424169b076e8db404514a3",
        "IPY_MODEL_33e6a5f03c554fcaa40780f9d2f3c762"
       ],
       "layout": "IPY_MODEL_e3815d42239c4d21b1ea1d40ef982a50",
       "modisdate": "yesterday",
       "north": 42.14634285640487,
       "options": [
        "bounce_at_zoom_limits",
        "box_zoom",
        "center",
        "close_popup_on_click",
        "double_click_zoom",
        "dragging",
        "fullscreen",
        "inertia",
        "inertia_deceleration",
        "inertia_max_speed",
        "interpolation",
        "keyboard",
        "keyboard_pan_offset",
        "keyboard_zoom_offset",
        "max_zoom",
        "min_zoom",
        "scroll_wheel_zoom",
        "tap",
        "tap_tolerance",
        "touch_zoom",
        "world_copy_jump",
        "zoom",
        "zoom_animation_threshold",
        "zoom_start"
       ],
       "south": 41.32654480495277,
       "style": "IPY_MODEL_b40a4a2593db4a97aab43297f2438c1a",
       "west": -88.98078203201295,
       "zoom": 9
      }
     },
     "387ea86e716c4bedb4f6734379093d47": {
      "model_module": "jupyter-leaflet",
      "model_module_version": "^0.12.2",
      "model_name": "LeafletZoomControlModel",
      "state": {
       "_model_module_version": "^0.12.2",
       "_view_module_version": "^0.12.2",
       "options": [
        "position",
        "zoom_in_text",
        "zoom_in_title",
        "zoom_out_text",
        "zoom_out_title"
       ]
      }
     },
     "397560cb8605456fa17233847d8c5a60": {
      "model_module": "jupyter-leaflet",
      "model_module_version": "^0.12.2",
      "model_name": "LeafletMapStyleModel",
      "state": {
       "_model_module_version": "^0.12.2"
      }
     },
     "3cc55e91fd74482c910ea16cbe51cb5d": {
      "model_module": "@jupyter-widgets/base",
      "model_module_version": "1.2.0",
      "model_name": "LayoutModel",
      "state": {}
     },
     "3e6bab2c69134a56805abbb32e72e038": {
      "model_module": "jupyter-leaflet",
      "model_module_version": "^0.12.2",
      "model_name": "LeafletAttributionControlModel",
      "state": {
       "_model_module_version": "^0.12.2",
       "_view_module_version": "^0.12.2",
       "options": [
        "position",
        "prefix"
       ],
       "position": "bottomright",
       "prefix": "Leaflet"
      }
     },
     "407abfda4d4d4716ba159e85213dfa60": {
      "model_module": "jupyter-leaflet",
      "model_module_version": "^0.12.2",
      "model_name": "LeafletMapStyleModel",
      "state": {
       "_model_module_version": "^0.12.2"
      }
     },
     "40b75d769a3a404ea4c50b8e504bc51f": {
      "model_module": "jupyter-leaflet",
      "model_module_version": "^0.12.2",
      "model_name": "LeafletZoomControlModel",
      "state": {
       "_model_module_version": "^0.12.2",
       "_view_module_version": "^0.12.2",
       "options": [
        "position",
        "zoom_in_text",
        "zoom_in_title",
        "zoom_out_text",
        "zoom_out_title"
       ]
      }
     },
     "4297b226a5ae48268ec8412a24abbad4": {
      "model_module": "jupyter-leaflet",
      "model_module_version": "^0.12.2",
      "model_name": "LeafletZoomControlModel",
      "state": {
       "_model_module_version": "^0.12.2",
       "_view_module_version": "^0.12.2",
       "options": [
        "position",
        "zoom_in_text",
        "zoom_in_title",
        "zoom_out_text",
        "zoom_out_title"
       ]
      }
     },
     "444a98e8ba6c4a529a1275c8ddd54dd6": {
      "model_module": "jupyter-leaflet",
      "model_module_version": "^0.12.2",
      "model_name": "LeafletMapStyleModel",
      "state": {
       "_model_module_version": "^0.12.2"
      }
     },
     "45cfed0b9a1a4426a156277136efc527": {
      "model_module": "jupyter-leaflet",
      "model_module_version": "^0.12.2",
      "model_name": "LeafletZoomControlModel",
      "state": {
       "_model_module_version": "^0.12.2",
       "_view_module_version": "^0.12.2",
       "options": [
        "position",
        "zoom_in_text",
        "zoom_in_title",
        "zoom_out_text",
        "zoom_out_title"
       ]
      }
     },
     "46ce6bda68c24ecd8b71ec887329f461": {
      "model_module": "@jupyter-widgets/base",
      "model_module_version": "1.2.0",
      "model_name": "LayoutModel",
      "state": {}
     },
     "48927ebf2dc04c30b1c5f348f32a1dc3": {
      "model_module": "jupyter-leaflet",
      "model_module_version": "^0.12.2",
      "model_name": "LeafletMapStyleModel",
      "state": {
       "_model_module_version": "^0.12.2",
       "cursor": "move"
      }
     },
     "49ffb177e5074d0798187adab07b587a": {
      "model_module": "@jupyter-widgets/base",
      "model_module_version": "1.2.0",
      "model_name": "LayoutModel",
      "state": {}
     },
     "4ffce7b7d543409dbf633a93f3c5d149": {
      "model_module": "jupyter-leaflet",
      "model_module_version": "^0.12.2",
      "model_name": "LeafletMarkerModel",
      "state": {
       "_model_module_version": "^0.12.2",
       "_view_module_version": "^0.12.2",
       "location": [
        41.8781,
        87.6298
       ],
       "options": [
        "alt",
        "draggable",
        "keyboard",
        "rise_offset",
        "rise_on_hover",
        "rotation_angle",
        "rotation_origin",
        "title",
        "z_index_offset"
       ],
       "popup": "IPY_MODEL_c78a77a7229648e19e530101ec150d34"
      }
     },
     "52495f4d42284f23b352266984fb749f": {
      "model_module": "jupyter-leaflet",
      "model_module_version": "^0.12.2",
      "model_name": "LeafletMapStyleModel",
      "state": {
       "_model_module_version": "^0.12.2"
      }
     },
     "54b7fc56b05d4a34983176c09577a288": {
      "model_module": "jupyter-leaflet",
      "model_module_version": "^0.12.2",
      "model_name": "LeafletTileLayerModel",
      "state": {
       "_model_module_version": "^0.12.2",
       "_view_module_version": "^0.12.2",
       "attribution": "Map tiles by <a href=\"https://labs.strava.com/heatmap\">Strava 2017</a>",
       "max_native_zoom": 18,
       "max_zoom": 15,
       "min_native_zoom": 0,
       "min_zoom": 1,
       "name": "Strava.All",
       "no_wrap": false,
       "options": [
        "attribution",
        "detect_retina",
        "max_native_zoom",
        "max_zoom",
        "min_native_zoom",
        "min_zoom",
        "no_wrap",
        "tile_size",
        "tms"
       ],
       "url": "https://heatmap-external-a.strava.com//tiles/all/hot/{z}/{x}/{y}.png?v=19"
      }
     },
     "55e377a578cf462a9103036f58cc3657": {
      "model_module": "@jupyter-widgets/controls",
      "model_module_version": "1.5.0",
      "model_name": "HTMLModel",
      "state": {
       "layout": "IPY_MODEL_eae1e9bdc45442f9b1ae11942ab1228a",
       "style": "IPY_MODEL_0dea335967d14284a08c542a8952b0ce",
       "value": "Try clicking the marker!"
      }
     },
     "578f33562f224cca9c1e9fd854e2d838": {
      "model_module": "jupyter-leaflet",
      "model_module_version": "^0.12.2",
      "model_name": "LeafletMapModel",
      "state": {
       "_model_module_version": "^0.12.2",
       "_view_module_version": "^0.12.2",
       "center": [
        41.8781,
        -87.6298
       ],
       "controls": [
        "IPY_MODEL_6306567cf75642109f473e0397a3d25c",
        "IPY_MODEL_7db2222c9a6640939592895beeed1a83"
       ],
       "default_style": "IPY_MODEL_60545ce6545445cc9e6c442369ef451e",
       "dragging_style": "IPY_MODEL_b7614b5f3395443fb91f7c7cbee76a79",
       "east": -82.24365234375001,
       "fullscreen": false,
       "interpolation": "bilinear",
       "layers": [
        "IPY_MODEL_92193c3809f043399adfc3edfc80b50e",
        "IPY_MODEL_b727a20b962c486b9d58bc95e1a606ae"
       ],
       "layout": "IPY_MODEL_f53102e207c6454abbf135940ed953ea",
       "modisdate": "yesterday",
       "north": 43.492782808225,
       "options": [
        "bounce_at_zoom_limits",
        "box_zoom",
        "center",
        "close_popup_on_click",
        "double_click_zoom",
        "dragging",
        "fullscreen",
        "inertia",
        "inertia_deceleration",
        "inertia_max_speed",
        "interpolation",
        "keyboard",
        "keyboard_pan_offset",
        "keyboard_zoom_offset",
        "max_zoom",
        "min_zoom",
        "scroll_wheel_zoom",
        "tap",
        "tap_tolerance",
        "touch_zoom",
        "world_copy_jump",
        "zoom",
        "zoom_animation_threshold",
        "zoom_start"
       ],
       "south": 40.22082997283287,
       "style": "IPY_MODEL_151950345da147549e8b4ba348199a27",
       "west": -93.02124023437501,
       "zoom": 7
      }
     },
     "57c207f935d54bc2adb40a96b855a46a": {
      "model_module": "jupyter-leaflet",
      "model_module_version": "^0.12.2",
      "model_name": "LeafletMapStyleModel",
      "state": {
       "_model_module_version": "^0.12.2"
      }
     },
     "58d5afc0b9cf472cbe206bdab4b36cc3": {
      "model_module": "jupyter-leaflet",
      "model_module_version": "^0.12.2",
      "model_name": "LeafletMapStyleModel",
      "state": {
       "_model_module_version": "^0.12.2",
       "cursor": "move"
      }
     },
     "5ab07af69ca043de820ad4e8c59c66d0": {
      "model_module": "jupyter-leaflet",
      "model_module_version": "^0.12.2",
      "model_name": "LeafletTileLayerModel",
      "state": {
       "_model_module_version": "^0.12.2",
       "_view_module_version": "^0.12.2",
       "base": true,
       "max_native_zoom": 18,
       "max_zoom": 19,
       "min_native_zoom": 0,
       "min_zoom": 1,
       "no_wrap": false,
       "options": [
        "attribution",
        "detect_retina",
        "max_native_zoom",
        "max_zoom",
        "min_native_zoom",
        "min_zoom",
        "no_wrap",
        "tile_size",
        "tms"
       ]
      }
     },
     "5b386fe7345f4616ac0656d2cd71faf5": {
      "model_module": "jupyter-leaflet",
      "model_module_version": "^0.12.2",
      "model_name": "LeafletMapStyleModel",
      "state": {
       "_model_module_version": "^0.12.2",
       "cursor": "move"
      }
     },
     "5ea7d46233a043938ec2d566bc6fe41c": {
      "model_module": "@jupyter-widgets/controls",
      "model_module_version": "1.5.0",
      "model_name": "HTMLModel",
      "state": {
       "layout": "IPY_MODEL_49ffb177e5074d0798187adab07b587a",
       "style": "IPY_MODEL_f69bdf6f9d2b43be887bb27ada109437",
       "value": "Try clicking the marker!"
      }
     },
     "60545ce6545445cc9e6c442369ef451e": {
      "model_module": "jupyter-leaflet",
      "model_module_version": "^0.12.2",
      "model_name": "LeafletMapStyleModel",
      "state": {
       "_model_module_version": "^0.12.2"
      }
     },
     "6306567cf75642109f473e0397a3d25c": {
      "model_module": "jupyter-leaflet",
      "model_module_version": "^0.12.2",
      "model_name": "LeafletZoomControlModel",
      "state": {
       "_model_module_version": "^0.12.2",
       "_view_module_version": "^0.12.2",
       "options": [
        "position",
        "zoom_in_text",
        "zoom_in_title",
        "zoom_out_text",
        "zoom_out_title"
       ]
      }
     },
     "6392e5efbba84675b9ad2605ad6098e9": {
      "model_module": "@jupyter-widgets/controls",
      "model_module_version": "1.5.0",
      "model_name": "HTMLModel",
      "state": {
       "description": "Some HTML",
       "layout": "IPY_MODEL_72c479acd541469c8bf4681b001245d6",
       "placeholder": "Some HTML",
       "style": "IPY_MODEL_cad5dd7aa4f7470c9939be022cebba12",
       "value": "Hello <b>World</b>"
      }
     },
     "65bd485db9b24686abd73cbd8f9f50f2": {
      "model_module": "jupyter-leaflet",
      "model_module_version": "^0.12.2",
      "model_name": "LeafletTileLayerModel",
      "state": {
       "_model_module_version": "^0.12.2",
       "_view_module_version": "^0.12.2",
       "attribution": "Map tiles by <a href=\"https://labs.strava.com/heatmap\">Strava 2017</a>",
       "max_native_zoom": 18,
       "max_zoom": 15,
       "min_native_zoom": 0,
       "min_zoom": 1,
       "name": "Strava.All",
       "no_wrap": false,
       "options": [
        "attribution",
        "detect_retina",
        "max_native_zoom",
        "max_zoom",
        "min_native_zoom",
        "min_zoom",
        "no_wrap",
        "tile_size",
        "tms"
       ],
       "url": "https://heatmap-external-a.strava.com//tiles/all/hot/{z}/{x}/{y}.png?v=19"
      }
     },
     "678a4258f7374328a44de244659a718b": {
      "model_module": "jupyter-leaflet",
      "model_module_version": "^0.12.2",
      "model_name": "LeafletTileLayerModel",
      "state": {
       "_model_module_version": "^0.12.2",
       "_view_module_version": "^0.12.2",
       "attribution": "Imagery provided by services from the Global Imagery Browse Services (GIBS), operated by the NASA/GSFC/Earth Science Data and Information System (<a href=\"https://earthdata.nasa.gov\">ESDIS</a>) with funding provided by NASA/HQ.",
       "max_native_zoom": 18,
       "max_zoom": 9,
       "min_native_zoom": 0,
       "min_zoom": 1,
       "name": "NASAGIBS.ModisTerraTrueColorCR",
       "no_wrap": false,
       "options": [
        "attribution",
        "detect_retina",
        "max_native_zoom",
        "max_zoom",
        "min_native_zoom",
        "min_zoom",
        "no_wrap",
        "tile_size",
        "tms"
       ],
       "url": "https://gibs.earthdata.nasa.gov/wmts/epsg3857/best/MODIS_Terra_CorrectedReflectance_TrueColor/default/2017-04-08/GoogleMapsCompatible_Level9/{z}/{y}/{x}.jpg"
      }
     },
     "683564fe33604645bf7fd8382d76aadd": {
      "model_module": "@jupyter-widgets/base",
      "model_module_version": "1.2.0",
      "model_name": "LayoutModel",
      "state": {}
     },
     "68c18961b89f461c97c32409438727fa": {
      "model_module": "jupyter-leaflet",
      "model_module_version": "^0.12.2",
      "model_name": "LeafletMapStyleModel",
      "state": {
       "_model_module_version": "^0.12.2"
      }
     },
     "6a6ad5ef98e44bc9a5f3e9fa8bba85d8": {
      "model_module": "@jupyter-widgets/base",
      "model_module_version": "1.2.0",
      "model_name": "LayoutModel",
      "state": {}
     },
     "6a7d6d757a1848c0a499cc8476209c57": {
      "model_module": "jupyter-leaflet",
      "model_module_version": "^0.12.2",
      "model_name": "LeafletAttributionControlModel",
      "state": {
       "_model_module_version": "^0.12.2",
       "_view_module_version": "^0.12.2",
       "options": [
        "position",
        "prefix"
       ],
       "position": "bottomright",
       "prefix": "Leaflet"
      }
     },
     "6b548f5e7b3d467f89367ff9925e59e2": {
      "model_module": "jupyter-leaflet",
      "model_module_version": "^0.12.2",
      "model_name": "LeafletTileLayerModel",
      "state": {
       "_model_module_version": "^0.12.2",
       "_view_module_version": "^0.12.2",
       "attribution": "Imagery provided by services from the Global Imagery Browse Services (GIBS), operated by the NASA/GSFC/Earth Science Data and Information System (<a href=\"https://earthdata.nasa.gov\">ESDIS</a>) with funding provided by NASA/HQ.",
       "max_native_zoom": 18,
       "max_zoom": 9,
       "min_native_zoom": 0,
       "min_zoom": 1,
       "name": "NASAGIBS.ModisTerraTrueColorCR",
       "no_wrap": false,
       "options": [
        "attribution",
        "detect_retina",
        "max_native_zoom",
        "max_zoom",
        "min_native_zoom",
        "min_zoom",
        "no_wrap",
        "tile_size",
        "tms"
       ],
       "url": "https://gibs.earthdata.nasa.gov/wmts/epsg3857/best/MODIS_Terra_CorrectedReflectance_TrueColor/default/2017-04-08/GoogleMapsCompatible_Level9/{z}/{y}/{x}.jpg"
      }
     },
     "6cc67c13da094714a6f6ab53133d523c": {
      "model_module": "jupyter-leaflet",
      "model_module_version": "^0.12.2",
      "model_name": "LeafletTileLayerModel",
      "state": {
       "_model_module_version": "^0.12.2",
       "_view_module_version": "^0.12.2",
       "base": true,
       "max_native_zoom": 18,
       "max_zoom": 19,
       "min_native_zoom": 0,
       "min_zoom": 1,
       "no_wrap": false,
       "options": [
        "attribution",
        "detect_retina",
        "max_native_zoom",
        "max_zoom",
        "min_native_zoom",
        "min_zoom",
        "no_wrap",
        "tile_size",
        "tms"
       ]
      }
     },
     "6da459cbb9f24353919a95d05a91ba54": {
      "model_module": "jupyter-leaflet",
      "model_module_version": "^0.12.2",
      "model_name": "LeafletMapModel",
      "state": {
       "_model_module_version": "^0.12.2",
       "_view_module_version": "^0.12.2",
       "center": [
        54.07107394110007,
        357.52498626708984
       ],
       "controls": [
        "IPY_MODEL_1d48f89c69014ccabc98a3d0b99bb383",
        "IPY_MODEL_81a9afdf949a47bc88dff864ed5988e9"
       ],
       "default_style": "IPY_MODEL_1e1ed4bdf84842808dff0eafcef26e61",
       "dragging_style": "IPY_MODEL_1d9c1aa2290d49e1abbe4896bfe7b3f1",
       "east": -180,
       "fullscreen": false,
       "interpolation": "bilinear",
       "layers": [
        "IPY_MODEL_ac87e5c917d9404f8fbb0ee801bfe174"
       ],
       "layout": "IPY_MODEL_1c2b8020daa4480197a8daa097855a2d",
       "modisdate": "yesterday",
       "north": -90,
       "options": [
        "bounce_at_zoom_limits",
        "box_zoom",
        "center",
        "close_popup_on_click",
        "double_click_zoom",
        "dragging",
        "fullscreen",
        "inertia",
        "inertia_deceleration",
        "inertia_max_speed",
        "interpolation",
        "keyboard",
        "keyboard_pan_offset",
        "keyboard_zoom_offset",
        "max_zoom",
        "min_zoom",
        "scroll_wheel_zoom",
        "tap",
        "tap_tolerance",
        "touch_zoom",
        "world_copy_jump",
        "zoom",
        "zoom_animation_threshold",
        "zoom_start"
       ],
       "south": 90,
       "style": "IPY_MODEL_1e1ed4bdf84842808dff0eafcef26e61",
       "west": 180,
       "zoom": 4
      }
     },
     "6e090374137a42d585efd7dee2121682": {
      "model_module": "jupyter-leaflet",
      "model_module_version": "^0.12.2",
      "model_name": "LeafletMapModel",
      "state": {
       "_model_module_version": "^0.12.2",
       "_view_module_version": "^0.12.2",
       "center": [
        41.87774145109676,
        87.63793945312501
       ],
       "close_popup_on_click": false,
       "controls": [
        "IPY_MODEL_aa49569d7e7149819a592b9655fbc367",
        "IPY_MODEL_76224f5107534e53959a521f479c6627"
       ],
       "default_style": "IPY_MODEL_c9f9afced88547b4947b8a024a2340c4",
       "dragging_style": "IPY_MODEL_26c5b8ebda354056b8b9d47cba69ea9d",
       "east": -180,
       "fullscreen": false,
       "interpolation": "bilinear",
       "layers": [
        "IPY_MODEL_0e6b8e4de90e4e958cc53443846e768b",
        "IPY_MODEL_4ffce7b7d543409dbf633a93f3c5d149",
        "IPY_MODEL_09fb918c2f20469c90417ab62eff3b94"
       ],
       "layout": "IPY_MODEL_b9143ff4cc2d444da429411b3734652f",
       "modisdate": "yesterday",
       "north": -90,
       "options": [
        "bounce_at_zoom_limits",
        "box_zoom",
        "center",
        "close_popup_on_click",
        "double_click_zoom",
        "dragging",
        "fullscreen",
        "inertia",
        "inertia_deceleration",
        "inertia_max_speed",
        "interpolation",
        "keyboard",
        "keyboard_pan_offset",
        "keyboard_zoom_offset",
        "max_zoom",
        "min_zoom",
        "scroll_wheel_zoom",
        "tap",
        "tap_tolerance",
        "touch_zoom",
        "world_copy_jump",
        "zoom",
        "zoom_animation_threshold",
        "zoom_start"
       ],
       "south": 90,
       "style": "IPY_MODEL_c9f9afced88547b4947b8a024a2340c4",
       "west": 180,
       "zoom": 7
      }
     },
     "6f617b4042c8410ea14563d85cc786a9": {
      "model_module": "jupyter-leaflet",
      "model_module_version": "^0.12.2",
      "model_name": "LeafletAttributionControlModel",
      "state": {
       "_model_module_version": "^0.12.2",
       "_view_module_version": "^0.12.2",
       "options": [
        "position",
        "prefix"
       ],
       "position": "bottomright",
       "prefix": "Leaflet"
      }
     },
     "72c479acd541469c8bf4681b001245d6": {
      "model_module": "@jupyter-widgets/base",
      "model_module_version": "1.2.0",
      "model_name": "LayoutModel",
      "state": {}
     },
     "73a6fb1416ec4b6bbade509255624ef0": {
      "model_module": "@jupyter-widgets/base",
      "model_module_version": "1.2.0",
      "model_name": "LayoutModel",
      "state": {}
     },
     "75451e6390894e8fb73e7389c0023bc2": {
      "model_module": "jupyter-leaflet",
      "model_module_version": "^0.12.2",
      "model_name": "LeafletMapStyleModel",
      "state": {
       "_model_module_version": "^0.12.2"
      }
     },
     "76224f5107534e53959a521f479c6627": {
      "model_module": "jupyter-leaflet",
      "model_module_version": "^0.12.2",
      "model_name": "LeafletAttributionControlModel",
      "state": {
       "_model_module_version": "^0.12.2",
       "_view_module_version": "^0.12.2",
       "options": [
        "position",
        "prefix"
       ],
       "position": "bottomright",
       "prefix": "Leaflet"
      }
     },
     "77ac20baa7954210b2445d3b5901e3cc": {
      "model_module": "jupyter-leaflet",
      "model_module_version": "^0.12.2",
      "model_name": "LeafletAttributionControlModel",
      "state": {
       "_model_module_version": "^0.12.2",
       "_view_module_version": "^0.12.2",
       "options": [
        "position",
        "prefix"
       ],
       "position": "bottomright",
       "prefix": "Leaflet"
      }
     },
     "77e837e8d05641c9bf78a0328b097b6e": {
      "model_module": "jupyter-leaflet",
      "model_module_version": "^0.12.2",
      "model_name": "LeafletTileLayerModel",
      "state": {
       "_model_module_version": "^0.12.2",
       "_view_module_version": "^0.12.2",
       "attribution": "Map tiles by <a href=\"https://labs.strava.com/heatmap\">Strava 2017</a>",
       "max_native_zoom": 18,
       "max_zoom": 15,
       "min_native_zoom": 0,
       "min_zoom": 1,
       "name": "Strava.All",
       "no_wrap": false,
       "options": [
        "attribution",
        "detect_retina",
        "max_native_zoom",
        "max_zoom",
        "min_native_zoom",
        "min_zoom",
        "no_wrap",
        "tile_size",
        "tms"
       ],
       "url": "https://heatmap-external-a.strava.com//tiles/all/hot/{z}/{x}/{y}.png?v=19"
      }
     },
     "7833848f5db549b88a4d37321e3d9674": {
      "model_module": "jupyter-leaflet",
      "model_module_version": "^0.12.2",
      "model_name": "LeafletAttributionControlModel",
      "state": {
       "_model_module_version": "^0.12.2",
       "_view_module_version": "^0.12.2",
       "options": [
        "position",
        "prefix"
       ],
       "position": "bottomright",
       "prefix": "Leaflet"
      }
     },
     "7a12059944de4f78ba67ca8dfec42e76": {
      "model_module": "jupyter-leaflet",
      "model_module_version": "^0.12.2",
      "model_name": "LeafletMapStyleModel",
      "state": {
       "_model_module_version": "^0.12.2"
      }
     },
     "7a54c32c1b4c4047a13aa1dc6bb73962": {
      "model_module": "jupyter-leaflet",
      "model_module_version": "^0.12.2",
      "model_name": "LeafletZoomControlModel",
      "state": {
       "_model_module_version": "^0.12.2",
       "_view_module_version": "^0.12.2",
       "options": [
        "position",
        "zoom_in_text",
        "zoom_in_title",
        "zoom_out_text",
        "zoom_out_title"
       ]
      }
     },
     "7a7f7ae5fbc4488e92667af3a4fb6a31": {
      "model_module": "jupyter-leaflet",
      "model_module_version": "^0.12.2",
      "model_name": "LeafletZoomControlModel",
      "state": {
       "_model_module_version": "^0.12.2",
       "_view_module_version": "^0.12.2",
       "options": [
        "position",
        "zoom_in_text",
        "zoom_in_title",
        "zoom_out_text",
        "zoom_out_title"
       ]
      }
     },
     "7bc50eccec704862a5df0e82cd740610": {
      "model_module": "jupyter-leaflet",
      "model_module_version": "^0.12.2",
      "model_name": "LeafletZoomControlModel",
      "state": {
       "_model_module_version": "^0.12.2",
       "_view_module_version": "^0.12.2",
       "options": [
        "position",
        "zoom_in_text",
        "zoom_in_title",
        "zoom_out_text",
        "zoom_out_title"
       ]
      }
     },
     "7cb5186fb83444dbb1324b5639446dbb": {
      "model_module": "@jupyter-widgets/base",
      "model_module_version": "1.2.0",
      "model_name": "LayoutModel",
      "state": {}
     },
     "7cf2cdde71484808a6882a21973aeca5": {
      "model_module": "jupyter-leaflet",
      "model_module_version": "^0.12.2",
      "model_name": "LeafletAttributionControlModel",
      "state": {
       "_model_module_version": "^0.12.2",
       "_view_module_version": "^0.12.2",
       "options": [
        "position",
        "prefix"
       ],
       "position": "bottomright",
       "prefix": "Leaflet"
      }
     },
     "7db2222c9a6640939592895beeed1a83": {
      "model_module": "jupyter-leaflet",
      "model_module_version": "^0.12.2",
      "model_name": "LeafletAttributionControlModel",
      "state": {
       "_model_module_version": "^0.12.2",
       "_view_module_version": "^0.12.2",
       "options": [
        "position",
        "prefix"
       ],
       "position": "bottomright",
       "prefix": "Leaflet"
      }
     },
     "81a9afdf949a47bc88dff864ed5988e9": {
      "model_module": "jupyter-leaflet",
      "model_module_version": "^0.12.2",
      "model_name": "LeafletAttributionControlModel",
      "state": {
       "_model_module_version": "^0.12.2",
       "_view_module_version": "^0.12.2",
       "options": [
        "position",
        "prefix"
       ],
       "position": "bottomright",
       "prefix": "Leaflet"
      }
     },
     "81f1d926d79e4c1ca7f10f996533f0ef": {
      "model_module": "jupyter-leaflet",
      "model_module_version": "^0.12.2",
      "model_name": "LeafletMapStyleModel",
      "state": {
       "_model_module_version": "^0.12.2"
      }
     },
     "83545705b4b74cd7be30807977733a64": {
      "model_module": "jupyter-leaflet",
      "model_module_version": "^0.12.2",
      "model_name": "LeafletMapStyleModel",
      "state": {
       "_model_module_version": "^0.12.2"
      }
     },
     "84f27dd250a64cb4b9c608b4f145f201": {
      "model_module": "jupyter-leaflet",
      "model_module_version": "^0.12.2",
      "model_name": "LeafletMapModel",
      "state": {
       "_model_module_version": "^0.12.2",
       "_view_module_version": "^0.12.2",
       "center": [
        41.88592102814744,
        -87.626953125
       ],
       "controls": [
        "IPY_MODEL_e9c4590286be4975ad6455fa15d2f59d",
        "IPY_MODEL_33126502946a41c1a132bc91d32b54c0"
       ],
       "default_style": "IPY_MODEL_a20a1f4f34a34a609b063183287677f6",
       "dragging_style": "IPY_MODEL_48927ebf2dc04c30b1c5f348f32a1dc3",
       "east": -180,
       "fullscreen": false,
       "interpolation": "bilinear",
       "layers": [
        "IPY_MODEL_348187cbe0544c0ea8bb5c352e06e2f3"
       ],
       "layout": "IPY_MODEL_9eace35d61f04afc802a52029c66b053",
       "modisdate": "yesterday",
       "north": -90,
       "options": [
        "bounce_at_zoom_limits",
        "box_zoom",
        "center",
        "close_popup_on_click",
        "double_click_zoom",
        "dragging",
        "fullscreen",
        "inertia",
        "inertia_deceleration",
        "inertia_max_speed",
        "interpolation",
        "keyboard",
        "keyboard_pan_offset",
        "keyboard_zoom_offset",
        "max_zoom",
        "min_zoom",
        "scroll_wheel_zoom",
        "tap",
        "tap_tolerance",
        "touch_zoom",
        "world_copy_jump",
        "zoom",
        "zoom_animation_threshold",
        "zoom_start"
       ],
       "south": 90,
       "style": "IPY_MODEL_a20a1f4f34a34a609b063183287677f6",
       "west": 180,
       "zoom": 6
      }
     },
     "8564701f0c0445dab1a419ea7fa78f6d": {
      "model_module": "jupyter-leaflet",
      "model_module_version": "^0.12.2",
      "model_name": "LeafletTileLayerModel",
      "state": {
       "_model_module_version": "^0.12.2",
       "_view_module_version": "^0.12.2",
       "attribution": "Map tiles by <a href=\"https://labs.strava.com/heatmap\">Strava 2017</a>",
       "max_native_zoom": 18,
       "max_zoom": 15,
       "min_native_zoom": 0,
       "min_zoom": 1,
       "name": "Strava.All",
       "no_wrap": false,
       "options": [
        "attribution",
        "detect_retina",
        "max_native_zoom",
        "max_zoom",
        "min_native_zoom",
        "min_zoom",
        "no_wrap",
        "tile_size",
        "tms"
       ],
       "url": "https://heatmap-external-a.strava.com//tiles/all/hot/{z}/{x}/{y}.png?v=19"
      }
     },
     "856ee3507738484786d196d535e27517": {
      "model_module": "jupyter-leaflet",
      "model_module_version": "^0.12.2",
      "model_name": "LeafletMapModel",
      "state": {
       "_model_module_version": "^0.12.2",
       "_view_module_version": "^0.12.2",
       "center": [
        41.8781,
        -87.6298
       ],
       "controls": [
        "IPY_MODEL_9e8d391913144d40b3a429c7020d8a9a",
        "IPY_MODEL_77ac20baa7954210b2445d3b5901e3cc"
       ],
       "default_style": "IPY_MODEL_75451e6390894e8fb73e7389c0023bc2",
       "dragging_style": "IPY_MODEL_009a3c331c3344c784cce5353e8986aa",
       "fullscreen": false,
       "interpolation": "bilinear",
       "layers": [
        "IPY_MODEL_77e837e8d05641c9bf78a0328b097b6e"
       ],
       "layout": "IPY_MODEL_23a393a52b3d453189839aebb94f0337",
       "modisdate": "yesterday",
       "options": [
        "bounce_at_zoom_limits",
        "box_zoom",
        "center",
        "close_popup_on_click",
        "double_click_zoom",
        "dragging",
        "fullscreen",
        "inertia",
        "inertia_deceleration",
        "inertia_max_speed",
        "interpolation",
        "keyboard",
        "keyboard_pan_offset",
        "keyboard_zoom_offset",
        "max_zoom",
        "min_zoom",
        "scroll_wheel_zoom",
        "tap",
        "tap_tolerance",
        "touch_zoom",
        "world_copy_jump",
        "zoom",
        "zoom_animation_threshold",
        "zoom_start"
       ],
       "style": "IPY_MODEL_27892dff123140dfb29701c43b732ddc",
       "zoom": 8
      }
     },
     "8574861807e54288a110d15a41960f99": {
      "model_module": "jupyter-leaflet",
      "model_module_version": "^0.12.2",
      "model_name": "LeafletMapStyleModel",
      "state": {
       "_model_module_version": "^0.12.2",
       "cursor": "move"
      }
     },
     "865e3c3946d34a7a88dd389285e78fd2": {
      "model_module": "jupyter-leaflet",
      "model_module_version": "^0.12.2",
      "model_name": "LeafletMapStyleModel",
      "state": {
       "_model_module_version": "^0.12.2",
       "cursor": "move"
      }
     },
     "8680a0c7392d4d36b0dc2dfa2e9a4a8f": {
      "model_module": "jupyter-leaflet",
      "model_module_version": "^0.12.2",
      "model_name": "LeafletTileLayerModel",
      "state": {
       "_model_module_version": "^0.12.2",
       "_view_module_version": "^0.12.2",
       "attribution": "Imagery provided by services from the Global Imagery Browse Services (GIBS), operated by the NASA/GSFC/Earth Science Data and Information System (<a href=\"https://earthdata.nasa.gov\">ESDIS</a>) with funding provided by NASA/HQ.",
       "max_native_zoom": 18,
       "max_zoom": 9,
       "min_native_zoom": 0,
       "min_zoom": 1,
       "name": "NASAGIBS.ModisTerraTrueColorCR",
       "no_wrap": false,
       "options": [
        "attribution",
        "detect_retina",
        "max_native_zoom",
        "max_zoom",
        "min_native_zoom",
        "min_zoom",
        "no_wrap",
        "tile_size",
        "tms"
       ],
       "url": "https://gibs.earthdata.nasa.gov/wmts/epsg3857/best/MODIS_Terra_CorrectedReflectance_TrueColor/default/2017-04-08/GoogleMapsCompatible_Level9/{z}/{y}/{x}.jpg"
      }
     },
     "8791f3ffac7841ee8c93f7d689c91ceb": {
      "model_module": "jupyter-leaflet",
      "model_module_version": "^0.12.2",
      "model_name": "LeafletTileLayerModel",
      "state": {
       "_model_module_version": "^0.12.2",
       "_view_module_version": "^0.12.2",
       "attribution": "&copy; <a href=\"http://www.openstreetmap.org/copyright\">OpenStreetMap</a> &copy; <a href=\"http://cartodb.com/attributions\">CartoDB</a>",
       "max_native_zoom": 18,
       "max_zoom": 20,
       "min_native_zoom": 0,
       "min_zoom": 1,
       "name": "CartoDB.DarkMatter",
       "no_wrap": false,
       "options": [
        "attribution",
        "detect_retina",
        "max_native_zoom",
        "max_zoom",
        "min_native_zoom",
        "min_zoom",
        "no_wrap",
        "tile_size",
        "tms"
       ],
       "url": "http://c.basemaps.cartocdn.com/dark_all/{z}/{x}/{y}.png"
      }
     },
     "8ab7bd85a2b64edab9f7d6fa23ab734d": {
      "model_module": "jupyter-leaflet",
      "model_module_version": "^0.12.2",
      "model_name": "LeafletMapStyleModel",
      "state": {
       "_model_module_version": "^0.12.2",
       "cursor": "move"
      }
     },
     "8d10b229575246bb8d561db9c2176a95": {
      "model_module": "jupyter-leaflet",
      "model_module_version": "^0.12.2",
      "model_name": "LeafletTileLayerModel",
      "state": {
       "_model_module_version": "^0.12.2",
       "_view_module_version": "^0.12.2",
       "attribution": "Map tiles by <a href=\"https://labs.strava.com/heatmap\">Strava 2017</a>",
       "max_native_zoom": 18,
       "max_zoom": 15,
       "min_native_zoom": 0,
       "min_zoom": 1,
       "name": "Strava.All",
       "no_wrap": false,
       "options": [
        "attribution",
        "detect_retina",
        "max_native_zoom",
        "max_zoom",
        "min_native_zoom",
        "min_zoom",
        "no_wrap",
        "tile_size",
        "tms"
       ],
       "url": "https://heatmap-external-a.strava.com//tiles/all/hot/{z}/{x}/{y}.png?v=19"
      }
     },
     "8d4fce19d2f5401487845a8026509cbd": {
      "model_module": "@jupyter-widgets/base",
      "model_module_version": "1.2.0",
      "model_name": "LayoutModel",
      "state": {}
     },
     "92193c3809f043399adfc3edfc80b50e": {
      "model_module": "jupyter-leaflet",
      "model_module_version": "^0.12.2",
      "model_name": "LeafletTileLayerModel",
      "state": {
       "_model_module_version": "^0.12.2",
       "_view_module_version": "^0.12.2",
       "base": true,
       "max_native_zoom": 18,
       "max_zoom": 19,
       "min_native_zoom": 0,
       "min_zoom": 1,
       "no_wrap": false,
       "options": [
        "attribution",
        "detect_retina",
        "max_native_zoom",
        "max_zoom",
        "min_native_zoom",
        "min_zoom",
        "no_wrap",
        "tile_size",
        "tms"
       ]
      }
     },
     "94a2c9a0f3604451bca85cca5fd11f23": {
      "model_module": "jupyter-leaflet",
      "model_module_version": "^0.12.2",
      "model_name": "LeafletMapStyleModel",
      "state": {
       "_model_module_version": "^0.12.2"
      }
     },
     "96a9c8e5b9af45d8a18fa51c4a51c3e6": {
      "model_module": "jupyter-leaflet",
      "model_module_version": "^0.12.2",
      "model_name": "LeafletAttributionControlModel",
      "state": {
       "_model_module_version": "^0.12.2",
       "_view_module_version": "^0.12.2",
       "options": [
        "position",
        "prefix"
       ],
       "position": "bottomright",
       "prefix": "Leaflet"
      }
     },
     "978c00a903264639ad738a98a14c385c": {
      "model_module": "jupyter-leaflet",
      "model_module_version": "^0.12.2",
      "model_name": "LeafletMapStyleModel",
      "state": {
       "_model_module_version": "^0.12.2"
      }
     },
     "99c35d707eb04a8d8fc665dcaee1fcce": {
      "model_module": "jupyter-leaflet",
      "model_module_version": "^0.12.2",
      "model_name": "LeafletZoomControlModel",
      "state": {
       "_model_module_version": "^0.12.2",
       "_view_module_version": "^0.12.2",
       "options": [
        "position",
        "zoom_in_text",
        "zoom_in_title",
        "zoom_out_text",
        "zoom_out_title"
       ]
      }
     },
     "9b7a02d03dfd478c8ae361896eebbba7": {
      "model_module": "jupyter-leaflet",
      "model_module_version": "^0.12.2",
      "model_name": "LeafletMapModel",
      "state": {
       "_model_module_version": "^0.12.2",
       "_view_module_version": "^0.12.2",
       "center": [
        41.87774145109676,
        -87.626953125
       ],
       "controls": [
        "IPY_MODEL_25a573eac76541b3bc1452e208db688f",
        "IPY_MODEL_bb758fb207154c6981518c08f532e023"
       ],
       "default_style": "IPY_MODEL_c87508c3972c436188cbf169b2a316de",
       "dragging_style": "IPY_MODEL_f16ccca5408243b78a704a407632a98f",
       "east": -180,
       "fullscreen": false,
       "interpolation": "bilinear",
       "layers": [
        "IPY_MODEL_ed3a6f167ad9430eb3e084bd38ffbae8",
        "IPY_MODEL_a1ba3131409e402087534ef62c8488a9"
       ],
       "layout": "IPY_MODEL_af4565b556594c04951d615b0d616470",
       "modisdate": "yesterday",
       "north": -90,
       "options": [
        "bounce_at_zoom_limits",
        "box_zoom",
        "center",
        "close_popup_on_click",
        "double_click_zoom",
        "dragging",
        "fullscreen",
        "inertia",
        "inertia_deceleration",
        "inertia_max_speed",
        "interpolation",
        "keyboard",
        "keyboard_pan_offset",
        "keyboard_zoom_offset",
        "max_zoom",
        "min_zoom",
        "scroll_wheel_zoom",
        "tap",
        "tap_tolerance",
        "touch_zoom",
        "world_copy_jump",
        "zoom",
        "zoom_animation_threshold",
        "zoom_start"
       ],
       "south": 90,
       "style": "IPY_MODEL_c87508c3972c436188cbf169b2a316de",
       "west": 180,
       "zoom": 7
      }
     },
     "9bb767ea7241448e88f1eceabf008227": {
      "model_module": "@jupyter-widgets/base",
      "model_module_version": "1.2.0",
      "model_name": "LayoutModel",
      "state": {}
     },
     "9c98b43f5ee545d1b401409091bd2e4e": {
      "model_module": "jupyter-leaflet",
      "model_module_version": "^0.12.2",
      "model_name": "LeafletAttributionControlModel",
      "state": {
       "_model_module_version": "^0.12.2",
       "_view_module_version": "^0.12.2",
       "options": [
        "position",
        "prefix"
       ],
       "position": "bottomright",
       "prefix": "Leaflet"
      }
     },
     "9d665e42000d4ea2807dacc284048b5e": {
      "model_module": "jupyter-leaflet",
      "model_module_version": "^0.12.2",
      "model_name": "LeafletMapStyleModel",
      "state": {
       "_model_module_version": "^0.12.2"
      }
     },
     "9d8b5e927081434fb762f24cdf84686f": {
      "model_module": "jupyter-leaflet",
      "model_module_version": "^0.12.2",
      "model_name": "LeafletMapStyleModel",
      "state": {
       "_model_module_version": "^0.12.2",
       "cursor": "move"
      }
     },
     "9e8d391913144d40b3a429c7020d8a9a": {
      "model_module": "jupyter-leaflet",
      "model_module_version": "^0.12.2",
      "model_name": "LeafletZoomControlModel",
      "state": {
       "_model_module_version": "^0.12.2",
       "_view_module_version": "^0.12.2",
       "options": [
        "position",
        "zoom_in_text",
        "zoom_in_title",
        "zoom_out_text",
        "zoom_out_title"
       ]
      }
     },
     "9eace35d61f04afc802a52029c66b053": {
      "model_module": "@jupyter-widgets/base",
      "model_module_version": "1.2.0",
      "model_name": "LayoutModel",
      "state": {}
     },
     "a1ba3131409e402087534ef62c8488a9": {
      "model_module": "jupyter-leaflet",
      "model_module_version": "^0.12.2",
      "model_name": "LeafletTileLayerModel",
      "state": {
       "_model_module_version": "^0.12.2",
       "_view_module_version": "^0.12.2",
       "attribution": "Imagery provided by services from the Global Imagery Browse Services (GIBS), operated by the NASA/GSFC/Earth Science Data and Information System (<a href=\"https://earthdata.nasa.gov\">ESDIS</a>) with funding provided by NASA/HQ.",
       "max_native_zoom": 18,
       "max_zoom": 8,
       "min_native_zoom": 0,
       "min_zoom": 1,
       "name": "NASAGIBS.ViirsEarthAtNight2012",
       "no_wrap": false,
       "options": [
        "attribution",
        "detect_retina",
        "max_native_zoom",
        "max_zoom",
        "min_native_zoom",
        "min_zoom",
        "no_wrap",
        "tile_size",
        "tms"
       ],
       "url": "http://gibs.earthdata.nasa.gov/wmts/epsg3857/best/VIIRS_Black_Marble/default/2012-01-01/GoogleMapsCompatible_Level8/{z}/{y}/{x}.png"
      }
     },
     "a20a1f4f34a34a609b063183287677f6": {
      "model_module": "jupyter-leaflet",
      "model_module_version": "^0.12.2",
      "model_name": "LeafletMapStyleModel",
      "state": {
       "_model_module_version": "^0.12.2"
      }
     },
     "a25226585be1486284d2b7bc09f0ca0f": {
      "model_module": "@jupyter-widgets/base",
      "model_module_version": "1.2.0",
      "model_name": "LayoutModel",
      "state": {}
     },
     "a614d1a0fdcb44059911164227f16e20": {
      "model_module": "jupyter-leaflet",
      "model_module_version": "^0.12.2",
      "model_name": "LeafletAttributionControlModel",
      "state": {
       "_model_module_version": "^0.12.2",
       "_view_module_version": "^0.12.2",
       "options": [
        "position",
        "prefix"
       ],
       "position": "bottomright",
       "prefix": "Leaflet"
      }
     },
     "a6b1b3561b754780a13407238cbcd40a": {
      "model_module": "jupyter-leaflet",
      "model_module_version": "^0.12.2",
      "model_name": "LeafletZoomControlModel",
      "state": {
       "_model_module_version": "^0.12.2",
       "_view_module_version": "^0.12.2",
       "options": [
        "position",
        "zoom_in_text",
        "zoom_in_title",
        "zoom_out_text",
        "zoom_out_title"
       ]
      }
     },
     "a6ce72b468914ac7897f4c9e54c74101": {
      "model_module": "@jupyter-widgets/base",
      "model_module_version": "1.2.0",
      "model_name": "LayoutModel",
      "state": {}
     },
     "a76bb501dc7e41e6b48a0b264f9411f8": {
      "model_module": "jupyter-leaflet",
      "model_module_version": "^0.12.2",
      "model_name": "LeafletMapStyleModel",
      "state": {
       "_model_module_version": "^0.12.2"
      }
     },
     "a9bae8f1d9a042d987b4299ef259d550": {
      "model_module": "@jupyter-widgets/controls",
      "model_module_version": "1.5.0",
      "model_name": "HTMLModel",
      "state": {
       "description": "Some HTML",
       "layout": "IPY_MODEL_f2790a97a2d6487786d01eea9d51099c",
       "placeholder": "Some HTML",
       "style": "IPY_MODEL_adbc843f13dc4542b17c2892d799bf49",
       "value": "Hello <b>World</b>"
      }
     },
     "aa49569d7e7149819a592b9655fbc367": {
      "model_module": "jupyter-leaflet",
      "model_module_version": "^0.12.2",
      "model_name": "LeafletZoomControlModel",
      "state": {
       "_model_module_version": "^0.12.2",
       "_view_module_version": "^0.12.2",
       "options": [
        "position",
        "zoom_in_text",
        "zoom_in_title",
        "zoom_out_text",
        "zoom_out_title"
       ]
      }
     },
     "aa6594a858e044b8a1ed695bfd8635c8": {
      "model_module": "jupyter-leaflet",
      "model_module_version": "^0.12.2",
      "model_name": "LeafletPopupModel",
      "state": {
       "_model_module_version": "^0.12.2",
       "_view_module_version": "^0.12.2",
       "auto_close": false,
       "auto_pan": true,
       "auto_pan_padding": [
        5,
        5
       ],
       "auto_pan_padding_bottom_right": [],
       "auto_pan_padding_top_left": [],
       "child": "IPY_MODEL_55e377a578cf462a9103036f58cc3657",
       "class_name": "",
       "close_button": false,
       "close_on_escape_key": false,
       "keep_in_view": false,
       "location": [
        52.204793,
        360.121558
       ],
       "options": [
        "auto_close",
        "auto_pan",
        "auto_pan_padding",
        "auto_pan_padding_bottom_right",
        "auto_pan_padding_top_left",
        "class_name",
        "close_button",
        "close_on_escape_key",
        "keep_in_view",
        "max_height",
        "max_width",
        "min_width"
       ]
      }
     },
     "aa8d75cdd62a40af83de954ba6d9a3f5": {
      "model_module": "jupyter-leaflet",
      "model_module_version": "^0.12.2",
      "model_name": "LeafletMapStyleModel",
      "state": {
       "_model_module_version": "^0.12.2",
       "cursor": "move"
      }
     },
     "ac87e5c917d9404f8fbb0ee801bfe174": {
      "model_module": "jupyter-leaflet",
      "model_module_version": "^0.12.2",
      "model_name": "LeafletTileLayerModel",
      "state": {
       "_model_module_version": "^0.12.2",
       "_view_module_version": "^0.12.2",
       "attribution": "Imagery provided by services from the Global Imagery Browse Services (GIBS), operated by the NASA/GSFC/Earth Science Data and Information System (<a href=\"https://earthdata.nasa.gov\">ESDIS</a>) with funding provided by NASA/HQ.",
       "max_native_zoom": 18,
       "max_zoom": 9,
       "min_native_zoom": 0,
       "min_zoom": 1,
       "name": "NASAGIBS.ModisTerraTrueColorCR",
       "no_wrap": false,
       "options": [
        "attribution",
        "detect_retina",
        "max_native_zoom",
        "max_zoom",
        "min_native_zoom",
        "min_zoom",
        "no_wrap",
        "tile_size",
        "tms"
       ],
       "url": "https://gibs.earthdata.nasa.gov/wmts/epsg3857/best/MODIS_Terra_CorrectedReflectance_TrueColor/default/2017-04-08/GoogleMapsCompatible_Level9/{z}/{y}/{x}.jpg"
      }
     },
     "acc1c09ec76641f09aebc16b8ca9931f": {
      "model_module": "@jupyter-widgets/base",
      "model_module_version": "1.2.0",
      "model_name": "LayoutModel",
      "state": {}
     },
     "adbc843f13dc4542b17c2892d799bf49": {
      "model_module": "@jupyter-widgets/controls",
      "model_module_version": "1.5.0",
      "model_name": "DescriptionStyleModel",
      "state": {
       "description_width": ""
      }
     },
     "aecebc3bc2ce4cd79ebe80cc2bdad6c6": {
      "model_module": "jupyter-leaflet",
      "model_module_version": "^0.12.2",
      "model_name": "LeafletAttributionControlModel",
      "state": {
       "_model_module_version": "^0.12.2",
       "_view_module_version": "^0.12.2",
       "options": [
        "position",
        "prefix"
       ],
       "position": "bottomright",
       "prefix": "Leaflet"
      }
     },
     "af3bdd0983194310b953a48c4baa8ae4": {
      "model_module": "jupyter-leaflet",
      "model_module_version": "^0.12.2",
      "model_name": "LeafletMapStyleModel",
      "state": {
       "_model_module_version": "^0.12.2",
       "cursor": "move"
      }
     },
     "af4565b556594c04951d615b0d616470": {
      "model_module": "@jupyter-widgets/base",
      "model_module_version": "1.2.0",
      "model_name": "LayoutModel",
      "state": {}
     },
     "b030fb1676b3497380fe0fb3602e12b3": {
      "model_module": "jupyter-leaflet",
      "model_module_version": "^0.12.2",
      "model_name": "LeafletMapStyleModel",
      "state": {
       "_model_module_version": "^0.12.2"
      }
     },
     "b09929ac6672475c97819a80e417dcfc": {
      "model_module": "jupyter-leaflet",
      "model_module_version": "^0.12.2",
      "model_name": "LeafletAttributionControlModel",
      "state": {
       "_model_module_version": "^0.12.2",
       "_view_module_version": "^0.12.2",
       "options": [
        "position",
        "prefix"
       ],
       "position": "bottomright",
       "prefix": "Leaflet"
      }
     },
     "b13fbca5cd16452488326f944863cb5d": {
      "model_module": "jupyter-leaflet",
      "model_module_version": "^0.12.2",
      "model_name": "LeafletZoomControlModel",
      "state": {
       "_model_module_version": "^0.12.2",
       "_view_module_version": "^0.12.2",
       "options": [
        "position",
        "zoom_in_text",
        "zoom_in_title",
        "zoom_out_text",
        "zoom_out_title"
       ]
      }
     },
     "b284a05993764506895fa0fa9747fc00": {
      "model_module": "jupyter-leaflet",
      "model_module_version": "^0.12.2",
      "model_name": "LeafletMapStyleModel",
      "state": {
       "_model_module_version": "^0.12.2"
      }
     },
     "b3786d7ea2b64c87b0884b5249960ee2": {
      "model_module": "jupyter-leaflet",
      "model_module_version": "^0.12.2",
      "model_name": "LeafletMapStyleModel",
      "state": {
       "_model_module_version": "^0.12.2"
      }
     },
     "b3bc1beea9f44045a81b2cad2bddcdea": {
      "model_module": "jupyter-leaflet",
      "model_module_version": "^0.12.2",
      "model_name": "LeafletMapModel",
      "state": {
       "_model_module_version": "^0.12.2",
       "_view_module_version": "^0.12.2",
       "center": [
        52.21321449859192,
        359.9647986888886
       ],
       "close_popup_on_click": false,
       "controls": [
        "IPY_MODEL_2d801263b12c436181f4c6da288e14f2",
        "IPY_MODEL_6f617b4042c8410ea14563d85cc786a9"
       ],
       "default_style": "IPY_MODEL_04dec21a04534408b81f35bb9e050988",
       "dragging_style": "IPY_MODEL_fbaf432b3c974fe5afc13e1d97aa21ed",
       "east": -180,
       "fullscreen": false,
       "interpolation": "bilinear",
       "layers": [
        "IPY_MODEL_f2e2782e691248cca7b672861e6f62df",
        "IPY_MODEL_d0eb6b29150b44278a716d703cf63b34",
        "IPY_MODEL_aa6594a858e044b8a1ed695bfd8635c8"
       ],
       "layout": "IPY_MODEL_6a6ad5ef98e44bc9a5f3e9fa8bba85d8",
       "modisdate": "yesterday",
       "north": -90,
       "options": [
        "bounce_at_zoom_limits",
        "box_zoom",
        "center",
        "close_popup_on_click",
        "double_click_zoom",
        "dragging",
        "fullscreen",
        "inertia",
        "inertia_deceleration",
        "inertia_max_speed",
        "interpolation",
        "keyboard",
        "keyboard_pan_offset",
        "keyboard_zoom_offset",
        "max_zoom",
        "min_zoom",
        "scroll_wheel_zoom",
        "tap",
        "tap_tolerance",
        "touch_zoom",
        "world_copy_jump",
        "zoom",
        "zoom_animation_threshold",
        "zoom_start"
       ],
       "south": 90,
       "style": "IPY_MODEL_04dec21a04534408b81f35bb9e050988",
       "west": 180,
       "zoom": 9
      }
     },
     "b3e08eb1fb93493cbed8abc67c63923e": {
      "model_module": "jupyter-leaflet",
      "model_module_version": "^0.12.2",
      "model_name": "LeafletZoomControlModel",
      "state": {
       "_model_module_version": "^0.12.2",
       "_view_module_version": "^0.12.2",
       "options": [
        "position",
        "zoom_in_text",
        "zoom_in_title",
        "zoom_out_text",
        "zoom_out_title"
       ]
      }
     },
     "b40a4a2593db4a97aab43297f2438c1a": {
      "model_module": "jupyter-leaflet",
      "model_module_version": "^0.12.2",
      "model_name": "LeafletMapStyleModel",
      "state": {
       "_model_module_version": "^0.12.2"
      }
     },
     "b6266418cf564afa8e190104589859df": {
      "model_module": "jupyter-leaflet",
      "model_module_version": "^0.12.2",
      "model_name": "LeafletZoomControlModel",
      "state": {
       "_model_module_version": "^0.12.2",
       "_view_module_version": "^0.12.2",
       "options": [
        "position",
        "zoom_in_text",
        "zoom_in_title",
        "zoom_out_text",
        "zoom_out_title"
       ]
      }
     },
     "b727a20b962c486b9d58bc95e1a606ae": {
      "model_module": "jupyter-leaflet",
      "model_module_version": "^0.12.2",
      "model_name": "LeafletTileLayerModel",
      "state": {
       "_model_module_version": "^0.12.2",
       "_view_module_version": "^0.12.2",
       "attribution": "Map tiles by <a href=\"https://labs.strava.com/heatmap\">Strava 2017</a>",
       "max_native_zoom": 18,
       "max_zoom": 15,
       "min_native_zoom": 0,
       "min_zoom": 1,
       "name": "Strava.All",
       "no_wrap": false,
       "options": [
        "attribution",
        "detect_retina",
        "max_native_zoom",
        "max_zoom",
        "min_native_zoom",
        "min_zoom",
        "no_wrap",
        "tile_size",
        "tms"
       ],
       "url": "https://heatmap-external-a.strava.com//tiles/all/hot/{z}/{x}/{y}.png?v=19"
      }
     },
     "b7614b5f3395443fb91f7c7cbee76a79": {
      "model_module": "jupyter-leaflet",
      "model_module_version": "^0.12.2",
      "model_name": "LeafletMapStyleModel",
      "state": {
       "_model_module_version": "^0.12.2",
       "cursor": "move"
      }
     },
     "b867b3e706d542f58a6788db11f7235b": {
      "model_module": "jupyter-leaflet",
      "model_module_version": "^0.12.2",
      "model_name": "LeafletAttributionControlModel",
      "state": {
       "_model_module_version": "^0.12.2",
       "_view_module_version": "^0.12.2",
       "options": [
        "position",
        "prefix"
       ],
       "position": "bottomright",
       "prefix": "Leaflet"
      }
     },
     "b9143ff4cc2d444da429411b3734652f": {
      "model_module": "@jupyter-widgets/base",
      "model_module_version": "1.2.0",
      "model_name": "LayoutModel",
      "state": {}
     },
     "b9b56230229e46c2a05da1a4fc46d4a8": {
      "model_module": "jupyter-leaflet",
      "model_module_version": "^0.12.2",
      "model_name": "LeafletTileLayerModel",
      "state": {
       "_model_module_version": "^0.12.2",
       "_view_module_version": "^0.12.2",
       "attribution": "&copy; <a href=\"http://www.openstreetmap.org/copyright\">OpenStreetMap</a> &copy; <a href=\"http://cartodb.com/attributions\">CartoDB</a>",
       "max_native_zoom": 18,
       "max_zoom": 20,
       "min_native_zoom": 0,
       "min_zoom": 1,
       "name": "CartoDB.DarkMatter",
       "no_wrap": false,
       "options": [
        "attribution",
        "detect_retina",
        "max_native_zoom",
        "max_zoom",
        "min_native_zoom",
        "min_zoom",
        "no_wrap",
        "tile_size",
        "tms"
       ],
       "url": "http://c.basemaps.cartocdn.com/dark_all/{z}/{x}/{y}.png"
      }
     },
     "bafbe507f82b41a3a17ff4d824e0230b": {
      "model_module": "jupyter-leaflet",
      "model_module_version": "^0.12.2",
      "model_name": "LeafletMapStyleModel",
      "state": {
       "_model_module_version": "^0.12.2"
      }
     },
     "bb758fb207154c6981518c08f532e023": {
      "model_module": "jupyter-leaflet",
      "model_module_version": "^0.12.2",
      "model_name": "LeafletAttributionControlModel",
      "state": {
       "_model_module_version": "^0.12.2",
       "_view_module_version": "^0.12.2",
       "options": [
        "position",
        "prefix"
       ],
       "position": "bottomright",
       "prefix": "Leaflet"
      }
     },
     "c0cf33e83d7f4a0b9841be2526d11a16": {
      "model_module": "jupyter-leaflet",
      "model_module_version": "^0.12.2",
      "model_name": "LeafletMapStyleModel",
      "state": {
       "_model_module_version": "^0.12.2"
      }
     },
     "c68934bdb7ed46b8a1d89ca248cfade8": {
      "model_module": "jupyter-leaflet",
      "model_module_version": "^0.12.2",
      "model_name": "LeafletAttributionControlModel",
      "state": {
       "_model_module_version": "^0.12.2",
       "_view_module_version": "^0.12.2",
       "options": [
        "position",
        "prefix"
       ],
       "position": "bottomright",
       "prefix": "Leaflet"
      }
     },
     "c78a77a7229648e19e530101ec150d34": {
      "model_module": "@jupyter-widgets/controls",
      "model_module_version": "1.5.0",
      "model_name": "HTMLModel",
      "state": {
       "description": "Some HTML",
       "layout": "IPY_MODEL_acc1c09ec76641f09aebc16b8ca9931f",
       "placeholder": "Some HTML",
       "style": "IPY_MODEL_02017643638d4ecda62350cd85cc149d",
       "value": "Hello <b>World</b>"
      }
     },
     "c87508c3972c436188cbf169b2a316de": {
      "model_module": "jupyter-leaflet",
      "model_module_version": "^0.12.2",
      "model_name": "LeafletMapStyleModel",
      "state": {
       "_model_module_version": "^0.12.2"
      }
     },
     "c87674893e304a9baffacb6ec40c042c": {
      "model_module": "jupyter-leaflet",
      "model_module_version": "^0.12.2",
      "model_name": "LeafletMapModel",
      "state": {
       "_model_module_version": "^0.12.2",
       "_view_module_version": "^0.12.2",
       "center": [
        52.20424032262008,
        360.1235961914063
       ],
       "controls": [
        "IPY_MODEL_7bc50eccec704862a5df0e82cd740610",
        "IPY_MODEL_a614d1a0fdcb44059911164227f16e20"
       ],
       "default_style": "IPY_MODEL_52495f4d42284f23b352266984fb749f",
       "dragging_style": "IPY_MODEL_08509a22f0b641f89de622cb1d978083",
       "east": -180,
       "fullscreen": false,
       "interpolation": "bilinear",
       "layers": [
        "IPY_MODEL_5ab07af69ca043de820ad4e8c59c66d0",
        "IPY_MODEL_b9b56230229e46c2a05da1a4fc46d4a8"
       ],
       "layout": "IPY_MODEL_f74e0e6be4354d09864d04dccb81e8d7",
       "modisdate": "yesterday",
       "north": -90,
       "options": [
        "bounce_at_zoom_limits",
        "box_zoom",
        "center",
        "close_popup_on_click",
        "double_click_zoom",
        "dragging",
        "fullscreen",
        "inertia",
        "inertia_deceleration",
        "inertia_max_speed",
        "interpolation",
        "keyboard",
        "keyboard_pan_offset",
        "keyboard_zoom_offset",
        "max_zoom",
        "min_zoom",
        "scroll_wheel_zoom",
        "tap",
        "tap_tolerance",
        "touch_zoom",
        "world_copy_jump",
        "zoom",
        "zoom_animation_threshold",
        "zoom_start"
       ],
       "south": 90,
       "style": "IPY_MODEL_52495f4d42284f23b352266984fb749f",
       "west": 180,
       "zoom": 9
      }
     },
     "c9f9afced88547b4947b8a024a2340c4": {
      "model_module": "jupyter-leaflet",
      "model_module_version": "^0.12.2",
      "model_name": "LeafletMapStyleModel",
      "state": {
       "_model_module_version": "^0.12.2"
      }
     },
     "ca62842e8a594b999886a67c9f6160f3": {
      "model_module": "jupyter-leaflet",
      "model_module_version": "^0.12.2",
      "model_name": "LeafletMapStyleModel",
      "state": {
       "_model_module_version": "^0.12.2"
      }
     },
     "cad5dd7aa4f7470c9939be022cebba12": {
      "model_module": "@jupyter-widgets/controls",
      "model_module_version": "1.5.0",
      "model_name": "DescriptionStyleModel",
      "state": {
       "description_width": ""
      }
     },
     "cbeb1ecffc934da8a2ad9deb6009d100": {
      "model_module": "jupyter-leaflet",
      "model_module_version": "^0.12.2",
      "model_name": "LeafletZoomControlModel",
      "state": {
       "_model_module_version": "^0.12.2",
       "_view_module_version": "^0.12.2",
       "options": [
        "position",
        "zoom_in_text",
        "zoom_in_title",
        "zoom_out_text",
        "zoom_out_title"
       ]
      }
     },
     "cd289c8ecbba4443a15da22fbfd7a61c": {
      "model_module": "jupyter-leaflet",
      "model_module_version": "^0.12.2",
      "model_name": "LeafletTileLayerModel",
      "state": {
       "_model_module_version": "^0.12.2",
       "_view_module_version": "^0.12.2",
       "base": true,
       "max_native_zoom": 18,
       "max_zoom": 19,
       "min_native_zoom": 0,
       "min_zoom": 1,
       "no_wrap": false,
       "options": [
        "attribution",
        "detect_retina",
        "max_native_zoom",
        "max_zoom",
        "min_native_zoom",
        "min_zoom",
        "no_wrap",
        "tile_size",
        "tms"
       ]
      }
     },
     "cee93b379c124d539da078c8219ff35f": {
      "model_module": "jupyter-leaflet",
      "model_module_version": "^0.12.2",
      "model_name": "LeafletMapStyleModel",
      "state": {
       "_model_module_version": "^0.12.2",
       "cursor": "move"
      }
     },
     "d079fa611c1943fcbd41c81b4c3cc92b": {
      "model_module": "@jupyter-widgets/base",
      "model_module_version": "1.2.0",
      "model_name": "LayoutModel",
      "state": {}
     },
     "d0eb6b29150b44278a716d703cf63b34": {
      "model_module": "jupyter-leaflet",
      "model_module_version": "^0.12.2",
      "model_name": "LeafletMarkerModel",
      "state": {
       "_model_module_version": "^0.12.2",
       "_view_module_version": "^0.12.2",
       "location": [
        52.1,
        359.9
       ],
       "options": [
        "alt",
        "draggable",
        "keyboard",
        "rise_offset",
        "rise_on_hover",
        "rotation_angle",
        "rotation_origin",
        "title",
        "z_index_offset"
       ],
       "popup": "IPY_MODEL_a9bae8f1d9a042d987b4299ef259d550"
      }
     },
     "d2d85d1bd6254598a18e01e5a47ef0ad": {
      "model_module": "jupyter-leaflet",
      "model_module_version": "^0.12.2",
      "model_name": "LeafletZoomControlModel",
      "state": {
       "_model_module_version": "^0.12.2",
       "_view_module_version": "^0.12.2",
       "options": [
        "position",
        "zoom_in_text",
        "zoom_in_title",
        "zoom_out_text",
        "zoom_out_title"
       ]
      }
     },
     "d4521357ab2040b8a3bc76af787362d3": {
      "model_module": "jupyter-leaflet",
      "model_module_version": "^0.12.2",
      "model_name": "LeafletMapModel",
      "state": {
       "_model_module_version": "^0.12.2",
       "_view_module_version": "^0.12.2",
       "center": [
        -41.902277040963696,
        87.71484375000001
       ],
       "controls": [
        "IPY_MODEL_cbeb1ecffc934da8a2ad9deb6009d100",
        "IPY_MODEL_96a9c8e5b9af45d8a18fa51c4a51c3e6"
       ],
       "default_style": "IPY_MODEL_e5ba41b4df92465d822d22a04ae91435",
       "dragging_style": "IPY_MODEL_aa8d75cdd62a40af83de954ba6d9a3f5",
       "east": -180,
       "fullscreen": false,
       "interpolation": "bilinear",
       "layers": [
        "IPY_MODEL_8680a0c7392d4d36b0dc2dfa2e9a4a8f"
       ],
       "layout": "IPY_MODEL_30093b6677e6428ba9428d00c0b6a23a",
       "modisdate": "yesterday",
       "north": -90,
       "options": [
        "bounce_at_zoom_limits",
        "box_zoom",
        "center",
        "close_popup_on_click",
        "double_click_zoom",
        "dragging",
        "fullscreen",
        "inertia",
        "inertia_deceleration",
        "inertia_max_speed",
        "interpolation",
        "keyboard",
        "keyboard_pan_offset",
        "keyboard_zoom_offset",
        "max_zoom",
        "min_zoom",
        "scroll_wheel_zoom",
        "tap",
        "tap_tolerance",
        "touch_zoom",
        "world_copy_jump",
        "zoom",
        "zoom_animation_threshold",
        "zoom_start"
       ],
       "south": 90,
       "style": "IPY_MODEL_e5ba41b4df92465d822d22a04ae91435",
       "west": 180,
       "zoom": 4
      }
     },
     "d4cc496f7b5249afbba5aa65997dc732": {
      "model_module": "jupyter-leaflet",
      "model_module_version": "^0.12.2",
      "model_name": "LeafletMapStyleModel",
      "state": {
       "_model_module_version": "^0.12.2"
      }
     },
     "d5fecd5c696c4c10a16cab8526893c7c": {
      "model_module": "jupyter-leaflet",
      "model_module_version": "^0.12.2",
      "model_name": "LeafletMapModel",
      "state": {
       "_model_module_version": "^0.12.2",
       "_view_module_version": "^0.12.2",
       "center": [
        41.902277040963696,
        -87.626953125
       ],
       "controls": [
        "IPY_MODEL_99c35d707eb04a8d8fc665dcaee1fcce",
        "IPY_MODEL_f8f3131e4a40457283fe233d9d9afc61"
       ],
       "default_style": "IPY_MODEL_2c2915d236994c6aa892b48db282b430",
       "dragging_style": "IPY_MODEL_e4673ef40f254c7ab86d85cedf00536b",
       "east": -180,
       "fullscreen": false,
       "interpolation": "bilinear",
       "layers": [
        "IPY_MODEL_678a4258f7374328a44de244659a718b"
       ],
       "layout": "IPY_MODEL_9bb767ea7241448e88f1eceabf008227",
       "modisdate": "yesterday",
       "north": -90,
       "options": [
        "bounce_at_zoom_limits",
        "box_zoom",
        "center",
        "close_popup_on_click",
        "double_click_zoom",
        "dragging",
        "fullscreen",
        "inertia",
        "inertia_deceleration",
        "inertia_max_speed",
        "interpolation",
        "keyboard",
        "keyboard_pan_offset",
        "keyboard_zoom_offset",
        "max_zoom",
        "min_zoom",
        "scroll_wheel_zoom",
        "tap",
        "tap_tolerance",
        "touch_zoom",
        "world_copy_jump",
        "zoom",
        "zoom_animation_threshold",
        "zoom_start"
       ],
       "south": 90,
       "style": "IPY_MODEL_2c2915d236994c6aa892b48db282b430",
       "west": 180,
       "zoom": 4
      }
     },
     "d7130d1d50184729a70e68626b9dab5f": {
      "model_module": "jupyter-leaflet",
      "model_module_version": "^0.12.2",
      "model_name": "LeafletMapModel",
      "state": {
       "_model_module_version": "^0.12.2",
       "_view_module_version": "^0.12.2",
       "center": [
        41.8781,
        -87.6298
       ],
       "controls": [
        "IPY_MODEL_b13fbca5cd16452488326f944863cb5d",
        "IPY_MODEL_101faba6e1eb4bfaa9ebc62a468d654e"
       ],
       "default_style": "IPY_MODEL_407abfda4d4d4716ba159e85213dfa60",
       "dragging_style": "IPY_MODEL_cee93b379c124d539da078c8219ff35f",
       "east": -82.24365234375001,
       "fullscreen": false,
       "interpolation": "bilinear",
       "layers": [
        "IPY_MODEL_cd289c8ecbba4443a15da22fbfd7a61c",
        "IPY_MODEL_54b7fc56b05d4a34983176c09577a288"
       ],
       "layout": "IPY_MODEL_f507ad5053634258b13bdb317cdd3b98",
       "modisdate": "yesterday",
       "north": 43.492782808225,
       "options": [
        "bounce_at_zoom_limits",
        "box_zoom",
        "center",
        "close_popup_on_click",
        "double_click_zoom",
        "dragging",
        "fullscreen",
        "inertia",
        "inertia_deceleration",
        "inertia_max_speed",
        "interpolation",
        "keyboard",
        "keyboard_pan_offset",
        "keyboard_zoom_offset",
        "max_zoom",
        "min_zoom",
        "scroll_wheel_zoom",
        "tap",
        "tap_tolerance",
        "touch_zoom",
        "world_copy_jump",
        "zoom",
        "zoom_animation_threshold",
        "zoom_start"
       ],
       "south": 40.22082997283287,
       "style": "IPY_MODEL_d7f32ae0989143b3a1e788371c6279d3",
       "west": -93.02124023437501,
       "zoom": 7
      }
     },
     "d7f32ae0989143b3a1e788371c6279d3": {
      "model_module": "jupyter-leaflet",
      "model_module_version": "^0.12.2",
      "model_name": "LeafletMapStyleModel",
      "state": {
       "_model_module_version": "^0.12.2"
      }
     },
     "da80e2f71a24430ab136192eb5268084": {
      "model_module": "jupyter-leaflet",
      "model_module_version": "^0.12.2",
      "model_name": "LeafletMapModel",
      "state": {
       "_model_module_version": "^0.12.2",
       "_view_module_version": "^0.12.2",
       "center": [
        41.8781,
        -87.6298
       ],
       "controls": [
        "IPY_MODEL_45cfed0b9a1a4426a156277136efc527",
        "IPY_MODEL_9c98b43f5ee545d1b401409091bd2e4e"
       ],
       "default_style": "IPY_MODEL_83545705b4b74cd7be30807977733a64",
       "dragging_style": "IPY_MODEL_58d5afc0b9cf472cbe206bdab4b36cc3",
       "east": -84.93530273437501,
       "fullscreen": false,
       "interpolation": "bilinear",
       "layers": [
        "IPY_MODEL_2a7e3557514b4d889b15aa5f49f6ceb0"
       ],
       "layout": "IPY_MODEL_73a6fb1416ec4b6bbade509255624ef0",
       "modisdate": "yesterday",
       "north": 42.69051116998241,
       "options": [
        "bounce_at_zoom_limits",
        "box_zoom",
        "center",
        "close_popup_on_click",
        "double_click_zoom",
        "dragging",
        "fullscreen",
        "inertia",
        "inertia_deceleration",
        "inertia_max_speed",
        "interpolation",
        "keyboard",
        "keyboard_pan_offset",
        "keyboard_zoom_offset",
        "max_zoom",
        "min_zoom",
        "scroll_wheel_zoom",
        "tap",
        "tap_tolerance",
        "touch_zoom",
        "world_copy_jump",
        "zoom",
        "zoom_animation_threshold",
        "zoom_start"
       ],
       "south": 41.054501963290505,
       "style": "IPY_MODEL_444a98e8ba6c4a529a1275c8ddd54dd6",
       "west": -90.32409667968751,
       "zoom": 8
      }
     },
     "df21117085f641efbcd760cffee9192f": {
      "model_module": "jupyter-leaflet",
      "model_module_version": "^0.12.2",
      "model_name": "LeafletMapModel",
      "state": {
       "_model_module_version": "^0.12.2",
       "_view_module_version": "^0.12.2",
       "center": [
        41.60928183876483,
        -88.00323486328125
       ],
       "controls": [
        "IPY_MODEL_a6b1b3561b754780a13407238cbcd40a",
        "IPY_MODEL_7cf2cdde71484808a6882a21973aeca5"
       ],
       "default_style": "IPY_MODEL_0228b80b3cef4c9d8d81bbc77919d1b1",
       "dragging_style": "IPY_MODEL_af3bdd0983194310b953a48c4baa8ae4",
       "east": -180,
       "fullscreen": false,
       "interpolation": "bilinear",
       "layers": [
        "IPY_MODEL_04ac72f9d9144241accb90631d55e872"
       ],
       "layout": "IPY_MODEL_3cc55e91fd74482c910ea16cbe51cb5d",
       "modisdate": "yesterday",
       "north": -90,
       "options": [
        "bounce_at_zoom_limits",
        "box_zoom",
        "center",
        "close_popup_on_click",
        "double_click_zoom",
        "dragging",
        "fullscreen",
        "inertia",
        "inertia_deceleration",
        "inertia_max_speed",
        "interpolation",
        "keyboard",
        "keyboard_pan_offset",
        "keyboard_zoom_offset",
        "max_zoom",
        "min_zoom",
        "scroll_wheel_zoom",
        "tap",
        "tap_tolerance",
        "touch_zoom",
        "world_copy_jump",
        "zoom",
        "zoom_animation_threshold",
        "zoom_start"
       ],
       "south": 90,
       "style": "IPY_MODEL_0228b80b3cef4c9d8d81bbc77919d1b1",
       "west": 180,
       "zoom": 9
      }
     },
     "e065cb7c741b4b058043a921d36cc41f": {
      "model_module": "jupyter-leaflet",
      "model_module_version": "^0.12.2",
      "model_name": "LeafletMapStyleModel",
      "state": {
       "_model_module_version": "^0.12.2"
      }
     },
     "e3815d42239c4d21b1ea1d40ef982a50": {
      "model_module": "@jupyter-widgets/base",
      "model_module_version": "1.2.0",
      "model_name": "LayoutModel",
      "state": {}
     },
     "e3984317755943a8a45a383aae356d4a": {
      "model_module": "jupyter-leaflet",
      "model_module_version": "^0.12.2",
      "model_name": "LeafletMapStyleModel",
      "state": {
       "_model_module_version": "^0.12.2"
      }
     },
     "e4673ef40f254c7ab86d85cedf00536b": {
      "model_module": "jupyter-leaflet",
      "model_module_version": "^0.12.2",
      "model_name": "LeafletMapStyleModel",
      "state": {
       "_model_module_version": "^0.12.2",
       "cursor": "move"
      }
     },
     "e5ba41b4df92465d822d22a04ae91435": {
      "model_module": "jupyter-leaflet",
      "model_module_version": "^0.12.2",
      "model_name": "LeafletMapStyleModel",
      "state": {
       "_model_module_version": "^0.12.2"
      }
     },
     "e807282018294613a79f0bc134f5c025": {
      "model_module": "jupyter-leaflet",
      "model_module_version": "^0.12.2",
      "model_name": "LeafletMapStyleModel",
      "state": {
       "_model_module_version": "^0.12.2"
      }
     },
     "e8e10760a459464197f81260b77ba917": {
      "model_module": "jupyter-leaflet",
      "model_module_version": "^0.12.2",
      "model_name": "LeafletMapStyleModel",
      "state": {
       "_model_module_version": "^0.12.2"
      }
     },
     "e9c4590286be4975ad6455fa15d2f59d": {
      "model_module": "jupyter-leaflet",
      "model_module_version": "^0.12.2",
      "model_name": "LeafletZoomControlModel",
      "state": {
       "_model_module_version": "^0.12.2",
       "_view_module_version": "^0.12.2",
       "options": [
        "position",
        "zoom_in_text",
        "zoom_in_title",
        "zoom_out_text",
        "zoom_out_title"
       ]
      }
     },
     "ea1f6232f2904683acfaafaa919f7400": {
      "model_module": "jupyter-leaflet",
      "model_module_version": "^0.12.2",
      "model_name": "LeafletMapStyleModel",
      "state": {
       "_model_module_version": "^0.12.2"
      }
     },
     "eaca7befe49a48f59e8393ce779cc330": {
      "model_module": "jupyter-leaflet",
      "model_module_version": "^0.12.2",
      "model_name": "LeafletMapModel",
      "state": {
       "_model_module_version": "^0.12.2",
       "_view_module_version": "^0.12.2",
       "center": [
        41.87774145109676,
        -87.626953125
       ],
       "controls": [
        "IPY_MODEL_b6266418cf564afa8e190104589859df",
        "IPY_MODEL_c68934bdb7ed46b8a1d89ca248cfade8"
       ],
       "default_style": "IPY_MODEL_c0cf33e83d7f4a0b9841be2526d11a16",
       "dragging_style": "IPY_MODEL_865e3c3946d34a7a88dd389285e78fd2",
       "east": -180,
       "fullscreen": false,
       "interpolation": "bilinear",
       "layers": [
        "IPY_MODEL_292a75fee2034561a9b5678a3f5cef9f",
        "IPY_MODEL_f718164e14bc4c8691527f0db70645f7"
       ],
       "layout": "IPY_MODEL_a6ce72b468914ac7897f4c9e54c74101",
       "modisdate": "yesterday",
       "north": -90,
       "options": [
        "bounce_at_zoom_limits",
        "box_zoom",
        "center",
        "close_popup_on_click",
        "double_click_zoom",
        "dragging",
        "fullscreen",
        "inertia",
        "inertia_deceleration",
        "inertia_max_speed",
        "interpolation",
        "keyboard",
        "keyboard_pan_offset",
        "keyboard_zoom_offset",
        "max_zoom",
        "min_zoom",
        "scroll_wheel_zoom",
        "tap",
        "tap_tolerance",
        "touch_zoom",
        "world_copy_jump",
        "zoom",
        "zoom_animation_threshold",
        "zoom_start"
       ],
       "south": 90,
       "style": "IPY_MODEL_c0cf33e83d7f4a0b9841be2526d11a16",
       "west": 180,
       "zoom": 7
      }
     },
     "eae1e9bdc45442f9b1ae11942ab1228a": {
      "model_module": "@jupyter-widgets/base",
      "model_module_version": "1.2.0",
      "model_name": "LayoutModel",
      "state": {}
     },
     "eb908821470b4a9f9fb4e3f4ca60998c": {
      "model_module": "jupyter-leaflet",
      "model_module_version": "^0.12.2",
      "model_name": "LeafletZoomControlModel",
      "state": {
       "_model_module_version": "^0.12.2",
       "_view_module_version": "^0.12.2",
       "options": [
        "position",
        "zoom_in_text",
        "zoom_in_title",
        "zoom_out_text",
        "zoom_out_title"
       ]
      }
     },
     "ed3a6f167ad9430eb3e084bd38ffbae8": {
      "model_module": "jupyter-leaflet",
      "model_module_version": "^0.12.2",
      "model_name": "LeafletTileLayerModel",
      "state": {
       "_model_module_version": "^0.12.2",
       "_view_module_version": "^0.12.2",
       "base": true,
       "max_native_zoom": 18,
       "max_zoom": 19,
       "min_native_zoom": 0,
       "min_zoom": 1,
       "no_wrap": false,
       "options": [
        "attribution",
        "detect_retina",
        "max_native_zoom",
        "max_zoom",
        "min_native_zoom",
        "min_zoom",
        "no_wrap",
        "tile_size",
        "tms"
       ]
      }
     },
     "f16ccca5408243b78a704a407632a98f": {
      "model_module": "jupyter-leaflet",
      "model_module_version": "^0.12.2",
      "model_name": "LeafletMapStyleModel",
      "state": {
       "_model_module_version": "^0.12.2",
       "cursor": "move"
      }
     },
     "f2790a97a2d6487786d01eea9d51099c": {
      "model_module": "@jupyter-widgets/base",
      "model_module_version": "1.2.0",
      "model_name": "LayoutModel",
      "state": {}
     },
     "f2b37dd23f1347d58be9861bc7c8ea6c": {
      "model_module": "jupyter-leaflet",
      "model_module_version": "^0.12.2",
      "model_name": "LeafletMapStyleModel",
      "state": {
       "_model_module_version": "^0.12.2"
      }
     },
     "f2e2782e691248cca7b672861e6f62df": {
      "model_module": "jupyter-leaflet",
      "model_module_version": "^0.12.2",
      "model_name": "LeafletTileLayerModel",
      "state": {
       "_model_module_version": "^0.12.2",
       "_view_module_version": "^0.12.2",
       "base": true,
       "max_native_zoom": 18,
       "max_zoom": 19,
       "min_native_zoom": 0,
       "min_zoom": 1,
       "no_wrap": false,
       "options": [
        "attribution",
        "detect_retina",
        "max_native_zoom",
        "max_zoom",
        "min_native_zoom",
        "min_zoom",
        "no_wrap",
        "tile_size",
        "tms"
       ]
      }
     },
     "f507ad5053634258b13bdb317cdd3b98": {
      "model_module": "@jupyter-widgets/base",
      "model_module_version": "1.2.0",
      "model_name": "LayoutModel",
      "state": {}
     },
     "f53102e207c6454abbf135940ed953ea": {
      "model_module": "@jupyter-widgets/base",
      "model_module_version": "1.2.0",
      "model_name": "LayoutModel",
      "state": {}
     },
     "f632959c7d5a483c99a77a68be9dd4f3": {
      "model_module": "jupyter-leaflet",
      "model_module_version": "^0.12.2",
      "model_name": "LeafletTileLayerModel",
      "state": {
       "_model_module_version": "^0.12.2",
       "_view_module_version": "^0.12.2",
       "base": true,
       "max_native_zoom": 18,
       "max_zoom": 19,
       "min_native_zoom": 0,
       "min_zoom": 1,
       "no_wrap": false,
       "options": [
        "attribution",
        "detect_retina",
        "max_native_zoom",
        "max_zoom",
        "min_native_zoom",
        "min_zoom",
        "no_wrap",
        "tile_size",
        "tms"
       ]
      }
     },
     "f69bdf6f9d2b43be887bb27ada109437": {
      "model_module": "@jupyter-widgets/controls",
      "model_module_version": "1.5.0",
      "model_name": "DescriptionStyleModel",
      "state": {
       "description_width": ""
      }
     },
     "f6ecbdb953f146f0a682536b4a1da98f": {
      "model_module": "jupyter-leaflet",
      "model_module_version": "^0.12.2",
      "model_name": "LeafletMapModel",
      "state": {
       "_model_module_version": "^0.12.2",
       "_view_module_version": "^0.12.2",
       "center": [
        32.2,
        34.8
       ],
       "controls": [
        "IPY_MODEL_eb908821470b4a9f9fb4e3f4ca60998c",
        "IPY_MODEL_6a7d6d757a1848c0a499cc8476209c57"
       ],
       "default_style": "IPY_MODEL_978c00a903264639ad738a98a14c385c",
       "dragging_style": "IPY_MODEL_f7a40c875d444525b8805659be359975",
       "fullscreen": false,
       "interpolation": "bilinear",
       "layers": [
        "IPY_MODEL_fed0697618ef451b996808c41d4a2dce"
       ],
       "layout": "IPY_MODEL_a25226585be1486284d2b7bc09f0ca0f",
       "modisdate": "yesterday",
       "options": [
        "bounce_at_zoom_limits",
        "box_zoom",
        "center",
        "close_popup_on_click",
        "double_click_zoom",
        "dragging",
        "fullscreen",
        "inertia",
        "inertia_deceleration",
        "inertia_max_speed",
        "interpolation",
        "keyboard",
        "keyboard_pan_offset",
        "keyboard_zoom_offset",
        "max_zoom",
        "min_zoom",
        "scroll_wheel_zoom",
        "tap",
        "tap_tolerance",
        "touch_zoom",
        "world_copy_jump",
        "zoom",
        "zoom_animation_threshold",
        "zoom_start"
       ],
       "style": "IPY_MODEL_ca62842e8a594b999886a67c9f6160f3"
      }
     },
     "f718164e14bc4c8691527f0db70645f7": {
      "model_module": "jupyter-leaflet",
      "model_module_version": "^0.12.2",
      "model_name": "LeafletTileLayerModel",
      "state": {
       "_model_module_version": "^0.12.2",
       "_view_module_version": "^0.12.2",
       "attribution": "Map tiles by <a href=\"https://labs.strava.com/heatmap\">Strava 2017</a>",
       "max_native_zoom": 18,
       "max_zoom": 15,
       "min_native_zoom": 0,
       "min_zoom": 1,
       "name": "Strava.All",
       "no_wrap": false,
       "options": [
        "attribution",
        "detect_retina",
        "max_native_zoom",
        "max_zoom",
        "min_native_zoom",
        "min_zoom",
        "no_wrap",
        "tile_size",
        "tms"
       ],
       "url": "https://heatmap-external-a.strava.com//tiles/all/hot/{z}/{x}/{y}.png?v=19"
      }
     },
     "f74e0e6be4354d09864d04dccb81e8d7": {
      "model_module": "@jupyter-widgets/base",
      "model_module_version": "1.2.0",
      "model_name": "LayoutModel",
      "state": {}
     },
     "f7a40c875d444525b8805659be359975": {
      "model_module": "jupyter-leaflet",
      "model_module_version": "^0.12.2",
      "model_name": "LeafletMapStyleModel",
      "state": {
       "_model_module_version": "^0.12.2",
       "cursor": "move"
      }
     },
     "f8f3131e4a40457283fe233d9d9afc61": {
      "model_module": "jupyter-leaflet",
      "model_module_version": "^0.12.2",
      "model_name": "LeafletAttributionControlModel",
      "state": {
       "_model_module_version": "^0.12.2",
       "_view_module_version": "^0.12.2",
       "options": [
        "position",
        "prefix"
       ],
       "position": "bottomright",
       "prefix": "Leaflet"
      }
     },
     "f9eaca8a0b164163bd04b0b973a53831": {
      "model_module": "jupyter-leaflet",
      "model_module_version": "^0.12.2",
      "model_name": "LeafletAttributionControlModel",
      "state": {
       "_model_module_version": "^0.12.2",
       "_view_module_version": "^0.12.2",
       "options": [
        "position",
        "prefix"
       ],
       "position": "bottomright",
       "prefix": "Leaflet"
      }
     },
     "fa25771dcf9e46f082d85dc09b92c36b": {
      "model_module": "jupyter-leaflet",
      "model_module_version": "^0.12.2",
      "model_name": "LeafletMapStyleModel",
      "state": {
       "_model_module_version": "^0.12.2",
       "cursor": "move"
      }
     },
     "fb024878d03a4410add8d4c6fd0c89d4": {
      "model_module": "jupyter-leaflet",
      "model_module_version": "^0.12.2",
      "model_name": "LeafletMapModel",
      "state": {
       "_model_module_version": "^0.12.2",
       "_view_module_version": "^0.12.2",
       "center": [
        41.87774145109676,
        -87.62969970703126
       ],
       "controls": [
        "IPY_MODEL_b3e08eb1fb93493cbed8abc67c63923e",
        "IPY_MODEL_b09929ac6672475c97819a80e417dcfc"
       ],
       "default_style": "IPY_MODEL_94a2c9a0f3604451bca85cca5fd11f23",
       "dragging_style": "IPY_MODEL_253b8f6556b64fdeac1bec2477024a8d",
       "east": -76.86035156250001,
       "fullscreen": false,
       "interpolation": "bilinear",
       "layers": [
        "IPY_MODEL_1ea30fd90a7f4b4e82b1df7657f33b3a"
       ],
       "layout": "IPY_MODEL_683564fe33604645bf7fd8382d76aadd",
       "modisdate": "yesterday",
       "north": 45.058001435398296,
       "options": [
        "bounce_at_zoom_limits",
        "box_zoom",
        "center",
        "close_popup_on_click",
        "double_click_zoom",
        "dragging",
        "fullscreen",
        "inertia",
        "inertia_deceleration",
        "inertia_max_speed",
        "interpolation",
        "keyboard",
        "keyboard_pan_offset",
        "keyboard_zoom_offset",
        "max_zoom",
        "min_zoom",
        "scroll_wheel_zoom",
        "tap",
        "tap_tolerance",
        "touch_zoom",
        "world_copy_jump",
        "zoom",
        "zoom_animation_threshold",
        "zoom_start"
       ],
       "south": 38.51378825951165,
       "style": "IPY_MODEL_94a2c9a0f3604451bca85cca5fd11f23",
       "west": -98.41552734375001,
       "zoom": 6
      }
     },
     "fbaf432b3c974fe5afc13e1d97aa21ed": {
      "model_module": "jupyter-leaflet",
      "model_module_version": "^0.12.2",
      "model_name": "LeafletMapStyleModel",
      "state": {
       "_model_module_version": "^0.12.2",
       "cursor": "move"
      }
     },
     "fed0697618ef451b996808c41d4a2dce": {
      "model_module": "jupyter-leaflet",
      "model_module_version": "^0.12.2",
      "model_name": "LeafletTileLayerModel",
      "state": {
       "_model_module_version": "^0.12.2",
       "_view_module_version": "^0.12.2",
       "base": true,
       "max_native_zoom": 18,
       "max_zoom": 19,
       "min_native_zoom": 0,
       "min_zoom": 1,
       "no_wrap": false,
       "options": [
        "attribution",
        "detect_retina",
        "max_native_zoom",
        "max_zoom",
        "min_native_zoom",
        "min_zoom",
        "no_wrap",
        "tile_size",
        "tms"
       ]
      }
     }
    },
    "version_major": 2,
    "version_minor": 0
   }
  }
 },
 "nbformat": 4,
 "nbformat_minor": 2
}
