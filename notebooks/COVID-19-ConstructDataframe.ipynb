{
 "cells": [
  {
   "cell_type": "raw",
   "metadata": {},
   "source": [
    "<script>\n",
    "  function code_toggle() {\n",
    "    if (code_shown){\n",
    "      $('div.input').hide('500');\n",
    "      $('#toggleButton').val('Show Code')\n",
    "    } else {\n",
    "      $('div.input').show('500');\n",
    "      $('#toggleButton').val('Hide Code')\n",
    "    }\n",
    "    code_shown = !code_shown\n",
    "  }\n",
    "\n",
    "  $( document ).ready(function(){\n",
    "    code_shown=false;\n",
    "    $('div.input').hide()\n",
    "  });\n",
    "</script>\n",
    "<form action=\"javascript:code_toggle()\">\n",
    "  <input type=\"submit\" id=\"toggleButton\" value=\"Show Code\">\n",
    "</form>"
   ]
  },
  {
   "cell_type": "markdown",
   "metadata": {},
   "source": [
    "## Step 1. Import modules"
   ]
  },
  {
   "cell_type": "code",
   "execution_count": 1,
   "metadata": {},
   "outputs": [],
   "source": [
    "# import libraries and modules\n",
    "from IPython.display import HTML\n",
    "get_ipython().run_line_magic('matplotlib', 'notebook')\n",
    "import matplotlib.pyplot as plt\n",
    "from tabulate import tabulate\n",
    "import pandas as pd\n",
    "import numpy as np\n",
    "import sys\n",
    "import IPython.display as display\n",
    "import warnings\n",
    "warnings.filterwarnings('ignore')\n",
    "import re\n",
    "import matplotlib as mpl\n",
    "from scipy import stats\n",
    "\n",
    "from pandas.io.html import read_html\n",
    "\n",
    "import statsmodels.api as sm\n",
    "import statsmodels.formula.api as smf\n",
    "from scipy.optimize import curve_fit"
   ]
  },
  {
   "cell_type": "markdown",
   "metadata": {},
   "source": [
    "## Step 2. Define functions"
   ]
  },
  {
   "cell_type": "code",
   "execution_count": 2,
   "metadata": {},
   "outputs": [],
   "source": [
    "def logistic(x, a, b, c, d):\n",
    "    return a / (d + np.exp(-c * x + b))\n",
    "\n",
    "def obs_pred_rsquare(obs, pred):\n",
    "    return 1 - sum((obs - pred) ** 2) / sum((obs - np.mean(obs)) ** 2)\n",
    "\n",
    "def exponential(x, a, b, c, d):\n",
    "    return a * np.exp(b * x) + c"
   ]
  },
  {
   "cell_type": "markdown",
   "metadata": {},
   "source": [
    "## Step 3. Pull online data:\n",
    "\n",
    "### 1. COVID-19: John's Hopkins (https://github.com/CSSEGISandData/COVID-19)\n",
    "### 2. COVID-19: Sito del Dipartimento della Protezione Civile, Italia (https://github.com/pcm-dpc/COVID-19)\n",
    "### 3. Population size: klocey/COVID-dash/master/worldcities.csv\n"
   ]
  },
  {
   "cell_type": "code",
   "execution_count": 3,
   "metadata": {},
   "outputs": [],
   "source": [
    "JH_DATA_URL = 'https://raw.githubusercontent.com/CSSEGISandData/COVID-19/master/csse_covid_19_data/csse_covid_19_time_series/time_series_19-covid-'\n",
    "Italia_DATA_URL = 'https://raw.githubusercontent.com/pcm-dpc/COVID-19/master/dati-province/dpc-covid19-ita-province.csv'\n",
    "CITIES_URL = 'https://raw.githubusercontent.com/klocey/COVID-dash/master/worldcities.csv'\n"
   ]
  },
  {
   "cell_type": "markdown",
   "metadata": {},
   "source": [
    "## Step 4. Process data into primary dataframes."
   ]
  },
  {
   "cell_type": "code",
   "execution_count": 4,
   "metadata": {},
   "outputs": [],
   "source": [
    "df_confirmed = pd.read_csv(JH_DATA_URL + 'Confirmed.csv', index_col=False)\n",
    "ser = pd.Series(df_confirmed.index.tolist()).astype(str)\n",
    "df_confirmed['Province/State'].fillna(ser + df_confirmed['Country/Region'],inplace=True)\n",
    "df_confirmed['type'] = 'Confirmed'\n",
    "\n",
    "df_deaths = pd.read_csv(JH_DATA_URL + 'Deaths.csv', index_col=False)\n",
    "ser = pd.Series(df_deaths.index.tolist()).astype(str)\n",
    "df_deaths['Province/State'].fillna(ser + df_deaths['Country/Region'],inplace=True)\n",
    "df_deaths['type'] = 'Deaths'\n",
    "        \n",
    "df_recovered = pd.read_csv(JH_DATA_URL + 'Recovered.csv', index_col=False)\n",
    "ser = pd.Series(df_recovered.index.tolist()).astype(str)\n",
    "df_recovered['Province/State'].fillna(ser + df_recovered['Country/Region'],inplace=True)\n",
    "df_recovered['type'] = 'Recovered'        \n",
    "        \n",
    "ProvState = df_confirmed['Province/State']\n",
    "CountryRegion = df_confirmed['Country/Region']"
   ]
  },
  {
   "cell_type": "code",
   "execution_count": 5,
   "metadata": {},
   "outputs": [
    {
     "name": "stdout",
     "output_type": "stream",
     "text": [
      "404\n",
      "(404, 55)\n",
      "(404, 55)\n",
      "(404, 55)\n"
     ]
    }
   ],
   "source": [
    "WorldCities = pd.read_csv(CITIES_URL, index_col=False)\n",
    "places = ProvState.tolist()\n",
    "\n",
    "print(len(places))\n",
    "print(df_confirmed.shape)\n",
    "print(df_deaths.shape)\n",
    "print(df_recovered.shape)"
   ]
  },
  {
   "cell_type": "code",
   "execution_count": 6,
   "metadata": {},
   "outputs": [],
   "source": [
    "\n",
    "popsizes = []\n",
    "for place in places:\n",
    "    popsize = 0\n",
    "    p_ls = ['Taiwan', 'San Diego County', 'Humboldt County', 'Sacramento County']\n",
    "    s_ls = [23545963, 3095313, 132646, 1418788]\n",
    "        \n",
    "    if place in p_ls:\n",
    "        i = p_ls.index(place)\n",
    "        popsize = s_ls[i]\n",
    "        \n",
    "    else:\n",
    "        try:\n",
    "            pattern = re.compile(r'\\w\\,')\n",
    "            if pattern.findall(place):\n",
    "                place = ','.join(place.split(',')[:-1])    \n",
    "    \n",
    "            subdf = WorldCities[WorldCities.isin([place]).any(1)]\n",
    "            popsize = sum(subdf['population'])\n",
    "        except:\n",
    "            pass\n",
    "    popsizes.append(popsize)\n",
    "    \n",
    "df_confirmed['population size'] = list(popsizes)\n",
    "df_recovered['population size'] = list(popsizes)\n",
    "df_deaths['population size'] = list(popsizes)"
   ]
  },
  {
   "cell_type": "code",
   "execution_count": 7,
   "metadata": {},
   "outputs": [
    {
     "name": "stdout",
     "output_type": "stream",
     "text": [
      "['type', 'population size', 'Province/State', 'Country/Region', 'Lat', 'Long', '1/22/20', '1/23/20', '1/24/20', '1/25/20', '1/26/20', '1/27/20', '1/28/20', '1/29/20', '1/30/20', '1/31/20', '2/1/20', '2/2/20', '2/3/20', '2/4/20', '2/5/20', '2/6/20', '2/7/20', '2/8/20', '2/9/20', '2/10/20', '2/11/20', '2/12/20', '2/13/20', '2/14/20', '2/15/20', '2/16/20', '2/17/20', '2/18/20', '2/19/20', '2/20/20', '2/21/20', '2/22/20', '2/23/20', '2/24/20', '2/25/20', '2/26/20', '2/27/20', '2/28/20', '2/29/20', '3/1/20', '3/2/20', '3/3/20', '3/4/20', '3/5/20', '3/6/20', '3/7/20', '3/8/20', '3/9/20', '3/10/20', '3/11/20']\n"
     ]
    }
   ],
   "source": [
    "df = pd.concat([df_confirmed, df_deaths, df_recovered])\n",
    "\n",
    "#df['city'] = [0]*df.shape[0]\n",
    "#df['county'] = [0]*df.shape[0]\n",
    "col1 = df.pop('type')\n",
    "col2 = df.pop('population size')\n",
    "#col3 = df.pop('county')\n",
    "df.insert(0, 'type', col1)\n",
    "df.insert(1, 'population size', col2)\n",
    "#df.insert(2, 'county', col3)\n",
    "print(list(df))"
   ]
  },
  {
   "cell_type": "code",
   "execution_count": 8,
   "metadata": {},
   "outputs": [
    {
     "name": "stdout",
     "output_type": "stream",
     "text": [
      "(1212, 56)\n"
     ]
    }
   ],
   "source": [
    "print(df.shape)"
   ]
  },
  {
   "cell_type": "code",
   "execution_count": 9,
   "metadata": {},
   "outputs": [],
   "source": [
    "yi = list(df)\n",
    "dates = yi[6:]"
   ]
  },
  {
   "cell_type": "code",
   "execution_count": 10,
   "metadata": {},
   "outputs": [
    {
     "name": "stdout",
     "output_type": "stream",
     "text": [
      "['1/22/20', '1/23/20', '1/24/20', '1/25/20', '1/26/20', '1/27/20', '1/28/20', '1/29/20', '1/30/20', '1/31/20', '2/1/20', '2/2/20', '2/3/20', '2/4/20', '2/5/20', '2/6/20', '2/7/20', '2/8/20', '2/9/20', '2/10/20', '2/11/20', '2/12/20', '2/13/20', '2/14/20', '2/15/20', '2/16/20', '2/17/20', '2/18/20', '2/19/20', '2/20/20', '2/21/20', '2/22/20', '2/23/20', '2/24/20', '2/25/20', '2/26/20', '2/27/20', '2/28/20', '2/29/20', '3/1/20', '3/2/20', '3/3/20', '3/4/20', '3/5/20', '3/6/20', '3/7/20', '3/8/20', '3/9/20', '3/10/20', '3/11/20']\n"
     ]
    }
   ],
   "source": [
    "print(list(dates))"
   ]
  },
  {
   "cell_type": "code",
   "execution_count": 11,
   "metadata": {},
   "outputs": [],
   "source": [
    "df_Italia = pd.read_csv(Italia_DATA_URL, sep='\\,', error_bad_lines=False)\n",
    "#print(list(df_confirmed_Italia))\n",
    "#print(df_confirmed_Italia.shape)\n",
    "#print(list(df))"
   ]
  },
  {
   "cell_type": "code",
   "execution_count": 12,
   "metadata": {},
   "outputs": [],
   "source": [
    "#df_Milan = df_confirmed_Italia[df_confirmed_Italia['denominazione_provincia'] == 'Milano']\n",
    "\n",
    "#print(list(df_Milan))\n",
    "#print(df_Milan.iloc[0])\n",
    "dates = df_Italia['data'].tolist()\n",
    "#print(dates)\n",
    "\n",
    "try:\n",
    "    df_Italia['data'] = df_Italia['data'].map(lambda x: x.rstrip(u\"18:0\"))\n",
    "except:\n",
    "    pass\n",
    "try:\n",
    "    df_Italia['data'] = df_Italia['data'].map(lambda x: x.rstrip(u\"17:0\"))\n",
    "except:\n",
    "    pass\n",
    "\n",
    "df_Italia['data'] = pd.to_datetime(df_Italia['data'])\n",
    "df_Italia['data'] = df_Italia['data'].dt.strftime('%m/%d/%Y')\n",
    "#df_Milan['data'] = df_Milan['data'].dt.date\n",
    "\n",
    "try:\n",
    "    df_Italia['data'] = df_Italia['data'].map(lambda x: x.rstrip('0'))\n",
    "    df_Italia['data'] = df_Italia['data'].map(lambda x: x.rstrip('2'))\n",
    "    df_Italia['data'] = df_Italia['data'].map(lambda x: x.lstrip('0'))\n",
    "except:\n",
    "    pass\n",
    "\n",
    "#print(df_Italia['data'])\n",
    "#print(df_Italia['totale_casi'])"
   ]
  },
  {
   "cell_type": "code",
   "execution_count": 13,
   "metadata": {},
   "outputs": [
    {
     "data": {
      "text/markdown": [
       "|    | data    | stato   |   codice_regione | denominazione_regione   |   codice_provincia | denominazione_provincia              | sigla_provincia   |     lat |    long |   totale_casi |\n",
       "|---:|:--------|:--------|-----------------:|:------------------------|-------------------:|:-------------------------------------|:------------------|--------:|--------:|--------------:|\n",
       "|  0 | 2/24/20 | ITA     |               13 | Abruzzo                 |                 69 | Chieti                               | CH                | 42.351  | 14.1675 |             0 |\n",
       "|  1 | 2/24/20 | ITA     |               13 | Abruzzo                 |                 66 | L'Aquila                             | AQ                | 42.3512 | 13.3984 |             0 |\n",
       "|  2 | 2/24/20 | ITA     |               13 | Abruzzo                 |                 68 | Pescara                              | PE                | 42.4646 | 14.2136 |             0 |\n",
       "|  3 | 2/24/20 | ITA     |               13 | Abruzzo                 |                 67 | Teramo                               | TE                | 42.6589 | 13.7044 |             0 |\n",
       "|  4 | 2/24/20 | ITA     |               13 | Abruzzo                 |                979 | In fase di definizione/aggiornamento | nan               |  0      |  0      |             0 |\n",
       "|  5 | 2/24/20 | ITA     |               17 | Basilicata              |                 77 | Matera                               | MT                | 40.6675 | 16.5979 |             0 |\n",
       "|  6 | 2/24/20 | ITA     |               17 | Basilicata              |                 76 | Potenza                              | PZ                | 40.6395 | 15.8051 |             0 |\n",
       "|  7 | 2/24/20 | ITA     |               17 | Basilicata              |                980 | In fase di definizione/aggiornamento | nan               |  0      |  0      |             0 |\n",
       "|  8 | 2/24/20 | ITA     |                4 | P.A. Bolzano            |                 21 | Bolzano                              | BZ                | 46.4993 | 11.3566 |             0 |\n",
       "|  9 | 2/24/20 | ITA     |                4 | P.A. Bolzano            |                981 | In fase di definizione/aggiornamento | nan               |  0      |  0      |             0 |"
      ],
      "text/plain": [
       "<IPython.core.display.Markdown object>"
      ]
     },
     "metadata": {},
     "output_type": "display_data"
    }
   ],
   "source": [
    "# Merge Italia and JH dataframes\n",
    "\n",
    "df_ItaliaT = df_Italia.T\n",
    "#print(list(df_MilanT))\n",
    "#df_Milan.insert(0, 'type', col1)\n",
    "#df_Milan.insert(1, 'population size', col2)\n",
    "\n",
    "tab = tabulate(df_Italia.head(n=10), tablefmt=\"pipe\", headers=\"keys\")\n",
    "display.display(display.Markdown(tab))\n"
   ]
  },
  {
   "cell_type": "code",
   "execution_count": 14,
   "metadata": {},
   "outputs": [
    {
     "name": "stdout",
     "output_type": "stream",
     "text": [
      "['type', 'population size', 'Province/State', 'Country/Region', 'Lat', 'Long', '1/22/20', '1/23/20', '1/24/20', '1/25/20', '1/26/20', '1/27/20', '1/28/20', '1/29/20', '1/30/20', '1/31/20', '2/1/20', '2/2/20', '2/3/20', '2/4/20', '2/5/20', '2/6/20', '2/7/20', '2/8/20', '2/9/20', '2/10/20', '2/11/20', '2/12/20', '2/13/20', '2/14/20', '2/15/20', '2/16/20', '2/17/20', '2/18/20', '2/19/20', '2/20/20', '2/21/20', '2/22/20', '2/23/20', '2/24/20', '2/25/20', '2/26/20', '2/27/20', '2/28/20', '2/29/20', '3/1/20', '3/2/20', '3/3/20', '3/4/20', '3/5/20', '3/6/20', '3/7/20', '3/8/20', '3/9/20', '3/10/20', '3/11/20']\n"
     ]
    }
   ],
   "source": [
    "Italia_df  = pd.DataFrame(columns = list(df))\n",
    "print(list(Italia_df))\n",
    "\n",
    "Italia_df['type'] = 'Confirmed'\n",
    "Italia_df['population size'] = 0"
   ]
  },
  {
   "cell_type": "code",
   "execution_count": 15,
   "metadata": {},
   "outputs": [
    {
     "name": "stdout",
     "output_type": "stream",
     "text": [
      "(2176, 10)\n"
     ]
    }
   ],
   "source": [
    "print(df_Italia.shape)"
   ]
  },
  {
   "cell_type": "code",
   "execution_count": 16,
   "metadata": {},
   "outputs": [
    {
     "data": {
      "text/markdown": [
       "|    |   type |   population size | Province/State                       | Country/Region   |     Lat |    Long |   1/22/20 |   1/23/20 |   1/24/20 |   1/25/20 |   1/26/20 |   1/27/20 |   1/28/20 |   1/29/20 |   1/30/20 |   1/31/20 |   2/1/20 |   2/2/20 |   2/3/20 |   2/4/20 |   2/5/20 |   2/6/20 |   2/7/20 |   2/8/20 |   2/9/20 |   2/10/20 |   2/11/20 |   2/12/20 |   2/13/20 |   2/14/20 |   2/15/20 |   2/16/20 |   2/17/20 |   2/18/20 |   2/19/20 |   2/20/20 |   2/21/20 |   2/22/20 |   2/23/20 |   2/24/20 |   2/25/20 |   2/26/20 |   2/27/20 |   2/28/20 |   2/29/20 |   3/1/20 |   3/2/20 |   3/3/20 |   3/4/20 |   3/5/20 |   3/6/20 |   3/7/20 |   3/8/20 |   3/9/20 |   3/10/20 |   3/11/20 |\n",
       "|---:|-------:|------------------:|:-------------------------------------|:-----------------|--------:|--------:|----------:|----------:|----------:|----------:|----------:|----------:|----------:|----------:|----------:|----------:|---------:|---------:|---------:|---------:|---------:|---------:|---------:|---------:|---------:|----------:|----------:|----------:|----------:|----------:|----------:|----------:|----------:|----------:|----------:|----------:|----------:|----------:|----------:|----------:|----------:|----------:|----------:|----------:|----------:|---------:|---------:|---------:|---------:|---------:|---------:|---------:|---------:|---------:|----------:|----------:|\n",
       "|  0 |      0 |                 0 | Chieti                               | Italia           | 42.351  | 14.1675 |         0 |         0 |         0 |         0 |         0 |         0 |         0 |         0 |         0 |         0 |        0 |        0 |        0 |        0 |        0 |        0 |        0 |        0 |        0 |         0 |         0 |         0 |         0 |         0 |         0 |         0 |         0 |         0 |         0 |         0 |         0 |         0 |         0 |         0 |         0 |         0 |         0 |         0 |         0 |        0 |        0 |        0 |        0 |        0 |        0 |        0 |        0 |        0 |         0 |         0 |\n",
       "|  1 |      0 |                 0 | L'Aquila                             | Italia           | 42.3512 | 13.3984 |         0 |         0 |         0 |         0 |         0 |         0 |         0 |         0 |         0 |         0 |        0 |        0 |        0 |        0 |        0 |        0 |        0 |        0 |        0 |         0 |         0 |         0 |         0 |         0 |         0 |         0 |         0 |         0 |         0 |         0 |         0 |         0 |         0 |         0 |         0 |         0 |         0 |         0 |         0 |        0 |        0 |        0 |        0 |        0 |        0 |        0 |        0 |        0 |         0 |         0 |\n",
       "|  2 |      0 |                 0 | Pescara                              | Italia           | 42.4646 | 14.2136 |         0 |         0 |         0 |         0 |         0 |         0 |         0 |         0 |         0 |         0 |        0 |        0 |        0 |        0 |        0 |        0 |        0 |        0 |        0 |         0 |         0 |         0 |         0 |         0 |         0 |         0 |         0 |         0 |         0 |         0 |         0 |         0 |         0 |         0 |         0 |         0 |         0 |         0 |         0 |        0 |        0 |        0 |        0 |        0 |        0 |        0 |        0 |        0 |         0 |         0 |\n",
       "|  3 |      0 |                 0 | Teramo                               | Italia           | 42.6589 | 13.7044 |         0 |         0 |         0 |         0 |         0 |         0 |         0 |         0 |         0 |         0 |        0 |        0 |        0 |        0 |        0 |        0 |        0 |        0 |        0 |         0 |         0 |         0 |         0 |         0 |         0 |         0 |         0 |         0 |         0 |         0 |         0 |         0 |         0 |         0 |         0 |         0 |         0 |         0 |         0 |        0 |        0 |        0 |        0 |        0 |        0 |        0 |        0 |        0 |         0 |         0 |\n",
       "|  4 |      0 |                 0 | In fase di definizione/aggiornamento | Italia           |  0      |  0      |         0 |         0 |         0 |         0 |         0 |         0 |         0 |         0 |         0 |         0 |        0 |        0 |        0 |        0 |        0 |        0 |        0 |        0 |        0 |         0 |         0 |         0 |         0 |         0 |         0 |         0 |         0 |         0 |         0 |         0 |         0 |         0 |         0 |         0 |         0 |         0 |         0 |         0 |         0 |        0 |        0 |        0 |        0 |        0 |        0 |        0 |        0 |        0 |         0 |         0 |\n",
       "|  5 |      0 |                 0 | Matera                               | Italia           | 40.6675 | 16.5979 |         0 |         0 |         0 |         0 |         0 |         0 |         0 |         0 |         0 |         0 |        0 |        0 |        0 |        0 |        0 |        0 |        0 |        0 |        0 |         0 |         0 |         0 |         0 |         0 |         0 |         0 |         0 |         0 |         0 |         0 |         0 |         0 |         0 |         0 |         0 |         0 |         0 |         0 |         0 |        0 |        0 |        0 |        0 |        0 |        0 |        0 |        0 |        0 |         0 |         0 |\n",
       "|  6 |      0 |                 0 | Potenza                              | Italia           | 40.6395 | 15.8051 |         0 |         0 |         0 |         0 |         0 |         0 |         0 |         0 |         0 |         0 |        0 |        0 |        0 |        0 |        0 |        0 |        0 |        0 |        0 |         0 |         0 |         0 |         0 |         0 |         0 |         0 |         0 |         0 |         0 |         0 |         0 |         0 |         0 |         0 |         0 |         0 |         0 |         0 |         0 |        0 |        0 |        0 |        0 |        0 |        0 |        0 |        0 |        0 |         0 |         0 |\n",
       "|  8 |      0 |                 0 | Bolzano                              | Italia           | 46.4993 | 11.3566 |         0 |         0 |         0 |         0 |         0 |         0 |         0 |         0 |         0 |         0 |        0 |        0 |        0 |        0 |        0 |        0 |        0 |        0 |        0 |         0 |         0 |         0 |         0 |         0 |         0 |         0 |         0 |         0 |         0 |         0 |         0 |         0 |         0 |         0 |         0 |         0 |         0 |         0 |         0 |        0 |        0 |        0 |        0 |        0 |        0 |        0 |        0 |        0 |         0 |         0 |\n",
       "| 10 |      0 |                 0 | Catanzaro                            | Italia           | 38.906  | 16.5944 |         0 |         0 |         0 |         0 |         0 |         0 |         0 |         0 |         0 |         0 |        0 |        0 |        0 |        0 |        0 |        0 |        0 |        0 |        0 |         0 |         0 |         0 |         0 |         0 |         0 |         0 |         0 |         0 |         0 |         0 |         0 |         0 |         0 |         0 |         0 |         0 |         0 |         0 |         0 |        0 |        0 |        0 |        0 |        0 |        0 |        0 |        0 |        0 |         0 |         0 |\n",
       "| 11 |      0 |                 0 | Cosenza                              | Italia           | 39.2931 | 16.2561 |         0 |         0 |         0 |         0 |         0 |         0 |         0 |         0 |         0 |         0 |        0 |        0 |        0 |        0 |        0 |        0 |        0 |        0 |        0 |         0 |         0 |         0 |         0 |         0 |         0 |         0 |         0 |         0 |         0 |         0 |         0 |         0 |         0 |         0 |         0 |         0 |         0 |         0 |         0 |        0 |        0 |        0 |        0 |        0 |        0 |        0 |        0 |        0 |         0 |         0 |"
      ],
      "text/plain": [
       "<IPython.core.display.Markdown object>"
      ]
     },
     "metadata": {},
     "output_type": "display_data"
    }
   ],
   "source": [
    "df_temp = df_Italia.filter(items=['denominazione_provincia', 'lat', 'long'])\n",
    "df_temp.drop_duplicates(inplace=True)\n",
    "\n",
    "Italia_df['Province/State'] = df_temp['denominazione_provincia']\n",
    "Italia_df['Country/Region'] = 'Italia'\n",
    "Italia_df['Lat'] = df_temp['lat']\n",
    "Italia_df['Long'] = df_temp['long']\n",
    "Italia_df = Italia_df.fillna(0)\n",
    "\n",
    "tab = tabulate(Italia_df.head(n=10), tablefmt=\"pipe\", headers=\"keys\")\n",
    "display.display(display.Markdown(tab))\n"
   ]
  },
  {
   "cell_type": "code",
   "execution_count": 17,
   "metadata": {},
   "outputs": [],
   "source": [
    "df_Italia = df_Italia.fillna(0)\n",
    "for index, row in Italia_df.iterrows():\n",
    "    p = row['Province/State']\n",
    "    df_temp = df_Italia[df_Italia['denominazione_provincia'] == p] \n",
    "    dates = df_temp['data'].tolist()\n",
    "    \n",
    "    cases = df_temp['totale_casi'].tolist()\n",
    "    \n",
    "    for i, date in enumerate(dates):\n",
    "        Italia_df.set_value(index, date, int(cases[i]))\n",
    "\n",
    "#print(np.max(Italia_df['3/11/20']))"
   ]
  },
  {
   "cell_type": "code",
   "execution_count": 18,
   "metadata": {},
   "outputs": [
    {
     "data": {
      "text/markdown": [
       "|    |   type |   population size | Province/State                       | Country/Region   |     Lat |    Long |   1/22/20 |   1/23/20 |   1/24/20 |   1/25/20 |   1/26/20 |   1/27/20 |   1/28/20 |   1/29/20 |   1/30/20 |   1/31/20 |   2/1/20 |   2/2/20 |   2/3/20 |   2/4/20 |   2/5/20 |   2/6/20 |   2/7/20 |   2/8/20 |   2/9/20 |   2/10/20 |   2/11/20 |   2/12/20 |   2/13/20 |   2/14/20 |   2/15/20 |   2/16/20 |   2/17/20 |   2/18/20 |   2/19/20 |   2/20/20 |   2/21/20 |   2/22/20 |   2/23/20 |   2/24/20 |   2/25/20 |   2/26/20 |   2/27/20 |   2/28/20 |   2/29/20 |   3/1/20 |   3/2/20 |   3/3/20 |   3/4/20 |   3/5/20 |   3/6/20 |   3/7/20 |   3/8/20 |   3/9/20 |   3/10/20 |   3/11/20 |   3/01/20 |   3/02/20 |   3/03/20 |   3/04/20 |   3/05/20 |   3/06/20 |   3/07/20 |   3/08/20 |   3/09/20 |\n",
       "|---:|-------:|------------------:|:-------------------------------------|:-----------------|--------:|--------:|----------:|----------:|----------:|----------:|----------:|----------:|----------:|----------:|----------:|----------:|---------:|---------:|---------:|---------:|---------:|---------:|---------:|---------:|---------:|----------:|----------:|----------:|----------:|----------:|----------:|----------:|----------:|----------:|----------:|----------:|----------:|----------:|----------:|----------:|----------:|----------:|----------:|----------:|----------:|---------:|---------:|---------:|---------:|---------:|---------:|---------:|---------:|---------:|----------:|----------:|----------:|----------:|----------:|----------:|----------:|----------:|----------:|----------:|----------:|\n",
       "|  0 |      0 |                 0 | Chieti                               | Italia           | 42.351  | 14.1675 |         0 |         0 |         0 |         0 |         0 |         0 |         0 |         0 |         0 |         0 |        0 |        0 |        0 |        0 |        0 |        0 |        0 |        0 |        0 |         0 |         0 |         0 |         0 |         0 |         0 |         0 |         0 |         0 |         0 |         0 |         0 |         0 |         0 |         0 |         0 |         0 |         0 |         0 |         0 |        0 |        0 |        0 |        0 |        0 |        0 |        0 |        0 |        0 |         9 |         9 |         0 |         0 |         0 |         0 |         2 |         3 |         4 |         4 |         7 |\n",
       "|  1 |      0 |                 0 | L'Aquila                             | Italia           | 42.3512 | 13.3984 |         0 |         0 |         0 |         0 |         0 |         0 |         0 |         0 |         0 |         0 |        0 |        0 |        0 |        0 |        0 |        0 |        0 |        0 |        0 |         0 |         0 |         0 |         0 |         0 |         0 |         0 |         0 |         0 |         0 |         0 |         0 |         0 |         0 |         0 |         0 |         0 |         0 |         0 |         0 |        0 |        0 |        0 |        0 |        0 |        0 |        0 |        0 |        0 |         6 |         6 |         0 |         0 |         1 |         1 |         1 |         1 |         1 |         1 |         5 |\n",
       "|  2 |      0 |                 0 | Pescara                              | Italia           | 42.4646 | 14.2136 |         0 |         0 |         0 |         0 |         0 |         0 |         0 |         0 |         0 |         0 |        0 |        0 |        0 |        0 |        0 |        0 |        0 |        0 |        0 |         0 |         0 |         0 |         0 |         0 |         0 |         0 |         0 |         0 |         0 |         0 |         0 |         0 |         0 |         0 |         0 |         0 |         0 |         0 |         0 |        0 |        0 |        0 |        0 |        0 |        0 |        0 |        0 |        0 |        18 |        18 |         0 |         0 |         1 |         1 |         1 |         1 |         2 |         8 |        14 |\n",
       "|  3 |      0 |                 0 | Teramo                               | Italia           | 42.6589 | 13.7044 |         0 |         0 |         0 |         0 |         0 |         0 |         0 |         0 |         0 |         0 |        0 |        0 |        0 |        0 |        0 |        0 |        0 |        0 |        0 |         0 |         0 |         0 |         0 |         0 |         0 |         0 |         0 |         0 |         0 |         0 |         0 |         0 |         0 |         0 |         0 |         0 |         1 |         1 |         2 |        0 |        0 |        0 |        0 |        0 |        0 |        0 |        0 |        0 |         5 |         5 |         5 |         5 |         3 |         3 |         4 |         4 |         4 |         4 |         4 |\n",
       "|  4 |      0 |                 0 | In fase di definizione/aggiornamento | Italia           |  0      |  0      |         0 |         0 |         0 |         0 |         0 |         0 |         0 |         0 |         0 |         0 |        0 |        0 |        0 |        0 |        0 |        0 |        0 |        0 |        0 |         0 |         0 |         0 |         0 |         0 |         0 |         0 |         0 |         0 |         0 |         0 |         0 |         0 |         0 |         0 |         5 |        21 |        13 |        42 |        53 |        0 |        0 |        0 |        0 |        0 |        0 |        0 |        0 |        0 |        42 |        40 |        86 |         4 |         5 |        11 |        14 |        24 |        12 |        22 |        43 |\n",
       "|  5 |      0 |                 0 | Matera                               | Italia           | 40.6675 | 16.5979 |         0 |         0 |         0 |         0 |         0 |         0 |         0 |         0 |         0 |         0 |        0 |        0 |        0 |        0 |        0 |        0 |        0 |        0 |        0 |         0 |         0 |         0 |         0 |         0 |         0 |         0 |         0 |         0 |         0 |         0 |         0 |         0 |         0 |         0 |         0 |         0 |         0 |         0 |         0 |        0 |        0 |        0 |        0 |        0 |        0 |        0 |        0 |        0 |         3 |         3 |         0 |         0 |         0 |         0 |         0 |         1 |         1 |         2 |         3 |\n",
       "|  6 |      0 |                 0 | Potenza                              | Italia           | 40.6395 | 15.8051 |         0 |         0 |         0 |         0 |         0 |         0 |         0 |         0 |         0 |         0 |        0 |        0 |        0 |        0 |        0 |        0 |        0 |        0 |        0 |         0 |         0 |         0 |         0 |         0 |         0 |         0 |         0 |         0 |         0 |         0 |         0 |         0 |         0 |         0 |         0 |         0 |         0 |         0 |         0 |        0 |        0 |        0 |        0 |        0 |        0 |        0 |        0 |        0 |         4 |         5 |         0 |         0 |         1 |         1 |         1 |         2 |         2 |         2 |         2 |\n",
       "|  8 |      0 |                 0 | Bolzano                              | Italia           | 46.4993 | 11.3566 |         0 |         0 |         0 |         0 |         0 |         0 |         0 |         0 |         0 |         0 |        0 |        0 |        0 |        0 |        0 |        0 |        0 |        0 |        0 |         0 |         0 |         0 |         0 |         0 |         0 |         0 |         0 |         0 |         0 |         0 |         0 |         0 |         0 |         0 |         1 |         1 |         1 |         1 |         1 |        0 |        0 |        0 |        0 |        0 |        0 |        0 |        0 |        0 |        38 |        75 |         1 |         1 |         1 |         1 |         1 |         4 |         9 |         9 |         9 |\n",
       "| 10 |      0 |                 0 | Catanzaro                            | Italia           | 38.906  | 16.5944 |         0 |         0 |         0 |         0 |         0 |         0 |         0 |         0 |         0 |         0 |        0 |        0 |        0 |        0 |        0 |        0 |        0 |        0 |        0 |         0 |         0 |         0 |         0 |         0 |         0 |         0 |         0 |         0 |         0 |         0 |         0 |         0 |         0 |         0 |         0 |         0 |         0 |         0 |         0 |        0 |        0 |        0 |        0 |        0 |        0 |        0 |        0 |        0 |         3 |         2 |         0 |         0 |         0 |         0 |         1 |         2 |         2 |         2 |         3 |\n",
       "| 11 |      0 |                 0 | Cosenza                              | Italia           | 39.2931 | 16.2561 |         0 |         0 |         0 |         0 |         0 |         0 |         0 |         0 |         0 |         0 |        0 |        0 |        0 |        0 |        0 |        0 |        0 |        0 |        0 |         0 |         0 |         0 |         0 |         0 |         0 |         0 |         0 |         0 |         0 |         0 |         0 |         0 |         0 |         0 |         0 |         0 |         0 |         1 |         1 |        0 |        0 |        0 |        0 |        0 |        0 |        0 |        0 |        0 |         6 |         5 |         1 |         1 |         1 |         1 |         1 |         1 |         1 |         1 |         4 |"
      ],
      "text/plain": [
       "<IPython.core.display.Markdown object>"
      ]
     },
     "metadata": {},
     "output_type": "display_data"
    }
   ],
   "source": [
    "tab = tabulate(Italia_df.head(n=10), tablefmt=\"pipe\", headers=\"keys\")\n",
    "display.display(display.Markdown(tab))"
   ]
  },
  {
   "cell_type": "code",
   "execution_count": 19,
   "metadata": {
    "scrolled": false
   },
   "outputs": [
    {
     "data": {
      "text/markdown": [
       "|    | type      |   population size | Province/State                       | Country/Region   |     Lat |    Long |   1/22/20 |   1/23/20 |   1/24/20 |   1/25/20 |   1/26/20 |   1/27/20 |   1/28/20 |   1/29/20 |   1/30/20 |   1/31/20 |   2/1/20 |   2/2/20 |   2/3/20 |   2/4/20 |   2/5/20 |   2/6/20 |   2/7/20 |   2/8/20 |   2/9/20 |   2/10/20 |   2/11/20 |   2/12/20 |   2/13/20 |   2/14/20 |   2/15/20 |   2/16/20 |   2/17/20 |   2/18/20 |   2/19/20 |   2/20/20 |   2/21/20 |   2/22/20 |   2/23/20 |   2/24/20 |   2/25/20 |   2/26/20 |   2/27/20 |   2/28/20 |   2/29/20 |   3/1/20 |   3/2/20 |   3/3/20 |   3/4/20 |   3/5/20 |   3/6/20 |   3/7/20 |   3/8/20 |   3/9/20 |   3/10/20 |   3/11/20 |\n",
       "|---:|:----------|------------------:|:-------------------------------------|:-----------------|--------:|--------:|----------:|----------:|----------:|----------:|----------:|----------:|----------:|----------:|----------:|----------:|---------:|---------:|---------:|---------:|---------:|---------:|---------:|---------:|---------:|----------:|----------:|----------:|----------:|----------:|----------:|----------:|----------:|----------:|----------:|----------:|----------:|----------:|----------:|----------:|----------:|----------:|----------:|----------:|----------:|---------:|---------:|---------:|---------:|---------:|---------:|---------:|---------:|---------:|----------:|----------:|\n",
       "|  0 | Confirmed |                 0 | Chieti                               | Italia           | 42.351  | 14.1675 |         0 |         0 |         0 |         0 |         0 |         0 |         0 |         0 |         0 |         0 |        0 |        0 |        0 |        0 |        0 |        0 |        0 |        0 |        0 |         0 |         0 |         0 |         0 |         0 |         0 |         0 |         0 |         0 |         0 |         0 |         0 |         0 |         0 |         0 |         0 |         0 |         0 |         0 |         0 |        0 |        0 |        0 |        0 |        0 |        0 |        0 |        0 |        0 |         9 |         9 |\n",
       "|  1 | Confirmed |                 0 | L'Aquila                             | Italia           | 42.3512 | 13.3984 |         0 |         0 |         0 |         0 |         0 |         0 |         0 |         0 |         0 |         0 |        0 |        0 |        0 |        0 |        0 |        0 |        0 |        0 |        0 |         0 |         0 |         0 |         0 |         0 |         0 |         0 |         0 |         0 |         0 |         0 |         0 |         0 |         0 |         0 |         0 |         0 |         0 |         0 |         0 |        0 |        0 |        0 |        0 |        0 |        0 |        0 |        0 |        0 |         6 |         6 |\n",
       "|  2 | Confirmed |                 0 | Pescara                              | Italia           | 42.4646 | 14.2136 |         0 |         0 |         0 |         0 |         0 |         0 |         0 |         0 |         0 |         0 |        0 |        0 |        0 |        0 |        0 |        0 |        0 |        0 |        0 |         0 |         0 |         0 |         0 |         0 |         0 |         0 |         0 |         0 |         0 |         0 |         0 |         0 |         0 |         0 |         0 |         0 |         0 |         0 |         0 |        0 |        0 |        0 |        0 |        0 |        0 |        0 |        0 |        0 |        18 |        18 |\n",
       "|  3 | Confirmed |                 0 | Teramo                               | Italia           | 42.6589 | 13.7044 |         0 |         0 |         0 |         0 |         0 |         0 |         0 |         0 |         0 |         0 |        0 |        0 |        0 |        0 |        0 |        0 |        0 |        0 |        0 |         0 |         0 |         0 |         0 |         0 |         0 |         0 |         0 |         0 |         0 |         0 |         0 |         0 |         0 |         0 |         0 |         0 |         1 |         1 |         2 |        0 |        0 |        0 |        0 |        0 |        0 |        0 |        0 |        0 |         5 |         5 |\n",
       "|  4 | Confirmed |                 0 | In fase di definizione/aggiornamento | Italia           |  0      |  0      |         0 |         0 |         0 |         0 |         0 |         0 |         0 |         0 |         0 |         0 |        0 |        0 |        0 |        0 |        0 |        0 |        0 |        0 |        0 |         0 |         0 |         0 |         0 |         0 |         0 |         0 |         0 |         0 |         0 |         0 |         0 |         0 |         0 |         0 |         5 |        21 |        13 |        42 |        53 |        0 |        0 |        0 |        0 |        0 |        0 |        0 |        0 |        0 |        42 |        40 |\n",
       "|  5 | Confirmed |                 0 | Matera                               | Italia           | 40.6675 | 16.5979 |         0 |         0 |         0 |         0 |         0 |         0 |         0 |         0 |         0 |         0 |        0 |        0 |        0 |        0 |        0 |        0 |        0 |        0 |        0 |         0 |         0 |         0 |         0 |         0 |         0 |         0 |         0 |         0 |         0 |         0 |         0 |         0 |         0 |         0 |         0 |         0 |         0 |         0 |         0 |        0 |        0 |        0 |        0 |        0 |        0 |        0 |        0 |        0 |         3 |         3 |\n",
       "|  6 | Confirmed |                 0 | Potenza                              | Italia           | 40.6395 | 15.8051 |         0 |         0 |         0 |         0 |         0 |         0 |         0 |         0 |         0 |         0 |        0 |        0 |        0 |        0 |        0 |        0 |        0 |        0 |        0 |         0 |         0 |         0 |         0 |         0 |         0 |         0 |         0 |         0 |         0 |         0 |         0 |         0 |         0 |         0 |         0 |         0 |         0 |         0 |         0 |        0 |        0 |        0 |        0 |        0 |        0 |        0 |        0 |        0 |         4 |         5 |\n",
       "|  8 | Confirmed |                 0 | Bolzano                              | Italia           | 46.4993 | 11.3566 |         0 |         0 |         0 |         0 |         0 |         0 |         0 |         0 |         0 |         0 |        0 |        0 |        0 |        0 |        0 |        0 |        0 |        0 |        0 |         0 |         0 |         0 |         0 |         0 |         0 |         0 |         0 |         0 |         0 |         0 |         0 |         0 |         0 |         0 |         1 |         1 |         1 |         1 |         1 |        0 |        0 |        0 |        0 |        0 |        0 |        0 |        0 |        0 |        38 |        75 |\n",
       "| 10 | Confirmed |                 0 | Catanzaro                            | Italia           | 38.906  | 16.5944 |         0 |         0 |         0 |         0 |         0 |         0 |         0 |         0 |         0 |         0 |        0 |        0 |        0 |        0 |        0 |        0 |        0 |        0 |        0 |         0 |         0 |         0 |         0 |         0 |         0 |         0 |         0 |         0 |         0 |         0 |         0 |         0 |         0 |         0 |         0 |         0 |         0 |         0 |         0 |        0 |        0 |        0 |        0 |        0 |        0 |        0 |        0 |        0 |         3 |         2 |\n",
       "| 11 | Confirmed |                 0 | Cosenza                              | Italia           | 39.2931 | 16.2561 |         0 |         0 |         0 |         0 |         0 |         0 |         0 |         0 |         0 |         0 |        0 |        0 |        0 |        0 |        0 |        0 |        0 |        0 |        0 |         0 |         0 |         0 |         0 |         0 |         0 |         0 |         0 |         0 |         0 |         0 |         0 |         0 |         0 |         0 |         0 |         0 |         0 |         1 |         1 |        0 |        0 |        0 |        0 |        0 |        0 |        0 |        0 |        0 |         6 |         5 |"
      ],
      "text/plain": [
       "<IPython.core.display.Markdown object>"
      ]
     },
     "metadata": {},
     "output_type": "display_data"
    }
   ],
   "source": [
    "Italia_df = Italia_df[df.columns]\n",
    "\n",
    "Italia_df['type'] = ['Confirmed']*Italia_df.shape[0]\n",
    "\n",
    "tab = tabulate(Italia_df.head(n=10), tablefmt=\"pipe\", headers=\"keys\")\n",
    "display.display(display.Markdown(tab))\n",
    "\n",
    "#print(list(Italia_df))\n",
    "#print(Italia_df['3/10/20'].tolist())"
   ]
  },
  {
   "cell_type": "code",
   "execution_count": 20,
   "metadata": {},
   "outputs": [
    {
     "data": {
      "text/markdown": [
       "|    | type      |   population size | Province/State   | Country/Region   |      Lat |     Long |   1/22/20 |   1/23/20 |   1/24/20 |   1/25/20 |   1/26/20 |   1/27/20 |   1/28/20 |   1/29/20 |   1/30/20 |   1/31/20 |   2/1/20 |   2/2/20 |   2/3/20 |   2/4/20 |   2/5/20 |   2/6/20 |   2/7/20 |   2/8/20 |   2/9/20 |   2/10/20 |   2/11/20 |   2/12/20 |   2/13/20 |   2/14/20 |   2/15/20 |   2/16/20 |   2/17/20 |   2/18/20 |   2/19/20 |   2/20/20 |   2/21/20 |   2/22/20 |   2/23/20 |   2/24/20 |   2/25/20 |   2/26/20 |   2/27/20 |   2/28/20 |   2/29/20 |   3/1/20 |   3/2/20 |   3/3/20 |   3/4/20 |   3/5/20 |   3/6/20 |   3/7/20 |   3/8/20 |   3/9/20 |   3/10/20 |   3/11/20 |\n",
       "|---:|:----------|------------------:|:-----------------|:-----------------|---------:|---------:|----------:|----------:|----------:|----------:|----------:|----------:|----------:|----------:|----------:|----------:|---------:|---------:|---------:|---------:|---------:|---------:|---------:|---------:|---------:|----------:|----------:|----------:|----------:|----------:|----------:|----------:|----------:|----------:|----------:|----------:|----------:|----------:|----------:|----------:|----------:|----------:|----------:|----------:|----------:|---------:|---------:|---------:|---------:|---------:|---------:|---------:|---------:|---------:|----------:|----------:|\n",
       "|  0 | Confirmed |       0           | 0Thailand        | Thailand         |  15      |  101     |         2 |         3 |         5 |         7 |         8 |         8 |        14 |        14 |        14 |        19 |       19 |       19 |       19 |       25 |       25 |       25 |       25 |       32 |       32 |        32 |        33 |        33 |        33 |        33 |        33 |        34 |        35 |        35 |        35 |        35 |        35 |        35 |        35 |        35 |        37 |        40 |        40 |        41 |        42 |       42 |       43 |       43 |       43 |       47 |       48 |       50 |       50 |       50 |        53 |        59 |\n",
       "|  1 | Confirmed |       0           | 1Japan           | Japan            |  36      |  138     |         2 |         1 |         2 |         2 |         4 |         4 |         7 |         7 |        11 |        15 |       20 |       20 |       20 |       22 |       22 |       45 |       25 |       25 |       26 |        26 |        26 |        28 |        28 |        29 |        43 |        59 |        66 |        74 |        84 |        94 |       105 |       122 |       147 |       159 |       170 |       189 |       214 |       228 |       241 |      256 |      274 |      293 |      331 |      360 |      420 |      461 |      502 |      511 |       581 |       639 |\n",
       "|  2 | Confirmed |       0           | 2Singapore       | Singapore        |   1.2833 |  103.833 |         0 |         1 |         3 |         3 |         4 |         5 |         7 |         7 |        10 |        13 |       16 |       18 |       18 |       24 |       28 |       28 |       30 |       33 |       40 |        45 |        47 |        50 |        58 |        67 |        72 |        75 |        77 |        81 |        84 |        84 |        85 |        85 |        89 |        89 |        91 |        93 |        93 |        93 |       102 |      106 |      108 |      110 |      110 |      117 |      130 |      138 |      150 |      150 |       160 |       178 |\n",
       "|  3 | Confirmed |       0           | 3Nepal           | Nepal            |  28.1667 |   84.25  |         0 |         0 |         0 |         1 |         1 |         1 |         1 |         1 |         1 |         1 |        1 |        1 |        1 |        1 |        1 |        1 |        1 |        1 |        1 |         1 |         1 |         1 |         1 |         1 |         1 |         1 |         1 |         1 |         1 |         1 |         1 |         1 |         1 |         1 |         1 |         1 |         1 |         1 |         1 |        1 |        1 |        1 |        1 |        1 |        1 |        1 |        1 |        1 |         1 |         1 |\n",
       "|  4 | Confirmed |       0           | 4Malaysia        | Malaysia         |   2.5    |  112.5   |         0 |         0 |         0 |         3 |         4 |         4 |         4 |         7 |         8 |         8 |        8 |        8 |        8 |       10 |       12 |       12 |       12 |       16 |       16 |        18 |        18 |        18 |        19 |        19 |        22 |        22 |        22 |        22 |        22 |        22 |        22 |        22 |        22 |        22 |        22 |        22 |        23 |        23 |        25 |       29 |       29 |       36 |       50 |       50 |       83 |       93 |       99 |      117 |       129 |       149 |\n",
       "|  5 | Confirmed |       3.42642e+06 | British Columbia | Canada           |  49.2827 | -123.121 |         0 |         0 |         0 |         0 |         0 |         0 |         1 |         1 |         1 |         1 |        1 |        1 |        1 |        1 |        2 |        2 |        4 |        4 |        4 |         4 |         4 |         4 |         4 |         4 |         4 |         4 |         5 |         5 |         5 |         5 |         6 |         6 |         6 |         6 |         7 |         7 |         7 |         7 |         8 |        8 |        8 |        9 |       12 |       13 |       21 |       21 |       27 |       32 |        32 |        39 |\n",
       "|  6 | Confirmed |       7.02054e+06 | New South Wales  | Australia        | -33.8688 |  151.209 |         0 |         0 |         0 |         0 |         3 |         4 |         4 |         4 |         4 |         4 |        4 |        4 |        4 |        4 |        4 |        4 |        4 |        4 |        4 |         4 |         4 |         4 |         4 |         4 |         4 |         4 |         4 |         4 |         4 |         4 |         4 |         4 |         4 |         4 |         4 |         4 |         4 |         4 |         4 |        6 |        6 |       13 |       22 |       22 |       26 |       28 |       38 |       48 |        55 |        65 |\n",
       "|  7 | Confirmed |     nan           | Victoria         | Australia        | -37.8136 |  144.963 |         0 |         0 |         0 |         0 |         1 |         1 |         1 |         1 |         2 |         3 |        4 |        4 |        4 |        4 |        4 |        4 |        4 |        4 |        4 |         4 |         4 |         4 |         4 |         4 |         4 |         4 |         4 |         4 |         4 |         4 |         4 |         4 |         4 |         4 |         4 |         4 |         4 |         4 |         7 |        7 |        9 |        9 |       10 |       10 |       10 |       11 |       11 |       15 |        18 |        21 |\n",
       "|  8 | Confirmed |       3.32551e+06 | Queensland       | Australia        | -28.0167 |  153.4   |         0 |         0 |         0 |         0 |         0 |         0 |         0 |         1 |         3 |         2 |        3 |        2 |        2 |        3 |        3 |        4 |        5 |        5 |        5 |         5 |         5 |         5 |         5 |         5 |         5 |         5 |         5 |         5 |         5 |         5 |         5 |         5 |         5 |         5 |         5 |         5 |         5 |         5 |         9 |        9 |        9 |       11 |       11 |       13 |       13 |       13 |       15 |       15 |        18 |        20 |\n",
       "|  9 | Confirmed |       0           | 9Cambodia        | Cambodia         |  11.55   |  104.917 |         0 |         0 |         0 |         0 |         0 |         1 |         1 |         1 |         1 |         1 |        1 |        1 |        1 |        1 |        1 |        1 |        1 |        1 |        1 |         1 |         1 |         1 |         1 |         1 |         1 |         1 |         1 |         1 |         1 |         1 |         1 |         1 |         1 |         1 |         1 |         1 |         1 |         1 |         1 |        1 |        1 |        1 |        1 |        1 |        1 |        1 |        2 |        2 |         2 |         3 |"
      ],
      "text/plain": [
       "<IPython.core.display.Markdown object>"
      ]
     },
     "metadata": {},
     "output_type": "display_data"
    }
   ],
   "source": [
    "tab = tabulate(df.head(n=10), tablefmt=\"pipe\", headers=\"keys\")\n",
    "display.display(display.Markdown(tab))"
   ]
  },
  {
   "cell_type": "code",
   "execution_count": 21,
   "metadata": {},
   "outputs": [
    {
     "name": "stdout",
     "output_type": "stream",
     "text": [
      "(1212, 56)\n",
      "(108, 56)\n"
     ]
    }
   ],
   "source": [
    "print(df.shape)\n",
    "print(Italia_df.shape)\n",
    "#print(df_Italia.shape)"
   ]
  },
  {
   "cell_type": "code",
   "execution_count": 22,
   "metadata": {},
   "outputs": [],
   "source": [
    "dfMain = pd.concat([Italia_df, df], ignore_index=True)"
   ]
  },
  {
   "cell_type": "code",
   "execution_count": 23,
   "metadata": {},
   "outputs": [
    {
     "data": {
      "text/markdown": [
       "|     | type      |   population size | Province/State                       | Country/Region         |      Lat |       Long |   1/22/20 |   1/23/20 |   1/24/20 |   1/25/20 |   1/26/20 |   1/27/20 |   1/28/20 |   1/29/20 |   1/30/20 |   1/31/20 |   2/1/20 |   2/2/20 |   2/3/20 |   2/4/20 |   2/5/20 |   2/6/20 |   2/7/20 |   2/8/20 |   2/9/20 |   2/10/20 |   2/11/20 |   2/12/20 |   2/13/20 |   2/14/20 |   2/15/20 |   2/16/20 |   2/17/20 |   2/18/20 |   2/19/20 |   2/20/20 |   2/21/20 |   2/22/20 |   2/23/20 |   2/24/20 |   2/25/20 |   2/26/20 |   2/27/20 |   2/28/20 |   2/29/20 |   3/1/20 |   3/2/20 |   3/3/20 |   3/4/20 |   3/5/20 |   3/6/20 |   3/7/20 |   3/8/20 |   3/9/20 |   3/10/20 |   3/11/20 |\n",
       "|----:|:----------|------------------:|:-------------------------------------|:-----------------------|---------:|-----------:|----------:|----------:|----------:|----------:|----------:|----------:|----------:|----------:|----------:|----------:|---------:|---------:|---------:|---------:|---------:|---------:|---------:|---------:|---------:|----------:|----------:|----------:|----------:|----------:|----------:|----------:|----------:|----------:|----------:|----------:|----------:|----------:|----------:|----------:|----------:|----------:|----------:|----------:|----------:|---------:|---------:|---------:|---------:|---------:|---------:|---------:|---------:|---------:|----------:|----------:|\n",
       "|   0 | Confirmed |       0           | Chieti                               | Italia                 |  42.351  |   14.1675  |         0 |         0 |         0 |         0 |         0 |         0 |         0 |         0 |         0 |         0 |        0 |        0 |        0 |        0 |        0 |        0 |        0 |        0 |        0 |         0 |         0 |         0 |         0 |         0 |         0 |         0 |         0 |         0 |         0 |         0 |         0 |         0 |         0 |         0 |         0 |         0 |         0 |         0 |         0 |        0 |        0 |        0 |        0 |        0 |        0 |        0 |        0 |        0 |         9 |         9 |\n",
       "|   1 | Confirmed |       0           | L'Aquila                             | Italia                 |  42.3512 |   13.3984  |         0 |         0 |         0 |         0 |         0 |         0 |         0 |         0 |         0 |         0 |        0 |        0 |        0 |        0 |        0 |        0 |        0 |        0 |        0 |         0 |         0 |         0 |         0 |         0 |         0 |         0 |         0 |         0 |         0 |         0 |         0 |         0 |         0 |         0 |         0 |         0 |         0 |         0 |         0 |        0 |        0 |        0 |        0 |        0 |        0 |        0 |        0 |        0 |         6 |         6 |\n",
       "|   2 | Confirmed |       0           | Pescara                              | Italia                 |  42.4646 |   14.2136  |         0 |         0 |         0 |         0 |         0 |         0 |         0 |         0 |         0 |         0 |        0 |        0 |        0 |        0 |        0 |        0 |        0 |        0 |        0 |         0 |         0 |         0 |         0 |         0 |         0 |         0 |         0 |         0 |         0 |         0 |         0 |         0 |         0 |         0 |         0 |         0 |         0 |         0 |         0 |        0 |        0 |        0 |        0 |        0 |        0 |        0 |        0 |        0 |        18 |        18 |\n",
       "|   3 | Confirmed |       0           | Teramo                               | Italia                 |  42.6589 |   13.7044  |         0 |         0 |         0 |         0 |         0 |         0 |         0 |         0 |         0 |         0 |        0 |        0 |        0 |        0 |        0 |        0 |        0 |        0 |        0 |         0 |         0 |         0 |         0 |         0 |         0 |         0 |         0 |         0 |         0 |         0 |         0 |         0 |         0 |         0 |         0 |         0 |         1 |         1 |         2 |        0 |        0 |        0 |        0 |        0 |        0 |        0 |        0 |        0 |         5 |         5 |\n",
       "|   4 | Confirmed |       0           | In fase di definizione/aggiornamento | Italia                 |   0      |    0       |         0 |         0 |         0 |         0 |         0 |         0 |         0 |         0 |         0 |         0 |        0 |        0 |        0 |        0 |        0 |        0 |        0 |        0 |        0 |         0 |         0 |         0 |         0 |         0 |         0 |         0 |         0 |         0 |         0 |         0 |         0 |         0 |         0 |         0 |         5 |        21 |        13 |        42 |        53 |        0 |        0 |        0 |        0 |        0 |        0 |        0 |        0 |        0 |        42 |        40 |\n",
       "|   5 | Confirmed |       0           | Matera                               | Italia                 |  40.6675 |   16.5979  |         0 |         0 |         0 |         0 |         0 |         0 |         0 |         0 |         0 |         0 |        0 |        0 |        0 |        0 |        0 |        0 |        0 |        0 |        0 |         0 |         0 |         0 |         0 |         0 |         0 |         0 |         0 |         0 |         0 |         0 |         0 |         0 |         0 |         0 |         0 |         0 |         0 |         0 |         0 |        0 |        0 |        0 |        0 |        0 |        0 |        0 |        0 |        0 |         3 |         3 |\n",
       "|   6 | Confirmed |       0           | Potenza                              | Italia                 |  40.6395 |   15.8051  |         0 |         0 |         0 |         0 |         0 |         0 |         0 |         0 |         0 |         0 |        0 |        0 |        0 |        0 |        0 |        0 |        0 |        0 |        0 |         0 |         0 |         0 |         0 |         0 |         0 |         0 |         0 |         0 |         0 |         0 |         0 |         0 |         0 |         0 |         0 |         0 |         0 |         0 |         0 |        0 |        0 |        0 |        0 |        0 |        0 |        0 |        0 |        0 |         4 |         5 |\n",
       "|   7 | Confirmed |       0           | Bolzano                              | Italia                 |  46.4993 |   11.3566  |         0 |         0 |         0 |         0 |         0 |         0 |         0 |         0 |         0 |         0 |        0 |        0 |        0 |        0 |        0 |        0 |        0 |        0 |        0 |         0 |         0 |         0 |         0 |         0 |         0 |         0 |         0 |         0 |         0 |         0 |         0 |         0 |         0 |         0 |         1 |         1 |         1 |         1 |         1 |        0 |        0 |        0 |        0 |        0 |        0 |        0 |        0 |        0 |        38 |        75 |\n",
       "|   8 | Confirmed |       0           | Catanzaro                            | Italia                 |  38.906  |   16.5944  |         0 |         0 |         0 |         0 |         0 |         0 |         0 |         0 |         0 |         0 |        0 |        0 |        0 |        0 |        0 |        0 |        0 |        0 |        0 |         0 |         0 |         0 |         0 |         0 |         0 |         0 |         0 |         0 |         0 |         0 |         0 |         0 |         0 |         0 |         0 |         0 |         0 |         0 |         0 |        0 |        0 |        0 |        0 |        0 |        0 |        0 |        0 |        0 |         3 |         2 |\n",
       "|   9 | Confirmed |       0           | Cosenza                              | Italia                 |  39.2931 |   16.2561  |         0 |         0 |         0 |         0 |         0 |         0 |         0 |         0 |         0 |         0 |        0 |        0 |        0 |        0 |        0 |        0 |        0 |        0 |        0 |         0 |         0 |         0 |         0 |         0 |         0 |         0 |         0 |         0 |         0 |         0 |         0 |         0 |         0 |         0 |         0 |         0 |         0 |         1 |         1 |        0 |        0 |        0 |        0 |        0 |        0 |        0 |        0 |        0 |         6 |         5 |\n",
       "|  10 | Confirmed |       0           | Crotone                              | Italia                 |  39.0804 |   17.1254  |         0 |         0 |         0 |         0 |         0 |         0 |         0 |         0 |         0 |         0 |        0 |        0 |        0 |        0 |        0 |        0 |        0 |        0 |        0 |         0 |         0 |         0 |         0 |         0 |         0 |         0 |         0 |         0 |         0 |         0 |         0 |         0 |         0 |         0 |         0 |         0 |         0 |         0 |         0 |        0 |        0 |        0 |        0 |        0 |        0 |        0 |        0 |        0 |         0 |         1 |\n",
       "|  11 | Confirmed |       0           | Reggio di Calabria                   | Italia                 |  38.1092 |   15.6435  |         0 |         0 |         0 |         0 |         0 |         0 |         0 |         0 |         0 |         0 |        0 |        0 |        0 |        0 |        0 |        0 |        0 |        0 |        0 |         0 |         0 |         0 |         0 |         0 |         0 |         0 |         0 |         0 |         0 |         0 |         0 |         0 |         0 |         0 |         0 |         0 |         0 |         0 |         0 |        0 |        0 |        0 |        0 |        0 |        0 |        0 |        0 |        0 |         3 |         6 |\n",
       "|  12 | Confirmed |       0           | Vibo Valentia                        | Italia                 |  38.6762 |   16.1016  |         0 |         0 |         0 |         0 |         0 |         0 |         0 |         0 |         0 |         0 |        0 |        0 |        0 |        0 |        0 |        0 |        0 |        0 |        0 |         0 |         0 |         0 |         0 |         0 |         0 |         0 |         0 |         0 |         0 |         0 |         0 |         0 |         0 |         0 |         0 |         0 |         0 |         0 |         0 |        0 |        0 |        0 |        0 |        0 |        0 |        0 |        0 |        0 |         1 |         5 |\n",
       "|  13 | Confirmed |       0           | Avellino                             | Italia                 |  40.914  |   14.7953  |         0 |         0 |         0 |         0 |         0 |         0 |         0 |         0 |         0 |         0 |        0 |        0 |        0 |        0 |        0 |        0 |        0 |        0 |        0 |         0 |         0 |         0 |         0 |         0 |         0 |         0 |         0 |         0 |         0 |         0 |         0 |         0 |         0 |         0 |         0 |         0 |         0 |         0 |         0 |        0 |        0 |        0 |        0 |        0 |        0 |        0 |        0 |        0 |         3 |         7 |\n",
       "|  14 | Confirmed |       0           | Benevento                            | Italia                 |  41.1297 |   14.7815  |         0 |         0 |         0 |         0 |         0 |         0 |         0 |         0 |         0 |         0 |        0 |        0 |        0 |        0 |        0 |        0 |        0 |        0 |        0 |         0 |         0 |         0 |         0 |         0 |         0 |         0 |         0 |         0 |         0 |         0 |         0 |         0 |         0 |         0 |         0 |         0 |         0 |         0 |         0 |        0 |        0 |        0 |        0 |        0 |        0 |        0 |        0 |        0 |         4 |         2 |\n",
       "|  15 | Confirmed |       0           | Caserta                              | Italia                 |  41.0747 |   14.3324  |         0 |         0 |         0 |         0 |         0 |         0 |         0 |         0 |         0 |         0 |        0 |        0 |        0 |        0 |        0 |        0 |        0 |        0 |        0 |         0 |         0 |         0 |         0 |         0 |         0 |         0 |         0 |         0 |         0 |         0 |         0 |         0 |         0 |         0 |         0 |         0 |         0 |         0 |         0 |        0 |        0 |        0 |        0 |        0 |        0 |        0 |        0 |        0 |        34 |        26 |\n",
       "|  16 | Confirmed |       0           | Napoli                               | Italia                 |  40.8396 |   14.2508  |         0 |         0 |         0 |         0 |         0 |         0 |         0 |         0 |         0 |         0 |        0 |        0 |        0 |        0 |        0 |        0 |        0 |        0 |        0 |         0 |         0 |         0 |         0 |         0 |         0 |         0 |         0 |         0 |         0 |         0 |         0 |         0 |         0 |         0 |         0 |         0 |         3 |         4 |        13 |        0 |        0 |        0 |        0 |        0 |        0 |        0 |        0 |        0 |        61 |        96 |\n",
       "|  17 | Confirmed |       0           | Salerno                              | Italia                 |  40.6782 |   14.7594  |         0 |         0 |         0 |         0 |         0 |         0 |         0 |         0 |         0 |         0 |        0 |        0 |        0 |        0 |        0 |        0 |        0 |        0 |        0 |         0 |         0 |         0 |         0 |         0 |         0 |         0 |         0 |         0 |         0 |         0 |         0 |         0 |         0 |         0 |         0 |         0 |         0 |         0 |         0 |        0 |        0 |        0 |        0 |        0 |        0 |        0 |        0 |        0 |        17 |        17 |\n",
       "|  18 | Confirmed |       0           | Bologna                              | Italia                 |  44.4944 |   11.3417  |         0 |         0 |         0 |         0 |         0 |         0 |         0 |         0 |         0 |         0 |        0 |        0 |        0 |        0 |        0 |        0 |        0 |        0 |        0 |         0 |         0 |         0 |         0 |         0 |         0 |         0 |         0 |         0 |         0 |         0 |         0 |         0 |         0 |         0 |         0 |         0 |         0 |         0 |         2 |        0 |        0 |        0 |        0 |        0 |        0 |        0 |        0 |        0 |        86 |       108 |\n",
       "|  19 | Confirmed |       0           | Ferrara                              | Italia                 |  44.836  |   11.6187  |         0 |         0 |         0 |         0 |         0 |         0 |         0 |         0 |         0 |         0 |        0 |        0 |        0 |        0 |        0 |        0 |        0 |        0 |        0 |         0 |         0 |         0 |         0 |         0 |         0 |         0 |         0 |         0 |         0 |         0 |         0 |         0 |         0 |         0 |         0 |         0 |         0 |         0 |         0 |        0 |        0 |        0 |        0 |        0 |        0 |        0 |        0 |        0 |         8 |        12 |\n",
       "|  20 | Confirmed |       0           | Forlì-Cesena                         | Italia                 |  44.2227 |   12.0407  |         0 |         0 |         0 |         0 |         0 |         0 |         0 |         0 |         0 |         0 |        0 |        0 |        0 |        0 |        0 |        0 |        0 |        0 |        0 |         0 |         0 |         0 |         0 |         0 |         0 |         0 |         0 |         0 |         0 |         0 |         0 |         0 |         0 |         0 |         0 |         0 |         0 |         0 |         0 |        0 |        0 |        0 |        0 |        0 |        0 |        0 |        0 |        0 |        20 |        24 |\n",
       "|  21 | Confirmed |       0           | Modena                               | Italia                 |  44.646  |   10.9262  |         0 |         0 |         0 |         0 |         0 |         0 |         0 |         0 |         0 |         0 |        0 |        0 |        0 |        0 |        0 |        0 |        0 |        0 |        0 |         0 |         0 |         0 |         0 |         0 |         0 |         0 |         0 |         0 |         0 |         0 |         0 |         0 |         0 |         0 |         3 |         8 |        18 |        18 |        22 |        0 |        0 |        0 |        0 |        0 |        0 |        0 |        0 |        0 |       127 |       163 |\n",
       "|  22 | Confirmed |       0           | Parma                                | Italia                 |  44.8011 |   10.3283  |         0 |         0 |         0 |         0 |         0 |         0 |         0 |         0 |         0 |         0 |        0 |        0 |        0 |        0 |        0 |        0 |        0 |        0 |        0 |         0 |         0 |         0 |         0 |         0 |         0 |         0 |         0 |         0 |         0 |         0 |         0 |         0 |         0 |         0 |         4 |         8 |        10 |        27 |        35 |        0 |        0 |        0 |        0 |        0 |        0 |        0 |        0 |        0 |       325 |       378 |\n",
       "|  23 | Confirmed |       0           | Piacenza                             | Italia                 |  45.0519 |    9.69263 |         0 |         0 |         0 |         0 |         0 |         0 |         0 |         0 |         0 |         0 |        0 |        0 |        0 |        0 |        0 |        0 |        0 |        0 |        0 |         0 |         0 |         0 |         0 |         0 |         0 |         0 |         0 |         0 |         0 |         0 |         0 |         0 |         0 |         0 |        18 |        28 |        63 |        89 |       138 |        0 |        0 |        0 |        0 |        0 |        0 |        0 |        0 |        0 |       633 |       664 |\n",
       "|  24 | Confirmed |       0           | Ravenna                              | Italia                 |  44.4172 |   12.1991  |         0 |         0 |         0 |         0 |         0 |         0 |         0 |         0 |         0 |         0 |        0 |        0 |        0 |        0 |        0 |        0 |        0 |        0 |        0 |         0 |         0 |         0 |         0 |         0 |         0 |         0 |         0 |         0 |         0 |         0 |         0 |         0 |         0 |         0 |         0 |         0 |         0 |         1 |         1 |        0 |        0 |        0 |        0 |        0 |        0 |        0 |        0 |        0 |        24 |        31 |\n",
       "|  25 | Confirmed |       0           | Reggio nell'Emilia                   | Italia                 |  44.6974 |   10.6301  |         0 |         0 |         0 |         0 |         0 |         0 |         0 |         0 |         0 |         0 |        0 |        0 |        0 |        0 |        0 |        0 |        0 |        0 |        0 |         0 |         0 |         0 |         0 |         0 |         0 |         0 |         0 |         0 |         0 |         0 |         0 |         0 |         0 |         0 |         0 |         0 |         0 |         1 |         4 |        0 |        0 |        0 |        0 |        0 |        0 |        0 |        0 |        0 |       104 |       114 |\n",
       "|  26 | Confirmed |       0           | Rimini                               | Italia                 |  44.0609 |   12.5656  |         0 |         0 |         0 |         0 |         0 |         0 |         0 |         0 |         0 |         0 |        0 |        0 |        0 |        0 |        0 |        0 |        0 |        0 |        0 |         0 |         0 |         0 |         0 |         0 |         0 |         0 |         0 |         0 |         0 |         0 |         0 |         0 |         0 |         0 |         1 |         3 |         6 |         9 |        15 |        0 |        0 |        0 |        0 |        0 |        0 |        0 |        0 |        0 |       206 |       245 |\n",
       "|  27 | Confirmed |       0           | Gorizia                              | Italia                 |  45.9415 |   13.6221  |         0 |         0 |         0 |         0 |         0 |         0 |         0 |         0 |         0 |         0 |        0 |        0 |        0 |        0 |        0 |        0 |        0 |        0 |        0 |         0 |         0 |         0 |         0 |         0 |         0 |         0 |         0 |         0 |         0 |         0 |         0 |         0 |         0 |         0 |         0 |         0 |         0 |         0 |         0 |        0 |        0 |        0 |        0 |        0 |        0 |        0 |        0 |        0 |        10 |        12 |\n",
       "|  28 | Confirmed |       0           | Pordenone                            | Italia                 |  45.9544 |   12.66    |         0 |         0 |         0 |         0 |         0 |         0 |         0 |         0 |         0 |         0 |        0 |        0 |        0 |        0 |        0 |        0 |        0 |        0 |        0 |         0 |         0 |         0 |         0 |         0 |         0 |         0 |         0 |         0 |         0 |         0 |         0 |         0 |         0 |         0 |         0 |         0 |         0 |         0 |         0 |        0 |        0 |        0 |        0 |        0 |        0 |        0 |        0 |        0 |         4 |        13 |\n",
       "|  29 | Confirmed |       0           | Trieste                              | Italia                 |  45.6494 |   13.7681  |         0 |         0 |         0 |         0 |         0 |         0 |         0 |         0 |         0 |         0 |        0 |        0 |        0 |        0 |        0 |        0 |        0 |        0 |        0 |         0 |         0 |         0 |         0 |         0 |         0 |         0 |         0 |         0 |         0 |         0 |         0 |         0 |         0 |         0 |         0 |         0 |         0 |         0 |         0 |        0 |        0 |        0 |        0 |        0 |        0 |        0 |        0 |        0 |        53 |        57 |\n",
       "|  30 | Confirmed |       0           | Udine                                | Italia                 |  46.0626 |   13.2348  |         0 |         0 |         0 |         0 |         0 |         0 |         0 |         0 |         0 |         0 |        0 |        0 |        0 |        0 |        0 |        0 |        0 |        0 |        0 |         0 |         0 |         0 |         0 |         0 |         0 |         0 |         0 |         0 |         0 |         0 |         0 |         0 |         0 |         0 |         0 |         0 |         0 |         0 |         0 |        0 |        0 |        0 |        0 |        0 |        0 |        0 |        0 |        0 |        26 |        44 |\n",
       "|  31 | Confirmed |       0           | Frosinone                            | Italia                 |  41.6396 |   13.3512  |         0 |         0 |         0 |         0 |         0 |         0 |         0 |         0 |         0 |         0 |        0 |        0 |        0 |        0 |        0 |        0 |        0 |        0 |        0 |         0 |         0 |         0 |         0 |         0 |         0 |         0 |         0 |         0 |         0 |         0 |         0 |         0 |         0 |         0 |         0 |         0 |         0 |         0 |         0 |        0 |        0 |        0 |        0 |        0 |        0 |        0 |        0 |        0 |         6 |         8 |\n",
       "|  32 | Confirmed |       0           | Latina                               | Italia                 |  41.4676 |   12.9037  |         0 |         0 |         0 |         0 |         0 |         0 |         0 |         0 |         0 |         0 |        0 |        0 |        0 |        0 |        0 |        0 |        0 |        0 |        0 |         0 |         0 |         0 |         0 |         0 |         0 |         0 |         0 |         0 |         0 |         0 |         0 |         0 |         0 |         0 |         0 |         0 |         0 |         0 |         0 |        0 |        0 |        0 |        0 |        0 |        0 |        0 |        0 |        0 |        11 |        11 |\n",
       "|  33 | Confirmed |       0           | Rieti                                | Italia                 |  42.4049 |   12.8621  |         0 |         0 |         0 |         0 |         0 |         0 |         0 |         0 |         0 |         0 |        0 |        0 |        0 |        0 |        0 |        0 |        0 |        0 |        0 |         0 |         0 |         0 |         0 |         0 |         0 |         0 |         0 |         0 |         0 |         0 |         0 |         0 |         0 |         0 |         0 |         0 |         0 |         0 |         0 |        0 |        0 |        0 |        0 |        0 |        0 |        0 |        0 |        0 |         1 |         3 |\n",
       "|  34 | Confirmed |       0           | Roma                                 | Italia                 |  41.8928 |   12.4837  |         0 |         0 |         0 |         0 |         0 |         0 |         0 |         0 |         0 |         0 |        0 |        0 |        0 |        0 |        0 |        0 |        0 |        0 |        0 |         0 |         0 |         0 |         0 |         0 |         0 |         0 |         0 |         0 |         0 |         0 |         0 |         0 |         0 |         0 |         3 |         3 |         3 |         3 |         6 |        0 |        0 |        0 |        0 |        0 |        0 |        0 |        0 |        0 |        76 |        99 |\n",
       "|  35 | Confirmed |       0           | Viterbo                              | Italia                 |  42.4174 |   12.1047  |         0 |         0 |         0 |         0 |         0 |         0 |         0 |         0 |         0 |         0 |        0 |        0 |        0 |        0 |        0 |        0 |        0 |        0 |        0 |         0 |         0 |         0 |         0 |         0 |         0 |         0 |         0 |         0 |         0 |         0 |         0 |         0 |         0 |         0 |         0 |         0 |         0 |         0 |         0 |        0 |        0 |        0 |        0 |        0 |        0 |        0 |        0 |        0 |         5 |        10 |\n",
       "|  36 | Confirmed |       0           | Genova                               | Italia                 |  44.4115 |    8.9327  |         0 |         0 |         0 |         0 |         0 |         0 |         0 |         0 |         0 |         0 |        0 |        0 |        0 |        0 |        0 |        0 |        0 |        0 |        0 |         0 |         0 |         0 |         0 |         0 |         0 |         0 |         0 |         0 |         0 |         0 |         0 |         0 |         0 |         0 |         0 |         0 |         0 |         0 |         0 |        0 |        0 |        0 |        0 |        0 |        0 |        0 |        0 |        0 |        42 |        63 |\n",
       "|  37 | Confirmed |       0           | Imperia                              | Italia                 |  43.8857 |    8.02785 |         0 |         0 |         0 |         0 |         0 |         0 |         0 |         0 |         0 |         0 |        0 |        0 |        0 |        0 |        0 |        0 |        0 |        0 |        0 |         0 |         0 |         0 |         0 |         0 |         0 |         0 |         0 |         0 |         0 |         0 |         0 |         0 |         0 |         0 |         0 |         0 |         0 |         0 |         0 |        0 |        0 |        0 |        0 |        0 |        0 |        0 |        0 |        0 |        15 |        18 |\n",
       "|  38 | Confirmed |       0           | La Spezia                            | Italia                 |  44.107  |    9.82819 |         0 |         0 |         0 |         0 |         0 |         0 |         0 |         0 |         0 |         0 |        0 |        0 |        0 |        0 |        0 |        0 |        0 |        0 |        0 |         0 |         0 |         0 |         0 |         0 |         0 |         0 |         0 |         0 |         0 |         0 |         0 |         0 |         0 |         0 |         0 |         1 |         1 |         1 |         1 |        0 |        0 |        0 |        0 |        0 |        0 |        0 |        0 |        0 |        15 |        19 |\n",
       "|  39 | Confirmed |       0           | Savona                               | Italia                 |  44.3075 |    8.48111 |         0 |         0 |         0 |         0 |         0 |         0 |         0 |         0 |         0 |         0 |        0 |        0 |        0 |        0 |        0 |        0 |        0 |        0 |        0 |         0 |         0 |         0 |         0 |         0 |         0 |         0 |         0 |         0 |         0 |         0 |         0 |         0 |         0 |         0 |         1 |        10 |        18 |        18 |        41 |        0 |        0 |        0 |        0 |        0 |        0 |        0 |        0 |        0 |        38 |        42 |\n",
       "|  40 | Confirmed |       0           | Bergamo                              | Italia                 |  45.6944 |    9.66842 |         0 |         0 |         0 |         0 |         0 |         0 |         0 |         0 |         0 |         0 |        0 |        0 |        0 |        0 |        0 |        0 |        0 |        0 |        0 |         0 |         0 |         0 |         0 |         0 |         0 |         0 |         0 |         0 |         0 |         0 |         0 |         0 |         0 |         0 |        18 |        20 |        72 |       103 |       110 |        0 |        0 |        0 |        0 |        0 |        0 |        0 |        0 |        0 |      1472 |      1815 |\n",
       "|  41 | Confirmed |       0           | Brescia                              | Italia                 |  45.5399 |   10.2191  |         0 |         0 |         0 |         0 |         0 |         0 |         0 |         0 |         0 |         0 |        0 |        0 |        0 |        0 |        0 |        0 |        0 |        0 |        0 |         0 |         0 |         0 |         0 |         0 |         0 |         0 |         0 |         0 |         0 |         0 |         0 |         0 |         0 |         0 |         0 |         2 |        10 |        13 |        14 |        0 |        0 |        0 |        0 |        0 |        0 |        0 |        0 |        0 |       790 |      1351 |\n",
       "|  42 | Confirmed |       0           | Como                                 | Italia                 |  45.81   |    9.08516 |         0 |         0 |         0 |         0 |         0 |         0 |         0 |         0 |         0 |         0 |        0 |        0 |        0 |        0 |        0 |        0 |        0 |        0 |        0 |         0 |         0 |         0 |         0 |         0 |         0 |         0 |         0 |         0 |         0 |         0 |         0 |         0 |         0 |         0 |         0 |         0 |         0 |         0 |         1 |        0 |        0 |        0 |        0 |        0 |        0 |        0 |        0 |        0 |        46 |        77 |\n",
       "|  43 | Confirmed |       0           | Cremona                              | Italia                 |  45.1334 |   10.0242  |         0 |         0 |         0 |         0 |         0 |         0 |         0 |         0 |         0 |         0 |        0 |        0 |        0 |        0 |        0 |        0 |        0 |        0 |        0 |         0 |         0 |         0 |         0 |         0 |         0 |         0 |         0 |         0 |         0 |         0 |         0 |         0 |         0 |         0 |        53 |        57 |        91 |       123 |       136 |        0 |        0 |        0 |        0 |        0 |        0 |        0 |        0 |        0 |       957 |      1061 |\n",
       "|  44 | Confirmed |       0           | Lecco                                | Italia                 |  45.8558 |    9.39339 |         0 |         0 |         0 |         0 |         0 |         0 |         0 |         0 |         0 |         0 |        0 |        0 |        0 |        0 |        0 |        0 |        0 |        0 |        0 |         0 |         0 |         0 |         0 |         0 |         0 |         0 |         0 |         0 |         0 |         0 |         0 |         0 |         0 |         0 |         0 |         0 |         0 |         0 |         0 |        0 |        0 |        0 |        0 |        0 |        0 |        0 |        0 |        0 |        89 |       113 |\n",
       "|  45 | Confirmed |       0           | Lodi                                 | Italia                 |  45.3144 |    9.50372 |         0 |         0 |         0 |         0 |         0 |         0 |         0 |         0 |         0 |         0 |        0 |        0 |        0 |        0 |        0 |        0 |        0 |        0 |        0 |         0 |         0 |         0 |         0 |         0 |         0 |         0 |         0 |         0 |         0 |         0 |         0 |         0 |         0 |         0 |       125 |       128 |       159 |       182 |       237 |        0 |        0 |        0 |        0 |        0 |        0 |        0 |        0 |        0 |       963 |      1035 |\n",
       "|  46 | Confirmed |       0           | Mantova                              | Italia                 |  45.1573 |   10.7928  |         0 |         0 |         0 |         0 |         0 |         0 |         0 |         0 |         0 |         0 |        0 |        0 |        0 |        0 |        0 |        0 |        0 |        0 |        0 |         0 |         0 |         0 |         0 |         0 |         0 |         0 |         0 |         0 |         0 |         0 |         0 |         0 |         0 |         0 |         0 |         0 |         0 |         0 |         1 |        0 |        0 |        0 |        0 |        0 |        0 |        0 |        0 |        0 |       119 |       137 |\n",
       "|  47 | Confirmed |       0           | Milano                               | Italia                 |  45.4668 |    9.19035 |         0 |         0 |         0 |         0 |         0 |         0 |         0 |         0 |         0 |         0 |        0 |        0 |        0 |        0 |        0 |        0 |        0 |        0 |        0 |         0 |         0 |         0 |         0 |         0 |         0 |         0 |         0 |         0 |         0 |         0 |         0 |         0 |         0 |         0 |         8 |         8 |        15 |        29 |        30 |        0 |        0 |        0 |        0 |        0 |        0 |        0 |        0 |        0 |       592 |       925 |\n",
       "|  48 | Confirmed |       0           | Monza e della Brianza                | Italia                 |  45.5844 |    9.27358 |         0 |         0 |         0 |         0 |         0 |         0 |         0 |         0 |         0 |         0 |        0 |        0 |        0 |        0 |        0 |        0 |        0 |        0 |        0 |         0 |         0 |         0 |         0 |         0 |         0 |         0 |         0 |         0 |         0 |         0 |         0 |         0 |         0 |         0 |         3 |         4 |         5 |         6 |         6 |        0 |        0 |        0 |        0 |        0 |        0 |        0 |        0 |        0 |        65 |        85 |\n",
       "|  49 | Confirmed |       0           | Pavia                                | Italia                 |  45.1851 |    9.16016 |         0 |         0 |         0 |         0 |         0 |         0 |         0 |         0 |         0 |         0 |        0 |        0 |        0 |        0 |        0 |        0 |        0 |        0 |        0 |         0 |         0 |         0 |         0 |         0 |         0 |         0 |         0 |         0 |         0 |         0 |         0 |         0 |         0 |         0 |        27 |        27 |        36 |        49 |        55 |        0 |        0 |        0 |        0 |        0 |        0 |        0 |        0 |        0 |       324 |       403 |\n",
       "|  50 | Confirmed |       0           | Sondrio                              | Italia                 |  46.171  |    9.87147 |         0 |         0 |         0 |         0 |         0 |         0 |         0 |         0 |         0 |         0 |        0 |        0 |        0 |        0 |        0 |        0 |        0 |        0 |        0 |         0 |         0 |         0 |         0 |         0 |         0 |         0 |         0 |         0 |         0 |         0 |         0 |         0 |         0 |         0 |         1 |         3 |         3 |         3 |         3 |        0 |        0 |        0 |        0 |        0 |        0 |        0 |        0 |        0 |         7 |        13 |\n",
       "|  51 | Confirmed |       0           | Varese                               | Italia                 |  45.817  |    8.82287 |         0 |         0 |         0 |         0 |         0 |         0 |         0 |         0 |         0 |         0 |        0 |        0 |        0 |        0 |        0 |        0 |        0 |        0 |        0 |         0 |         0 |         0 |         0 |         0 |         0 |         0 |         0 |         0 |         0 |         0 |         0 |         0 |         0 |         0 |         0 |         0 |         0 |         3 |         4 |        0 |        0 |        0 |        0 |        0 |        0 |        0 |        0 |        0 |        50 |        75 |\n",
       "|  52 | Confirmed |       0           | Ancona                               | Italia                 |  43.6168 |   13.5189  |         0 |         0 |         0 |         0 |         0 |         0 |         0 |         0 |         0 |         0 |        0 |        0 |        0 |        0 |        0 |        0 |        0 |        0 |        0 |         0 |         0 |         0 |         0 |         0 |         0 |         0 |         0 |         0 |         0 |         0 |         0 |         0 |         0 |         0 |         0 |         0 |         0 |         0 |         0 |        0 |        0 |        0 |        0 |        0 |        0 |        0 |        0 |        0 |        81 |       110 |\n",
       "|  53 | Confirmed |       0           | Ascoli Piceno                        | Italia                 |  42.8532 |   13.5769  |         0 |         0 |         0 |         0 |         0 |         0 |         0 |         0 |         0 |         0 |        0 |        0 |        0 |        0 |        0 |        0 |        0 |        0 |        0 |         0 |         0 |         0 |         0 |         0 |         0 |         0 |         0 |         0 |         0 |         0 |         0 |         0 |         0 |         0 |         0 |         0 |         0 |         0 |         0 |        0 |        0 |        0 |        0 |        0 |        0 |        0 |        0 |        0 |         0 |         1 |\n",
       "|  54 | Confirmed |       0           | Fermo                                | Italia                 |  43.1606 |   13.7184  |         0 |         0 |         0 |         0 |         0 |         0 |         0 |         0 |         0 |         0 |        0 |        0 |        0 |        0 |        0 |        0 |        0 |        0 |        0 |         0 |         0 |         0 |         0 |         0 |         0 |         0 |         0 |         0 |         0 |         0 |         0 |         0 |         0 |         0 |         0 |         0 |         0 |         0 |         0 |        0 |        0 |        0 |        0 |        0 |        0 |        0 |        0 |        0 |         6 |         8 |\n",
       "|  55 | Confirmed |       0           | Macerata                             | Italia                 |  43.3002 |   13.4531  |         0 |         0 |         0 |         0 |         0 |         0 |         0 |         0 |         0 |         0 |        0 |        0 |        0 |        0 |        0 |        0 |        0 |        0 |        0 |         0 |         0 |         0 |         0 |         0 |         0 |         0 |         0 |         0 |         0 |         0 |         0 |         0 |         0 |         0 |         0 |         0 |         0 |         0 |         0 |        0 |        0 |        0 |        0 |        0 |        0 |        0 |        0 |        0 |        11 |        17 |\n",
       "|  56 | Confirmed |       0           | Pesaro e Urbino                      | Italia                 |  43.9101 |   12.9135  |         0 |         0 |         0 |         0 |         0 |         0 |         0 |         0 |         0 |         0 |        0 |        0 |        0 |        0 |        0 |        0 |        0 |        0 |        0 |         0 |         0 |         0 |         0 |         0 |         0 |         0 |         0 |         0 |         0 |         0 |         0 |         0 |         0 |         0 |         0 |         1 |         3 |         6 |        11 |        0 |        0 |        0 |        0 |        0 |        0 |        0 |        0 |        0 |       296 |       342 |\n",
       "|  57 | Confirmed |       0           | Campobasso                           | Italia                 |  41.5577 |   14.6592  |         0 |         0 |         0 |         0 |         0 |         0 |         0 |         0 |         0 |         0 |        0 |        0 |        0 |        0 |        0 |        0 |        0 |        0 |        0 |         0 |         0 |         0 |         0 |         0 |         0 |         0 |         0 |         0 |         0 |         0 |         0 |         0 |         0 |         0 |         0 |         0 |         0 |         0 |         0 |        0 |        0 |        0 |        0 |        0 |        0 |        0 |        0 |        0 |        15 |        16 |\n",
       "|  58 | Confirmed |       0           | Isernia                              | Italia                 |  41.588  |   14.2258  |         0 |         0 |         0 |         0 |         0 |         0 |         0 |         0 |         0 |         0 |        0 |        0 |        0 |        0 |        0 |        0 |        0 |        0 |        0 |         0 |         0 |         0 |         0 |         0 |         0 |         0 |         0 |         0 |         0 |         0 |         0 |         0 |         0 |         0 |         0 |         0 |         0 |         0 |         0 |        0 |        0 |        0 |        0 |        0 |        0 |        0 |        0 |        0 |         0 |         0 |\n",
       "|  59 | Confirmed |       0           | Alessandria                          | Italia                 |  44.913  |    8.6154  |         0 |         0 |         0 |         0 |         0 |         0 |         0 |         0 |         0 |         0 |        0 |        0 |        0 |        0 |        0 |        0 |        0 |        0 |        0 |         0 |         0 |         0 |         0 |         0 |         0 |         0 |         0 |         0 |         0 |         0 |         0 |         0 |         0 |         0 |         0 |         0 |         0 |         0 |         0 |        0 |        0 |        0 |        0 |        0 |        0 |        0 |        0 |        0 |        65 |       105 |\n",
       "|  60 | Confirmed |       0           | Asti                                 | Italia                 |  44.8991 |    8.20414 |         0 |         0 |         0 |         0 |         0 |         0 |         0 |         0 |         0 |         0 |        0 |        0 |        0 |        0 |        0 |        0 |        0 |        0 |        0 |         0 |         0 |         0 |         0 |         0 |         0 |         0 |         0 |         0 |         0 |         0 |         0 |         0 |         0 |         0 |         0 |         0 |         0 |         0 |         0 |        0 |        0 |        0 |        0 |        0 |        0 |        0 |        0 |        0 |        58 |        68 |\n",
       "|  61 | Confirmed |       0           | Biella                               | Italia                 |  45.5665 |    8.05408 |         0 |         0 |         0 |         0 |         0 |         0 |         0 |         0 |         0 |         0 |        0 |        0 |        0 |        0 |        0 |        0 |        0 |        0 |        0 |         0 |         0 |         0 |         0 |         0 |         0 |         0 |         0 |         0 |         0 |         0 |         0 |         0 |         0 |         0 |         0 |         0 |         0 |         0 |         0 |        0 |        0 |        0 |        0 |        0 |        0 |        0 |        0 |        0 |        20 |        36 |\n",
       "|  62 | Confirmed |       0           | Cuneo                                | Italia                 |  44.3933 |    7.55117 |         0 |         0 |         0 |         0 |         0 |         0 |         0 |         0 |         0 |         0 |        0 |        0 |        0 |        0 |        0 |        0 |        0 |        0 |        0 |         0 |         0 |         0 |         0 |         0 |         0 |         0 |         0 |         0 |         0 |         0 |         0 |         0 |         0 |         0 |         0 |         0 |         0 |         0 |         0 |        0 |        0 |        0 |        0 |        0 |        0 |        0 |        0 |        0 |        14 |        17 |\n",
       "|  63 | Confirmed |       0           | Novara                               | Italia                 |  45.4459 |    8.62192 |         0 |         0 |         0 |         0 |         0 |         0 |         0 |         0 |         0 |         0 |        0 |        0 |        0 |        0 |        0 |        0 |        0 |        0 |        0 |         0 |         0 |         0 |         0 |         0 |         0 |         0 |         0 |         0 |         0 |         0 |         0 |         0 |         0 |         0 |         0 |         0 |         0 |         0 |         0 |        0 |        0 |        0 |        0 |        0 |        0 |        0 |        0 |        0 |        22 |        27 |\n",
       "|  64 | Confirmed |       0           | Torino                               | Italia                 |  45.0733 |    7.68069 |         0 |         0 |         0 |         0 |         0 |         0 |         0 |         0 |         0 |         0 |        0 |        0 |        0 |        0 |        0 |        0 |        0 |        0 |        0 |         0 |         0 |         0 |         0 |         0 |         0 |         0 |         0 |         0 |         0 |         0 |         0 |         0 |         0 |         0 |         3 |         3 |         2 |        11 |        11 |        0 |        0 |        0 |        0 |        0 |        0 |        0 |        0 |        0 |       111 |       159 |\n",
       "|  65 | Confirmed |       0           | Verbano-Cusio-Ossola                 | Italia                 |  45.9214 |    8.55108 |         0 |         0 |         0 |         0 |         0 |         0 |         0 |         0 |         0 |         0 |        0 |        0 |        0 |        0 |        0 |        0 |        0 |        0 |        0 |         0 |         0 |         0 |         0 |         0 |         0 |         0 |         0 |         0 |         0 |         0 |         0 |         0 |         0 |         0 |         0 |         0 |         0 |         0 |         0 |        0 |        0 |        0 |        0 |        0 |        0 |        0 |        0 |        0 |        11 |        13 |\n",
       "|  66 | Confirmed |       0           | Vercelli                             | Italia                 |  45.324  |    8.42323 |         0 |         0 |         0 |         0 |         0 |         0 |         0 |         0 |         0 |         0 |        0 |        0 |        0 |        0 |        0 |        0 |        0 |        0 |        0 |         0 |         0 |         0 |         0 |         0 |         0 |         0 |         0 |         0 |         0 |         0 |         0 |         0 |         0 |         0 |         0 |         0 |         0 |         0 |         0 |        0 |        0 |        0 |        0 |        0 |        0 |        0 |        0 |        0 |        18 |        24 |\n",
       "|  67 | Confirmed |       0           | Bari                                 | Italia                 |  41.1256 |   16.8674  |         0 |         0 |         0 |         0 |         0 |         0 |         0 |         0 |         0 |         0 |        0 |        0 |        0 |        0 |        0 |        0 |        0 |        0 |        0 |         0 |         0 |         0 |         0 |         0 |         0 |         0 |         0 |         0 |         0 |         0 |         0 |         0 |         0 |         0 |         0 |         0 |         1 |         0 |         0 |        0 |        0 |        0 |        0 |        0 |        0 |        0 |        0 |        0 |        15 |        18 |\n",
       "|  68 | Confirmed |       0           | Barletta-Andria-Trani                | Italia                 |  41.2271 |   16.2952  |         0 |         0 |         0 |         0 |         0 |         0 |         0 |         0 |         0 |         0 |        0 |        0 |        0 |        0 |        0 |        0 |        0 |        0 |        0 |         0 |         0 |         0 |         0 |         0 |         0 |         0 |         0 |         0 |         0 |         0 |         0 |         0 |         0 |         0 |         0 |         0 |         0 |         0 |         0 |        0 |        0 |        0 |        0 |        0 |        0 |        0 |        0 |        0 |         3 |         4 |\n",
       "|  69 | Confirmed |       0           | Brindisi                             | Italia                 |  40.6385 |   17.946   |         0 |         0 |         0 |         0 |         0 |         0 |         0 |         0 |         0 |         0 |        0 |        0 |        0 |        0 |        0 |        0 |        0 |        0 |        0 |         0 |         0 |         0 |         0 |         0 |         0 |         0 |         0 |         0 |         0 |         0 |         0 |         0 |         0 |         0 |         0 |         0 |         0 |         0 |         0 |        0 |        0 |        0 |        0 |        0 |        0 |        0 |        0 |        0 |         5 |        15 |\n",
       "|  70 | Confirmed |       0           | Foggia                               | Italia                 |  41.4623 |   15.5431  |         0 |         0 |         0 |         0 |         0 |         0 |         0 |         0 |         0 |         0 |        0 |        0 |        0 |        0 |        0 |        0 |        0 |        0 |        0 |         0 |         0 |         0 |         0 |         0 |         0 |         0 |         0 |         0 |         0 |         0 |         0 |         0 |         0 |         0 |         0 |         0 |         0 |         0 |         0 |        0 |        0 |        0 |        0 |        0 |        0 |        0 |        0 |        0 |        23 |        24 |\n",
       "|  71 | Confirmed |       0           | Lecce                                | Italia                 |  40.3535 |   18.1719  |         0 |         0 |         0 |         0 |         0 |         0 |         0 |         0 |         0 |         0 |        0 |        0 |        0 |        0 |        0 |        0 |        0 |        0 |        0 |         0 |         0 |         0 |         0 |         0 |         0 |         0 |         0 |         0 |         0 |         0 |         0 |         0 |         0 |         0 |         0 |         0 |         0 |         0 |         0 |        0 |        0 |        0 |        0 |        0 |        0 |        0 |        0 |        0 |        10 |        12 |\n",
       "|  72 | Confirmed |       0           | Taranto                              | Italia                 |  40.4735 |   17.2324  |         0 |         0 |         0 |         0 |         0 |         0 |         0 |         0 |         0 |         0 |        0 |        0 |        0 |        0 |        0 |        0 |        0 |        0 |        0 |         0 |         0 |         0 |         0 |         0 |         0 |         0 |         0 |         0 |         0 |         0 |         0 |         0 |         0 |         0 |         0 |         0 |         0 |         3 |         3 |        0 |        0 |        0 |        0 |        0 |        0 |        0 |        0 |        0 |         3 |         4 |\n",
       "|  73 | Confirmed |       0           | Cagliari                             | Italia                 |  39.2153 |    9.11062 |         0 |         0 |         0 |         0 |         0 |         0 |         0 |         0 |         0 |         0 |        0 |        0 |        0 |        0 |        0 |        0 |        0 |        0 |        0 |         0 |         0 |         0 |         0 |         0 |         0 |         0 |         0 |         0 |         0 |         0 |         0 |         0 |         0 |         0 |         0 |         0 |         0 |         0 |         0 |        0 |        0 |        0 |        0 |        0 |        0 |        0 |        0 |        0 |        15 |        15 |\n",
       "|  74 | Confirmed |       0           | Nuoro                                | Italia                 |  40.3232 |    9.3303  |         0 |         0 |         0 |         0 |         0 |         0 |         0 |         0 |         0 |         0 |        0 |        0 |        0 |        0 |        0 |        0 |        0 |        0 |        0 |         0 |         0 |         0 |         0 |         0 |         0 |         0 |         0 |         0 |         0 |         0 |         0 |         0 |         0 |         0 |         0 |         0 |         0 |         0 |         0 |        0 |        0 |        0 |        0 |        0 |        0 |        0 |        0 |        0 |         3 |        18 |\n",
       "|  75 | Confirmed |       0           | Oristano                             | Italia                 |  39.9038 |    8.59118 |         0 |         0 |         0 |         0 |         0 |         0 |         0 |         0 |         0 |         0 |        0 |        0 |        0 |        0 |        0 |        0 |        0 |        0 |        0 |         0 |         0 |         0 |         0 |         0 |         0 |         0 |         0 |         0 |         0 |         0 |         0 |         0 |         0 |         0 |         0 |         0 |         0 |         0 |         0 |        0 |        0 |        0 |        0 |        0 |        0 |        0 |        0 |        0 |         1 |         2 |\n",
       "|  76 | Confirmed |       0           | Sassari                              | Italia                 |  40.7267 |    8.55967 |         0 |         0 |         0 |         0 |         0 |         0 |         0 |         0 |         0 |         0 |        0 |        0 |        0 |        0 |        0 |        0 |        0 |        0 |        0 |         0 |         0 |         0 |         0 |         0 |         0 |         0 |         0 |         0 |         0 |         0 |         0 |         0 |         0 |         0 |         0 |         0 |         0 |         0 |         0 |        0 |        0 |        0 |        0 |        0 |        0 |        0 |        0 |        0 |         1 |         2 |\n",
       "|  77 | Confirmed |       0           | Sud Sardegna                         | Italia                 |  39.1664 |    8.52624 |         0 |         0 |         0 |         0 |         0 |         0 |         0 |         0 |         0 |         0 |        0 |        0 |        0 |        0 |        0 |        0 |        0 |        0 |        0 |         0 |         0 |         0 |         0 |         0 |         0 |         0 |         0 |         0 |         0 |         0 |         0 |         0 |         0 |         0 |         0 |         0 |         0 |         0 |         0 |        0 |        0 |        0 |        0 |        0 |        0 |        0 |        0 |        0 |         0 |         0 |\n",
       "|  78 | Confirmed |       0           | Agrigento                            | Italia                 |  37.3097 |   13.5846  |         0 |         0 |         0 |         0 |         0 |         0 |         0 |         0 |         0 |         0 |        0 |        0 |        0 |        0 |        0 |        0 |        0 |        0 |        0 |         0 |         0 |         0 |         0 |         0 |         0 |         0 |         0 |         0 |         0 |         0 |         0 |         0 |         0 |         0 |         0 |         0 |         0 |         0 |         0 |        0 |        0 |        0 |        0 |        0 |        0 |        0 |        0 |        0 |        11 |        16 |\n",
       "|  79 | Confirmed |       0           | Caltanissetta                        | Italia                 |  37.4921 |   14.0618  |         0 |         0 |         0 |         0 |         0 |         0 |         0 |         0 |         0 |         0 |        0 |        0 |        0 |        0 |        0 |        0 |        0 |        0 |        0 |         0 |         0 |         0 |         0 |         0 |         0 |         0 |         0 |         0 |         0 |         0 |         0 |         0 |         0 |         0 |         0 |         0 |         0 |         0 |         0 |        0 |        0 |        0 |        0 |        0 |        0 |        0 |        0 |        0 |         0 |         0 |\n",
       "|  80 | Confirmed |       0           | Catania                              | Italia                 |  37.5029 |   15.087   |         0 |         0 |         0 |         0 |         0 |         0 |         0 |         0 |         0 |         0 |        0 |        0 |        0 |        0 |        0 |        0 |        0 |        0 |        0 |         0 |         0 |         0 |         0 |         0 |         0 |         0 |         0 |         0 |         0 |         0 |         0 |         0 |         0 |         0 |         0 |         0 |         1 |         1 |         1 |        0 |        0 |        0 |        0 |        0 |        0 |        0 |        0 |        0 |        35 |        41 |\n",
       "|  81 | Confirmed |       0           | Enna                                 | Italia                 |  37.5671 |   14.2791  |         0 |         0 |         0 |         0 |         0 |         0 |         0 |         0 |         0 |         0 |        0 |        0 |        0 |        0 |        0 |        0 |        0 |        0 |        0 |         0 |         0 |         0 |         0 |         0 |         0 |         0 |         0 |         0 |         0 |         0 |         0 |         0 |         0 |         0 |         0 |         0 |         0 |         0 |         0 |        0 |        0 |        0 |        0 |        0 |        0 |        0 |        0 |        0 |         1 |         1 |\n",
       "|  82 | Confirmed |       0           | Messina                              | Italia                 |  38.194  |   15.5557  |         0 |         0 |         0 |         0 |         0 |         0 |         0 |         0 |         0 |         0 |        0 |        0 |        0 |        0 |        0 |        0 |        0 |        0 |        0 |         0 |         0 |         0 |         0 |         0 |         0 |         0 |         0 |         0 |         0 |         0 |         0 |         0 |         0 |         0 |         0 |         0 |         0 |         0 |         0 |        0 |        0 |        0 |        0 |        0 |        0 |        0 |        0 |        0 |         2 |         4 |\n",
       "|  83 | Confirmed |       0           | Palermo                              | Italia                 |  38.1157 |   13.3624  |         0 |         0 |         0 |         0 |         0 |         0 |         0 |         0 |         0 |         0 |        0 |        0 |        0 |        0 |        0 |        0 |        0 |        0 |        0 |         0 |         0 |         0 |         0 |         0 |         0 |         0 |         0 |         0 |         0 |         0 |         0 |         0 |         0 |         0 |         3 |         3 |         3 |         3 |         3 |        0 |        0 |        0 |        0 |        0 |        0 |        0 |        0 |        0 |        10 |        15 |\n",
       "|  84 | Confirmed |       0           | Ragusa                               | Italia                 |  36.9251 |   14.7307  |         0 |         0 |         0 |         0 |         0 |         0 |         0 |         0 |         0 |         0 |        0 |        0 |        0 |        0 |        0 |        0 |        0 |        0 |        0 |         0 |         0 |         0 |         0 |         0 |         0 |         0 |         0 |         0 |         0 |         0 |         0 |         0 |         0 |         0 |         0 |         0 |         0 |         0 |         0 |        0 |        0 |        0 |        0 |        0 |        0 |        0 |        0 |        0 |         1 |         1 |\n",
       "|  85 | Confirmed |       0           | Siracusa                             | Italia                 |  37.0599 |   15.2933  |         0 |         0 |         0 |         0 |         0 |         0 |         0 |         0 |         0 |         0 |        0 |        0 |        0 |        0 |        0 |        0 |        0 |        0 |        0 |         0 |         0 |         0 |         0 |         0 |         0 |         0 |         0 |         0 |         0 |         0 |         0 |         0 |         0 |         0 |         0 |         0 |         0 |         0 |         0 |        0 |        0 |        0 |        0 |        0 |        0 |        0 |        0 |        0 |         2 |         3 |\n",
       "|  86 | Confirmed |       0           | Trapani                              | Italia                 |  38.0185 |   12.5137  |         0 |         0 |         0 |         0 |         0 |         0 |         0 |         0 |         0 |         0 |        0 |        0 |        0 |        0 |        0 |        0 |        0 |        0 |        0 |         0 |         0 |         0 |         0 |         0 |         0 |         0 |         0 |         0 |         0 |         0 |         0 |         0 |         0 |         0 |         0 |         0 |         0 |         0 |         0 |        0 |        0 |        0 |        0 |        0 |        0 |        0 |        0 |        0 |         0 |         2 |\n",
       "|  87 | Confirmed |       0           | Arezzo                               | Italia                 |  43.4664 |   11.8823  |         0 |         0 |         0 |         0 |         0 |         0 |         0 |         0 |         0 |         0 |        0 |        0 |        0 |        0 |        0 |        0 |        0 |        0 |        0 |         0 |         0 |         0 |         0 |         0 |         0 |         0 |         0 |         0 |         0 |         0 |         0 |         0 |         0 |         0 |         0 |         0 |         0 |         0 |         0 |        0 |        0 |        0 |        0 |        0 |        0 |        0 |        0 |        0 |        13 |        14 |\n",
       "|  88 | Confirmed |       0           | Firenze                              | Italia                 |  43.7692 |   11.2559  |         0 |         0 |         0 |         0 |         0 |         0 |         0 |         0 |         0 |         0 |        0 |        0 |        0 |        0 |        0 |        0 |        0 |        0 |        0 |         0 |         0 |         0 |         0 |         0 |         0 |         0 |         0 |         0 |         0 |         0 |         0 |         0 |         0 |         0 |         1 |         2 |         1 |         7 |         5 |        0 |        0 |        0 |        0 |        0 |        0 |        0 |        0 |        0 |        61 |        71 |\n",
       "|  89 | Confirmed |       0           | Grosseto                             | Italia                 |  42.7603 |   11.1136  |         0 |         0 |         0 |         0 |         0 |         0 |         0 |         0 |         0 |         0 |        0 |        0 |        0 |        0 |        0 |        0 |        0 |        0 |        0 |         0 |         0 |         0 |         0 |         0 |         0 |         0 |         0 |         0 |         0 |         0 |         0 |         0 |         0 |         0 |         0 |         0 |         0 |         0 |         0 |        0 |        0 |        0 |        0 |        0 |        0 |        0 |        0 |        0 |        10 |        12 |\n",
       "|  90 | Confirmed |       0           | Livorno                              | Italia                 |  43.5523 |   10.3087  |         0 |         0 |         0 |         0 |         0 |         0 |         0 |         0 |         0 |         0 |        0 |        0 |        0 |        0 |        0 |        0 |        0 |        0 |        0 |         0 |         0 |         0 |         0 |         0 |         0 |         0 |         0 |         0 |         0 |         0 |         0 |         0 |         0 |         0 |         0 |         0 |         0 |         0 |         0 |        0 |        0 |        0 |        0 |        0 |        0 |        0 |        0 |        0 |        14 |        16 |\n",
       "|  91 | Confirmed |       0           | Lucca                                | Italia                 |  43.8443 |   10.5015  |         0 |         0 |         0 |         0 |         0 |         0 |         0 |         0 |         0 |         0 |        0 |        0 |        0 |        0 |        0 |        0 |        0 |        0 |        0 |         0 |         0 |         0 |         0 |         0 |         0 |         0 |         0 |         0 |         0 |         0 |         0 |         0 |         0 |         0 |         0 |         0 |         0 |         0 |         1 |        0 |        0 |        0 |        0 |        0 |        0 |        0 |        0 |        0 |        37 |        43 |\n",
       "|  92 | Confirmed |       0           | Massa Carrara                        | Italia                 |  44.0367 |   10.1417  |         0 |         0 |         0 |         0 |         0 |         0 |         0 |         0 |         0 |         0 |        0 |        0 |        0 |        0 |        0 |        0 |        0 |        0 |        0 |         0 |         0 |         0 |         0 |         0 |         0 |         0 |         0 |         0 |         0 |         0 |         0 |         0 |         0 |         0 |         0 |         0 |         0 |         0 |         1 |        0 |        0 |        0 |        0 |        0 |        0 |        0 |        0 |        0 |        37 |        40 |\n",
       "|  93 | Confirmed |       0           | Pisa                                 | Italia                 |  43.7155 |   10.4013  |         0 |         0 |         0 |         0 |         0 |         0 |         0 |         0 |         0 |         0 |        0 |        0 |        0 |        0 |        0 |        0 |        0 |        0 |        0 |         0 |         0 |         0 |         0 |         0 |         0 |         0 |         0 |         0 |         0 |         0 |         0 |         0 |         0 |         0 |         0 |         0 |         0 |         0 |         0 |        0 |        0 |        0 |        0 |        0 |        0 |        0 |        0 |        0 |        31 |        34 |\n",
       "|  94 | Confirmed |       0           | Pistoia                              | Italia                 |  43.9335 |   10.9173  |         0 |         0 |         0 |         0 |         0 |         0 |         0 |         0 |         0 |         0 |        0 |        0 |        0 |        0 |        0 |        0 |        0 |        0 |        0 |         0 |         0 |         0 |         0 |         0 |         0 |         0 |         0 |         0 |         0 |         0 |         0 |         0 |         0 |         0 |         1 |         0 |         1 |         1 |         1 |        0 |        0 |        0 |        0 |        0 |        0 |        0 |        0 |        0 |        21 |        32 |\n",
       "|  95 | Confirmed |       0           | Prato                                | Italia                 |  43.8806 |   11.097   |         0 |         0 |         0 |         0 |         0 |         0 |         0 |         0 |         0 |         0 |        0 |        0 |        0 |        0 |        0 |        0 |        0 |        0 |        0 |         0 |         0 |         0 |         0 |         0 |         0 |         0 |         0 |         0 |         0 |         0 |         0 |         0 |         0 |         0 |         0 |         0 |         0 |         0 |         0 |        0 |        0 |        0 |        0 |        0 |        0 |        0 |        0 |        0 |         7 |        21 |\n",
       "|  96 | Confirmed |       0           | Siena                                | Italia                 |  43.3182 |   11.3319  |         0 |         0 |         0 |         0 |         0 |         0 |         0 |         0 |         0 |         0 |        0 |        0 |        0 |        0 |        0 |        0 |        0 |        0 |        0 |         0 |         0 |         0 |         0 |         0 |         0 |         0 |         0 |         0 |         0 |         0 |         0 |         0 |         0 |         0 |         0 |         0 |         0 |         0 |         3 |        0 |        0 |        0 |        0 |        0 |        0 |        0 |        0 |        0 |        33 |        37 |\n",
       "|  97 | Confirmed |       0           | Trento                               | Italia                 |  46.0689 |   11.1212  |         0 |         0 |         0 |         0 |         0 |         0 |         0 |         0 |         0 |         0 |        0 |        0 |        0 |        0 |        0 |        0 |        0 |        0 |        0 |         0 |         0 |         0 |         0 |         0 |         0 |         0 |         0 |         0 |         0 |         0 |         0 |         0 |         0 |         0 |         0 |         0 |         0 |         0 |         0 |        0 |        0 |        0 |        0 |        0 |        0 |        0 |        0 |        0 |        52 |        77 |\n",
       "|  98 | Confirmed |       0           | Perugia                              | Italia                 |  43.1068 |   12.3882  |         0 |         0 |         0 |         0 |         0 |         0 |         0 |         0 |         0 |         0 |        0 |        0 |        0 |        0 |        0 |        0 |        0 |        0 |        0 |         0 |         0 |         0 |         0 |         0 |         0 |         0 |         0 |         0 |         0 |         0 |         0 |         0 |         0 |         0 |         0 |         0 |         0 |         0 |         0 |        0 |        0 |        0 |        0 |        0 |        0 |        0 |        0 |        0 |        13 |        26 |\n",
       "|  99 | Confirmed |       0           | Terni                                | Italia                 |  42.5607 |   12.6467  |         0 |         0 |         0 |         0 |         0 |         0 |         0 |         0 |         0 |         0 |        0 |        0 |        0 |        0 |        0 |        0 |        0 |        0 |        0 |         0 |         0 |         0 |         0 |         0 |         0 |         0 |         0 |         0 |         0 |         0 |         0 |         0 |         0 |         0 |         0 |         0 |         0 |         0 |         0 |        0 |        0 |        0 |        0 |        0 |        0 |        0 |        0 |        0 |        24 |        18 |\n",
       "| 100 | Confirmed |       0           | Aosta                                | Italia                 |  45.7375 |    7.32015 |         0 |         0 |         0 |         0 |         0 |         0 |         0 |         0 |         0 |         0 |        0 |        0 |        0 |        0 |        0 |        0 |        0 |        0 |        0 |         0 |         0 |         0 |         0 |         0 |         0 |         0 |         0 |         0 |         0 |         0 |         0 |         0 |         0 |         0 |         0 |         0 |         0 |         0 |         0 |        0 |        0 |        0 |        0 |        0 |        0 |        0 |        0 |        0 |        17 |        20 |\n",
       "| 101 | Confirmed |       0           | Belluno                              | Italia                 |  46.1384 |   12.217   |         0 |         0 |         0 |         0 |         0 |         0 |         0 |         0 |         0 |         0 |        0 |        0 |        0 |        0 |        0 |        0 |        0 |        0 |        0 |         0 |         0 |         0 |         0 |         0 |         0 |         0 |         0 |         0 |         0 |         0 |         0 |         0 |         0 |         0 |         0 |         0 |         0 |         0 |         0 |        0 |        0 |        0 |        0 |        0 |        0 |        0 |        0 |        0 |        29 |        30 |\n",
       "| 102 | Confirmed |       0           | Padova                               | Italia                 |  45.4069 |   11.8761  |         0 |         0 |         0 |         0 |         0 |         0 |         0 |         0 |         0 |         0 |        0 |        0 |        0 |        0 |        0 |        0 |        0 |        0 |        0 |         0 |         0 |         0 |         0 |         0 |         0 |         0 |         0 |         0 |         0 |         0 |         0 |         0 |         0 |         0 |        30 |        40 |        59 |        68 |        81 |        0 |        0 |        0 |        0 |        0 |        0 |        0 |        0 |        0 |       296 |       373 |\n",
       "| 103 | Confirmed |       0           | Rovigo                               | Italia                 |  45.0711 |   11.7901  |         0 |         0 |         0 |         0 |         0 |         0 |         0 |         0 |         0 |         0 |        0 |        0 |        0 |        0 |        0 |        0 |        0 |        0 |        0 |         0 |         0 |         0 |         0 |         0 |         0 |         0 |         0 |         0 |         0 |         0 |         0 |         0 |         0 |         0 |         0 |         0 |         0 |         0 |         0 |        0 |        0 |        0 |        0 |        0 |        0 |        0 |        0 |        0 |        10 |        14 |\n",
       "| 104 | Confirmed |       0           | Treviso                              | Italia                 |  45.6675 |   12.2451  |         0 |         0 |         0 |         0 |         0 |         0 |         0 |         0 |         0 |         0 |        0 |        0 |        0 |        0 |        0 |        0 |        0 |        0 |        0 |         0 |         0 |         0 |         0 |         0 |         0 |         0 |         0 |         0 |         0 |         0 |         0 |         0 |         0 |         0 |         1 |         2 |        22 |        23 |        35 |        0 |        0 |        0 |        0 |        0 |        0 |        0 |        0 |        0 |       158 |       185 |\n",
       "| 105 | Confirmed |       0           | Venezia                              | Italia                 |  45.4349 |   12.3385  |         0 |         0 |         0 |         0 |         0 |         0 |         0 |         0 |         0 |         0 |        0 |        0 |        0 |        0 |        0 |        0 |        0 |        0 |        0 |         0 |         0 |         0 |         0 |         0 |         0 |         0 |         0 |         0 |         0 |         0 |         0 |         0 |         0 |         0 |         7 |         8 |        14 |        15 |        19 |        0 |        0 |        0 |        0 |        0 |        0 |        0 |        0 |        0 |       152 |       179 |\n",
       "| 106 | Confirmed |       0           | Verona                               | Italia                 |  45.4384 |   10.9935  |         0 |         0 |         0 |         0 |         0 |         0 |         0 |         0 |         0 |         0 |        0 |        0 |        0 |        0 |        0 |        0 |        0 |        0 |        0 |         0 |         0 |         0 |         0 |         0 |         0 |         0 |         0 |         0 |         0 |         0 |         0 |         0 |         0 |         0 |         0 |         0 |         0 |         0 |         0 |        0 |        0 |        0 |        0 |        0 |        0 |        0 |        0 |        0 |        96 |       110 |\n",
       "| 107 | Confirmed |       0           | Vicenza                              | Italia                 |  45.5475 |   11.546   |         0 |         0 |         0 |         0 |         0 |         0 |         0 |         0 |         0 |         0 |        0 |        0 |        0 |        0 |        0 |        0 |        0 |        0 |        0 |         0 |         0 |         0 |         0 |         0 |         0 |         0 |         0 |         0 |         0 |         0 |         0 |         0 |         0 |         0 |         0 |         0 |         3 |         3 |         3 |        0 |        0 |        0 |        0 |        0 |        0 |        0 |        0 |        0 |        73 |        92 |\n",
       "| 108 | Confirmed |       0           | 0Thailand                            | Thailand               |  15      |  101       |         2 |         3 |         5 |         7 |         8 |         8 |        14 |        14 |        14 |        19 |       19 |       19 |       19 |       25 |       25 |       25 |       25 |       32 |       32 |        32 |        33 |        33 |        33 |        33 |        33 |        34 |        35 |        35 |        35 |        35 |        35 |        35 |        35 |        35 |        37 |        40 |        40 |        41 |        42 |       42 |       43 |       43 |       43 |       47 |       48 |       50 |       50 |       50 |        53 |        59 |\n",
       "| 109 | Confirmed |       0           | 1Japan                               | Japan                  |  36      |  138       |         2 |         1 |         2 |         2 |         4 |         4 |         7 |         7 |        11 |        15 |       20 |       20 |       20 |       22 |       22 |       45 |       25 |       25 |       26 |        26 |        26 |        28 |        28 |        29 |        43 |        59 |        66 |        74 |        84 |        94 |       105 |       122 |       147 |       159 |       170 |       189 |       214 |       228 |       241 |      256 |      274 |      293 |      331 |      360 |      420 |      461 |      502 |      511 |       581 |       639 |\n",
       "| 110 | Confirmed |       0           | 2Singapore                           | Singapore              |   1.2833 |  103.833   |         0 |         1 |         3 |         3 |         4 |         5 |         7 |         7 |        10 |        13 |       16 |       18 |       18 |       24 |       28 |       28 |       30 |       33 |       40 |        45 |        47 |        50 |        58 |        67 |        72 |        75 |        77 |        81 |        84 |        84 |        85 |        85 |        89 |        89 |        91 |        93 |        93 |        93 |       102 |      106 |      108 |      110 |      110 |      117 |      130 |      138 |      150 |      150 |       160 |       178 |\n",
       "| 111 | Confirmed |       0           | 3Nepal                               | Nepal                  |  28.1667 |   84.25    |         0 |         0 |         0 |         1 |         1 |         1 |         1 |         1 |         1 |         1 |        1 |        1 |        1 |        1 |        1 |        1 |        1 |        1 |        1 |         1 |         1 |         1 |         1 |         1 |         1 |         1 |         1 |         1 |         1 |         1 |         1 |         1 |         1 |         1 |         1 |         1 |         1 |         1 |         1 |        1 |        1 |        1 |        1 |        1 |        1 |        1 |        1 |        1 |         1 |         1 |\n",
       "| 112 | Confirmed |       0           | 4Malaysia                            | Malaysia               |   2.5    |  112.5     |         0 |         0 |         0 |         3 |         4 |         4 |         4 |         7 |         8 |         8 |        8 |        8 |        8 |       10 |       12 |       12 |       12 |       16 |       16 |        18 |        18 |        18 |        19 |        19 |        22 |        22 |        22 |        22 |        22 |        22 |        22 |        22 |        22 |        22 |        22 |        22 |        23 |        23 |        25 |       29 |       29 |       36 |       50 |       50 |       83 |       93 |       99 |      117 |       129 |       149 |\n",
       "| 113 | Confirmed |       3.42642e+06 | British Columbia                     | Canada                 |  49.2827 | -123.121   |         0 |         0 |         0 |         0 |         0 |         0 |         1 |         1 |         1 |         1 |        1 |        1 |        1 |        1 |        2 |        2 |        4 |        4 |        4 |         4 |         4 |         4 |         4 |         4 |         4 |         4 |         5 |         5 |         5 |         5 |         6 |         6 |         6 |         6 |         7 |         7 |         7 |         7 |         8 |        8 |        8 |        9 |       12 |       13 |       21 |       21 |       27 |       32 |        32 |        39 |\n",
       "| 114 | Confirmed |       7.02054e+06 | New South Wales                      | Australia              | -33.8688 |  151.209   |         0 |         0 |         0 |         0 |         3 |         4 |         4 |         4 |         4 |         4 |        4 |        4 |        4 |        4 |        4 |        4 |        4 |        4 |        4 |         4 |         4 |         4 |         4 |         4 |         4 |         4 |         4 |         4 |         4 |         4 |         4 |         4 |         4 |         4 |         4 |         4 |         4 |         4 |         4 |        6 |        6 |       13 |       22 |       22 |       26 |       28 |       38 |       48 |        55 |        65 |\n",
       "| 115 | Confirmed |     nan           | Victoria                             | Australia              | -37.8136 |  144.963   |         0 |         0 |         0 |         0 |         1 |         1 |         1 |         1 |         2 |         3 |        4 |        4 |        4 |        4 |        4 |        4 |        4 |        4 |        4 |         4 |         4 |         4 |         4 |         4 |         4 |         4 |         4 |         4 |         4 |         4 |         4 |         4 |         4 |         4 |         4 |         4 |         4 |         4 |         7 |        7 |        9 |        9 |       10 |       10 |       10 |       11 |       11 |       15 |        18 |        21 |\n",
       "| 116 | Confirmed |       3.32551e+06 | Queensland                           | Australia              | -28.0167 |  153.4     |         0 |         0 |         0 |         0 |         0 |         0 |         0 |         1 |         3 |         2 |        3 |        2 |        2 |        3 |        3 |        4 |        5 |        5 |        5 |         5 |         5 |         5 |         5 |         5 |         5 |         5 |         5 |         5 |         5 |         5 |         5 |         5 |         5 |         5 |         5 |         5 |         5 |         5 |         9 |        9 |        9 |       11 |       11 |       13 |       13 |       13 |       15 |       15 |        18 |        20 |\n",
       "| 117 | Confirmed |       0           | 9Cambodia                            | Cambodia               |  11.55   |  104.917   |         0 |         0 |         0 |         0 |         0 |         1 |         1 |         1 |         1 |         1 |        1 |        1 |        1 |        1 |        1 |        1 |        1 |        1 |        1 |         1 |         1 |         1 |         1 |         1 |         1 |         1 |         1 |         1 |         1 |         1 |         1 |         1 |         1 |         1 |         1 |         1 |         1 |         1 |         1 |        1 |        1 |        1 |        1 |        1 |        1 |        1 |        2 |        2 |         2 |         3 |\n",
       "| 118 | Confirmed |       0           | 10Sri Lanka                          | Sri Lanka              |   7      |   81       |         0 |         0 |         0 |         0 |         0 |         1 |         1 |         1 |         1 |         1 |        1 |        1 |        1 |        1 |        1 |        1 |        1 |        1 |        1 |         1 |         1 |         1 |         1 |         1 |         1 |         1 |         1 |         1 |         1 |         1 |         1 |         1 |         1 |         1 |         1 |         1 |         1 |         1 |         1 |        1 |        1 |        1 |        1 |        1 |        1 |        1 |        1 |        1 |         1 |         2 |\n",
       "| 119 | Confirmed |       0           | 11Germany                            | Germany                |  51      |    9       |         0 |         0 |         0 |         0 |         0 |         1 |         4 |         4 |         4 |         5 |        8 |       10 |       12 |       12 |       12 |       12 |       13 |       13 |       14 |        14 |        16 |        16 |        16 |        16 |        16 |        16 |        16 |        16 |        16 |        16 |        16 |        16 |        16 |        16 |        17 |        27 |        46 |        48 |        79 |      130 |      159 |      196 |      262 |      482 |      670 |      799 |     1040 |     1176 |      1457 |      1908 |\n",
       "| 120 | Confirmed |       0           | 12Finland                            | Finland                |  64      |   26       |         0 |         0 |         0 |         0 |         0 |         0 |         0 |         1 |         1 |         1 |        1 |        1 |        1 |        1 |        1 |        1 |        1 |        1 |        1 |         1 |         1 |         1 |         1 |         1 |         1 |         1 |         1 |         1 |         1 |         1 |         1 |         1 |         1 |         1 |         1 |         2 |         2 |         2 |         3 |        6 |        6 |        6 |        6 |       12 |       15 |       15 |       23 |       30 |        40 |        59 |\n",
       "| 121 | Confirmed |       0           | 13United Arab Emirates               | United Arab Emirates   |  24      |   54       |         0 |         0 |         0 |         0 |         0 |         0 |         0 |         4 |         4 |         4 |        4 |        5 |        5 |        5 |        5 |        5 |        5 |        7 |        7 |         8 |         8 |         8 |         8 |         8 |         8 |         9 |         9 |         9 |         9 |         9 |         9 |        13 |        13 |        13 |        13 |        13 |        13 |        19 |        21 |       21 |       21 |       27 |       27 |       29 |       29 |       45 |       45 |       45 |        74 |        74 |\n",
       "| 122 | Confirmed |       0           | 14Philippines                        | Philippines            |  13      |  122       |         0 |         0 |         0 |         0 |         0 |         0 |         0 |         0 |         1 |         1 |        1 |        2 |        2 |        2 |        2 |        2 |        3 |        3 |        3 |         3 |         3 |         3 |         3 |         3 |         3 |         3 |         3 |         3 |         3 |         3 |         3 |         3 |         3 |         3 |         3 |         3 |         3 |         3 |         3 |        3 |        3 |        3 |        3 |        3 |        5 |        6 |       10 |       20 |        33 |        49 |\n",
       "| 123 | Confirmed |       0           | 15India                              | India                  |  21      |   78       |         0 |         0 |         0 |         0 |         0 |         0 |         0 |         0 |         1 |         1 |        1 |        2 |        3 |        3 |        3 |        3 |        3 |        3 |        3 |         3 |         3 |         3 |         3 |         3 |         3 |         3 |         3 |         3 |         3 |         3 |         3 |         3 |         3 |         3 |         3 |         3 |         3 |         3 |         3 |        3 |        5 |        5 |       28 |       30 |       31 |       34 |       39 |       43 |        56 |        62 |\n",
       "| 124 | Confirmed |       0           | 16Italy                              | Italy                  |  43      |   12       |         0 |         0 |         0 |         0 |         0 |         0 |         0 |         0 |         0 |         2 |        2 |        2 |        2 |        2 |        2 |        2 |        3 |        3 |        3 |         3 |         3 |         3 |         3 |         3 |         3 |         3 |         3 |         3 |         3 |         3 |        20 |        62 |       155 |       229 |       322 |       453 |       655 |       888 |      1128 |     1694 |     2036 |     2502 |     3089 |     3858 |     4636 |     5883 |     7375 |     9172 |     10149 |     12462 |\n",
       "| 125 | Confirmed |       0           | 17Sweden                             | Sweden                 |  63      |   16       |         0 |         0 |         0 |         0 |         0 |         0 |         0 |         0 |         0 |         1 |        1 |        1 |        1 |        1 |        1 |        1 |        1 |        1 |        1 |         1 |         1 |         1 |         1 |         1 |         1 |         1 |         1 |         1 |         1 |         1 |         1 |         1 |         1 |         1 |         1 |         2 |         7 |         7 |        12 |       14 |       15 |       21 |       35 |       94 |      101 |      161 |      203 |      248 |       355 |       500 |\n",
       "| 126 | Confirmed |       0           | 18Spain                              | Spain                  |  40      |   -4       |         0 |         0 |         0 |         0 |         0 |         0 |         0 |         0 |         0 |         0 |        1 |        1 |        1 |        1 |        1 |        1 |        1 |        1 |        2 |         2 |         2 |         2 |         2 |         2 |         2 |         2 |         2 |         2 |         2 |         2 |         2 |         2 |         2 |         2 |         6 |        13 |        15 |        32 |        45 |       84 |      120 |      165 |      222 |      259 |      400 |      500 |      673 |     1073 |      1695 |      2277 |\n",
       "| 127 | Confirmed |       1.2978e+06  | South Australia                      | Australia              | -34.9285 |  138.601   |         0 |         0 |         0 |         0 |         0 |         0 |         0 |         0 |         0 |         0 |        1 |        2 |        2 |        2 |        2 |        2 |        2 |        2 |        2 |         2 |         2 |         2 |         2 |         2 |         2 |         2 |         2 |         2 |         2 |         2 |         2 |         2 |         2 |         2 |         2 |         2 |         2 |         2 |         3 |        3 |        3 |        3 |        5 |        5 |        7 |        7 |        7 |        7 |         7 |         9 |\n",
       "| 128 | Confirmed |       0           | 20Belgium                            | Belgium                |  50.8333 |    4       |         0 |         0 |         0 |         0 |         0 |         0 |         0 |         0 |         0 |         0 |        0 |        0 |        0 |        1 |        1 |        1 |        1 |        1 |        1 |         1 |         1 |         1 |         1 |         1 |         1 |         1 |         1 |         1 |         1 |         1 |         1 |         1 |         1 |         1 |         1 |         1 |         1 |         1 |         1 |        2 |        8 |       13 |       23 |       50 |      109 |      169 |      200 |      239 |       267 |       314 |\n",
       "| 129 | Confirmed |       0           | 21Egypt                              | Egypt                  |  26      |   30       |         0 |         0 |         0 |         0 |         0 |         0 |         0 |         0 |         0 |         0 |        0 |        0 |        0 |        0 |        0 |        0 |        0 |        0 |        0 |         0 |         0 |         0 |         0 |         1 |         1 |         1 |         1 |         1 |         1 |         1 |         1 |         1 |         1 |         1 |         1 |         1 |         1 |         1 |         1 |        2 |        2 |        2 |        2 |        3 |       15 |       15 |       49 |       55 |        59 |        60 |\n",
       "| 130 | Confirmed |       0           | From Diamond Princess                | Australia              |  35.4437 |  139.638   |         0 |         0 |         0 |         0 |         0 |         0 |         0 |         0 |         0 |         0 |        0 |        0 |        0 |        0 |        0 |        0 |        0 |        0 |        0 |         0 |         0 |         0 |         0 |         0 |         0 |         0 |         0 |         0 |         0 |         0 |         4 |         7 |         7 |         7 |         7 |         7 |         8 |         8 |         0 |        0 |        0 |        0 |        0 |        0 |        0 |        0 |        0 |        0 |         0 |         0 |\n",
       "| 131 | Confirmed |       0           | 23Lebanon                            | Lebanon                |  33.8547 |   35.8623  |         0 |         0 |         0 |         0 |         0 |         0 |         0 |         0 |         0 |         0 |        0 |        0 |        0 |        0 |        0 |        0 |        0 |        0 |        0 |         0 |         0 |         0 |         0 |         0 |         0 |         0 |         0 |         0 |         0 |         0 |         1 |         1 |         1 |         1 |         1 |         2 |         2 |         2 |         4 |       10 |       13 |       13 |       13 |       16 |       22 |       22 |       32 |       32 |        41 |        61 |\n",
       "| 132 | Confirmed |       0           | 24Iraq                               | Iraq                   |  33      |   44       |         0 |         0 |         0 |         0 |         0 |         0 |         0 |         0 |         0 |         0 |        0 |        0 |        0 |        0 |        0 |        0 |        0 |        0 |        0 |         0 |         0 |         0 |         0 |         0 |         0 |         0 |         0 |         0 |         0 |         0 |         0 |         0 |         0 |         1 |         1 |         5 |         7 |         7 |        13 |       19 |       26 |       32 |       35 |       35 |       40 |       54 |       60 |       60 |        71 |        71 |\n",
       "| 133 | Confirmed |       0           | 25Oman                               | Oman                   |  21      |   57       |         0 |         0 |         0 |         0 |         0 |         0 |         0 |         0 |         0 |         0 |        0 |        0 |        0 |        0 |        0 |        0 |        0 |        0 |        0 |         0 |         0 |         0 |         0 |         0 |         0 |         0 |         0 |         0 |         0 |         0 |         0 |         0 |         0 |         2 |         2 |         4 |         4 |         4 |         6 |        6 |        6 |       12 |       15 |       16 |       16 |       16 |       16 |       16 |        18 |        18 |\n",
       "| 134 | Confirmed |       0           | 26Afghanistan                        | Afghanistan            |  33      |   65       |         0 |         0 |         0 |         0 |         0 |         0 |         0 |         0 |         0 |         0 |        0 |        0 |        0 |        0 |        0 |        0 |        0 |        0 |        0 |         0 |         0 |         0 |         0 |         0 |         0 |         0 |         0 |         0 |         0 |         0 |         0 |         0 |         0 |         1 |         1 |         1 |         1 |         1 |         1 |        1 |        1 |        1 |        1 |        1 |        1 |        1 |        4 |        4 |         5 |         7 |\n",
       "| 135 | Confirmed |       0           | 27Bahrain                            | Bahrain                |  26.0275 |   50.55    |         0 |         0 |         0 |         0 |         0 |         0 |         0 |         0 |         0 |         0 |        0 |        0 |        0 |        0 |        0 |        0 |        0 |        0 |        0 |         0 |         0 |         0 |         0 |         0 |         0 |         0 |         0 |         0 |         0 |         0 |         0 |         0 |         0 |         1 |        23 |        33 |        33 |        36 |        41 |       47 |       49 |       49 |       52 |       55 |       60 |       85 |       85 |       95 |       110 |       195 |\n",
       "| 136 | Confirmed |       0           | 28Kuwait                             | Kuwait                 |  29.5    |   47.75    |         0 |         0 |         0 |         0 |         0 |         0 |         0 |         0 |         0 |         0 |        0 |        0 |        0 |        0 |        0 |        0 |        0 |        0 |        0 |         0 |         0 |         0 |         0 |         0 |         0 |         0 |         0 |         0 |         0 |         0 |         0 |         0 |         0 |         1 |        11 |        26 |        43 |        45 |        45 |       45 |       56 |       56 |       56 |       58 |       58 |       61 |       64 |       64 |        69 |        72 |\n",
       "| 137 | Confirmed |       0           | 29Algeria                            | Algeria                |  28.0339 |    1.6596  |         0 |         0 |         0 |         0 |         0 |         0 |         0 |         0 |         0 |         0 |        0 |        0 |        0 |        0 |        0 |        0 |        0 |        0 |        0 |         0 |         0 |         0 |         0 |         0 |         0 |         0 |         0 |         0 |         0 |         0 |         0 |         0 |         0 |         0 |         1 |         1 |         1 |         1 |         1 |        1 |        3 |        5 |       12 |       12 |       17 |       17 |       19 |       20 |        20 |        20 |\n",
       "| 138 | Confirmed |       0           | 30Croatia                            | Croatia                |  45.1    |   15.2     |         0 |         0 |         0 |         0 |         0 |         0 |         0 |         0 |         0 |         0 |        0 |        0 |        0 |        0 |        0 |        0 |        0 |        0 |        0 |         0 |         0 |         0 |         0 |         0 |         0 |         0 |         0 |         0 |         0 |         0 |         0 |         0 |         0 |         0 |         1 |         3 |         3 |         5 |         6 |        7 |        7 |        9 |       10 |       10 |       11 |       12 |       12 |       12 |        14 |        19 |\n",
       "| 139 | Confirmed |       0           | 31Switzerland                        | Switzerland            |  46.8182 |    8.2275  |         0 |         0 |         0 |         0 |         0 |         0 |         0 |         0 |         0 |         0 |        0 |        0 |        0 |        0 |        0 |        0 |        0 |        0 |        0 |         0 |         0 |         0 |         0 |         0 |         0 |         0 |         0 |         0 |         0 |         0 |         0 |         0 |         0 |         0 |         1 |         1 |         8 |         8 |        18 |       27 |       42 |       56 |       90 |      114 |      214 |      268 |      337 |      374 |       491 |       652 |\n",
       "| 140 | Confirmed |       0           | 32Austria                            | Austria                |  47.5162 |   14.5501  |         0 |         0 |         0 |         0 |         0 |         0 |         0 |         0 |         0 |         0 |        0 |        0 |        0 |        0 |        0 |        0 |        0 |        0 |        0 |         0 |         0 |         0 |         0 |         0 |         0 |         0 |         0 |         0 |         0 |         0 |         0 |         0 |         0 |         0 |         2 |         2 |         3 |         3 |         9 |       14 |       18 |       21 |       29 |       41 |       55 |       79 |      104 |      131 |       182 |       246 |\n",
       "| 141 | Confirmed |       0           | 33Israel                             | Israel                 |  31      |   35       |         0 |         0 |         0 |         0 |         0 |         0 |         0 |         0 |         0 |         0 |        0 |        0 |        0 |        0 |        0 |        0 |        0 |        0 |        0 |         0 |         0 |         0 |         0 |         0 |         0 |         0 |         0 |         0 |         0 |         0 |         1 |         1 |         1 |         1 |         1 |         2 |         3 |         4 |         7 |       10 |       10 |       12 |       15 |       20 |       37 |       43 |       61 |       61 |        83 |       109 |\n",
       "| 142 | Confirmed |       0           | 34Pakistan                           | Pakistan               |  30.3753 |   69.3451  |         0 |         0 |         0 |         0 |         0 |         0 |         0 |         0 |         0 |         0 |        0 |        0 |        0 |        0 |        0 |        0 |        0 |        0 |        0 |         0 |         0 |         0 |         0 |         0 |         0 |         0 |         0 |         0 |         0 |         0 |         0 |         0 |         0 |         0 |         0 |         2 |         2 |         2 |         4 |        4 |        4 |        5 |        5 |        5 |        6 |        6 |        6 |        6 |        16 |        19 |\n",
       "| 143 | Confirmed |       0           | 35Brazil                             | Brazil                 | -14.235  |  -51.9253  |         0 |         0 |         0 |         0 |         0 |         0 |         0 |         0 |         0 |         0 |        0 |        0 |        0 |        0 |        0 |        0 |        0 |        0 |        0 |         0 |         0 |         0 |         0 |         0 |         0 |         0 |         0 |         0 |         0 |         0 |         0 |         0 |         0 |         0 |         0 |         1 |         1 |         1 |         2 |        2 |        2 |        2 |        4 |        4 |       13 |       13 |       20 |       25 |        31 |        38 |\n",
       "| 144 | Confirmed |       0           | 36Georgia                            | Georgia                |  42.3154 |   43.3569  |         0 |         0 |         0 |         0 |         0 |         0 |         0 |         0 |         0 |         0 |        0 |        0 |        0 |        0 |        0 |        0 |        0 |        0 |        0 |         0 |         0 |         0 |         0 |         0 |         0 |         0 |         0 |         0 |         0 |         0 |         0 |         0 |         0 |         0 |         0 |         1 |         1 |         1 |         1 |        3 |        3 |        3 |        3 |        4 |        4 |        4 |       13 |       15 |        15 |        24 |\n",
       "| 145 | Confirmed |       0           | 37Greece                             | Greece                 |  39.0742 |   21.8243  |         0 |         0 |         0 |         0 |         0 |         0 |         0 |         0 |         0 |         0 |        0 |        0 |        0 |        0 |        0 |        0 |        0 |        0 |        0 |         0 |         0 |         0 |         0 |         0 |         0 |         0 |         0 |         0 |         0 |         0 |         0 |         0 |         0 |         0 |         0 |         1 |         3 |         4 |         4 |        7 |        7 |        7 |        9 |       31 |       45 |       46 |       73 |       73 |        89 |        99 |\n",
       "| 146 | Confirmed |       0           | 38North Macedonia                    | North Macedonia        |  41.6086 |   21.7453  |         0 |         0 |         0 |         0 |         0 |         0 |         0 |         0 |         0 |         0 |        0 |        0 |        0 |        0 |        0 |        0 |        0 |        0 |        0 |         0 |         0 |         0 |         0 |         0 |         0 |         0 |         0 |         0 |         0 |         0 |         0 |         0 |         0 |         0 |         0 |         1 |         1 |         1 |         1 |        1 |        1 |        1 |        1 |        1 |        3 |        3 |        3 |        3 |         7 |         7 |\n",
       "| 147 | Confirmed |       0           | 39Norway                             | Norway                 |  60.472  |    8.4689  |         0 |         0 |         0 |         0 |         0 |         0 |         0 |         0 |         0 |         0 |        0 |        0 |        0 |        0 |        0 |        0 |        0 |        0 |        0 |         0 |         0 |         0 |         0 |         0 |         0 |         0 |         0 |         0 |         0 |         0 |         0 |         0 |         0 |         0 |         0 |         1 |         1 |         6 |        15 |       19 |       25 |       32 |       56 |       87 |      108 |      147 |      176 |      205 |       400 |       598 |\n",
       "| 148 | Confirmed |       0           | 40Romania                            | Romania                |  45.9432 |   24.9668  |         0 |         0 |         0 |         0 |         0 |         0 |         0 |         0 |         0 |         0 |        0 |        0 |        0 |        0 |        0 |        0 |        0 |        0 |        0 |         0 |         0 |         0 |         0 |         0 |         0 |         0 |         0 |         0 |         0 |         0 |         0 |         0 |         0 |         0 |         0 |         1 |         1 |         3 |         3 |        3 |        3 |        3 |        4 |        6 |        9 |        9 |       15 |       15 |        25 |        45 |\n",
       "| 149 | Confirmed |       0           | 41Estonia                            | Estonia                |  58.5953 |   25.0136  |         0 |         0 |         0 |         0 |         0 |         0 |         0 |         0 |         0 |         0 |        0 |        0 |        0 |        0 |        0 |        0 |        0 |        0 |        0 |         0 |         0 |         0 |         0 |         0 |         0 |         0 |         0 |         0 |         0 |         0 |         0 |         0 |         0 |         0 |         0 |         0 |         1 |         1 |         1 |        1 |        1 |        2 |        2 |        3 |       10 |       10 |       10 |       10 |        12 |        16 |\n",
       "| 150 | Confirmed |       0           | 42Netherlands                        | Netherlands            |  52.1326 |    5.2913  |         0 |         0 |         0 |         0 |         0 |         0 |         0 |         0 |         0 |         0 |        0 |        0 |        0 |        0 |        0 |        0 |        0 |        0 |        0 |         0 |         0 |         0 |         0 |         0 |         0 |         0 |         0 |         0 |         0 |         0 |         0 |         0 |         0 |         0 |         0 |         0 |         1 |         1 |         6 |       10 |       18 |       24 |       38 |       82 |      128 |      188 |      265 |      321 |       382 |       503 |\n",
       "| 151 | Confirmed |       0           | 43San Marino                         | San Marino             |  43.9424 |   12.4578  |         0 |         0 |         0 |         0 |         0 |         0 |         0 |         0 |         0 |         0 |        0 |        0 |        0 |        0 |        0 |        0 |        0 |        0 |        0 |         0 |         0 |         0 |         0 |         0 |         0 |         0 |         0 |         0 |         0 |         0 |         0 |         0 |         0 |         0 |         0 |         0 |         1 |         1 |         1 |        1 |        8 |       10 |       16 |       21 |       21 |       23 |       36 |       36 |        51 |        62 |\n",
       "| 152 | Confirmed |       0           | 44Belarus                            | Belarus                |  53.7098 |   27.9534  |         0 |         0 |         0 |         0 |         0 |         0 |         0 |         0 |         0 |         0 |        0 |        0 |        0 |        0 |        0 |        0 |        0 |        0 |        0 |         0 |         0 |         0 |         0 |         0 |         0 |         0 |         0 |         0 |         0 |         0 |         0 |         0 |         0 |         0 |         0 |         0 |         0 |         1 |         1 |        1 |        1 |        1 |        6 |        6 |        6 |        6 |        6 |        6 |         9 |         9 |\n",
       "| 153 | Confirmed |       0           | 45Iceland                            | Iceland                |  64.9631 |  -19.0208  |         0 |         0 |         0 |         0 |         0 |         0 |         0 |         0 |         0 |         0 |        0 |        0 |        0 |        0 |        0 |        0 |        0 |        0 |        0 |         0 |         0 |         0 |         0 |         0 |         0 |         0 |         0 |         0 |         0 |         0 |         0 |         0 |         0 |         0 |         0 |         0 |         0 |         1 |         1 |        3 |        6 |       11 |       26 |       34 |       43 |       50 |       50 |       58 |        69 |        85 |\n",
       "| 154 | Confirmed |       0           | 46Lithuania                          | Lithuania              |  55.1694 |   23.8813  |         0 |         0 |         0 |         0 |         0 |         0 |         0 |         0 |         0 |         0 |        0 |        0 |        0 |        0 |        0 |        0 |        0 |        0 |        0 |         0 |         0 |         0 |         0 |         0 |         0 |         0 |         0 |         0 |         0 |         0 |         0 |         0 |         0 |         0 |         0 |         0 |         0 |         1 |         1 |        1 |        1 |        1 |        1 |        1 |        1 |        1 |        1 |        1 |         1 |         3 |\n",
       "| 155 | Confirmed |       0           | 47Mexico                             | Mexico                 |  23.6345 | -102.553   |         0 |         0 |         0 |         0 |         0 |         0 |         0 |         0 |         0 |         0 |        0 |        0 |        0 |        0 |        0 |        0 |        0 |        0 |        0 |         0 |         0 |         0 |         0 |         0 |         0 |         0 |         0 |         0 |         0 |         0 |         0 |         0 |         0 |         0 |         0 |         0 |         0 |         1 |         4 |        5 |        5 |        5 |        5 |        5 |        6 |        6 |        7 |        7 |         7 |         8 |\n",
       "| 156 | Confirmed |       0           | 48New Zealand                        | New Zealand            | -40.9006 |  174.886   |         0 |         0 |         0 |         0 |         0 |         0 |         0 |         0 |         0 |         0 |        0 |        0 |        0 |        0 |        0 |        0 |        0 |        0 |        0 |         0 |         0 |         0 |         0 |         0 |         0 |         0 |         0 |         0 |         0 |         0 |         0 |         0 |         0 |         0 |         0 |         0 |         0 |         1 |         1 |        1 |        1 |        1 |        3 |        3 |        4 |        5 |        5 |        5 |         5 |         5 |\n",
       "| 157 | Confirmed |       0           | 49Nigeria                            | Nigeria                |   9.082  |    8.6753  |         0 |         0 |         0 |         0 |         0 |         0 |         0 |         0 |         0 |         0 |        0 |        0 |        0 |        0 |        0 |        0 |        0 |        0 |        0 |         0 |         0 |         0 |         0 |         0 |         0 |         0 |         0 |         0 |         0 |         0 |         0 |         0 |         0 |         0 |         0 |         0 |         0 |         1 |         1 |        1 |        1 |        1 |        1 |        1 |        1 |        1 |        1 |        2 |         2 |         2 |\n",
       "| 158 | Confirmed |       1.88282e+06 | Western Australia                    | Australia              | -31.9505 |  115.861   |         0 |         0 |         0 |         0 |         0 |         0 |         0 |         0 |         0 |         0 |        0 |        0 |        0 |        0 |        0 |        0 |        0 |        0 |        0 |         0 |         0 |         0 |         0 |         0 |         0 |         0 |         0 |         0 |         0 |         0 |         0 |         0 |         0 |         0 |         0 |         0 |         0 |         0 |         2 |        2 |        2 |        2 |        2 |        3 |        3 |        3 |        3 |        4 |         6 |         9 |\n",
       "| 159 | Confirmed |       0           | 51Ireland                            | Ireland                |  53.1424 |   -7.6921  |         0 |         0 |         0 |         0 |         0 |         0 |         0 |         0 |         0 |         0 |        0 |        0 |        0 |        0 |        0 |        0 |        0 |        0 |        0 |         0 |         0 |         0 |         0 |         0 |         0 |         0 |         0 |         0 |         0 |         0 |         0 |         0 |         0 |         0 |         0 |         0 |         0 |         0 |         1 |        1 |        1 |        2 |        6 |        6 |       18 |       18 |       19 |       21 |        34 |        43 |\n",
       "| 160 | Confirmed |       0           | 52Luxembourg                         | Luxembourg             |  49.8153 |    6.1296  |         0 |         0 |         0 |         0 |         0 |         0 |         0 |         0 |         0 |         0 |        0 |        0 |        0 |        0 |        0 |        0 |        0 |        0 |        0 |         0 |         0 |         0 |         0 |         0 |         0 |         0 |         0 |         0 |         0 |         0 |         0 |         0 |         0 |         0 |         0 |         0 |         0 |         0 |         1 |        1 |        1 |        1 |        1 |        1 |        2 |        2 |        3 |        3 |         5 |         7 |\n",
       "| 161 | Confirmed |       0           | 53Monaco                             | Monaco                 |  43.7333 |    7.4167  |         0 |         0 |         0 |         0 |         0 |         0 |         0 |         0 |         0 |         0 |        0 |        0 |        0 |        0 |        0 |        0 |        0 |        0 |        0 |         0 |         0 |         0 |         0 |         0 |         0 |         0 |         0 |         0 |         0 |         0 |         0 |         0 |         0 |         0 |         0 |         0 |         0 |         0 |         1 |        1 |        1 |        1 |        1 |        1 |        1 |        1 |        1 |        1 |         1 |         1 |\n",
       "| 162 | Confirmed |       0           | 54Qatar                              | Qatar                  |  25.3548 |   51.1839  |         0 |         0 |         0 |         0 |         0 |         0 |         0 |         0 |         0 |         0 |        0 |        0 |        0 |        0 |        0 |        0 |        0 |        0 |        0 |         0 |         0 |         0 |         0 |         0 |         0 |         0 |         0 |         0 |         0 |         0 |         0 |         0 |         0 |         0 |         0 |         0 |         0 |         0 |         1 |        3 |        3 |        7 |        8 |        8 |        8 |        8 |       15 |       18 |        24 |       262 |\n",
       "| 163 | Confirmed |       0           | 55Ecuador                            | Ecuador                |  -1.8312 |  -78.1834  |         0 |         0 |         0 |         0 |         0 |         0 |         0 |         0 |         0 |         0 |        0 |        0 |        0 |        0 |        0 |        0 |        0 |        0 |        0 |         0 |         0 |         0 |         0 |         0 |         0 |         0 |         0 |         0 |         0 |         0 |         0 |         0 |         0 |         0 |         0 |         0 |         0 |         0 |         0 |        6 |        6 |        7 |       10 |       13 |       13 |       13 |       14 |       15 |        15 |        17 |\n",
       "| 164 | Confirmed |       0           | 56Azerbaijan                         | Azerbaijan             |  40.1431 |   47.5769  |         0 |         0 |         0 |         0 |         0 |         0 |         0 |         0 |         0 |         0 |        0 |        0 |        0 |        0 |        0 |        0 |        0 |        0 |        0 |         0 |         0 |         0 |         0 |         0 |         0 |         0 |         0 |         0 |         0 |         0 |         0 |         0 |         0 |         0 |         0 |         0 |         0 |         0 |         0 |        3 |        3 |        3 |        3 |        6 |        6 |        9 |        9 |        9 |        11 |        11 |\n",
       "| 165 | Confirmed |       0           | 57Armenia                            | Armenia                |  40.0691 |   45.0382  |         0 |         0 |         0 |         0 |         0 |         0 |         0 |         0 |         0 |         0 |        0 |        0 |        0 |        0 |        0 |        0 |        0 |        0 |        0 |         0 |         0 |         0 |         0 |         0 |         0 |         0 |         0 |         0 |         0 |         0 |         0 |         0 |         0 |         0 |         0 |         0 |         0 |         0 |         0 |        1 |        1 |        1 |        1 |        1 |        1 |        1 |        1 |        1 |         1 |         1 |\n",
       "| 166 | Confirmed |       0           | 58Dominican Republic                 | Dominican Republic     |  18.7357 |  -70.1627  |         0 |         0 |         0 |         0 |         0 |         0 |         0 |         0 |         0 |         0 |        0 |        0 |        0 |        0 |        0 |        0 |        0 |        0 |        0 |         0 |         0 |         0 |         0 |         0 |         0 |         0 |         0 |         0 |         0 |         0 |         0 |         0 |         0 |         0 |         0 |         0 |         0 |         0 |         0 |        1 |        1 |        1 |        1 |        1 |        2 |        2 |        5 |        5 |         5 |         5 |\n",
       "| 167 | Confirmed |       0           | 59Indonesia                          | Indonesia              |  -0.7893 |  113.921   |         0 |         0 |         0 |         0 |         0 |         0 |         0 |         0 |         0 |         0 |        0 |        0 |        0 |        0 |        0 |        0 |        0 |        0 |        0 |         0 |         0 |         0 |         0 |         0 |         0 |         0 |         0 |         0 |         0 |         0 |         0 |         0 |         0 |         0 |         0 |         0 |         0 |         0 |         0 |        0 |        2 |        2 |        2 |        2 |        4 |        4 |        6 |       19 |        27 |        34 |\n",
       "| 168 | Confirmed |       0           | 60Portugal                           | Portugal               |  39.3999 |   -8.2245  |         0 |         0 |         0 |         0 |         0 |         0 |         0 |         0 |         0 |         0 |        0 |        0 |        0 |        0 |        0 |        0 |        0 |        0 |        0 |         0 |         0 |         0 |         0 |         0 |         0 |         0 |         0 |         0 |         0 |         0 |         0 |         0 |         0 |         0 |         0 |         0 |         0 |         0 |         0 |        0 |        2 |        2 |        5 |        8 |       13 |       20 |       30 |       30 |        41 |        59 |\n",
       "| 169 | Confirmed |       0           | 61Andorra                            | Andorra                |  42.5063 |    1.5218  |         0 |         0 |         0 |         0 |         0 |         0 |         0 |         0 |         0 |         0 |        0 |        0 |        0 |        0 |        0 |        0 |        0 |        0 |        0 |         0 |         0 |         0 |         0 |         0 |         0 |         0 |         0 |         0 |         0 |         0 |         0 |         0 |         0 |         0 |         0 |         0 |         0 |         0 |         0 |        0 |        1 |        1 |        1 |        1 |        1 |        1 |        1 |        1 |         1 |         1 |\n",
       "| 170 | Confirmed |  217344           | Tasmania                             | Australia              | -41.4545 |  145.971   |         0 |         0 |         0 |         0 |         0 |         0 |         0 |         0 |         0 |         0 |        0 |        0 |        0 |        0 |        0 |        0 |        0 |        0 |        0 |         0 |         0 |         0 |         0 |         0 |         0 |         0 |         0 |         0 |         0 |         0 |         0 |         0 |         0 |         0 |         0 |         0 |         0 |         0 |         0 |        0 |        1 |        1 |        1 |        1 |        1 |        1 |        2 |        2 |         2 |         3 |\n",
       "| 171 | Confirmed |       0           | 63Latvia                             | Latvia                 |  56.8796 |   24.6032  |         0 |         0 |         0 |         0 |         0 |         0 |         0 |         0 |         0 |         0 |        0 |        0 |        0 |        0 |        0 |        0 |        0 |        0 |        0 |         0 |         0 |         0 |         0 |         0 |         0 |         0 |         0 |         0 |         0 |         0 |         0 |         0 |         0 |         0 |         0 |         0 |         0 |         0 |         0 |        0 |        1 |        1 |        1 |        1 |        1 |        1 |        2 |        6 |         8 |        10 |\n",
       "| 172 | Confirmed |       0           | 64Morocco                            | Morocco                |  31.7917 |   -7.0926  |         0 |         0 |         0 |         0 |         0 |         0 |         0 |         0 |         0 |         0 |        0 |        0 |        0 |        0 |        0 |        0 |        0 |        0 |        0 |         0 |         0 |         0 |         0 |         0 |         0 |         0 |         0 |         0 |         0 |         0 |         0 |         0 |         0 |         0 |         0 |         0 |         0 |         0 |         0 |        0 |        1 |        1 |        1 |        2 |        2 |        2 |        2 |        2 |         3 |         5 |\n",
       "| 173 | Confirmed |       0           | 65Saudi Arabia                       | Saudi Arabia           |  24      |   45       |         0 |         0 |         0 |         0 |         0 |         0 |         0 |         0 |         0 |         0 |        0 |        0 |        0 |        0 |        0 |        0 |        0 |        0 |        0 |         0 |         0 |         0 |         0 |         0 |         0 |         0 |         0 |         0 |         0 |         0 |         0 |         0 |         0 |         0 |         0 |         0 |         0 |         0 |         0 |        0 |        1 |        1 |        1 |        5 |        5 |        5 |       11 |       15 |        20 |        21 |\n",
       "| 174 | Confirmed |       0           | 66Senegal                            | Senegal                |  14.4974 |  -14.4524  |         0 |         0 |         0 |         0 |         0 |         0 |         0 |         0 |         0 |         0 |        0 |        0 |        0 |        0 |        0 |        0 |        0 |        0 |        0 |         0 |         0 |         0 |         0 |         0 |         0 |         0 |         0 |         0 |         0 |         0 |         0 |         0 |         0 |         0 |         0 |         0 |         0 |         0 |         0 |        0 |        1 |        2 |        4 |        4 |        4 |        4 |        4 |        4 |         4 |         4 |\n",
       "| 175 | Confirmed |       0           | 67Argentina                          | Argentina              | -38.4161 |  -63.6167  |         0 |         0 |         0 |         0 |         0 |         0 |         0 |         0 |         0 |         0 |        0 |        0 |        0 |        0 |        0 |        0 |        0 |        0 |        0 |         0 |         0 |         0 |         0 |         0 |         0 |         0 |         0 |         0 |         0 |         0 |         0 |         0 |         0 |         0 |         0 |         0 |         0 |         0 |         0 |        0 |        0 |        1 |        1 |        1 |        2 |        8 |       12 |       12 |        17 |        19 |\n",
       "| 176 | Confirmed |       0           | 68Chile                              | Chile                  | -35.6751 |  -71.543   |         0 |         0 |         0 |         0 |         0 |         0 |         0 |         0 |         0 |         0 |        0 |        0 |        0 |        0 |        0 |        0 |        0 |        0 |        0 |         0 |         0 |         0 |         0 |         0 |         0 |         0 |         0 |         0 |         0 |         0 |         0 |         0 |         0 |         0 |         0 |         0 |         0 |         0 |         0 |        0 |        0 |        1 |        1 |        4 |        4 |        4 |        8 |        8 |        13 |        23 |\n",
       "| 177 | Confirmed |       0           | 69Jordan                             | Jordan                 |  31.24   |   36.51    |         0 |         0 |         0 |         0 |         0 |         0 |         0 |         0 |         0 |         0 |        0 |        0 |        0 |        0 |        0 |        0 |        0 |        0 |        0 |         0 |         0 |         0 |         0 |         0 |         0 |         0 |         0 |         0 |         0 |         0 |         0 |         0 |         0 |         0 |         0 |         0 |         0 |         0 |         0 |        0 |        0 |        1 |        1 |        1 |        1 |        1 |        1 |        1 |         1 |         1 |\n",
       "| 178 | Confirmed |       0           | 70Ukraine                            | Ukraine                |  48.3794 |   31.1656  |         0 |         0 |         0 |         0 |         0 |         0 |         0 |         0 |         0 |         0 |        0 |        0 |        0 |        0 |        0 |        0 |        0 |        0 |        0 |         0 |         0 |         0 |         0 |         0 |         0 |         0 |         0 |         0 |         0 |         0 |         0 |         0 |         0 |         0 |         0 |         0 |         0 |         0 |         0 |        0 |        0 |        1 |        1 |        1 |        1 |        1 |        1 |        1 |         1 |         1 |\n",
       "| 179 | Confirmed |       0           | 71Hungary                            | Hungary                |  47.1625 |   19.5033  |         0 |         0 |         0 |         0 |         0 |         0 |         0 |         0 |         0 |         0 |        0 |        0 |        0 |        0 |        0 |        0 |        0 |        0 |        0 |         0 |         0 |         0 |         0 |         0 |         0 |         0 |         0 |         0 |         0 |         0 |         0 |         0 |         0 |         0 |         0 |         0 |         0 |         0 |         0 |        0 |        0 |        0 |        2 |        2 |        2 |        4 |        7 |        9 |         9 |        13 |\n",
       "| 180 | Confirmed |  137788           | Northern Territory                   | Australia              | -12.4634 |  130.846   |         0 |         0 |         0 |         0 |         0 |         0 |         0 |         0 |         0 |         0 |        0 |        0 |        0 |        0 |        0 |        0 |        0 |        0 |        0 |         0 |         0 |         0 |         0 |         0 |         0 |         0 |         0 |         0 |         0 |         0 |         0 |         0 |         0 |         0 |         0 |         0 |         0 |         0 |         0 |        0 |        0 |        0 |        1 |        1 |        0 |        0 |        0 |        0 |         1 |         1 |\n",
       "| 181 | Confirmed |       0           | 73Liechtenstein                      | Liechtenstein          |  47.14   |    9.55    |         0 |         0 |         0 |         0 |         0 |         0 |         0 |         0 |         0 |         0 |        0 |        0 |        0 |        0 |        0 |        0 |        0 |        0 |        0 |         0 |         0 |         0 |         0 |         0 |         0 |         0 |         0 |         0 |         0 |         0 |         0 |         0 |         0 |         0 |         0 |         0 |         0 |         0 |         0 |        0 |        0 |        0 |        1 |        1 |        1 |        1 |        1 |        1 |         1 |         1 |\n",
       "| 182 | Confirmed |       0           | 74Poland                             | Poland                 |  51.9194 |   19.1451  |         0 |         0 |         0 |         0 |         0 |         0 |         0 |         0 |         0 |         0 |        0 |        0 |        0 |        0 |        0 |        0 |        0 |        0 |        0 |         0 |         0 |         0 |         0 |         0 |         0 |         0 |         0 |         0 |         0 |         0 |         0 |         0 |         0 |         0 |         0 |         0 |         0 |         0 |         0 |        0 |        0 |        0 |        1 |        1 |        5 |        5 |       11 |       16 |        22 |        31 |\n",
       "| 183 | Confirmed |       0           | 75Tunisia                            | Tunisia                |  34      |    9       |         0 |         0 |         0 |         0 |         0 |         0 |         0 |         0 |         0 |         0 |        0 |        0 |        0 |        0 |        0 |        0 |        0 |        0 |        0 |         0 |         0 |         0 |         0 |         0 |         0 |         0 |         0 |         0 |         0 |         0 |         0 |         0 |         0 |         0 |         0 |         0 |         0 |         0 |         0 |        0 |        0 |        0 |        1 |        1 |        1 |        1 |        2 |        2 |         5 |         7 |\n",
       "| 184 | Confirmed |       0           | 76Bosnia and Herzegovina             | Bosnia and Herzegovina |  43.9159 |   17.6791  |         0 |         0 |         0 |         0 |         0 |         0 |         0 |         0 |         0 |         0 |        0 |        0 |        0 |        0 |        0 |        0 |        0 |        0 |        0 |         0 |         0 |         0 |         0 |         0 |         0 |         0 |         0 |         0 |         0 |         0 |         0 |         0 |         0 |         0 |         0 |         0 |         0 |         0 |         0 |        0 |        0 |        0 |        0 |        2 |        2 |        3 |        3 |        3 |         5 |         7 |\n",
       "| 185 | Confirmed |       0           | 77Slovenia                           | Slovenia               |  46.1512 |   14.9955  |         0 |         0 |         0 |         0 |         0 |         0 |         0 |         0 |         0 |         0 |        0 |        0 |        0 |        0 |        0 |        0 |        0 |        0 |        0 |         0 |         0 |         0 |         0 |         0 |         0 |         0 |         0 |         0 |         0 |         0 |         0 |         0 |         0 |         0 |         0 |         0 |         0 |         0 |         0 |        0 |        0 |        0 |        0 |        2 |        7 |        7 |       16 |       16 |        31 |        57 |\n",
       "| 186 | Confirmed |       0           | 78South Africa                       | South Africa           | -30.5595 |   22.9375  |         0 |         0 |         0 |         0 |         0 |         0 |         0 |         0 |         0 |         0 |        0 |        0 |        0 |        0 |        0 |        0 |        0 |        0 |        0 |         0 |         0 |         0 |         0 |         0 |         0 |         0 |         0 |         0 |         0 |         0 |         0 |         0 |         0 |         0 |         0 |         0 |         0 |         0 |         0 |        0 |        0 |        0 |        0 |        1 |        1 |        1 |        3 |        3 |         7 |        13 |\n",
       "| 187 | Confirmed |       0           | 79Bhutan                             | Bhutan                 |  27.5142 |   90.4336  |         0 |         0 |         0 |         0 |         0 |         0 |         0 |         0 |         0 |         0 |        0 |        0 |        0 |        0 |        0 |        0 |        0 |        0 |        0 |         0 |         0 |         0 |         0 |         0 |         0 |         0 |         0 |         0 |         0 |         0 |         0 |         0 |         0 |         0 |         0 |         0 |         0 |         0 |         0 |        0 |        0 |        0 |        0 |        0 |        1 |        1 |        1 |        1 |         1 |         1 |\n",
       "| 188 | Confirmed |       0           | 80Cameroon                           | Cameroon               |   3.848  |   11.5021  |         0 |         0 |         0 |         0 |         0 |         0 |         0 |         0 |         0 |         0 |        0 |        0 |        0 |        0 |        0 |        0 |        0 |        0 |        0 |         0 |         0 |         0 |         0 |         0 |         0 |         0 |         0 |         0 |         0 |         0 |         0 |         0 |         0 |         0 |         0 |         0 |         0 |         0 |         0 |        0 |        0 |        0 |        0 |        0 |        1 |        1 |        2 |        2 |         2 |         2 |\n",
       "| 189 | Confirmed |       0           | 81Colombia                           | Colombia               |   4.5709 |  -74.2973  |         0 |         0 |         0 |         0 |         0 |         0 |         0 |         0 |         0 |         0 |        0 |        0 |        0 |        0 |        0 |        0 |        0 |        0 |        0 |         0 |         0 |         0 |         0 |         0 |         0 |         0 |         0 |         0 |         0 |         0 |         0 |         0 |         0 |         0 |         0 |         0 |         0 |         0 |         0 |        0 |        0 |        0 |        0 |        0 |        1 |        1 |        1 |        1 |         3 |         9 |\n",
       "| 190 | Confirmed |       0           | 82Costa Rica                         | Costa Rica             |   9.7489 |  -83.7534  |         0 |         0 |         0 |         0 |         0 |         0 |         0 |         0 |         0 |         0 |        0 |        0 |        0 |        0 |        0 |        0 |        0 |        0 |        0 |         0 |         0 |         0 |         0 |         0 |         0 |         0 |         0 |         0 |         0 |         0 |         0 |         0 |         0 |         0 |         0 |         0 |         0 |         0 |         0 |        0 |        0 |        0 |        0 |        0 |        1 |        1 |        5 |        9 |         9 |        13 |\n",
       "| 191 | Confirmed |       0           | 83Peru                               | Peru                   |  -9.19   |  -75.0152  |         0 |         0 |         0 |         0 |         0 |         0 |         0 |         0 |         0 |         0 |        0 |        0 |        0 |        0 |        0 |        0 |        0 |        0 |        0 |         0 |         0 |         0 |         0 |         0 |         0 |         0 |         0 |         0 |         0 |         0 |         0 |         0 |         0 |         0 |         0 |         0 |         0 |         0 |         0 |        0 |        0 |        0 |        0 |        0 |        1 |        1 |        6 |        7 |        11 |        11 |\n",
       "| 192 | Confirmed |       0           | 84Serbia                             | Serbia                 |  44.0165 |   21.0059  |         0 |         0 |         0 |         0 |         0 |         0 |         0 |         0 |         0 |         0 |        0 |        0 |        0 |        0 |        0 |        0 |        0 |        0 |        0 |         0 |         0 |         0 |         0 |         0 |         0 |         0 |         0 |         0 |         0 |         0 |         0 |         0 |         0 |         0 |         0 |         0 |         0 |         0 |         0 |        0 |        0 |        0 |        0 |        0 |        1 |        1 |        1 |        1 |         5 |        12 |\n",
       "| 193 | Confirmed |       0           | 85Slovakia                           | Slovakia               |  48.669  |   19.699   |         0 |         0 |         0 |         0 |         0 |         0 |         0 |         0 |         0 |         0 |        0 |        0 |        0 |        0 |        0 |        0 |        0 |        0 |        0 |         0 |         0 |         0 |         0 |         0 |         0 |         0 |         0 |         0 |         0 |         0 |         0 |         0 |         0 |         0 |         0 |         0 |         0 |         0 |         0 |        0 |        0 |        0 |        0 |        0 |        1 |        1 |        3 |        3 |         7 |        10 |\n",
       "| 194 | Confirmed |       0           | 86Togo                               | Togo                   |   8.6195 |    0.8248  |         0 |         0 |         0 |         0 |         0 |         0 |         0 |         0 |         0 |         0 |        0 |        0 |        0 |        0 |        0 |        0 |        0 |        0 |        0 |         0 |         0 |         0 |         0 |         0 |         0 |         0 |         0 |         0 |         0 |         0 |         0 |         0 |         0 |         0 |         0 |         0 |         0 |         0 |         0 |        0 |        0 |        0 |        0 |        0 |        1 |        1 |        1 |        1 |         1 |         1 |\n",
       "| 195 | Confirmed |       0           | 87French Guiana                      | French Guiana          |   3.9339 |  -53.1258  |         0 |         0 |         0 |         0 |         0 |         0 |         0 |         0 |         0 |         0 |        0 |        0 |        0 |        0 |        0 |        0 |        0 |        0 |        0 |         0 |         0 |         0 |         0 |         0 |         0 |         0 |         0 |         0 |         0 |         0 |         0 |         0 |         0 |         0 |         0 |         0 |         0 |         0 |         0 |        0 |        0 |        0 |        0 |        0 |        0 |        5 |        5 |        5 |         5 |         5 |\n",
       "| 196 | Confirmed |       0           | 88Malta                              | Malta                  |  35.9375 |   14.3754  |         0 |         0 |         0 |         0 |         0 |         0 |         0 |         0 |         0 |         0 |        0 |        0 |        0 |        0 |        0 |        0 |        0 |        0 |        0 |         0 |         0 |         0 |         0 |         0 |         0 |         0 |         0 |         0 |         0 |         0 |         0 |         0 |         0 |         0 |         0 |         0 |         0 |         0 |         0 |        0 |        0 |        0 |        0 |        0 |        0 |        3 |        3 |        3 |         5 |         6 |\n",
       "| 197 | Confirmed |       0           | 89Martinique                         | Martinique             |  14.6415 |  -61.0242  |         0 |         0 |         0 |         0 |         0 |         0 |         0 |         0 |         0 |         0 |        0 |        0 |        0 |        0 |        0 |        0 |        0 |        0 |        0 |         0 |         0 |         0 |         0 |         0 |         0 |         0 |         0 |         0 |         0 |         0 |         0 |         0 |         0 |         0 |         0 |         0 |         0 |         0 |         0 |        0 |        0 |        0 |        0 |        0 |        0 |        2 |        2 |        2 |         2 |         3 |\n",
       "| 198 | Confirmed |       0           | 90Bulgaria                           | Bulgaria               |  42.7339 |   25.4858  |         0 |         0 |         0 |         0 |         0 |         0 |         0 |         0 |         0 |         0 |        0 |        0 |        0 |        0 |        0 |        0 |        0 |        0 |        0 |         0 |         0 |         0 |         0 |         0 |         0 |         0 |         0 |         0 |         0 |         0 |         0 |         0 |         0 |         0 |         0 |         0 |         0 |         0 |         0 |        0 |        0 |        0 |        0 |        0 |        0 |        0 |        4 |        4 |         4 |         7 |\n",
       "| 199 | Confirmed |       0           | 91Maldives                           | Maldives               |   3.2028 |   73.2207  |         0 |         0 |         0 |         0 |         0 |         0 |         0 |         0 |         0 |         0 |        0 |        0 |        0 |        0 |        0 |        0 |        0 |        0 |        0 |         0 |         0 |         0 |         0 |         0 |         0 |         0 |         0 |         0 |         0 |         0 |         0 |         0 |         0 |         0 |         0 |         0 |         0 |         0 |         0 |        0 |        0 |        0 |        0 |        0 |        0 |        0 |        4 |        4 |         6 |         8 |"
      ],
      "text/plain": [
       "<IPython.core.display.Markdown object>"
      ]
     },
     "metadata": {},
     "output_type": "display_data"
    }
   ],
   "source": [
    "tab = tabulate(dfMain.head(n=200), tablefmt=\"pipe\", headers=\"keys\")\n",
    "display.display(display.Markdown(tab))"
   ]
  },
  {
   "cell_type": "code",
   "execution_count": 24,
   "metadata": {},
   "outputs": [],
   "source": [
    "df_ProvState = dfMain.dropna(how='any')"
   ]
  },
  {
   "cell_type": "code",
   "execution_count": 25,
   "metadata": {},
   "outputs": [
    {
     "data": {
      "text/markdown": [
       "|     | type      |   population size | Province/State                       | Country/Region         |      Lat |       Long |   1/22/20 |   1/23/20 |   1/24/20 |   1/25/20 |   1/26/20 |   1/27/20 |   1/28/20 |   1/29/20 |   1/30/20 |   1/31/20 |   2/1/20 |   2/2/20 |   2/3/20 |   2/4/20 |   2/5/20 |   2/6/20 |   2/7/20 |   2/8/20 |   2/9/20 |   2/10/20 |   2/11/20 |   2/12/20 |   2/13/20 |   2/14/20 |   2/15/20 |   2/16/20 |   2/17/20 |   2/18/20 |   2/19/20 |   2/20/20 |   2/21/20 |   2/22/20 |   2/23/20 |   2/24/20 |   2/25/20 |   2/26/20 |   2/27/20 |   2/28/20 |   2/29/20 |   3/1/20 |   3/2/20 |   3/3/20 |   3/4/20 |   3/5/20 |   3/6/20 |   3/7/20 |   3/8/20 |   3/9/20 |   3/10/20 |   3/11/20 |\n",
       "|----:|:----------|------------------:|:-------------------------------------|:-----------------------|---------:|-----------:|----------:|----------:|----------:|----------:|----------:|----------:|----------:|----------:|----------:|----------:|---------:|---------:|---------:|---------:|---------:|---------:|---------:|---------:|---------:|----------:|----------:|----------:|----------:|----------:|----------:|----------:|----------:|----------:|----------:|----------:|----------:|----------:|----------:|----------:|----------:|----------:|----------:|----------:|----------:|---------:|---------:|---------:|---------:|---------:|---------:|---------:|---------:|---------:|----------:|----------:|\n",
       "|   0 | Confirmed |       0           | Chieti                               | Italia                 |  42.351  |   14.1675  |         0 |         0 |         0 |         0 |         0 |         0 |         0 |         0 |         0 |         0 |        0 |        0 |        0 |        0 |        0 |        0 |        0 |        0 |        0 |         0 |         0 |         0 |         0 |         0 |         0 |         0 |         0 |         0 |         0 |         0 |         0 |         0 |         0 |         0 |         0 |         0 |         0 |         0 |         0 |        0 |        0 |        0 |        0 |        0 |        0 |        0 |        0 |        0 |         9 |         9 |\n",
       "|   1 | Confirmed |       0           | L'Aquila                             | Italia                 |  42.3512 |   13.3984  |         0 |         0 |         0 |         0 |         0 |         0 |         0 |         0 |         0 |         0 |        0 |        0 |        0 |        0 |        0 |        0 |        0 |        0 |        0 |         0 |         0 |         0 |         0 |         0 |         0 |         0 |         0 |         0 |         0 |         0 |         0 |         0 |         0 |         0 |         0 |         0 |         0 |         0 |         0 |        0 |        0 |        0 |        0 |        0 |        0 |        0 |        0 |        0 |         6 |         6 |\n",
       "|   2 | Confirmed |       0           | Pescara                              | Italia                 |  42.4646 |   14.2136  |         0 |         0 |         0 |         0 |         0 |         0 |         0 |         0 |         0 |         0 |        0 |        0 |        0 |        0 |        0 |        0 |        0 |        0 |        0 |         0 |         0 |         0 |         0 |         0 |         0 |         0 |         0 |         0 |         0 |         0 |         0 |         0 |         0 |         0 |         0 |         0 |         0 |         0 |         0 |        0 |        0 |        0 |        0 |        0 |        0 |        0 |        0 |        0 |        18 |        18 |\n",
       "|   3 | Confirmed |       0           | Teramo                               | Italia                 |  42.6589 |   13.7044  |         0 |         0 |         0 |         0 |         0 |         0 |         0 |         0 |         0 |         0 |        0 |        0 |        0 |        0 |        0 |        0 |        0 |        0 |        0 |         0 |         0 |         0 |         0 |         0 |         0 |         0 |         0 |         0 |         0 |         0 |         0 |         0 |         0 |         0 |         0 |         0 |         1 |         1 |         2 |        0 |        0 |        0 |        0 |        0 |        0 |        0 |        0 |        0 |         5 |         5 |\n",
       "|   4 | Confirmed |       0           | In fase di definizione/aggiornamento | Italia                 |   0      |    0       |         0 |         0 |         0 |         0 |         0 |         0 |         0 |         0 |         0 |         0 |        0 |        0 |        0 |        0 |        0 |        0 |        0 |        0 |        0 |         0 |         0 |         0 |         0 |         0 |         0 |         0 |         0 |         0 |         0 |         0 |         0 |         0 |         0 |         0 |         5 |        21 |        13 |        42 |        53 |        0 |        0 |        0 |        0 |        0 |        0 |        0 |        0 |        0 |        42 |        40 |\n",
       "|   5 | Confirmed |       0           | Matera                               | Italia                 |  40.6675 |   16.5979  |         0 |         0 |         0 |         0 |         0 |         0 |         0 |         0 |         0 |         0 |        0 |        0 |        0 |        0 |        0 |        0 |        0 |        0 |        0 |         0 |         0 |         0 |         0 |         0 |         0 |         0 |         0 |         0 |         0 |         0 |         0 |         0 |         0 |         0 |         0 |         0 |         0 |         0 |         0 |        0 |        0 |        0 |        0 |        0 |        0 |        0 |        0 |        0 |         3 |         3 |\n",
       "|   6 | Confirmed |       0           | Potenza                              | Italia                 |  40.6395 |   15.8051  |         0 |         0 |         0 |         0 |         0 |         0 |         0 |         0 |         0 |         0 |        0 |        0 |        0 |        0 |        0 |        0 |        0 |        0 |        0 |         0 |         0 |         0 |         0 |         0 |         0 |         0 |         0 |         0 |         0 |         0 |         0 |         0 |         0 |         0 |         0 |         0 |         0 |         0 |         0 |        0 |        0 |        0 |        0 |        0 |        0 |        0 |        0 |        0 |         4 |         5 |\n",
       "|   7 | Confirmed |       0           | Bolzano                              | Italia                 |  46.4993 |   11.3566  |         0 |         0 |         0 |         0 |         0 |         0 |         0 |         0 |         0 |         0 |        0 |        0 |        0 |        0 |        0 |        0 |        0 |        0 |        0 |         0 |         0 |         0 |         0 |         0 |         0 |         0 |         0 |         0 |         0 |         0 |         0 |         0 |         0 |         0 |         1 |         1 |         1 |         1 |         1 |        0 |        0 |        0 |        0 |        0 |        0 |        0 |        0 |        0 |        38 |        75 |\n",
       "|   8 | Confirmed |       0           | Catanzaro                            | Italia                 |  38.906  |   16.5944  |         0 |         0 |         0 |         0 |         0 |         0 |         0 |         0 |         0 |         0 |        0 |        0 |        0 |        0 |        0 |        0 |        0 |        0 |        0 |         0 |         0 |         0 |         0 |         0 |         0 |         0 |         0 |         0 |         0 |         0 |         0 |         0 |         0 |         0 |         0 |         0 |         0 |         0 |         0 |        0 |        0 |        0 |        0 |        0 |        0 |        0 |        0 |        0 |         3 |         2 |\n",
       "|   9 | Confirmed |       0           | Cosenza                              | Italia                 |  39.2931 |   16.2561  |         0 |         0 |         0 |         0 |         0 |         0 |         0 |         0 |         0 |         0 |        0 |        0 |        0 |        0 |        0 |        0 |        0 |        0 |        0 |         0 |         0 |         0 |         0 |         0 |         0 |         0 |         0 |         0 |         0 |         0 |         0 |         0 |         0 |         0 |         0 |         0 |         0 |         1 |         1 |        0 |        0 |        0 |        0 |        0 |        0 |        0 |        0 |        0 |         6 |         5 |\n",
       "|  10 | Confirmed |       0           | Crotone                              | Italia                 |  39.0804 |   17.1254  |         0 |         0 |         0 |         0 |         0 |         0 |         0 |         0 |         0 |         0 |        0 |        0 |        0 |        0 |        0 |        0 |        0 |        0 |        0 |         0 |         0 |         0 |         0 |         0 |         0 |         0 |         0 |         0 |         0 |         0 |         0 |         0 |         0 |         0 |         0 |         0 |         0 |         0 |         0 |        0 |        0 |        0 |        0 |        0 |        0 |        0 |        0 |        0 |         0 |         1 |\n",
       "|  11 | Confirmed |       0           | Reggio di Calabria                   | Italia                 |  38.1092 |   15.6435  |         0 |         0 |         0 |         0 |         0 |         0 |         0 |         0 |         0 |         0 |        0 |        0 |        0 |        0 |        0 |        0 |        0 |        0 |        0 |         0 |         0 |         0 |         0 |         0 |         0 |         0 |         0 |         0 |         0 |         0 |         0 |         0 |         0 |         0 |         0 |         0 |         0 |         0 |         0 |        0 |        0 |        0 |        0 |        0 |        0 |        0 |        0 |        0 |         3 |         6 |\n",
       "|  12 | Confirmed |       0           | Vibo Valentia                        | Italia                 |  38.6762 |   16.1016  |         0 |         0 |         0 |         0 |         0 |         0 |         0 |         0 |         0 |         0 |        0 |        0 |        0 |        0 |        0 |        0 |        0 |        0 |        0 |         0 |         0 |         0 |         0 |         0 |         0 |         0 |         0 |         0 |         0 |         0 |         0 |         0 |         0 |         0 |         0 |         0 |         0 |         0 |         0 |        0 |        0 |        0 |        0 |        0 |        0 |        0 |        0 |        0 |         1 |         5 |\n",
       "|  13 | Confirmed |       0           | Avellino                             | Italia                 |  40.914  |   14.7953  |         0 |         0 |         0 |         0 |         0 |         0 |         0 |         0 |         0 |         0 |        0 |        0 |        0 |        0 |        0 |        0 |        0 |        0 |        0 |         0 |         0 |         0 |         0 |         0 |         0 |         0 |         0 |         0 |         0 |         0 |         0 |         0 |         0 |         0 |         0 |         0 |         0 |         0 |         0 |        0 |        0 |        0 |        0 |        0 |        0 |        0 |        0 |        0 |         3 |         7 |\n",
       "|  14 | Confirmed |       0           | Benevento                            | Italia                 |  41.1297 |   14.7815  |         0 |         0 |         0 |         0 |         0 |         0 |         0 |         0 |         0 |         0 |        0 |        0 |        0 |        0 |        0 |        0 |        0 |        0 |        0 |         0 |         0 |         0 |         0 |         0 |         0 |         0 |         0 |         0 |         0 |         0 |         0 |         0 |         0 |         0 |         0 |         0 |         0 |         0 |         0 |        0 |        0 |        0 |        0 |        0 |        0 |        0 |        0 |        0 |         4 |         2 |\n",
       "|  15 | Confirmed |       0           | Caserta                              | Italia                 |  41.0747 |   14.3324  |         0 |         0 |         0 |         0 |         0 |         0 |         0 |         0 |         0 |         0 |        0 |        0 |        0 |        0 |        0 |        0 |        0 |        0 |        0 |         0 |         0 |         0 |         0 |         0 |         0 |         0 |         0 |         0 |         0 |         0 |         0 |         0 |         0 |         0 |         0 |         0 |         0 |         0 |         0 |        0 |        0 |        0 |        0 |        0 |        0 |        0 |        0 |        0 |        34 |        26 |\n",
       "|  16 | Confirmed |       0           | Napoli                               | Italia                 |  40.8396 |   14.2508  |         0 |         0 |         0 |         0 |         0 |         0 |         0 |         0 |         0 |         0 |        0 |        0 |        0 |        0 |        0 |        0 |        0 |        0 |        0 |         0 |         0 |         0 |         0 |         0 |         0 |         0 |         0 |         0 |         0 |         0 |         0 |         0 |         0 |         0 |         0 |         0 |         3 |         4 |        13 |        0 |        0 |        0 |        0 |        0 |        0 |        0 |        0 |        0 |        61 |        96 |\n",
       "|  17 | Confirmed |       0           | Salerno                              | Italia                 |  40.6782 |   14.7594  |         0 |         0 |         0 |         0 |         0 |         0 |         0 |         0 |         0 |         0 |        0 |        0 |        0 |        0 |        0 |        0 |        0 |        0 |        0 |         0 |         0 |         0 |         0 |         0 |         0 |         0 |         0 |         0 |         0 |         0 |         0 |         0 |         0 |         0 |         0 |         0 |         0 |         0 |         0 |        0 |        0 |        0 |        0 |        0 |        0 |        0 |        0 |        0 |        17 |        17 |\n",
       "|  18 | Confirmed |       0           | Bologna                              | Italia                 |  44.4944 |   11.3417  |         0 |         0 |         0 |         0 |         0 |         0 |         0 |         0 |         0 |         0 |        0 |        0 |        0 |        0 |        0 |        0 |        0 |        0 |        0 |         0 |         0 |         0 |         0 |         0 |         0 |         0 |         0 |         0 |         0 |         0 |         0 |         0 |         0 |         0 |         0 |         0 |         0 |         0 |         2 |        0 |        0 |        0 |        0 |        0 |        0 |        0 |        0 |        0 |        86 |       108 |\n",
       "|  19 | Confirmed |       0           | Ferrara                              | Italia                 |  44.836  |   11.6187  |         0 |         0 |         0 |         0 |         0 |         0 |         0 |         0 |         0 |         0 |        0 |        0 |        0 |        0 |        0 |        0 |        0 |        0 |        0 |         0 |         0 |         0 |         0 |         0 |         0 |         0 |         0 |         0 |         0 |         0 |         0 |         0 |         0 |         0 |         0 |         0 |         0 |         0 |         0 |        0 |        0 |        0 |        0 |        0 |        0 |        0 |        0 |        0 |         8 |        12 |\n",
       "|  20 | Confirmed |       0           | Forlì-Cesena                         | Italia                 |  44.2227 |   12.0407  |         0 |         0 |         0 |         0 |         0 |         0 |         0 |         0 |         0 |         0 |        0 |        0 |        0 |        0 |        0 |        0 |        0 |        0 |        0 |         0 |         0 |         0 |         0 |         0 |         0 |         0 |         0 |         0 |         0 |         0 |         0 |         0 |         0 |         0 |         0 |         0 |         0 |         0 |         0 |        0 |        0 |        0 |        0 |        0 |        0 |        0 |        0 |        0 |        20 |        24 |\n",
       "|  21 | Confirmed |       0           | Modena                               | Italia                 |  44.646  |   10.9262  |         0 |         0 |         0 |         0 |         0 |         0 |         0 |         0 |         0 |         0 |        0 |        0 |        0 |        0 |        0 |        0 |        0 |        0 |        0 |         0 |         0 |         0 |         0 |         0 |         0 |         0 |         0 |         0 |         0 |         0 |         0 |         0 |         0 |         0 |         3 |         8 |        18 |        18 |        22 |        0 |        0 |        0 |        0 |        0 |        0 |        0 |        0 |        0 |       127 |       163 |\n",
       "|  22 | Confirmed |       0           | Parma                                | Italia                 |  44.8011 |   10.3283  |         0 |         0 |         0 |         0 |         0 |         0 |         0 |         0 |         0 |         0 |        0 |        0 |        0 |        0 |        0 |        0 |        0 |        0 |        0 |         0 |         0 |         0 |         0 |         0 |         0 |         0 |         0 |         0 |         0 |         0 |         0 |         0 |         0 |         0 |         4 |         8 |        10 |        27 |        35 |        0 |        0 |        0 |        0 |        0 |        0 |        0 |        0 |        0 |       325 |       378 |\n",
       "|  23 | Confirmed |       0           | Piacenza                             | Italia                 |  45.0519 |    9.69263 |         0 |         0 |         0 |         0 |         0 |         0 |         0 |         0 |         0 |         0 |        0 |        0 |        0 |        0 |        0 |        0 |        0 |        0 |        0 |         0 |         0 |         0 |         0 |         0 |         0 |         0 |         0 |         0 |         0 |         0 |         0 |         0 |         0 |         0 |        18 |        28 |        63 |        89 |       138 |        0 |        0 |        0 |        0 |        0 |        0 |        0 |        0 |        0 |       633 |       664 |\n",
       "|  24 | Confirmed |       0           | Ravenna                              | Italia                 |  44.4172 |   12.1991  |         0 |         0 |         0 |         0 |         0 |         0 |         0 |         0 |         0 |         0 |        0 |        0 |        0 |        0 |        0 |        0 |        0 |        0 |        0 |         0 |         0 |         0 |         0 |         0 |         0 |         0 |         0 |         0 |         0 |         0 |         0 |         0 |         0 |         0 |         0 |         0 |         0 |         1 |         1 |        0 |        0 |        0 |        0 |        0 |        0 |        0 |        0 |        0 |        24 |        31 |\n",
       "|  25 | Confirmed |       0           | Reggio nell'Emilia                   | Italia                 |  44.6974 |   10.6301  |         0 |         0 |         0 |         0 |         0 |         0 |         0 |         0 |         0 |         0 |        0 |        0 |        0 |        0 |        0 |        0 |        0 |        0 |        0 |         0 |         0 |         0 |         0 |         0 |         0 |         0 |         0 |         0 |         0 |         0 |         0 |         0 |         0 |         0 |         0 |         0 |         0 |         1 |         4 |        0 |        0 |        0 |        0 |        0 |        0 |        0 |        0 |        0 |       104 |       114 |\n",
       "|  26 | Confirmed |       0           | Rimini                               | Italia                 |  44.0609 |   12.5656  |         0 |         0 |         0 |         0 |         0 |         0 |         0 |         0 |         0 |         0 |        0 |        0 |        0 |        0 |        0 |        0 |        0 |        0 |        0 |         0 |         0 |         0 |         0 |         0 |         0 |         0 |         0 |         0 |         0 |         0 |         0 |         0 |         0 |         0 |         1 |         3 |         6 |         9 |        15 |        0 |        0 |        0 |        0 |        0 |        0 |        0 |        0 |        0 |       206 |       245 |\n",
       "|  27 | Confirmed |       0           | Gorizia                              | Italia                 |  45.9415 |   13.6221  |         0 |         0 |         0 |         0 |         0 |         0 |         0 |         0 |         0 |         0 |        0 |        0 |        0 |        0 |        0 |        0 |        0 |        0 |        0 |         0 |         0 |         0 |         0 |         0 |         0 |         0 |         0 |         0 |         0 |         0 |         0 |         0 |         0 |         0 |         0 |         0 |         0 |         0 |         0 |        0 |        0 |        0 |        0 |        0 |        0 |        0 |        0 |        0 |        10 |        12 |\n",
       "|  28 | Confirmed |       0           | Pordenone                            | Italia                 |  45.9544 |   12.66    |         0 |         0 |         0 |         0 |         0 |         0 |         0 |         0 |         0 |         0 |        0 |        0 |        0 |        0 |        0 |        0 |        0 |        0 |        0 |         0 |         0 |         0 |         0 |         0 |         0 |         0 |         0 |         0 |         0 |         0 |         0 |         0 |         0 |         0 |         0 |         0 |         0 |         0 |         0 |        0 |        0 |        0 |        0 |        0 |        0 |        0 |        0 |        0 |         4 |        13 |\n",
       "|  29 | Confirmed |       0           | Trieste                              | Italia                 |  45.6494 |   13.7681  |         0 |         0 |         0 |         0 |         0 |         0 |         0 |         0 |         0 |         0 |        0 |        0 |        0 |        0 |        0 |        0 |        0 |        0 |        0 |         0 |         0 |         0 |         0 |         0 |         0 |         0 |         0 |         0 |         0 |         0 |         0 |         0 |         0 |         0 |         0 |         0 |         0 |         0 |         0 |        0 |        0 |        0 |        0 |        0 |        0 |        0 |        0 |        0 |        53 |        57 |\n",
       "|  30 | Confirmed |       0           | Udine                                | Italia                 |  46.0626 |   13.2348  |         0 |         0 |         0 |         0 |         0 |         0 |         0 |         0 |         0 |         0 |        0 |        0 |        0 |        0 |        0 |        0 |        0 |        0 |        0 |         0 |         0 |         0 |         0 |         0 |         0 |         0 |         0 |         0 |         0 |         0 |         0 |         0 |         0 |         0 |         0 |         0 |         0 |         0 |         0 |        0 |        0 |        0 |        0 |        0 |        0 |        0 |        0 |        0 |        26 |        44 |\n",
       "|  31 | Confirmed |       0           | Frosinone                            | Italia                 |  41.6396 |   13.3512  |         0 |         0 |         0 |         0 |         0 |         0 |         0 |         0 |         0 |         0 |        0 |        0 |        0 |        0 |        0 |        0 |        0 |        0 |        0 |         0 |         0 |         0 |         0 |         0 |         0 |         0 |         0 |         0 |         0 |         0 |         0 |         0 |         0 |         0 |         0 |         0 |         0 |         0 |         0 |        0 |        0 |        0 |        0 |        0 |        0 |        0 |        0 |        0 |         6 |         8 |\n",
       "|  32 | Confirmed |       0           | Latina                               | Italia                 |  41.4676 |   12.9037  |         0 |         0 |         0 |         0 |         0 |         0 |         0 |         0 |         0 |         0 |        0 |        0 |        0 |        0 |        0 |        0 |        0 |        0 |        0 |         0 |         0 |         0 |         0 |         0 |         0 |         0 |         0 |         0 |         0 |         0 |         0 |         0 |         0 |         0 |         0 |         0 |         0 |         0 |         0 |        0 |        0 |        0 |        0 |        0 |        0 |        0 |        0 |        0 |        11 |        11 |\n",
       "|  33 | Confirmed |       0           | Rieti                                | Italia                 |  42.4049 |   12.8621  |         0 |         0 |         0 |         0 |         0 |         0 |         0 |         0 |         0 |         0 |        0 |        0 |        0 |        0 |        0 |        0 |        0 |        0 |        0 |         0 |         0 |         0 |         0 |         0 |         0 |         0 |         0 |         0 |         0 |         0 |         0 |         0 |         0 |         0 |         0 |         0 |         0 |         0 |         0 |        0 |        0 |        0 |        0 |        0 |        0 |        0 |        0 |        0 |         1 |         3 |\n",
       "|  34 | Confirmed |       0           | Roma                                 | Italia                 |  41.8928 |   12.4837  |         0 |         0 |         0 |         0 |         0 |         0 |         0 |         0 |         0 |         0 |        0 |        0 |        0 |        0 |        0 |        0 |        0 |        0 |        0 |         0 |         0 |         0 |         0 |         0 |         0 |         0 |         0 |         0 |         0 |         0 |         0 |         0 |         0 |         0 |         3 |         3 |         3 |         3 |         6 |        0 |        0 |        0 |        0 |        0 |        0 |        0 |        0 |        0 |        76 |        99 |\n",
       "|  35 | Confirmed |       0           | Viterbo                              | Italia                 |  42.4174 |   12.1047  |         0 |         0 |         0 |         0 |         0 |         0 |         0 |         0 |         0 |         0 |        0 |        0 |        0 |        0 |        0 |        0 |        0 |        0 |        0 |         0 |         0 |         0 |         0 |         0 |         0 |         0 |         0 |         0 |         0 |         0 |         0 |         0 |         0 |         0 |         0 |         0 |         0 |         0 |         0 |        0 |        0 |        0 |        0 |        0 |        0 |        0 |        0 |        0 |         5 |        10 |\n",
       "|  36 | Confirmed |       0           | Genova                               | Italia                 |  44.4115 |    8.9327  |         0 |         0 |         0 |         0 |         0 |         0 |         0 |         0 |         0 |         0 |        0 |        0 |        0 |        0 |        0 |        0 |        0 |        0 |        0 |         0 |         0 |         0 |         0 |         0 |         0 |         0 |         0 |         0 |         0 |         0 |         0 |         0 |         0 |         0 |         0 |         0 |         0 |         0 |         0 |        0 |        0 |        0 |        0 |        0 |        0 |        0 |        0 |        0 |        42 |        63 |\n",
       "|  37 | Confirmed |       0           | Imperia                              | Italia                 |  43.8857 |    8.02785 |         0 |         0 |         0 |         0 |         0 |         0 |         0 |         0 |         0 |         0 |        0 |        0 |        0 |        0 |        0 |        0 |        0 |        0 |        0 |         0 |         0 |         0 |         0 |         0 |         0 |         0 |         0 |         0 |         0 |         0 |         0 |         0 |         0 |         0 |         0 |         0 |         0 |         0 |         0 |        0 |        0 |        0 |        0 |        0 |        0 |        0 |        0 |        0 |        15 |        18 |\n",
       "|  38 | Confirmed |       0           | La Spezia                            | Italia                 |  44.107  |    9.82819 |         0 |         0 |         0 |         0 |         0 |         0 |         0 |         0 |         0 |         0 |        0 |        0 |        0 |        0 |        0 |        0 |        0 |        0 |        0 |         0 |         0 |         0 |         0 |         0 |         0 |         0 |         0 |         0 |         0 |         0 |         0 |         0 |         0 |         0 |         0 |         1 |         1 |         1 |         1 |        0 |        0 |        0 |        0 |        0 |        0 |        0 |        0 |        0 |        15 |        19 |\n",
       "|  39 | Confirmed |       0           | Savona                               | Italia                 |  44.3075 |    8.48111 |         0 |         0 |         0 |         0 |         0 |         0 |         0 |         0 |         0 |         0 |        0 |        0 |        0 |        0 |        0 |        0 |        0 |        0 |        0 |         0 |         0 |         0 |         0 |         0 |         0 |         0 |         0 |         0 |         0 |         0 |         0 |         0 |         0 |         0 |         1 |        10 |        18 |        18 |        41 |        0 |        0 |        0 |        0 |        0 |        0 |        0 |        0 |        0 |        38 |        42 |\n",
       "|  40 | Confirmed |       0           | Bergamo                              | Italia                 |  45.6944 |    9.66842 |         0 |         0 |         0 |         0 |         0 |         0 |         0 |         0 |         0 |         0 |        0 |        0 |        0 |        0 |        0 |        0 |        0 |        0 |        0 |         0 |         0 |         0 |         0 |         0 |         0 |         0 |         0 |         0 |         0 |         0 |         0 |         0 |         0 |         0 |        18 |        20 |        72 |       103 |       110 |        0 |        0 |        0 |        0 |        0 |        0 |        0 |        0 |        0 |      1472 |      1815 |\n",
       "|  41 | Confirmed |       0           | Brescia                              | Italia                 |  45.5399 |   10.2191  |         0 |         0 |         0 |         0 |         0 |         0 |         0 |         0 |         0 |         0 |        0 |        0 |        0 |        0 |        0 |        0 |        0 |        0 |        0 |         0 |         0 |         0 |         0 |         0 |         0 |         0 |         0 |         0 |         0 |         0 |         0 |         0 |         0 |         0 |         0 |         2 |        10 |        13 |        14 |        0 |        0 |        0 |        0 |        0 |        0 |        0 |        0 |        0 |       790 |      1351 |\n",
       "|  42 | Confirmed |       0           | Como                                 | Italia                 |  45.81   |    9.08516 |         0 |         0 |         0 |         0 |         0 |         0 |         0 |         0 |         0 |         0 |        0 |        0 |        0 |        0 |        0 |        0 |        0 |        0 |        0 |         0 |         0 |         0 |         0 |         0 |         0 |         0 |         0 |         0 |         0 |         0 |         0 |         0 |         0 |         0 |         0 |         0 |         0 |         0 |         1 |        0 |        0 |        0 |        0 |        0 |        0 |        0 |        0 |        0 |        46 |        77 |\n",
       "|  43 | Confirmed |       0           | Cremona                              | Italia                 |  45.1334 |   10.0242  |         0 |         0 |         0 |         0 |         0 |         0 |         0 |         0 |         0 |         0 |        0 |        0 |        0 |        0 |        0 |        0 |        0 |        0 |        0 |         0 |         0 |         0 |         0 |         0 |         0 |         0 |         0 |         0 |         0 |         0 |         0 |         0 |         0 |         0 |        53 |        57 |        91 |       123 |       136 |        0 |        0 |        0 |        0 |        0 |        0 |        0 |        0 |        0 |       957 |      1061 |\n",
       "|  44 | Confirmed |       0           | Lecco                                | Italia                 |  45.8558 |    9.39339 |         0 |         0 |         0 |         0 |         0 |         0 |         0 |         0 |         0 |         0 |        0 |        0 |        0 |        0 |        0 |        0 |        0 |        0 |        0 |         0 |         0 |         0 |         0 |         0 |         0 |         0 |         0 |         0 |         0 |         0 |         0 |         0 |         0 |         0 |         0 |         0 |         0 |         0 |         0 |        0 |        0 |        0 |        0 |        0 |        0 |        0 |        0 |        0 |        89 |       113 |\n",
       "|  45 | Confirmed |       0           | Lodi                                 | Italia                 |  45.3144 |    9.50372 |         0 |         0 |         0 |         0 |         0 |         0 |         0 |         0 |         0 |         0 |        0 |        0 |        0 |        0 |        0 |        0 |        0 |        0 |        0 |         0 |         0 |         0 |         0 |         0 |         0 |         0 |         0 |         0 |         0 |         0 |         0 |         0 |         0 |         0 |       125 |       128 |       159 |       182 |       237 |        0 |        0 |        0 |        0 |        0 |        0 |        0 |        0 |        0 |       963 |      1035 |\n",
       "|  46 | Confirmed |       0           | Mantova                              | Italia                 |  45.1573 |   10.7928  |         0 |         0 |         0 |         0 |         0 |         0 |         0 |         0 |         0 |         0 |        0 |        0 |        0 |        0 |        0 |        0 |        0 |        0 |        0 |         0 |         0 |         0 |         0 |         0 |         0 |         0 |         0 |         0 |         0 |         0 |         0 |         0 |         0 |         0 |         0 |         0 |         0 |         0 |         1 |        0 |        0 |        0 |        0 |        0 |        0 |        0 |        0 |        0 |       119 |       137 |\n",
       "|  47 | Confirmed |       0           | Milano                               | Italia                 |  45.4668 |    9.19035 |         0 |         0 |         0 |         0 |         0 |         0 |         0 |         0 |         0 |         0 |        0 |        0 |        0 |        0 |        0 |        0 |        0 |        0 |        0 |         0 |         0 |         0 |         0 |         0 |         0 |         0 |         0 |         0 |         0 |         0 |         0 |         0 |         0 |         0 |         8 |         8 |        15 |        29 |        30 |        0 |        0 |        0 |        0 |        0 |        0 |        0 |        0 |        0 |       592 |       925 |\n",
       "|  48 | Confirmed |       0           | Monza e della Brianza                | Italia                 |  45.5844 |    9.27358 |         0 |         0 |         0 |         0 |         0 |         0 |         0 |         0 |         0 |         0 |        0 |        0 |        0 |        0 |        0 |        0 |        0 |        0 |        0 |         0 |         0 |         0 |         0 |         0 |         0 |         0 |         0 |         0 |         0 |         0 |         0 |         0 |         0 |         0 |         3 |         4 |         5 |         6 |         6 |        0 |        0 |        0 |        0 |        0 |        0 |        0 |        0 |        0 |        65 |        85 |\n",
       "|  49 | Confirmed |       0           | Pavia                                | Italia                 |  45.1851 |    9.16016 |         0 |         0 |         0 |         0 |         0 |         0 |         0 |         0 |         0 |         0 |        0 |        0 |        0 |        0 |        0 |        0 |        0 |        0 |        0 |         0 |         0 |         0 |         0 |         0 |         0 |         0 |         0 |         0 |         0 |         0 |         0 |         0 |         0 |         0 |        27 |        27 |        36 |        49 |        55 |        0 |        0 |        0 |        0 |        0 |        0 |        0 |        0 |        0 |       324 |       403 |\n",
       "|  50 | Confirmed |       0           | Sondrio                              | Italia                 |  46.171  |    9.87147 |         0 |         0 |         0 |         0 |         0 |         0 |         0 |         0 |         0 |         0 |        0 |        0 |        0 |        0 |        0 |        0 |        0 |        0 |        0 |         0 |         0 |         0 |         0 |         0 |         0 |         0 |         0 |         0 |         0 |         0 |         0 |         0 |         0 |         0 |         1 |         3 |         3 |         3 |         3 |        0 |        0 |        0 |        0 |        0 |        0 |        0 |        0 |        0 |         7 |        13 |\n",
       "|  51 | Confirmed |       0           | Varese                               | Italia                 |  45.817  |    8.82287 |         0 |         0 |         0 |         0 |         0 |         0 |         0 |         0 |         0 |         0 |        0 |        0 |        0 |        0 |        0 |        0 |        0 |        0 |        0 |         0 |         0 |         0 |         0 |         0 |         0 |         0 |         0 |         0 |         0 |         0 |         0 |         0 |         0 |         0 |         0 |         0 |         0 |         3 |         4 |        0 |        0 |        0 |        0 |        0 |        0 |        0 |        0 |        0 |        50 |        75 |\n",
       "|  52 | Confirmed |       0           | Ancona                               | Italia                 |  43.6168 |   13.5189  |         0 |         0 |         0 |         0 |         0 |         0 |         0 |         0 |         0 |         0 |        0 |        0 |        0 |        0 |        0 |        0 |        0 |        0 |        0 |         0 |         0 |         0 |         0 |         0 |         0 |         0 |         0 |         0 |         0 |         0 |         0 |         0 |         0 |         0 |         0 |         0 |         0 |         0 |         0 |        0 |        0 |        0 |        0 |        0 |        0 |        0 |        0 |        0 |        81 |       110 |\n",
       "|  53 | Confirmed |       0           | Ascoli Piceno                        | Italia                 |  42.8532 |   13.5769  |         0 |         0 |         0 |         0 |         0 |         0 |         0 |         0 |         0 |         0 |        0 |        0 |        0 |        0 |        0 |        0 |        0 |        0 |        0 |         0 |         0 |         0 |         0 |         0 |         0 |         0 |         0 |         0 |         0 |         0 |         0 |         0 |         0 |         0 |         0 |         0 |         0 |         0 |         0 |        0 |        0 |        0 |        0 |        0 |        0 |        0 |        0 |        0 |         0 |         1 |\n",
       "|  54 | Confirmed |       0           | Fermo                                | Italia                 |  43.1606 |   13.7184  |         0 |         0 |         0 |         0 |         0 |         0 |         0 |         0 |         0 |         0 |        0 |        0 |        0 |        0 |        0 |        0 |        0 |        0 |        0 |         0 |         0 |         0 |         0 |         0 |         0 |         0 |         0 |         0 |         0 |         0 |         0 |         0 |         0 |         0 |         0 |         0 |         0 |         0 |         0 |        0 |        0 |        0 |        0 |        0 |        0 |        0 |        0 |        0 |         6 |         8 |\n",
       "|  55 | Confirmed |       0           | Macerata                             | Italia                 |  43.3002 |   13.4531  |         0 |         0 |         0 |         0 |         0 |         0 |         0 |         0 |         0 |         0 |        0 |        0 |        0 |        0 |        0 |        0 |        0 |        0 |        0 |         0 |         0 |         0 |         0 |         0 |         0 |         0 |         0 |         0 |         0 |         0 |         0 |         0 |         0 |         0 |         0 |         0 |         0 |         0 |         0 |        0 |        0 |        0 |        0 |        0 |        0 |        0 |        0 |        0 |        11 |        17 |\n",
       "|  56 | Confirmed |       0           | Pesaro e Urbino                      | Italia                 |  43.9101 |   12.9135  |         0 |         0 |         0 |         0 |         0 |         0 |         0 |         0 |         0 |         0 |        0 |        0 |        0 |        0 |        0 |        0 |        0 |        0 |        0 |         0 |         0 |         0 |         0 |         0 |         0 |         0 |         0 |         0 |         0 |         0 |         0 |         0 |         0 |         0 |         0 |         1 |         3 |         6 |        11 |        0 |        0 |        0 |        0 |        0 |        0 |        0 |        0 |        0 |       296 |       342 |\n",
       "|  57 | Confirmed |       0           | Campobasso                           | Italia                 |  41.5577 |   14.6592  |         0 |         0 |         0 |         0 |         0 |         0 |         0 |         0 |         0 |         0 |        0 |        0 |        0 |        0 |        0 |        0 |        0 |        0 |        0 |         0 |         0 |         0 |         0 |         0 |         0 |         0 |         0 |         0 |         0 |         0 |         0 |         0 |         0 |         0 |         0 |         0 |         0 |         0 |         0 |        0 |        0 |        0 |        0 |        0 |        0 |        0 |        0 |        0 |        15 |        16 |\n",
       "|  58 | Confirmed |       0           | Isernia                              | Italia                 |  41.588  |   14.2258  |         0 |         0 |         0 |         0 |         0 |         0 |         0 |         0 |         0 |         0 |        0 |        0 |        0 |        0 |        0 |        0 |        0 |        0 |        0 |         0 |         0 |         0 |         0 |         0 |         0 |         0 |         0 |         0 |         0 |         0 |         0 |         0 |         0 |         0 |         0 |         0 |         0 |         0 |         0 |        0 |        0 |        0 |        0 |        0 |        0 |        0 |        0 |        0 |         0 |         0 |\n",
       "|  59 | Confirmed |       0           | Alessandria                          | Italia                 |  44.913  |    8.6154  |         0 |         0 |         0 |         0 |         0 |         0 |         0 |         0 |         0 |         0 |        0 |        0 |        0 |        0 |        0 |        0 |        0 |        0 |        0 |         0 |         0 |         0 |         0 |         0 |         0 |         0 |         0 |         0 |         0 |         0 |         0 |         0 |         0 |         0 |         0 |         0 |         0 |         0 |         0 |        0 |        0 |        0 |        0 |        0 |        0 |        0 |        0 |        0 |        65 |       105 |\n",
       "|  60 | Confirmed |       0           | Asti                                 | Italia                 |  44.8991 |    8.20414 |         0 |         0 |         0 |         0 |         0 |         0 |         0 |         0 |         0 |         0 |        0 |        0 |        0 |        0 |        0 |        0 |        0 |        0 |        0 |         0 |         0 |         0 |         0 |         0 |         0 |         0 |         0 |         0 |         0 |         0 |         0 |         0 |         0 |         0 |         0 |         0 |         0 |         0 |         0 |        0 |        0 |        0 |        0 |        0 |        0 |        0 |        0 |        0 |        58 |        68 |\n",
       "|  61 | Confirmed |       0           | Biella                               | Italia                 |  45.5665 |    8.05408 |         0 |         0 |         0 |         0 |         0 |         0 |         0 |         0 |         0 |         0 |        0 |        0 |        0 |        0 |        0 |        0 |        0 |        0 |        0 |         0 |         0 |         0 |         0 |         0 |         0 |         0 |         0 |         0 |         0 |         0 |         0 |         0 |         0 |         0 |         0 |         0 |         0 |         0 |         0 |        0 |        0 |        0 |        0 |        0 |        0 |        0 |        0 |        0 |        20 |        36 |\n",
       "|  62 | Confirmed |       0           | Cuneo                                | Italia                 |  44.3933 |    7.55117 |         0 |         0 |         0 |         0 |         0 |         0 |         0 |         0 |         0 |         0 |        0 |        0 |        0 |        0 |        0 |        0 |        0 |        0 |        0 |         0 |         0 |         0 |         0 |         0 |         0 |         0 |         0 |         0 |         0 |         0 |         0 |         0 |         0 |         0 |         0 |         0 |         0 |         0 |         0 |        0 |        0 |        0 |        0 |        0 |        0 |        0 |        0 |        0 |        14 |        17 |\n",
       "|  63 | Confirmed |       0           | Novara                               | Italia                 |  45.4459 |    8.62192 |         0 |         0 |         0 |         0 |         0 |         0 |         0 |         0 |         0 |         0 |        0 |        0 |        0 |        0 |        0 |        0 |        0 |        0 |        0 |         0 |         0 |         0 |         0 |         0 |         0 |         0 |         0 |         0 |         0 |         0 |         0 |         0 |         0 |         0 |         0 |         0 |         0 |         0 |         0 |        0 |        0 |        0 |        0 |        0 |        0 |        0 |        0 |        0 |        22 |        27 |\n",
       "|  64 | Confirmed |       0           | Torino                               | Italia                 |  45.0733 |    7.68069 |         0 |         0 |         0 |         0 |         0 |         0 |         0 |         0 |         0 |         0 |        0 |        0 |        0 |        0 |        0 |        0 |        0 |        0 |        0 |         0 |         0 |         0 |         0 |         0 |         0 |         0 |         0 |         0 |         0 |         0 |         0 |         0 |         0 |         0 |         3 |         3 |         2 |        11 |        11 |        0 |        0 |        0 |        0 |        0 |        0 |        0 |        0 |        0 |       111 |       159 |\n",
       "|  65 | Confirmed |       0           | Verbano-Cusio-Ossola                 | Italia                 |  45.9214 |    8.55108 |         0 |         0 |         0 |         0 |         0 |         0 |         0 |         0 |         0 |         0 |        0 |        0 |        0 |        0 |        0 |        0 |        0 |        0 |        0 |         0 |         0 |         0 |         0 |         0 |         0 |         0 |         0 |         0 |         0 |         0 |         0 |         0 |         0 |         0 |         0 |         0 |         0 |         0 |         0 |        0 |        0 |        0 |        0 |        0 |        0 |        0 |        0 |        0 |        11 |        13 |\n",
       "|  66 | Confirmed |       0           | Vercelli                             | Italia                 |  45.324  |    8.42323 |         0 |         0 |         0 |         0 |         0 |         0 |         0 |         0 |         0 |         0 |        0 |        0 |        0 |        0 |        0 |        0 |        0 |        0 |        0 |         0 |         0 |         0 |         0 |         0 |         0 |         0 |         0 |         0 |         0 |         0 |         0 |         0 |         0 |         0 |         0 |         0 |         0 |         0 |         0 |        0 |        0 |        0 |        0 |        0 |        0 |        0 |        0 |        0 |        18 |        24 |\n",
       "|  67 | Confirmed |       0           | Bari                                 | Italia                 |  41.1256 |   16.8674  |         0 |         0 |         0 |         0 |         0 |         0 |         0 |         0 |         0 |         0 |        0 |        0 |        0 |        0 |        0 |        0 |        0 |        0 |        0 |         0 |         0 |         0 |         0 |         0 |         0 |         0 |         0 |         0 |         0 |         0 |         0 |         0 |         0 |         0 |         0 |         0 |         1 |         0 |         0 |        0 |        0 |        0 |        0 |        0 |        0 |        0 |        0 |        0 |        15 |        18 |\n",
       "|  68 | Confirmed |       0           | Barletta-Andria-Trani                | Italia                 |  41.2271 |   16.2952  |         0 |         0 |         0 |         0 |         0 |         0 |         0 |         0 |         0 |         0 |        0 |        0 |        0 |        0 |        0 |        0 |        0 |        0 |        0 |         0 |         0 |         0 |         0 |         0 |         0 |         0 |         0 |         0 |         0 |         0 |         0 |         0 |         0 |         0 |         0 |         0 |         0 |         0 |         0 |        0 |        0 |        0 |        0 |        0 |        0 |        0 |        0 |        0 |         3 |         4 |\n",
       "|  69 | Confirmed |       0           | Brindisi                             | Italia                 |  40.6385 |   17.946   |         0 |         0 |         0 |         0 |         0 |         0 |         0 |         0 |         0 |         0 |        0 |        0 |        0 |        0 |        0 |        0 |        0 |        0 |        0 |         0 |         0 |         0 |         0 |         0 |         0 |         0 |         0 |         0 |         0 |         0 |         0 |         0 |         0 |         0 |         0 |         0 |         0 |         0 |         0 |        0 |        0 |        0 |        0 |        0 |        0 |        0 |        0 |        0 |         5 |        15 |\n",
       "|  70 | Confirmed |       0           | Foggia                               | Italia                 |  41.4623 |   15.5431  |         0 |         0 |         0 |         0 |         0 |         0 |         0 |         0 |         0 |         0 |        0 |        0 |        0 |        0 |        0 |        0 |        0 |        0 |        0 |         0 |         0 |         0 |         0 |         0 |         0 |         0 |         0 |         0 |         0 |         0 |         0 |         0 |         0 |         0 |         0 |         0 |         0 |         0 |         0 |        0 |        0 |        0 |        0 |        0 |        0 |        0 |        0 |        0 |        23 |        24 |\n",
       "|  71 | Confirmed |       0           | Lecce                                | Italia                 |  40.3535 |   18.1719  |         0 |         0 |         0 |         0 |         0 |         0 |         0 |         0 |         0 |         0 |        0 |        0 |        0 |        0 |        0 |        0 |        0 |        0 |        0 |         0 |         0 |         0 |         0 |         0 |         0 |         0 |         0 |         0 |         0 |         0 |         0 |         0 |         0 |         0 |         0 |         0 |         0 |         0 |         0 |        0 |        0 |        0 |        0 |        0 |        0 |        0 |        0 |        0 |        10 |        12 |\n",
       "|  72 | Confirmed |       0           | Taranto                              | Italia                 |  40.4735 |   17.2324  |         0 |         0 |         0 |         0 |         0 |         0 |         0 |         0 |         0 |         0 |        0 |        0 |        0 |        0 |        0 |        0 |        0 |        0 |        0 |         0 |         0 |         0 |         0 |         0 |         0 |         0 |         0 |         0 |         0 |         0 |         0 |         0 |         0 |         0 |         0 |         0 |         0 |         3 |         3 |        0 |        0 |        0 |        0 |        0 |        0 |        0 |        0 |        0 |         3 |         4 |\n",
       "|  73 | Confirmed |       0           | Cagliari                             | Italia                 |  39.2153 |    9.11062 |         0 |         0 |         0 |         0 |         0 |         0 |         0 |         0 |         0 |         0 |        0 |        0 |        0 |        0 |        0 |        0 |        0 |        0 |        0 |         0 |         0 |         0 |         0 |         0 |         0 |         0 |         0 |         0 |         0 |         0 |         0 |         0 |         0 |         0 |         0 |         0 |         0 |         0 |         0 |        0 |        0 |        0 |        0 |        0 |        0 |        0 |        0 |        0 |        15 |        15 |\n",
       "|  74 | Confirmed |       0           | Nuoro                                | Italia                 |  40.3232 |    9.3303  |         0 |         0 |         0 |         0 |         0 |         0 |         0 |         0 |         0 |         0 |        0 |        0 |        0 |        0 |        0 |        0 |        0 |        0 |        0 |         0 |         0 |         0 |         0 |         0 |         0 |         0 |         0 |         0 |         0 |         0 |         0 |         0 |         0 |         0 |         0 |         0 |         0 |         0 |         0 |        0 |        0 |        0 |        0 |        0 |        0 |        0 |        0 |        0 |         3 |        18 |\n",
       "|  75 | Confirmed |       0           | Oristano                             | Italia                 |  39.9038 |    8.59118 |         0 |         0 |         0 |         0 |         0 |         0 |         0 |         0 |         0 |         0 |        0 |        0 |        0 |        0 |        0 |        0 |        0 |        0 |        0 |         0 |         0 |         0 |         0 |         0 |         0 |         0 |         0 |         0 |         0 |         0 |         0 |         0 |         0 |         0 |         0 |         0 |         0 |         0 |         0 |        0 |        0 |        0 |        0 |        0 |        0 |        0 |        0 |        0 |         1 |         2 |\n",
       "|  76 | Confirmed |       0           | Sassari                              | Italia                 |  40.7267 |    8.55967 |         0 |         0 |         0 |         0 |         0 |         0 |         0 |         0 |         0 |         0 |        0 |        0 |        0 |        0 |        0 |        0 |        0 |        0 |        0 |         0 |         0 |         0 |         0 |         0 |         0 |         0 |         0 |         0 |         0 |         0 |         0 |         0 |         0 |         0 |         0 |         0 |         0 |         0 |         0 |        0 |        0 |        0 |        0 |        0 |        0 |        0 |        0 |        0 |         1 |         2 |\n",
       "|  77 | Confirmed |       0           | Sud Sardegna                         | Italia                 |  39.1664 |    8.52624 |         0 |         0 |         0 |         0 |         0 |         0 |         0 |         0 |         0 |         0 |        0 |        0 |        0 |        0 |        0 |        0 |        0 |        0 |        0 |         0 |         0 |         0 |         0 |         0 |         0 |         0 |         0 |         0 |         0 |         0 |         0 |         0 |         0 |         0 |         0 |         0 |         0 |         0 |         0 |        0 |        0 |        0 |        0 |        0 |        0 |        0 |        0 |        0 |         0 |         0 |\n",
       "|  78 | Confirmed |       0           | Agrigento                            | Italia                 |  37.3097 |   13.5846  |         0 |         0 |         0 |         0 |         0 |         0 |         0 |         0 |         0 |         0 |        0 |        0 |        0 |        0 |        0 |        0 |        0 |        0 |        0 |         0 |         0 |         0 |         0 |         0 |         0 |         0 |         0 |         0 |         0 |         0 |         0 |         0 |         0 |         0 |         0 |         0 |         0 |         0 |         0 |        0 |        0 |        0 |        0 |        0 |        0 |        0 |        0 |        0 |        11 |        16 |\n",
       "|  79 | Confirmed |       0           | Caltanissetta                        | Italia                 |  37.4921 |   14.0618  |         0 |         0 |         0 |         0 |         0 |         0 |         0 |         0 |         0 |         0 |        0 |        0 |        0 |        0 |        0 |        0 |        0 |        0 |        0 |         0 |         0 |         0 |         0 |         0 |         0 |         0 |         0 |         0 |         0 |         0 |         0 |         0 |         0 |         0 |         0 |         0 |         0 |         0 |         0 |        0 |        0 |        0 |        0 |        0 |        0 |        0 |        0 |        0 |         0 |         0 |\n",
       "|  80 | Confirmed |       0           | Catania                              | Italia                 |  37.5029 |   15.087   |         0 |         0 |         0 |         0 |         0 |         0 |         0 |         0 |         0 |         0 |        0 |        0 |        0 |        0 |        0 |        0 |        0 |        0 |        0 |         0 |         0 |         0 |         0 |         0 |         0 |         0 |         0 |         0 |         0 |         0 |         0 |         0 |         0 |         0 |         0 |         0 |         1 |         1 |         1 |        0 |        0 |        0 |        0 |        0 |        0 |        0 |        0 |        0 |        35 |        41 |\n",
       "|  81 | Confirmed |       0           | Enna                                 | Italia                 |  37.5671 |   14.2791  |         0 |         0 |         0 |         0 |         0 |         0 |         0 |         0 |         0 |         0 |        0 |        0 |        0 |        0 |        0 |        0 |        0 |        0 |        0 |         0 |         0 |         0 |         0 |         0 |         0 |         0 |         0 |         0 |         0 |         0 |         0 |         0 |         0 |         0 |         0 |         0 |         0 |         0 |         0 |        0 |        0 |        0 |        0 |        0 |        0 |        0 |        0 |        0 |         1 |         1 |\n",
       "|  82 | Confirmed |       0           | Messina                              | Italia                 |  38.194  |   15.5557  |         0 |         0 |         0 |         0 |         0 |         0 |         0 |         0 |         0 |         0 |        0 |        0 |        0 |        0 |        0 |        0 |        0 |        0 |        0 |         0 |         0 |         0 |         0 |         0 |         0 |         0 |         0 |         0 |         0 |         0 |         0 |         0 |         0 |         0 |         0 |         0 |         0 |         0 |         0 |        0 |        0 |        0 |        0 |        0 |        0 |        0 |        0 |        0 |         2 |         4 |\n",
       "|  83 | Confirmed |       0           | Palermo                              | Italia                 |  38.1157 |   13.3624  |         0 |         0 |         0 |         0 |         0 |         0 |         0 |         0 |         0 |         0 |        0 |        0 |        0 |        0 |        0 |        0 |        0 |        0 |        0 |         0 |         0 |         0 |         0 |         0 |         0 |         0 |         0 |         0 |         0 |         0 |         0 |         0 |         0 |         0 |         3 |         3 |         3 |         3 |         3 |        0 |        0 |        0 |        0 |        0 |        0 |        0 |        0 |        0 |        10 |        15 |\n",
       "|  84 | Confirmed |       0           | Ragusa                               | Italia                 |  36.9251 |   14.7307  |         0 |         0 |         0 |         0 |         0 |         0 |         0 |         0 |         0 |         0 |        0 |        0 |        0 |        0 |        0 |        0 |        0 |        0 |        0 |         0 |         0 |         0 |         0 |         0 |         0 |         0 |         0 |         0 |         0 |         0 |         0 |         0 |         0 |         0 |         0 |         0 |         0 |         0 |         0 |        0 |        0 |        0 |        0 |        0 |        0 |        0 |        0 |        0 |         1 |         1 |\n",
       "|  85 | Confirmed |       0           | Siracusa                             | Italia                 |  37.0599 |   15.2933  |         0 |         0 |         0 |         0 |         0 |         0 |         0 |         0 |         0 |         0 |        0 |        0 |        0 |        0 |        0 |        0 |        0 |        0 |        0 |         0 |         0 |         0 |         0 |         0 |         0 |         0 |         0 |         0 |         0 |         0 |         0 |         0 |         0 |         0 |         0 |         0 |         0 |         0 |         0 |        0 |        0 |        0 |        0 |        0 |        0 |        0 |        0 |        0 |         2 |         3 |\n",
       "|  86 | Confirmed |       0           | Trapani                              | Italia                 |  38.0185 |   12.5137  |         0 |         0 |         0 |         0 |         0 |         0 |         0 |         0 |         0 |         0 |        0 |        0 |        0 |        0 |        0 |        0 |        0 |        0 |        0 |         0 |         0 |         0 |         0 |         0 |         0 |         0 |         0 |         0 |         0 |         0 |         0 |         0 |         0 |         0 |         0 |         0 |         0 |         0 |         0 |        0 |        0 |        0 |        0 |        0 |        0 |        0 |        0 |        0 |         0 |         2 |\n",
       "|  87 | Confirmed |       0           | Arezzo                               | Italia                 |  43.4664 |   11.8823  |         0 |         0 |         0 |         0 |         0 |         0 |         0 |         0 |         0 |         0 |        0 |        0 |        0 |        0 |        0 |        0 |        0 |        0 |        0 |         0 |         0 |         0 |         0 |         0 |         0 |         0 |         0 |         0 |         0 |         0 |         0 |         0 |         0 |         0 |         0 |         0 |         0 |         0 |         0 |        0 |        0 |        0 |        0 |        0 |        0 |        0 |        0 |        0 |        13 |        14 |\n",
       "|  88 | Confirmed |       0           | Firenze                              | Italia                 |  43.7692 |   11.2559  |         0 |         0 |         0 |         0 |         0 |         0 |         0 |         0 |         0 |         0 |        0 |        0 |        0 |        0 |        0 |        0 |        0 |        0 |        0 |         0 |         0 |         0 |         0 |         0 |         0 |         0 |         0 |         0 |         0 |         0 |         0 |         0 |         0 |         0 |         1 |         2 |         1 |         7 |         5 |        0 |        0 |        0 |        0 |        0 |        0 |        0 |        0 |        0 |        61 |        71 |\n",
       "|  89 | Confirmed |       0           | Grosseto                             | Italia                 |  42.7603 |   11.1136  |         0 |         0 |         0 |         0 |         0 |         0 |         0 |         0 |         0 |         0 |        0 |        0 |        0 |        0 |        0 |        0 |        0 |        0 |        0 |         0 |         0 |         0 |         0 |         0 |         0 |         0 |         0 |         0 |         0 |         0 |         0 |         0 |         0 |         0 |         0 |         0 |         0 |         0 |         0 |        0 |        0 |        0 |        0 |        0 |        0 |        0 |        0 |        0 |        10 |        12 |\n",
       "|  90 | Confirmed |       0           | Livorno                              | Italia                 |  43.5523 |   10.3087  |         0 |         0 |         0 |         0 |         0 |         0 |         0 |         0 |         0 |         0 |        0 |        0 |        0 |        0 |        0 |        0 |        0 |        0 |        0 |         0 |         0 |         0 |         0 |         0 |         0 |         0 |         0 |         0 |         0 |         0 |         0 |         0 |         0 |         0 |         0 |         0 |         0 |         0 |         0 |        0 |        0 |        0 |        0 |        0 |        0 |        0 |        0 |        0 |        14 |        16 |\n",
       "|  91 | Confirmed |       0           | Lucca                                | Italia                 |  43.8443 |   10.5015  |         0 |         0 |         0 |         0 |         0 |         0 |         0 |         0 |         0 |         0 |        0 |        0 |        0 |        0 |        0 |        0 |        0 |        0 |        0 |         0 |         0 |         0 |         0 |         0 |         0 |         0 |         0 |         0 |         0 |         0 |         0 |         0 |         0 |         0 |         0 |         0 |         0 |         0 |         1 |        0 |        0 |        0 |        0 |        0 |        0 |        0 |        0 |        0 |        37 |        43 |\n",
       "|  92 | Confirmed |       0           | Massa Carrara                        | Italia                 |  44.0367 |   10.1417  |         0 |         0 |         0 |         0 |         0 |         0 |         0 |         0 |         0 |         0 |        0 |        0 |        0 |        0 |        0 |        0 |        0 |        0 |        0 |         0 |         0 |         0 |         0 |         0 |         0 |         0 |         0 |         0 |         0 |         0 |         0 |         0 |         0 |         0 |         0 |         0 |         0 |         0 |         1 |        0 |        0 |        0 |        0 |        0 |        0 |        0 |        0 |        0 |        37 |        40 |\n",
       "|  93 | Confirmed |       0           | Pisa                                 | Italia                 |  43.7155 |   10.4013  |         0 |         0 |         0 |         0 |         0 |         0 |         0 |         0 |         0 |         0 |        0 |        0 |        0 |        0 |        0 |        0 |        0 |        0 |        0 |         0 |         0 |         0 |         0 |         0 |         0 |         0 |         0 |         0 |         0 |         0 |         0 |         0 |         0 |         0 |         0 |         0 |         0 |         0 |         0 |        0 |        0 |        0 |        0 |        0 |        0 |        0 |        0 |        0 |        31 |        34 |\n",
       "|  94 | Confirmed |       0           | Pistoia                              | Italia                 |  43.9335 |   10.9173  |         0 |         0 |         0 |         0 |         0 |         0 |         0 |         0 |         0 |         0 |        0 |        0 |        0 |        0 |        0 |        0 |        0 |        0 |        0 |         0 |         0 |         0 |         0 |         0 |         0 |         0 |         0 |         0 |         0 |         0 |         0 |         0 |         0 |         0 |         1 |         0 |         1 |         1 |         1 |        0 |        0 |        0 |        0 |        0 |        0 |        0 |        0 |        0 |        21 |        32 |\n",
       "|  95 | Confirmed |       0           | Prato                                | Italia                 |  43.8806 |   11.097   |         0 |         0 |         0 |         0 |         0 |         0 |         0 |         0 |         0 |         0 |        0 |        0 |        0 |        0 |        0 |        0 |        0 |        0 |        0 |         0 |         0 |         0 |         0 |         0 |         0 |         0 |         0 |         0 |         0 |         0 |         0 |         0 |         0 |         0 |         0 |         0 |         0 |         0 |         0 |        0 |        0 |        0 |        0 |        0 |        0 |        0 |        0 |        0 |         7 |        21 |\n",
       "|  96 | Confirmed |       0           | Siena                                | Italia                 |  43.3182 |   11.3319  |         0 |         0 |         0 |         0 |         0 |         0 |         0 |         0 |         0 |         0 |        0 |        0 |        0 |        0 |        0 |        0 |        0 |        0 |        0 |         0 |         0 |         0 |         0 |         0 |         0 |         0 |         0 |         0 |         0 |         0 |         0 |         0 |         0 |         0 |         0 |         0 |         0 |         0 |         3 |        0 |        0 |        0 |        0 |        0 |        0 |        0 |        0 |        0 |        33 |        37 |\n",
       "|  97 | Confirmed |       0           | Trento                               | Italia                 |  46.0689 |   11.1212  |         0 |         0 |         0 |         0 |         0 |         0 |         0 |         0 |         0 |         0 |        0 |        0 |        0 |        0 |        0 |        0 |        0 |        0 |        0 |         0 |         0 |         0 |         0 |         0 |         0 |         0 |         0 |         0 |         0 |         0 |         0 |         0 |         0 |         0 |         0 |         0 |         0 |         0 |         0 |        0 |        0 |        0 |        0 |        0 |        0 |        0 |        0 |        0 |        52 |        77 |\n",
       "|  98 | Confirmed |       0           | Perugia                              | Italia                 |  43.1068 |   12.3882  |         0 |         0 |         0 |         0 |         0 |         0 |         0 |         0 |         0 |         0 |        0 |        0 |        0 |        0 |        0 |        0 |        0 |        0 |        0 |         0 |         0 |         0 |         0 |         0 |         0 |         0 |         0 |         0 |         0 |         0 |         0 |         0 |         0 |         0 |         0 |         0 |         0 |         0 |         0 |        0 |        0 |        0 |        0 |        0 |        0 |        0 |        0 |        0 |        13 |        26 |\n",
       "|  99 | Confirmed |       0           | Terni                                | Italia                 |  42.5607 |   12.6467  |         0 |         0 |         0 |         0 |         0 |         0 |         0 |         0 |         0 |         0 |        0 |        0 |        0 |        0 |        0 |        0 |        0 |        0 |        0 |         0 |         0 |         0 |         0 |         0 |         0 |         0 |         0 |         0 |         0 |         0 |         0 |         0 |         0 |         0 |         0 |         0 |         0 |         0 |         0 |        0 |        0 |        0 |        0 |        0 |        0 |        0 |        0 |        0 |        24 |        18 |\n",
       "| 100 | Confirmed |       0           | Aosta                                | Italia                 |  45.7375 |    7.32015 |         0 |         0 |         0 |         0 |         0 |         0 |         0 |         0 |         0 |         0 |        0 |        0 |        0 |        0 |        0 |        0 |        0 |        0 |        0 |         0 |         0 |         0 |         0 |         0 |         0 |         0 |         0 |         0 |         0 |         0 |         0 |         0 |         0 |         0 |         0 |         0 |         0 |         0 |         0 |        0 |        0 |        0 |        0 |        0 |        0 |        0 |        0 |        0 |        17 |        20 |\n",
       "| 101 | Confirmed |       0           | Belluno                              | Italia                 |  46.1384 |   12.217   |         0 |         0 |         0 |         0 |         0 |         0 |         0 |         0 |         0 |         0 |        0 |        0 |        0 |        0 |        0 |        0 |        0 |        0 |        0 |         0 |         0 |         0 |         0 |         0 |         0 |         0 |         0 |         0 |         0 |         0 |         0 |         0 |         0 |         0 |         0 |         0 |         0 |         0 |         0 |        0 |        0 |        0 |        0 |        0 |        0 |        0 |        0 |        0 |        29 |        30 |\n",
       "| 102 | Confirmed |       0           | Padova                               | Italia                 |  45.4069 |   11.8761  |         0 |         0 |         0 |         0 |         0 |         0 |         0 |         0 |         0 |         0 |        0 |        0 |        0 |        0 |        0 |        0 |        0 |        0 |        0 |         0 |         0 |         0 |         0 |         0 |         0 |         0 |         0 |         0 |         0 |         0 |         0 |         0 |         0 |         0 |        30 |        40 |        59 |        68 |        81 |        0 |        0 |        0 |        0 |        0 |        0 |        0 |        0 |        0 |       296 |       373 |\n",
       "| 103 | Confirmed |       0           | Rovigo                               | Italia                 |  45.0711 |   11.7901  |         0 |         0 |         0 |         0 |         0 |         0 |         0 |         0 |         0 |         0 |        0 |        0 |        0 |        0 |        0 |        0 |        0 |        0 |        0 |         0 |         0 |         0 |         0 |         0 |         0 |         0 |         0 |         0 |         0 |         0 |         0 |         0 |         0 |         0 |         0 |         0 |         0 |         0 |         0 |        0 |        0 |        0 |        0 |        0 |        0 |        0 |        0 |        0 |        10 |        14 |\n",
       "| 104 | Confirmed |       0           | Treviso                              | Italia                 |  45.6675 |   12.2451  |         0 |         0 |         0 |         0 |         0 |         0 |         0 |         0 |         0 |         0 |        0 |        0 |        0 |        0 |        0 |        0 |        0 |        0 |        0 |         0 |         0 |         0 |         0 |         0 |         0 |         0 |         0 |         0 |         0 |         0 |         0 |         0 |         0 |         0 |         1 |         2 |        22 |        23 |        35 |        0 |        0 |        0 |        0 |        0 |        0 |        0 |        0 |        0 |       158 |       185 |\n",
       "| 105 | Confirmed |       0           | Venezia                              | Italia                 |  45.4349 |   12.3385  |         0 |         0 |         0 |         0 |         0 |         0 |         0 |         0 |         0 |         0 |        0 |        0 |        0 |        0 |        0 |        0 |        0 |        0 |        0 |         0 |         0 |         0 |         0 |         0 |         0 |         0 |         0 |         0 |         0 |         0 |         0 |         0 |         0 |         0 |         7 |         8 |        14 |        15 |        19 |        0 |        0 |        0 |        0 |        0 |        0 |        0 |        0 |        0 |       152 |       179 |\n",
       "| 106 | Confirmed |       0           | Verona                               | Italia                 |  45.4384 |   10.9935  |         0 |         0 |         0 |         0 |         0 |         0 |         0 |         0 |         0 |         0 |        0 |        0 |        0 |        0 |        0 |        0 |        0 |        0 |        0 |         0 |         0 |         0 |         0 |         0 |         0 |         0 |         0 |         0 |         0 |         0 |         0 |         0 |         0 |         0 |         0 |         0 |         0 |         0 |         0 |        0 |        0 |        0 |        0 |        0 |        0 |        0 |        0 |        0 |        96 |       110 |\n",
       "| 107 | Confirmed |       0           | Vicenza                              | Italia                 |  45.5475 |   11.546   |         0 |         0 |         0 |         0 |         0 |         0 |         0 |         0 |         0 |         0 |        0 |        0 |        0 |        0 |        0 |        0 |        0 |        0 |        0 |         0 |         0 |         0 |         0 |         0 |         0 |         0 |         0 |         0 |         0 |         0 |         0 |         0 |         0 |         0 |         0 |         0 |         3 |         3 |         3 |        0 |        0 |        0 |        0 |        0 |        0 |        0 |        0 |        0 |        73 |        92 |\n",
       "| 108 | Confirmed |       0           | 0Thailand                            | Thailand               |  15      |  101       |         2 |         3 |         5 |         7 |         8 |         8 |        14 |        14 |        14 |        19 |       19 |       19 |       19 |       25 |       25 |       25 |       25 |       32 |       32 |        32 |        33 |        33 |        33 |        33 |        33 |        34 |        35 |        35 |        35 |        35 |        35 |        35 |        35 |        35 |        37 |        40 |        40 |        41 |        42 |       42 |       43 |       43 |       43 |       47 |       48 |       50 |       50 |       50 |        53 |        59 |\n",
       "| 109 | Confirmed |       0           | 1Japan                               | Japan                  |  36      |  138       |         2 |         1 |         2 |         2 |         4 |         4 |         7 |         7 |        11 |        15 |       20 |       20 |       20 |       22 |       22 |       45 |       25 |       25 |       26 |        26 |        26 |        28 |        28 |        29 |        43 |        59 |        66 |        74 |        84 |        94 |       105 |       122 |       147 |       159 |       170 |       189 |       214 |       228 |       241 |      256 |      274 |      293 |      331 |      360 |      420 |      461 |      502 |      511 |       581 |       639 |\n",
       "| 110 | Confirmed |       0           | 2Singapore                           | Singapore              |   1.2833 |  103.833   |         0 |         1 |         3 |         3 |         4 |         5 |         7 |         7 |        10 |        13 |       16 |       18 |       18 |       24 |       28 |       28 |       30 |       33 |       40 |        45 |        47 |        50 |        58 |        67 |        72 |        75 |        77 |        81 |        84 |        84 |        85 |        85 |        89 |        89 |        91 |        93 |        93 |        93 |       102 |      106 |      108 |      110 |      110 |      117 |      130 |      138 |      150 |      150 |       160 |       178 |\n",
       "| 111 | Confirmed |       0           | 3Nepal                               | Nepal                  |  28.1667 |   84.25    |         0 |         0 |         0 |         1 |         1 |         1 |         1 |         1 |         1 |         1 |        1 |        1 |        1 |        1 |        1 |        1 |        1 |        1 |        1 |         1 |         1 |         1 |         1 |         1 |         1 |         1 |         1 |         1 |         1 |         1 |         1 |         1 |         1 |         1 |         1 |         1 |         1 |         1 |         1 |        1 |        1 |        1 |        1 |        1 |        1 |        1 |        1 |        1 |         1 |         1 |\n",
       "| 112 | Confirmed |       0           | 4Malaysia                            | Malaysia               |   2.5    |  112.5     |         0 |         0 |         0 |         3 |         4 |         4 |         4 |         7 |         8 |         8 |        8 |        8 |        8 |       10 |       12 |       12 |       12 |       16 |       16 |        18 |        18 |        18 |        19 |        19 |        22 |        22 |        22 |        22 |        22 |        22 |        22 |        22 |        22 |        22 |        22 |        22 |        23 |        23 |        25 |       29 |       29 |       36 |       50 |       50 |       83 |       93 |       99 |      117 |       129 |       149 |\n",
       "| 113 | Confirmed |       3.42642e+06 | British Columbia                     | Canada                 |  49.2827 | -123.121   |         0 |         0 |         0 |         0 |         0 |         0 |         1 |         1 |         1 |         1 |        1 |        1 |        1 |        1 |        2 |        2 |        4 |        4 |        4 |         4 |         4 |         4 |         4 |         4 |         4 |         4 |         5 |         5 |         5 |         5 |         6 |         6 |         6 |         6 |         7 |         7 |         7 |         7 |         8 |        8 |        8 |        9 |       12 |       13 |       21 |       21 |       27 |       32 |        32 |        39 |\n",
       "| 114 | Confirmed |       7.02054e+06 | New South Wales                      | Australia              | -33.8688 |  151.209   |         0 |         0 |         0 |         0 |         3 |         4 |         4 |         4 |         4 |         4 |        4 |        4 |        4 |        4 |        4 |        4 |        4 |        4 |        4 |         4 |         4 |         4 |         4 |         4 |         4 |         4 |         4 |         4 |         4 |         4 |         4 |         4 |         4 |         4 |         4 |         4 |         4 |         4 |         4 |        6 |        6 |       13 |       22 |       22 |       26 |       28 |       38 |       48 |        55 |        65 |\n",
       "| 116 | Confirmed |       3.32551e+06 | Queensland                           | Australia              | -28.0167 |  153.4     |         0 |         0 |         0 |         0 |         0 |         0 |         0 |         1 |         3 |         2 |        3 |        2 |        2 |        3 |        3 |        4 |        5 |        5 |        5 |         5 |         5 |         5 |         5 |         5 |         5 |         5 |         5 |         5 |         5 |         5 |         5 |         5 |         5 |         5 |         5 |         5 |         5 |         5 |         9 |        9 |        9 |       11 |       11 |       13 |       13 |       13 |       15 |       15 |        18 |        20 |\n",
       "| 117 | Confirmed |       0           | 9Cambodia                            | Cambodia               |  11.55   |  104.917   |         0 |         0 |         0 |         0 |         0 |         1 |         1 |         1 |         1 |         1 |        1 |        1 |        1 |        1 |        1 |        1 |        1 |        1 |        1 |         1 |         1 |         1 |         1 |         1 |         1 |         1 |         1 |         1 |         1 |         1 |         1 |         1 |         1 |         1 |         1 |         1 |         1 |         1 |         1 |        1 |        1 |        1 |        1 |        1 |        1 |        1 |        2 |        2 |         2 |         3 |\n",
       "| 118 | Confirmed |       0           | 10Sri Lanka                          | Sri Lanka              |   7      |   81       |         0 |         0 |         0 |         0 |         0 |         1 |         1 |         1 |         1 |         1 |        1 |        1 |        1 |        1 |        1 |        1 |        1 |        1 |        1 |         1 |         1 |         1 |         1 |         1 |         1 |         1 |         1 |         1 |         1 |         1 |         1 |         1 |         1 |         1 |         1 |         1 |         1 |         1 |         1 |        1 |        1 |        1 |        1 |        1 |        1 |        1 |        1 |        1 |         1 |         2 |\n",
       "| 119 | Confirmed |       0           | 11Germany                            | Germany                |  51      |    9       |         0 |         0 |         0 |         0 |         0 |         1 |         4 |         4 |         4 |         5 |        8 |       10 |       12 |       12 |       12 |       12 |       13 |       13 |       14 |        14 |        16 |        16 |        16 |        16 |        16 |        16 |        16 |        16 |        16 |        16 |        16 |        16 |        16 |        16 |        17 |        27 |        46 |        48 |        79 |      130 |      159 |      196 |      262 |      482 |      670 |      799 |     1040 |     1176 |      1457 |      1908 |\n",
       "| 120 | Confirmed |       0           | 12Finland                            | Finland                |  64      |   26       |         0 |         0 |         0 |         0 |         0 |         0 |         0 |         1 |         1 |         1 |        1 |        1 |        1 |        1 |        1 |        1 |        1 |        1 |        1 |         1 |         1 |         1 |         1 |         1 |         1 |         1 |         1 |         1 |         1 |         1 |         1 |         1 |         1 |         1 |         1 |         2 |         2 |         2 |         3 |        6 |        6 |        6 |        6 |       12 |       15 |       15 |       23 |       30 |        40 |        59 |\n",
       "| 121 | Confirmed |       0           | 13United Arab Emirates               | United Arab Emirates   |  24      |   54       |         0 |         0 |         0 |         0 |         0 |         0 |         0 |         4 |         4 |         4 |        4 |        5 |        5 |        5 |        5 |        5 |        5 |        7 |        7 |         8 |         8 |         8 |         8 |         8 |         8 |         9 |         9 |         9 |         9 |         9 |         9 |        13 |        13 |        13 |        13 |        13 |        13 |        19 |        21 |       21 |       21 |       27 |       27 |       29 |       29 |       45 |       45 |       45 |        74 |        74 |\n",
       "| 122 | Confirmed |       0           | 14Philippines                        | Philippines            |  13      |  122       |         0 |         0 |         0 |         0 |         0 |         0 |         0 |         0 |         1 |         1 |        1 |        2 |        2 |        2 |        2 |        2 |        3 |        3 |        3 |         3 |         3 |         3 |         3 |         3 |         3 |         3 |         3 |         3 |         3 |         3 |         3 |         3 |         3 |         3 |         3 |         3 |         3 |         3 |         3 |        3 |        3 |        3 |        3 |        3 |        5 |        6 |       10 |       20 |        33 |        49 |\n",
       "| 123 | Confirmed |       0           | 15India                              | India                  |  21      |   78       |         0 |         0 |         0 |         0 |         0 |         0 |         0 |         0 |         1 |         1 |        1 |        2 |        3 |        3 |        3 |        3 |        3 |        3 |        3 |         3 |         3 |         3 |         3 |         3 |         3 |         3 |         3 |         3 |         3 |         3 |         3 |         3 |         3 |         3 |         3 |         3 |         3 |         3 |         3 |        3 |        5 |        5 |       28 |       30 |       31 |       34 |       39 |       43 |        56 |        62 |\n",
       "| 124 | Confirmed |       0           | 16Italy                              | Italy                  |  43      |   12       |         0 |         0 |         0 |         0 |         0 |         0 |         0 |         0 |         0 |         2 |        2 |        2 |        2 |        2 |        2 |        2 |        3 |        3 |        3 |         3 |         3 |         3 |         3 |         3 |         3 |         3 |         3 |         3 |         3 |         3 |        20 |        62 |       155 |       229 |       322 |       453 |       655 |       888 |      1128 |     1694 |     2036 |     2502 |     3089 |     3858 |     4636 |     5883 |     7375 |     9172 |     10149 |     12462 |\n",
       "| 125 | Confirmed |       0           | 17Sweden                             | Sweden                 |  63      |   16       |         0 |         0 |         0 |         0 |         0 |         0 |         0 |         0 |         0 |         1 |        1 |        1 |        1 |        1 |        1 |        1 |        1 |        1 |        1 |         1 |         1 |         1 |         1 |         1 |         1 |         1 |         1 |         1 |         1 |         1 |         1 |         1 |         1 |         1 |         1 |         2 |         7 |         7 |        12 |       14 |       15 |       21 |       35 |       94 |      101 |      161 |      203 |      248 |       355 |       500 |\n",
       "| 126 | Confirmed |       0           | 18Spain                              | Spain                  |  40      |   -4       |         0 |         0 |         0 |         0 |         0 |         0 |         0 |         0 |         0 |         0 |        1 |        1 |        1 |        1 |        1 |        1 |        1 |        1 |        2 |         2 |         2 |         2 |         2 |         2 |         2 |         2 |         2 |         2 |         2 |         2 |         2 |         2 |         2 |         2 |         6 |        13 |        15 |        32 |        45 |       84 |      120 |      165 |      222 |      259 |      400 |      500 |      673 |     1073 |      1695 |      2277 |\n",
       "| 127 | Confirmed |       1.2978e+06  | South Australia                      | Australia              | -34.9285 |  138.601   |         0 |         0 |         0 |         0 |         0 |         0 |         0 |         0 |         0 |         0 |        1 |        2 |        2 |        2 |        2 |        2 |        2 |        2 |        2 |         2 |         2 |         2 |         2 |         2 |         2 |         2 |         2 |         2 |         2 |         2 |         2 |         2 |         2 |         2 |         2 |         2 |         2 |         2 |         3 |        3 |        3 |        3 |        5 |        5 |        7 |        7 |        7 |        7 |         7 |         9 |\n",
       "| 128 | Confirmed |       0           | 20Belgium                            | Belgium                |  50.8333 |    4       |         0 |         0 |         0 |         0 |         0 |         0 |         0 |         0 |         0 |         0 |        0 |        0 |        0 |        1 |        1 |        1 |        1 |        1 |        1 |         1 |         1 |         1 |         1 |         1 |         1 |         1 |         1 |         1 |         1 |         1 |         1 |         1 |         1 |         1 |         1 |         1 |         1 |         1 |         1 |        2 |        8 |       13 |       23 |       50 |      109 |      169 |      200 |      239 |       267 |       314 |\n",
       "| 129 | Confirmed |       0           | 21Egypt                              | Egypt                  |  26      |   30       |         0 |         0 |         0 |         0 |         0 |         0 |         0 |         0 |         0 |         0 |        0 |        0 |        0 |        0 |        0 |        0 |        0 |        0 |        0 |         0 |         0 |         0 |         0 |         1 |         1 |         1 |         1 |         1 |         1 |         1 |         1 |         1 |         1 |         1 |         1 |         1 |         1 |         1 |         1 |        2 |        2 |        2 |        2 |        3 |       15 |       15 |       49 |       55 |        59 |        60 |\n",
       "| 130 | Confirmed |       0           | From Diamond Princess                | Australia              |  35.4437 |  139.638   |         0 |         0 |         0 |         0 |         0 |         0 |         0 |         0 |         0 |         0 |        0 |        0 |        0 |        0 |        0 |        0 |        0 |        0 |        0 |         0 |         0 |         0 |         0 |         0 |         0 |         0 |         0 |         0 |         0 |         0 |         4 |         7 |         7 |         7 |         7 |         7 |         8 |         8 |         0 |        0 |        0 |        0 |        0 |        0 |        0 |        0 |        0 |        0 |         0 |         0 |\n",
       "| 131 | Confirmed |       0           | 23Lebanon                            | Lebanon                |  33.8547 |   35.8623  |         0 |         0 |         0 |         0 |         0 |         0 |         0 |         0 |         0 |         0 |        0 |        0 |        0 |        0 |        0 |        0 |        0 |        0 |        0 |         0 |         0 |         0 |         0 |         0 |         0 |         0 |         0 |         0 |         0 |         0 |         1 |         1 |         1 |         1 |         1 |         2 |         2 |         2 |         4 |       10 |       13 |       13 |       13 |       16 |       22 |       22 |       32 |       32 |        41 |        61 |\n",
       "| 132 | Confirmed |       0           | 24Iraq                               | Iraq                   |  33      |   44       |         0 |         0 |         0 |         0 |         0 |         0 |         0 |         0 |         0 |         0 |        0 |        0 |        0 |        0 |        0 |        0 |        0 |        0 |        0 |         0 |         0 |         0 |         0 |         0 |         0 |         0 |         0 |         0 |         0 |         0 |         0 |         0 |         0 |         1 |         1 |         5 |         7 |         7 |        13 |       19 |       26 |       32 |       35 |       35 |       40 |       54 |       60 |       60 |        71 |        71 |\n",
       "| 133 | Confirmed |       0           | 25Oman                               | Oman                   |  21      |   57       |         0 |         0 |         0 |         0 |         0 |         0 |         0 |         0 |         0 |         0 |        0 |        0 |        0 |        0 |        0 |        0 |        0 |        0 |        0 |         0 |         0 |         0 |         0 |         0 |         0 |         0 |         0 |         0 |         0 |         0 |         0 |         0 |         0 |         2 |         2 |         4 |         4 |         4 |         6 |        6 |        6 |       12 |       15 |       16 |       16 |       16 |       16 |       16 |        18 |        18 |\n",
       "| 134 | Confirmed |       0           | 26Afghanistan                        | Afghanistan            |  33      |   65       |         0 |         0 |         0 |         0 |         0 |         0 |         0 |         0 |         0 |         0 |        0 |        0 |        0 |        0 |        0 |        0 |        0 |        0 |        0 |         0 |         0 |         0 |         0 |         0 |         0 |         0 |         0 |         0 |         0 |         0 |         0 |         0 |         0 |         1 |         1 |         1 |         1 |         1 |         1 |        1 |        1 |        1 |        1 |        1 |        1 |        1 |        4 |        4 |         5 |         7 |\n",
       "| 135 | Confirmed |       0           | 27Bahrain                            | Bahrain                |  26.0275 |   50.55    |         0 |         0 |         0 |         0 |         0 |         0 |         0 |         0 |         0 |         0 |        0 |        0 |        0 |        0 |        0 |        0 |        0 |        0 |        0 |         0 |         0 |         0 |         0 |         0 |         0 |         0 |         0 |         0 |         0 |         0 |         0 |         0 |         0 |         1 |        23 |        33 |        33 |        36 |        41 |       47 |       49 |       49 |       52 |       55 |       60 |       85 |       85 |       95 |       110 |       195 |\n",
       "| 136 | Confirmed |       0           | 28Kuwait                             | Kuwait                 |  29.5    |   47.75    |         0 |         0 |         0 |         0 |         0 |         0 |         0 |         0 |         0 |         0 |        0 |        0 |        0 |        0 |        0 |        0 |        0 |        0 |        0 |         0 |         0 |         0 |         0 |         0 |         0 |         0 |         0 |         0 |         0 |         0 |         0 |         0 |         0 |         1 |        11 |        26 |        43 |        45 |        45 |       45 |       56 |       56 |       56 |       58 |       58 |       61 |       64 |       64 |        69 |        72 |\n",
       "| 137 | Confirmed |       0           | 29Algeria                            | Algeria                |  28.0339 |    1.6596  |         0 |         0 |         0 |         0 |         0 |         0 |         0 |         0 |         0 |         0 |        0 |        0 |        0 |        0 |        0 |        0 |        0 |        0 |        0 |         0 |         0 |         0 |         0 |         0 |         0 |         0 |         0 |         0 |         0 |         0 |         0 |         0 |         0 |         0 |         1 |         1 |         1 |         1 |         1 |        1 |        3 |        5 |       12 |       12 |       17 |       17 |       19 |       20 |        20 |        20 |\n",
       "| 138 | Confirmed |       0           | 30Croatia                            | Croatia                |  45.1    |   15.2     |         0 |         0 |         0 |         0 |         0 |         0 |         0 |         0 |         0 |         0 |        0 |        0 |        0 |        0 |        0 |        0 |        0 |        0 |        0 |         0 |         0 |         0 |         0 |         0 |         0 |         0 |         0 |         0 |         0 |         0 |         0 |         0 |         0 |         0 |         1 |         3 |         3 |         5 |         6 |        7 |        7 |        9 |       10 |       10 |       11 |       12 |       12 |       12 |        14 |        19 |\n",
       "| 139 | Confirmed |       0           | 31Switzerland                        | Switzerland            |  46.8182 |    8.2275  |         0 |         0 |         0 |         0 |         0 |         0 |         0 |         0 |         0 |         0 |        0 |        0 |        0 |        0 |        0 |        0 |        0 |        0 |        0 |         0 |         0 |         0 |         0 |         0 |         0 |         0 |         0 |         0 |         0 |         0 |         0 |         0 |         0 |         0 |         1 |         1 |         8 |         8 |        18 |       27 |       42 |       56 |       90 |      114 |      214 |      268 |      337 |      374 |       491 |       652 |\n",
       "| 140 | Confirmed |       0           | 32Austria                            | Austria                |  47.5162 |   14.5501  |         0 |         0 |         0 |         0 |         0 |         0 |         0 |         0 |         0 |         0 |        0 |        0 |        0 |        0 |        0 |        0 |        0 |        0 |        0 |         0 |         0 |         0 |         0 |         0 |         0 |         0 |         0 |         0 |         0 |         0 |         0 |         0 |         0 |         0 |         2 |         2 |         3 |         3 |         9 |       14 |       18 |       21 |       29 |       41 |       55 |       79 |      104 |      131 |       182 |       246 |\n",
       "| 141 | Confirmed |       0           | 33Israel                             | Israel                 |  31      |   35       |         0 |         0 |         0 |         0 |         0 |         0 |         0 |         0 |         0 |         0 |        0 |        0 |        0 |        0 |        0 |        0 |        0 |        0 |        0 |         0 |         0 |         0 |         0 |         0 |         0 |         0 |         0 |         0 |         0 |         0 |         1 |         1 |         1 |         1 |         1 |         2 |         3 |         4 |         7 |       10 |       10 |       12 |       15 |       20 |       37 |       43 |       61 |       61 |        83 |       109 |\n",
       "| 142 | Confirmed |       0           | 34Pakistan                           | Pakistan               |  30.3753 |   69.3451  |         0 |         0 |         0 |         0 |         0 |         0 |         0 |         0 |         0 |         0 |        0 |        0 |        0 |        0 |        0 |        0 |        0 |        0 |        0 |         0 |         0 |         0 |         0 |         0 |         0 |         0 |         0 |         0 |         0 |         0 |         0 |         0 |         0 |         0 |         0 |         2 |         2 |         2 |         4 |        4 |        4 |        5 |        5 |        5 |        6 |        6 |        6 |        6 |        16 |        19 |\n",
       "| 143 | Confirmed |       0           | 35Brazil                             | Brazil                 | -14.235  |  -51.9253  |         0 |         0 |         0 |         0 |         0 |         0 |         0 |         0 |         0 |         0 |        0 |        0 |        0 |        0 |        0 |        0 |        0 |        0 |        0 |         0 |         0 |         0 |         0 |         0 |         0 |         0 |         0 |         0 |         0 |         0 |         0 |         0 |         0 |         0 |         0 |         1 |         1 |         1 |         2 |        2 |        2 |        2 |        4 |        4 |       13 |       13 |       20 |       25 |        31 |        38 |\n",
       "| 144 | Confirmed |       0           | 36Georgia                            | Georgia                |  42.3154 |   43.3569  |         0 |         0 |         0 |         0 |         0 |         0 |         0 |         0 |         0 |         0 |        0 |        0 |        0 |        0 |        0 |        0 |        0 |        0 |        0 |         0 |         0 |         0 |         0 |         0 |         0 |         0 |         0 |         0 |         0 |         0 |         0 |         0 |         0 |         0 |         0 |         1 |         1 |         1 |         1 |        3 |        3 |        3 |        3 |        4 |        4 |        4 |       13 |       15 |        15 |        24 |\n",
       "| 145 | Confirmed |       0           | 37Greece                             | Greece                 |  39.0742 |   21.8243  |         0 |         0 |         0 |         0 |         0 |         0 |         0 |         0 |         0 |         0 |        0 |        0 |        0 |        0 |        0 |        0 |        0 |        0 |        0 |         0 |         0 |         0 |         0 |         0 |         0 |         0 |         0 |         0 |         0 |         0 |         0 |         0 |         0 |         0 |         0 |         1 |         3 |         4 |         4 |        7 |        7 |        7 |        9 |       31 |       45 |       46 |       73 |       73 |        89 |        99 |\n",
       "| 146 | Confirmed |       0           | 38North Macedonia                    | North Macedonia        |  41.6086 |   21.7453  |         0 |         0 |         0 |         0 |         0 |         0 |         0 |         0 |         0 |         0 |        0 |        0 |        0 |        0 |        0 |        0 |        0 |        0 |        0 |         0 |         0 |         0 |         0 |         0 |         0 |         0 |         0 |         0 |         0 |         0 |         0 |         0 |         0 |         0 |         0 |         1 |         1 |         1 |         1 |        1 |        1 |        1 |        1 |        1 |        3 |        3 |        3 |        3 |         7 |         7 |\n",
       "| 147 | Confirmed |       0           | 39Norway                             | Norway                 |  60.472  |    8.4689  |         0 |         0 |         0 |         0 |         0 |         0 |         0 |         0 |         0 |         0 |        0 |        0 |        0 |        0 |        0 |        0 |        0 |        0 |        0 |         0 |         0 |         0 |         0 |         0 |         0 |         0 |         0 |         0 |         0 |         0 |         0 |         0 |         0 |         0 |         0 |         1 |         1 |         6 |        15 |       19 |       25 |       32 |       56 |       87 |      108 |      147 |      176 |      205 |       400 |       598 |\n",
       "| 148 | Confirmed |       0           | 40Romania                            | Romania                |  45.9432 |   24.9668  |         0 |         0 |         0 |         0 |         0 |         0 |         0 |         0 |         0 |         0 |        0 |        0 |        0 |        0 |        0 |        0 |        0 |        0 |        0 |         0 |         0 |         0 |         0 |         0 |         0 |         0 |         0 |         0 |         0 |         0 |         0 |         0 |         0 |         0 |         0 |         1 |         1 |         3 |         3 |        3 |        3 |        3 |        4 |        6 |        9 |        9 |       15 |       15 |        25 |        45 |\n",
       "| 149 | Confirmed |       0           | 41Estonia                            | Estonia                |  58.5953 |   25.0136  |         0 |         0 |         0 |         0 |         0 |         0 |         0 |         0 |         0 |         0 |        0 |        0 |        0 |        0 |        0 |        0 |        0 |        0 |        0 |         0 |         0 |         0 |         0 |         0 |         0 |         0 |         0 |         0 |         0 |         0 |         0 |         0 |         0 |         0 |         0 |         0 |         1 |         1 |         1 |        1 |        1 |        2 |        2 |        3 |       10 |       10 |       10 |       10 |        12 |        16 |\n",
       "| 150 | Confirmed |       0           | 42Netherlands                        | Netherlands            |  52.1326 |    5.2913  |         0 |         0 |         0 |         0 |         0 |         0 |         0 |         0 |         0 |         0 |        0 |        0 |        0 |        0 |        0 |        0 |        0 |        0 |        0 |         0 |         0 |         0 |         0 |         0 |         0 |         0 |         0 |         0 |         0 |         0 |         0 |         0 |         0 |         0 |         0 |         0 |         1 |         1 |         6 |       10 |       18 |       24 |       38 |       82 |      128 |      188 |      265 |      321 |       382 |       503 |\n",
       "| 151 | Confirmed |       0           | 43San Marino                         | San Marino             |  43.9424 |   12.4578  |         0 |         0 |         0 |         0 |         0 |         0 |         0 |         0 |         0 |         0 |        0 |        0 |        0 |        0 |        0 |        0 |        0 |        0 |        0 |         0 |         0 |         0 |         0 |         0 |         0 |         0 |         0 |         0 |         0 |         0 |         0 |         0 |         0 |         0 |         0 |         0 |         1 |         1 |         1 |        1 |        8 |       10 |       16 |       21 |       21 |       23 |       36 |       36 |        51 |        62 |\n",
       "| 152 | Confirmed |       0           | 44Belarus                            | Belarus                |  53.7098 |   27.9534  |         0 |         0 |         0 |         0 |         0 |         0 |         0 |         0 |         0 |         0 |        0 |        0 |        0 |        0 |        0 |        0 |        0 |        0 |        0 |         0 |         0 |         0 |         0 |         0 |         0 |         0 |         0 |         0 |         0 |         0 |         0 |         0 |         0 |         0 |         0 |         0 |         0 |         1 |         1 |        1 |        1 |        1 |        6 |        6 |        6 |        6 |        6 |        6 |         9 |         9 |\n",
       "| 153 | Confirmed |       0           | 45Iceland                            | Iceland                |  64.9631 |  -19.0208  |         0 |         0 |         0 |         0 |         0 |         0 |         0 |         0 |         0 |         0 |        0 |        0 |        0 |        0 |        0 |        0 |        0 |        0 |        0 |         0 |         0 |         0 |         0 |         0 |         0 |         0 |         0 |         0 |         0 |         0 |         0 |         0 |         0 |         0 |         0 |         0 |         0 |         1 |         1 |        3 |        6 |       11 |       26 |       34 |       43 |       50 |       50 |       58 |        69 |        85 |\n",
       "| 154 | Confirmed |       0           | 46Lithuania                          | Lithuania              |  55.1694 |   23.8813  |         0 |         0 |         0 |         0 |         0 |         0 |         0 |         0 |         0 |         0 |        0 |        0 |        0 |        0 |        0 |        0 |        0 |        0 |        0 |         0 |         0 |         0 |         0 |         0 |         0 |         0 |         0 |         0 |         0 |         0 |         0 |         0 |         0 |         0 |         0 |         0 |         0 |         1 |         1 |        1 |        1 |        1 |        1 |        1 |        1 |        1 |        1 |        1 |         1 |         3 |\n",
       "| 155 | Confirmed |       0           | 47Mexico                             | Mexico                 |  23.6345 | -102.553   |         0 |         0 |         0 |         0 |         0 |         0 |         0 |         0 |         0 |         0 |        0 |        0 |        0 |        0 |        0 |        0 |        0 |        0 |        0 |         0 |         0 |         0 |         0 |         0 |         0 |         0 |         0 |         0 |         0 |         0 |         0 |         0 |         0 |         0 |         0 |         0 |         0 |         1 |         4 |        5 |        5 |        5 |        5 |        5 |        6 |        6 |        7 |        7 |         7 |         8 |\n",
       "| 156 | Confirmed |       0           | 48New Zealand                        | New Zealand            | -40.9006 |  174.886   |         0 |         0 |         0 |         0 |         0 |         0 |         0 |         0 |         0 |         0 |        0 |        0 |        0 |        0 |        0 |        0 |        0 |        0 |        0 |         0 |         0 |         0 |         0 |         0 |         0 |         0 |         0 |         0 |         0 |         0 |         0 |         0 |         0 |         0 |         0 |         0 |         0 |         1 |         1 |        1 |        1 |        1 |        3 |        3 |        4 |        5 |        5 |        5 |         5 |         5 |\n",
       "| 157 | Confirmed |       0           | 49Nigeria                            | Nigeria                |   9.082  |    8.6753  |         0 |         0 |         0 |         0 |         0 |         0 |         0 |         0 |         0 |         0 |        0 |        0 |        0 |        0 |        0 |        0 |        0 |        0 |        0 |         0 |         0 |         0 |         0 |         0 |         0 |         0 |         0 |         0 |         0 |         0 |         0 |         0 |         0 |         0 |         0 |         0 |         0 |         1 |         1 |        1 |        1 |        1 |        1 |        1 |        1 |        1 |        1 |        2 |         2 |         2 |\n",
       "| 158 | Confirmed |       1.88282e+06 | Western Australia                    | Australia              | -31.9505 |  115.861   |         0 |         0 |         0 |         0 |         0 |         0 |         0 |         0 |         0 |         0 |        0 |        0 |        0 |        0 |        0 |        0 |        0 |        0 |        0 |         0 |         0 |         0 |         0 |         0 |         0 |         0 |         0 |         0 |         0 |         0 |         0 |         0 |         0 |         0 |         0 |         0 |         0 |         0 |         2 |        2 |        2 |        2 |        2 |        3 |        3 |        3 |        3 |        4 |         6 |         9 |\n",
       "| 159 | Confirmed |       0           | 51Ireland                            | Ireland                |  53.1424 |   -7.6921  |         0 |         0 |         0 |         0 |         0 |         0 |         0 |         0 |         0 |         0 |        0 |        0 |        0 |        0 |        0 |        0 |        0 |        0 |        0 |         0 |         0 |         0 |         0 |         0 |         0 |         0 |         0 |         0 |         0 |         0 |         0 |         0 |         0 |         0 |         0 |         0 |         0 |         0 |         1 |        1 |        1 |        2 |        6 |        6 |       18 |       18 |       19 |       21 |        34 |        43 |\n",
       "| 160 | Confirmed |       0           | 52Luxembourg                         | Luxembourg             |  49.8153 |    6.1296  |         0 |         0 |         0 |         0 |         0 |         0 |         0 |         0 |         0 |         0 |        0 |        0 |        0 |        0 |        0 |        0 |        0 |        0 |        0 |         0 |         0 |         0 |         0 |         0 |         0 |         0 |         0 |         0 |         0 |         0 |         0 |         0 |         0 |         0 |         0 |         0 |         0 |         0 |         1 |        1 |        1 |        1 |        1 |        1 |        2 |        2 |        3 |        3 |         5 |         7 |\n",
       "| 161 | Confirmed |       0           | 53Monaco                             | Monaco                 |  43.7333 |    7.4167  |         0 |         0 |         0 |         0 |         0 |         0 |         0 |         0 |         0 |         0 |        0 |        0 |        0 |        0 |        0 |        0 |        0 |        0 |        0 |         0 |         0 |         0 |         0 |         0 |         0 |         0 |         0 |         0 |         0 |         0 |         0 |         0 |         0 |         0 |         0 |         0 |         0 |         0 |         1 |        1 |        1 |        1 |        1 |        1 |        1 |        1 |        1 |        1 |         1 |         1 |\n",
       "| 162 | Confirmed |       0           | 54Qatar                              | Qatar                  |  25.3548 |   51.1839  |         0 |         0 |         0 |         0 |         0 |         0 |         0 |         0 |         0 |         0 |        0 |        0 |        0 |        0 |        0 |        0 |        0 |        0 |        0 |         0 |         0 |         0 |         0 |         0 |         0 |         0 |         0 |         0 |         0 |         0 |         0 |         0 |         0 |         0 |         0 |         0 |         0 |         0 |         1 |        3 |        3 |        7 |        8 |        8 |        8 |        8 |       15 |       18 |        24 |       262 |\n",
       "| 163 | Confirmed |       0           | 55Ecuador                            | Ecuador                |  -1.8312 |  -78.1834  |         0 |         0 |         0 |         0 |         0 |         0 |         0 |         0 |         0 |         0 |        0 |        0 |        0 |        0 |        0 |        0 |        0 |        0 |        0 |         0 |         0 |         0 |         0 |         0 |         0 |         0 |         0 |         0 |         0 |         0 |         0 |         0 |         0 |         0 |         0 |         0 |         0 |         0 |         0 |        6 |        6 |        7 |       10 |       13 |       13 |       13 |       14 |       15 |        15 |        17 |\n",
       "| 164 | Confirmed |       0           | 56Azerbaijan                         | Azerbaijan             |  40.1431 |   47.5769  |         0 |         0 |         0 |         0 |         0 |         0 |         0 |         0 |         0 |         0 |        0 |        0 |        0 |        0 |        0 |        0 |        0 |        0 |        0 |         0 |         0 |         0 |         0 |         0 |         0 |         0 |         0 |         0 |         0 |         0 |         0 |         0 |         0 |         0 |         0 |         0 |         0 |         0 |         0 |        3 |        3 |        3 |        3 |        6 |        6 |        9 |        9 |        9 |        11 |        11 |\n",
       "| 165 | Confirmed |       0           | 57Armenia                            | Armenia                |  40.0691 |   45.0382  |         0 |         0 |         0 |         0 |         0 |         0 |         0 |         0 |         0 |         0 |        0 |        0 |        0 |        0 |        0 |        0 |        0 |        0 |        0 |         0 |         0 |         0 |         0 |         0 |         0 |         0 |         0 |         0 |         0 |         0 |         0 |         0 |         0 |         0 |         0 |         0 |         0 |         0 |         0 |        1 |        1 |        1 |        1 |        1 |        1 |        1 |        1 |        1 |         1 |         1 |\n",
       "| 166 | Confirmed |       0           | 58Dominican Republic                 | Dominican Republic     |  18.7357 |  -70.1627  |         0 |         0 |         0 |         0 |         0 |         0 |         0 |         0 |         0 |         0 |        0 |        0 |        0 |        0 |        0 |        0 |        0 |        0 |        0 |         0 |         0 |         0 |         0 |         0 |         0 |         0 |         0 |         0 |         0 |         0 |         0 |         0 |         0 |         0 |         0 |         0 |         0 |         0 |         0 |        1 |        1 |        1 |        1 |        1 |        2 |        2 |        5 |        5 |         5 |         5 |\n",
       "| 167 | Confirmed |       0           | 59Indonesia                          | Indonesia              |  -0.7893 |  113.921   |         0 |         0 |         0 |         0 |         0 |         0 |         0 |         0 |         0 |         0 |        0 |        0 |        0 |        0 |        0 |        0 |        0 |        0 |        0 |         0 |         0 |         0 |         0 |         0 |         0 |         0 |         0 |         0 |         0 |         0 |         0 |         0 |         0 |         0 |         0 |         0 |         0 |         0 |         0 |        0 |        2 |        2 |        2 |        2 |        4 |        4 |        6 |       19 |        27 |        34 |\n",
       "| 168 | Confirmed |       0           | 60Portugal                           | Portugal               |  39.3999 |   -8.2245  |         0 |         0 |         0 |         0 |         0 |         0 |         0 |         0 |         0 |         0 |        0 |        0 |        0 |        0 |        0 |        0 |        0 |        0 |        0 |         0 |         0 |         0 |         0 |         0 |         0 |         0 |         0 |         0 |         0 |         0 |         0 |         0 |         0 |         0 |         0 |         0 |         0 |         0 |         0 |        0 |        2 |        2 |        5 |        8 |       13 |       20 |       30 |       30 |        41 |        59 |\n",
       "| 169 | Confirmed |       0           | 61Andorra                            | Andorra                |  42.5063 |    1.5218  |         0 |         0 |         0 |         0 |         0 |         0 |         0 |         0 |         0 |         0 |        0 |        0 |        0 |        0 |        0 |        0 |        0 |        0 |        0 |         0 |         0 |         0 |         0 |         0 |         0 |         0 |         0 |         0 |         0 |         0 |         0 |         0 |         0 |         0 |         0 |         0 |         0 |         0 |         0 |        0 |        1 |        1 |        1 |        1 |        1 |        1 |        1 |        1 |         1 |         1 |\n",
       "| 170 | Confirmed |  217344           | Tasmania                             | Australia              | -41.4545 |  145.971   |         0 |         0 |         0 |         0 |         0 |         0 |         0 |         0 |         0 |         0 |        0 |        0 |        0 |        0 |        0 |        0 |        0 |        0 |        0 |         0 |         0 |         0 |         0 |         0 |         0 |         0 |         0 |         0 |         0 |         0 |         0 |         0 |         0 |         0 |         0 |         0 |         0 |         0 |         0 |        0 |        1 |        1 |        1 |        1 |        1 |        1 |        2 |        2 |         2 |         3 |\n",
       "| 171 | Confirmed |       0           | 63Latvia                             | Latvia                 |  56.8796 |   24.6032  |         0 |         0 |         0 |         0 |         0 |         0 |         0 |         0 |         0 |         0 |        0 |        0 |        0 |        0 |        0 |        0 |        0 |        0 |        0 |         0 |         0 |         0 |         0 |         0 |         0 |         0 |         0 |         0 |         0 |         0 |         0 |         0 |         0 |         0 |         0 |         0 |         0 |         0 |         0 |        0 |        1 |        1 |        1 |        1 |        1 |        1 |        2 |        6 |         8 |        10 |\n",
       "| 172 | Confirmed |       0           | 64Morocco                            | Morocco                |  31.7917 |   -7.0926  |         0 |         0 |         0 |         0 |         0 |         0 |         0 |         0 |         0 |         0 |        0 |        0 |        0 |        0 |        0 |        0 |        0 |        0 |        0 |         0 |         0 |         0 |         0 |         0 |         0 |         0 |         0 |         0 |         0 |         0 |         0 |         0 |         0 |         0 |         0 |         0 |         0 |         0 |         0 |        0 |        1 |        1 |        1 |        2 |        2 |        2 |        2 |        2 |         3 |         5 |\n",
       "| 173 | Confirmed |       0           | 65Saudi Arabia                       | Saudi Arabia           |  24      |   45       |         0 |         0 |         0 |         0 |         0 |         0 |         0 |         0 |         0 |         0 |        0 |        0 |        0 |        0 |        0 |        0 |        0 |        0 |        0 |         0 |         0 |         0 |         0 |         0 |         0 |         0 |         0 |         0 |         0 |         0 |         0 |         0 |         0 |         0 |         0 |         0 |         0 |         0 |         0 |        0 |        1 |        1 |        1 |        5 |        5 |        5 |       11 |       15 |        20 |        21 |\n",
       "| 174 | Confirmed |       0           | 66Senegal                            | Senegal                |  14.4974 |  -14.4524  |         0 |         0 |         0 |         0 |         0 |         0 |         0 |         0 |         0 |         0 |        0 |        0 |        0 |        0 |        0 |        0 |        0 |        0 |        0 |         0 |         0 |         0 |         0 |         0 |         0 |         0 |         0 |         0 |         0 |         0 |         0 |         0 |         0 |         0 |         0 |         0 |         0 |         0 |         0 |        0 |        1 |        2 |        4 |        4 |        4 |        4 |        4 |        4 |         4 |         4 |\n",
       "| 175 | Confirmed |       0           | 67Argentina                          | Argentina              | -38.4161 |  -63.6167  |         0 |         0 |         0 |         0 |         0 |         0 |         0 |         0 |         0 |         0 |        0 |        0 |        0 |        0 |        0 |        0 |        0 |        0 |        0 |         0 |         0 |         0 |         0 |         0 |         0 |         0 |         0 |         0 |         0 |         0 |         0 |         0 |         0 |         0 |         0 |         0 |         0 |         0 |         0 |        0 |        0 |        1 |        1 |        1 |        2 |        8 |       12 |       12 |        17 |        19 |\n",
       "| 176 | Confirmed |       0           | 68Chile                              | Chile                  | -35.6751 |  -71.543   |         0 |         0 |         0 |         0 |         0 |         0 |         0 |         0 |         0 |         0 |        0 |        0 |        0 |        0 |        0 |        0 |        0 |        0 |        0 |         0 |         0 |         0 |         0 |         0 |         0 |         0 |         0 |         0 |         0 |         0 |         0 |         0 |         0 |         0 |         0 |         0 |         0 |         0 |         0 |        0 |        0 |        1 |        1 |        4 |        4 |        4 |        8 |        8 |        13 |        23 |\n",
       "| 177 | Confirmed |       0           | 69Jordan                             | Jordan                 |  31.24   |   36.51    |         0 |         0 |         0 |         0 |         0 |         0 |         0 |         0 |         0 |         0 |        0 |        0 |        0 |        0 |        0 |        0 |        0 |        0 |        0 |         0 |         0 |         0 |         0 |         0 |         0 |         0 |         0 |         0 |         0 |         0 |         0 |         0 |         0 |         0 |         0 |         0 |         0 |         0 |         0 |        0 |        0 |        1 |        1 |        1 |        1 |        1 |        1 |        1 |         1 |         1 |\n",
       "| 178 | Confirmed |       0           | 70Ukraine                            | Ukraine                |  48.3794 |   31.1656  |         0 |         0 |         0 |         0 |         0 |         0 |         0 |         0 |         0 |         0 |        0 |        0 |        0 |        0 |        0 |        0 |        0 |        0 |        0 |         0 |         0 |         0 |         0 |         0 |         0 |         0 |         0 |         0 |         0 |         0 |         0 |         0 |         0 |         0 |         0 |         0 |         0 |         0 |         0 |        0 |        0 |        1 |        1 |        1 |        1 |        1 |        1 |        1 |         1 |         1 |\n",
       "| 179 | Confirmed |       0           | 71Hungary                            | Hungary                |  47.1625 |   19.5033  |         0 |         0 |         0 |         0 |         0 |         0 |         0 |         0 |         0 |         0 |        0 |        0 |        0 |        0 |        0 |        0 |        0 |        0 |        0 |         0 |         0 |         0 |         0 |         0 |         0 |         0 |         0 |         0 |         0 |         0 |         0 |         0 |         0 |         0 |         0 |         0 |         0 |         0 |         0 |        0 |        0 |        0 |        2 |        2 |        2 |        4 |        7 |        9 |         9 |        13 |\n",
       "| 180 | Confirmed |  137788           | Northern Territory                   | Australia              | -12.4634 |  130.846   |         0 |         0 |         0 |         0 |         0 |         0 |         0 |         0 |         0 |         0 |        0 |        0 |        0 |        0 |        0 |        0 |        0 |        0 |        0 |         0 |         0 |         0 |         0 |         0 |         0 |         0 |         0 |         0 |         0 |         0 |         0 |         0 |         0 |         0 |         0 |         0 |         0 |         0 |         0 |        0 |        0 |        0 |        1 |        1 |        0 |        0 |        0 |        0 |         1 |         1 |\n",
       "| 181 | Confirmed |       0           | 73Liechtenstein                      | Liechtenstein          |  47.14   |    9.55    |         0 |         0 |         0 |         0 |         0 |         0 |         0 |         0 |         0 |         0 |        0 |        0 |        0 |        0 |        0 |        0 |        0 |        0 |        0 |         0 |         0 |         0 |         0 |         0 |         0 |         0 |         0 |         0 |         0 |         0 |         0 |         0 |         0 |         0 |         0 |         0 |         0 |         0 |         0 |        0 |        0 |        0 |        1 |        1 |        1 |        1 |        1 |        1 |         1 |         1 |\n",
       "| 182 | Confirmed |       0           | 74Poland                             | Poland                 |  51.9194 |   19.1451  |         0 |         0 |         0 |         0 |         0 |         0 |         0 |         0 |         0 |         0 |        0 |        0 |        0 |        0 |        0 |        0 |        0 |        0 |        0 |         0 |         0 |         0 |         0 |         0 |         0 |         0 |         0 |         0 |         0 |         0 |         0 |         0 |         0 |         0 |         0 |         0 |         0 |         0 |         0 |        0 |        0 |        0 |        1 |        1 |        5 |        5 |       11 |       16 |        22 |        31 |\n",
       "| 183 | Confirmed |       0           | 75Tunisia                            | Tunisia                |  34      |    9       |         0 |         0 |         0 |         0 |         0 |         0 |         0 |         0 |         0 |         0 |        0 |        0 |        0 |        0 |        0 |        0 |        0 |        0 |        0 |         0 |         0 |         0 |         0 |         0 |         0 |         0 |         0 |         0 |         0 |         0 |         0 |         0 |         0 |         0 |         0 |         0 |         0 |         0 |         0 |        0 |        0 |        0 |        1 |        1 |        1 |        1 |        2 |        2 |         5 |         7 |\n",
       "| 184 | Confirmed |       0           | 76Bosnia and Herzegovina             | Bosnia and Herzegovina |  43.9159 |   17.6791  |         0 |         0 |         0 |         0 |         0 |         0 |         0 |         0 |         0 |         0 |        0 |        0 |        0 |        0 |        0 |        0 |        0 |        0 |        0 |         0 |         0 |         0 |         0 |         0 |         0 |         0 |         0 |         0 |         0 |         0 |         0 |         0 |         0 |         0 |         0 |         0 |         0 |         0 |         0 |        0 |        0 |        0 |        0 |        2 |        2 |        3 |        3 |        3 |         5 |         7 |\n",
       "| 185 | Confirmed |       0           | 77Slovenia                           | Slovenia               |  46.1512 |   14.9955  |         0 |         0 |         0 |         0 |         0 |         0 |         0 |         0 |         0 |         0 |        0 |        0 |        0 |        0 |        0 |        0 |        0 |        0 |        0 |         0 |         0 |         0 |         0 |         0 |         0 |         0 |         0 |         0 |         0 |         0 |         0 |         0 |         0 |         0 |         0 |         0 |         0 |         0 |         0 |        0 |        0 |        0 |        0 |        2 |        7 |        7 |       16 |       16 |        31 |        57 |\n",
       "| 186 | Confirmed |       0           | 78South Africa                       | South Africa           | -30.5595 |   22.9375  |         0 |         0 |         0 |         0 |         0 |         0 |         0 |         0 |         0 |         0 |        0 |        0 |        0 |        0 |        0 |        0 |        0 |        0 |        0 |         0 |         0 |         0 |         0 |         0 |         0 |         0 |         0 |         0 |         0 |         0 |         0 |         0 |         0 |         0 |         0 |         0 |         0 |         0 |         0 |        0 |        0 |        0 |        0 |        1 |        1 |        1 |        3 |        3 |         7 |        13 |\n",
       "| 187 | Confirmed |       0           | 79Bhutan                             | Bhutan                 |  27.5142 |   90.4336  |         0 |         0 |         0 |         0 |         0 |         0 |         0 |         0 |         0 |         0 |        0 |        0 |        0 |        0 |        0 |        0 |        0 |        0 |        0 |         0 |         0 |         0 |         0 |         0 |         0 |         0 |         0 |         0 |         0 |         0 |         0 |         0 |         0 |         0 |         0 |         0 |         0 |         0 |         0 |        0 |        0 |        0 |        0 |        0 |        1 |        1 |        1 |        1 |         1 |         1 |\n",
       "| 188 | Confirmed |       0           | 80Cameroon                           | Cameroon               |   3.848  |   11.5021  |         0 |         0 |         0 |         0 |         0 |         0 |         0 |         0 |         0 |         0 |        0 |        0 |        0 |        0 |        0 |        0 |        0 |        0 |        0 |         0 |         0 |         0 |         0 |         0 |         0 |         0 |         0 |         0 |         0 |         0 |         0 |         0 |         0 |         0 |         0 |         0 |         0 |         0 |         0 |        0 |        0 |        0 |        0 |        0 |        1 |        1 |        2 |        2 |         2 |         2 |\n",
       "| 189 | Confirmed |       0           | 81Colombia                           | Colombia               |   4.5709 |  -74.2973  |         0 |         0 |         0 |         0 |         0 |         0 |         0 |         0 |         0 |         0 |        0 |        0 |        0 |        0 |        0 |        0 |        0 |        0 |        0 |         0 |         0 |         0 |         0 |         0 |         0 |         0 |         0 |         0 |         0 |         0 |         0 |         0 |         0 |         0 |         0 |         0 |         0 |         0 |         0 |        0 |        0 |        0 |        0 |        0 |        1 |        1 |        1 |        1 |         3 |         9 |\n",
       "| 190 | Confirmed |       0           | 82Costa Rica                         | Costa Rica             |   9.7489 |  -83.7534  |         0 |         0 |         0 |         0 |         0 |         0 |         0 |         0 |         0 |         0 |        0 |        0 |        0 |        0 |        0 |        0 |        0 |        0 |        0 |         0 |         0 |         0 |         0 |         0 |         0 |         0 |         0 |         0 |         0 |         0 |         0 |         0 |         0 |         0 |         0 |         0 |         0 |         0 |         0 |        0 |        0 |        0 |        0 |        0 |        1 |        1 |        5 |        9 |         9 |        13 |\n",
       "| 191 | Confirmed |       0           | 83Peru                               | Peru                   |  -9.19   |  -75.0152  |         0 |         0 |         0 |         0 |         0 |         0 |         0 |         0 |         0 |         0 |        0 |        0 |        0 |        0 |        0 |        0 |        0 |        0 |        0 |         0 |         0 |         0 |         0 |         0 |         0 |         0 |         0 |         0 |         0 |         0 |         0 |         0 |         0 |         0 |         0 |         0 |         0 |         0 |         0 |        0 |        0 |        0 |        0 |        0 |        1 |        1 |        6 |        7 |        11 |        11 |\n",
       "| 192 | Confirmed |       0           | 84Serbia                             | Serbia                 |  44.0165 |   21.0059  |         0 |         0 |         0 |         0 |         0 |         0 |         0 |         0 |         0 |         0 |        0 |        0 |        0 |        0 |        0 |        0 |        0 |        0 |        0 |         0 |         0 |         0 |         0 |         0 |         0 |         0 |         0 |         0 |         0 |         0 |         0 |         0 |         0 |         0 |         0 |         0 |         0 |         0 |         0 |        0 |        0 |        0 |        0 |        0 |        1 |        1 |        1 |        1 |         5 |        12 |\n",
       "| 193 | Confirmed |       0           | 85Slovakia                           | Slovakia               |  48.669  |   19.699   |         0 |         0 |         0 |         0 |         0 |         0 |         0 |         0 |         0 |         0 |        0 |        0 |        0 |        0 |        0 |        0 |        0 |        0 |        0 |         0 |         0 |         0 |         0 |         0 |         0 |         0 |         0 |         0 |         0 |         0 |         0 |         0 |         0 |         0 |         0 |         0 |         0 |         0 |         0 |        0 |        0 |        0 |        0 |        0 |        1 |        1 |        3 |        3 |         7 |        10 |\n",
       "| 194 | Confirmed |       0           | 86Togo                               | Togo                   |   8.6195 |    0.8248  |         0 |         0 |         0 |         0 |         0 |         0 |         0 |         0 |         0 |         0 |        0 |        0 |        0 |        0 |        0 |        0 |        0 |        0 |        0 |         0 |         0 |         0 |         0 |         0 |         0 |         0 |         0 |         0 |         0 |         0 |         0 |         0 |         0 |         0 |         0 |         0 |         0 |         0 |         0 |        0 |        0 |        0 |        0 |        0 |        1 |        1 |        1 |        1 |         1 |         1 |\n",
       "| 195 | Confirmed |       0           | 87French Guiana                      | French Guiana          |   3.9339 |  -53.1258  |         0 |         0 |         0 |         0 |         0 |         0 |         0 |         0 |         0 |         0 |        0 |        0 |        0 |        0 |        0 |        0 |        0 |        0 |        0 |         0 |         0 |         0 |         0 |         0 |         0 |         0 |         0 |         0 |         0 |         0 |         0 |         0 |         0 |         0 |         0 |         0 |         0 |         0 |         0 |        0 |        0 |        0 |        0 |        0 |        0 |        5 |        5 |        5 |         5 |         5 |\n",
       "| 196 | Confirmed |       0           | 88Malta                              | Malta                  |  35.9375 |   14.3754  |         0 |         0 |         0 |         0 |         0 |         0 |         0 |         0 |         0 |         0 |        0 |        0 |        0 |        0 |        0 |        0 |        0 |        0 |        0 |         0 |         0 |         0 |         0 |         0 |         0 |         0 |         0 |         0 |         0 |         0 |         0 |         0 |         0 |         0 |         0 |         0 |         0 |         0 |         0 |        0 |        0 |        0 |        0 |        0 |        0 |        3 |        3 |        3 |         5 |         6 |\n",
       "| 197 | Confirmed |       0           | 89Martinique                         | Martinique             |  14.6415 |  -61.0242  |         0 |         0 |         0 |         0 |         0 |         0 |         0 |         0 |         0 |         0 |        0 |        0 |        0 |        0 |        0 |        0 |        0 |        0 |        0 |         0 |         0 |         0 |         0 |         0 |         0 |         0 |         0 |         0 |         0 |         0 |         0 |         0 |         0 |         0 |         0 |         0 |         0 |         0 |         0 |        0 |        0 |        0 |        0 |        0 |        0 |        2 |        2 |        2 |         2 |         3 |\n",
       "| 198 | Confirmed |       0           | 90Bulgaria                           | Bulgaria               |  42.7339 |   25.4858  |         0 |         0 |         0 |         0 |         0 |         0 |         0 |         0 |         0 |         0 |        0 |        0 |        0 |        0 |        0 |        0 |        0 |        0 |        0 |         0 |         0 |         0 |         0 |         0 |         0 |         0 |         0 |         0 |         0 |         0 |         0 |         0 |         0 |         0 |         0 |         0 |         0 |         0 |         0 |        0 |        0 |        0 |        0 |        0 |        0 |        0 |        4 |        4 |         4 |         7 |\n",
       "| 199 | Confirmed |       0           | 91Maldives                           | Maldives               |   3.2028 |   73.2207  |         0 |         0 |         0 |         0 |         0 |         0 |         0 |         0 |         0 |         0 |        0 |        0 |        0 |        0 |        0 |        0 |        0 |        0 |        0 |         0 |         0 |         0 |         0 |         0 |         0 |         0 |         0 |         0 |         0 |         0 |         0 |         0 |         0 |         0 |         0 |         0 |         0 |         0 |         0 |        0 |        0 |        0 |        0 |        0 |        0 |        0 |        4 |        4 |         6 |         8 |\n",
       "| 200 | Confirmed |       0           | 92Bangladesh                         | Bangladesh             |  23.685  |   90.3563  |         0 |         0 |         0 |         0 |         0 |         0 |         0 |         0 |         0 |         0 |        0 |        0 |        0 |        0 |        0 |        0 |        0 |        0 |        0 |         0 |         0 |         0 |         0 |         0 |         0 |         0 |         0 |         0 |         0 |         0 |         0 |         0 |         0 |         0 |         0 |         0 |         0 |         0 |         0 |        0 |        0 |        0 |        0 |        0 |        0 |        0 |        3 |        3 |         3 |         3 |"
      ],
      "text/plain": [
       "<IPython.core.display.Markdown object>"
      ]
     },
     "metadata": {},
     "output_type": "display_data"
    }
   ],
   "source": [
    "tab = tabulate(df_ProvState.head(n=200), tablefmt=\"pipe\", headers=\"keys\")\n",
    "display.display(display.Markdown(tab))"
   ]
  },
  {
   "cell_type": "code",
   "execution_count": 27,
   "metadata": {},
   "outputs": [],
   "source": [
    "df_ProvState.to_csv('GlobalCOVID-DF.txt', sep='\\t')"
   ]
  },
  {
   "cell_type": "code",
   "execution_count": null,
   "metadata": {},
   "outputs": [],
   "source": [
    "col1 = df_ProvState.pop('type')\n",
    "col2 = df_ProvState.pop('population size')\n",
    "df_ProvState.insert(0, 'type', col1)\n",
    "df_ProvState.insert(1, 'population size', col2)\n"
   ]
  }
 ],
 "metadata": {
  "kernelspec": {
   "display_name": "Python 3",
   "language": "python",
   "name": "python3"
  },
  "language_info": {
   "codemirror_mode": {
    "name": "ipython",
    "version": 3
   },
   "file_extension": ".py",
   "mimetype": "text/x-python",
   "name": "python",
   "nbconvert_exporter": "python",
   "pygments_lexer": "ipython3",
   "version": "3.7.4"
  },
  "widgets": {
   "application/vnd.jupyter.widget-state+json": {
    "state": {
     "009a3c331c3344c784cce5353e8986aa": {
      "model_module": "jupyter-leaflet",
      "model_module_version": "^0.12.2",
      "model_name": "LeafletMapStyleModel",
      "state": {
       "_model_module_version": "^0.12.2",
       "cursor": "move"
      }
     },
     "014b7896faa34f03b741cd681015e977": {
      "model_module": "jupyter-leaflet",
      "model_module_version": "^0.12.2",
      "model_name": "LeafletMapStyleModel",
      "state": {
       "_model_module_version": "^0.12.2"
      }
     },
     "02017643638d4ecda62350cd85cc149d": {
      "model_module": "@jupyter-widgets/controls",
      "model_module_version": "1.5.0",
      "model_name": "DescriptionStyleModel",
      "state": {
       "description_width": ""
      }
     },
     "0228b80b3cef4c9d8d81bbc77919d1b1": {
      "model_module": "jupyter-leaflet",
      "model_module_version": "^0.12.2",
      "model_name": "LeafletMapStyleModel",
      "state": {
       "_model_module_version": "^0.12.2"
      }
     },
     "04ac72f9d9144241accb90631d55e872": {
      "model_module": "jupyter-leaflet",
      "model_module_version": "^0.12.2",
      "model_name": "LeafletTileLayerModel",
      "state": {
       "_model_module_version": "^0.12.2",
       "_view_module_version": "^0.12.2",
       "attribution": "Imagery provided by services from the Global Imagery Browse Services (GIBS), operated by the NASA/GSFC/Earth Science Data and Information System (<a href=\"https://earthdata.nasa.gov\">ESDIS</a>) with funding provided by NASA/HQ.",
       "max_native_zoom": 18,
       "max_zoom": 9,
       "min_native_zoom": 0,
       "min_zoom": 1,
       "name": "NASAGIBS.ModisTerraTrueColorCR",
       "no_wrap": false,
       "options": [
        "attribution",
        "detect_retina",
        "max_native_zoom",
        "max_zoom",
        "min_native_zoom",
        "min_zoom",
        "no_wrap",
        "tile_size",
        "tms"
       ],
       "url": "https://gibs.earthdata.nasa.gov/wmts/epsg3857/best/MODIS_Terra_CorrectedReflectance_TrueColor/default/2017-04-08/GoogleMapsCompatible_Level9/{z}/{y}/{x}.jpg"
      }
     },
     "04dec21a04534408b81f35bb9e050988": {
      "model_module": "jupyter-leaflet",
      "model_module_version": "^0.12.2",
      "model_name": "LeafletMapStyleModel",
      "state": {
       "_model_module_version": "^0.12.2"
      }
     },
     "06f8d52c85674356b8169ffad5b3d9a0": {
      "model_module": "jupyter-leaflet",
      "model_module_version": "^0.12.2",
      "model_name": "LeafletMapStyleModel",
      "state": {
       "_model_module_version": "^0.12.2"
      }
     },
     "074521471c864488b0569c947c607720": {
      "model_module": "jupyter-leaflet",
      "model_module_version": "^0.12.2",
      "model_name": "LeafletMapStyleModel",
      "state": {
       "_model_module_version": "^0.12.2"
      }
     },
     "08509a22f0b641f89de622cb1d978083": {
      "model_module": "jupyter-leaflet",
      "model_module_version": "^0.12.2",
      "model_name": "LeafletMapStyleModel",
      "state": {
       "_model_module_version": "^0.12.2",
       "cursor": "move"
      }
     },
     "09fb918c2f20469c90417ab62eff3b94": {
      "model_module": "jupyter-leaflet",
      "model_module_version": "^0.12.2",
      "model_name": "LeafletPopupModel",
      "state": {
       "_model_module_version": "^0.12.2",
       "_view_module_version": "^0.12.2",
       "auto_close": false,
       "auto_pan": true,
       "auto_pan_padding": [
        5,
        5
       ],
       "auto_pan_padding_bottom_right": [],
       "auto_pan_padding_top_left": [],
       "child": "IPY_MODEL_5ea7d46233a043938ec2d566bc6fe41c",
       "class_name": "",
       "close_button": false,
       "close_on_escape_key": false,
       "keep_in_view": false,
       "location": [
        41.8781,
        87.6298
       ],
       "options": [
        "auto_close",
        "auto_pan",
        "auto_pan_padding",
        "auto_pan_padding_bottom_right",
        "auto_pan_padding_top_left",
        "class_name",
        "close_button",
        "close_on_escape_key",
        "keep_in_view",
        "max_height",
        "max_width",
        "min_width"
       ]
      }
     },
     "0a04c382b9eb4f8ab4b69e5cd7ab53ae": {
      "model_module": "@jupyter-widgets/base",
      "model_module_version": "1.2.0",
      "model_name": "LayoutModel",
      "state": {}
     },
     "0d75490cc30c41dfa2c19bdd729341dc": {
      "model_module": "jupyter-leaflet",
      "model_module_version": "^0.12.2",
      "model_name": "LeafletTileLayerModel",
      "state": {
       "_model_module_version": "^0.12.2",
       "_view_module_version": "^0.12.2",
       "attribution": "Imagery provided by services from the Global Imagery Browse Services (GIBS), operated by the NASA/GSFC/Earth Science Data and Information System (<a href=\"https://earthdata.nasa.gov\">ESDIS</a>) with funding provided by NASA/HQ.",
       "max_native_zoom": 18,
       "max_zoom": 9,
       "min_native_zoom": 0,
       "min_zoom": 1,
       "name": "NASAGIBS.ModisTerraTrueColorCR",
       "no_wrap": false,
       "options": [
        "attribution",
        "detect_retina",
        "max_native_zoom",
        "max_zoom",
        "min_native_zoom",
        "min_zoom",
        "no_wrap",
        "tile_size",
        "tms"
       ],
       "url": "https://gibs.earthdata.nasa.gov/wmts/epsg3857/best/MODIS_Terra_CorrectedReflectance_TrueColor/default/2017-04-08/GoogleMapsCompatible_Level9/{z}/{y}/{x}.jpg"
      }
     },
     "0dea335967d14284a08c542a8952b0ce": {
      "model_module": "@jupyter-widgets/controls",
      "model_module_version": "1.5.0",
      "model_name": "DescriptionStyleModel",
      "state": {
       "description_width": ""
      }
     },
     "0e6b8e4de90e4e958cc53443846e768b": {
      "model_module": "jupyter-leaflet",
      "model_module_version": "^0.12.2",
      "model_name": "LeafletTileLayerModel",
      "state": {
       "_model_module_version": "^0.12.2",
       "_view_module_version": "^0.12.2",
       "base": true,
       "max_native_zoom": 18,
       "max_zoom": 19,
       "min_native_zoom": 0,
       "min_zoom": 1,
       "no_wrap": false,
       "options": [
        "attribution",
        "detect_retina",
        "max_native_zoom",
        "max_zoom",
        "min_native_zoom",
        "min_zoom",
        "no_wrap",
        "tile_size",
        "tms"
       ]
      }
     },
     "101faba6e1eb4bfaa9ebc62a468d654e": {
      "model_module": "jupyter-leaflet",
      "model_module_version": "^0.12.2",
      "model_name": "LeafletAttributionControlModel",
      "state": {
       "_model_module_version": "^0.12.2",
       "_view_module_version": "^0.12.2",
       "options": [
        "position",
        "prefix"
       ],
       "position": "bottomright",
       "prefix": "Leaflet"
      }
     },
     "11d153caf2c944dcbe6df497b035f0f5": {
      "model_module": "jupyter-leaflet",
      "model_module_version": "^0.12.2",
      "model_name": "LeafletMapModel",
      "state": {
       "_model_module_version": "^0.12.2",
       "_view_module_version": "^0.12.2",
       "center": [
        33.89891688437142,
        35.41717529296876
       ],
       "controls": [
        "IPY_MODEL_7a7f7ae5fbc4488e92667af3a4fb6a31",
        "IPY_MODEL_3e6bab2c69134a56805abbb32e72e038"
       ],
       "default_style": "IPY_MODEL_d4cc496f7b5249afbba5aa65997dc732",
       "dragging_style": "IPY_MODEL_9d8b5e927081434fb762f24cdf84686f",
       "east": -180,
       "fullscreen": false,
       "interpolation": "bilinear",
       "layers": [
        "IPY_MODEL_6b548f5e7b3d467f89367ff9925e59e2"
       ],
       "layout": "IPY_MODEL_d079fa611c1943fcbd41c81b4c3cc92b",
       "modisdate": "yesterday",
       "north": -90,
       "options": [
        "bounce_at_zoom_limits",
        "box_zoom",
        "center",
        "close_popup_on_click",
        "double_click_zoom",
        "dragging",
        "fullscreen",
        "inertia",
        "inertia_deceleration",
        "inertia_max_speed",
        "interpolation",
        "keyboard",
        "keyboard_pan_offset",
        "keyboard_zoom_offset",
        "max_zoom",
        "min_zoom",
        "scroll_wheel_zoom",
        "tap",
        "tap_tolerance",
        "touch_zoom",
        "world_copy_jump",
        "zoom",
        "zoom_animation_threshold",
        "zoom_start"
       ],
       "south": 90,
       "style": "IPY_MODEL_d4cc496f7b5249afbba5aa65997dc732",
       "west": 180,
       "zoom": 4
      }
     },
     "11f555e1a46841c48f7c80efead788a0": {
      "model_module": "@jupyter-widgets/base",
      "model_module_version": "1.2.0",
      "model_name": "LayoutModel",
      "state": {}
     },
     "151950345da147549e8b4ba348199a27": {
      "model_module": "jupyter-leaflet",
      "model_module_version": "^0.12.2",
      "model_name": "LeafletMapStyleModel",
      "state": {
       "_model_module_version": "^0.12.2"
      }
     },
     "1570b3c928cf426c80f96b8a2f36d118": {
      "model_module": "jupyter-leaflet",
      "model_module_version": "^0.12.2",
      "model_name": "LeafletMapModel",
      "state": {
       "_model_module_version": "^0.12.2",
       "_view_module_version": "^0.12.2",
       "center": [
        41.87774145109676,
        -87.626953125
       ],
       "controls": [
        "IPY_MODEL_d2d85d1bd6254598a18e01e5a47ef0ad",
        "IPY_MODEL_7833848f5db549b88a4d37321e3d9674"
       ],
       "default_style": "IPY_MODEL_9d665e42000d4ea2807dacc284048b5e",
       "dragging_style": "IPY_MODEL_8574861807e54288a110d15a41960f99",
       "east": -180,
       "fullscreen": false,
       "interpolation": "bilinear",
       "layers": [
        "IPY_MODEL_6cc67c13da094714a6f6ab53133d523c",
        "IPY_MODEL_8791f3ffac7841ee8c93f7d689c91ceb"
       ],
       "layout": "IPY_MODEL_0a04c382b9eb4f8ab4b69e5cd7ab53ae",
       "modisdate": "yesterday",
       "north": -90,
       "options": [
        "bounce_at_zoom_limits",
        "box_zoom",
        "center",
        "close_popup_on_click",
        "double_click_zoom",
        "dragging",
        "fullscreen",
        "inertia",
        "inertia_deceleration",
        "inertia_max_speed",
        "interpolation",
        "keyboard",
        "keyboard_pan_offset",
        "keyboard_zoom_offset",
        "max_zoom",
        "min_zoom",
        "scroll_wheel_zoom",
        "tap",
        "tap_tolerance",
        "touch_zoom",
        "world_copy_jump",
        "zoom",
        "zoom_animation_threshold",
        "zoom_start"
       ],
       "south": 90,
       "style": "IPY_MODEL_9d665e42000d4ea2807dacc284048b5e",
       "west": 180,
       "zoom": 7
      }
     },
     "1c2b8020daa4480197a8daa097855a2d": {
      "model_module": "@jupyter-widgets/base",
      "model_module_version": "1.2.0",
      "model_name": "LayoutModel",
      "state": {}
     },
     "1d48f89c69014ccabc98a3d0b99bb383": {
      "model_module": "jupyter-leaflet",
      "model_module_version": "^0.12.2",
      "model_name": "LeafletZoomControlModel",
      "state": {
       "_model_module_version": "^0.12.2",
       "_view_module_version": "^0.12.2",
       "options": [
        "position",
        "zoom_in_text",
        "zoom_in_title",
        "zoom_out_text",
        "zoom_out_title"
       ]
      }
     },
     "1d9c1aa2290d49e1abbe4896bfe7b3f1": {
      "model_module": "jupyter-leaflet",
      "model_module_version": "^0.12.2",
      "model_name": "LeafletMapStyleModel",
      "state": {
       "_model_module_version": "^0.12.2",
       "cursor": "move"
      }
     },
     "1e1ed4bdf84842808dff0eafcef26e61": {
      "model_module": "jupyter-leaflet",
      "model_module_version": "^0.12.2",
      "model_name": "LeafletMapStyleModel",
      "state": {
       "_model_module_version": "^0.12.2"
      }
     },
     "1ea30fd90a7f4b4e82b1df7657f33b3a": {
      "model_module": "jupyter-leaflet",
      "model_module_version": "^0.12.2",
      "model_name": "LeafletTileLayerModel",
      "state": {
       "_model_module_version": "^0.12.2",
       "_view_module_version": "^0.12.2",
       "attribution": "Imagery provided by services from the Global Imagery Browse Services (GIBS), operated by the NASA/GSFC/Earth Science Data and Information System (<a href=\"https://earthdata.nasa.gov\">ESDIS</a>) with funding provided by NASA/HQ.",
       "max_native_zoom": 18,
       "max_zoom": 9,
       "min_native_zoom": 0,
       "min_zoom": 1,
       "name": "NASAGIBS.ModisTerraTrueColorCR",
       "no_wrap": false,
       "options": [
        "attribution",
        "detect_retina",
        "max_native_zoom",
        "max_zoom",
        "min_native_zoom",
        "min_zoom",
        "no_wrap",
        "tile_size",
        "tms"
       ],
       "url": "https://gibs.earthdata.nasa.gov/wmts/epsg3857/best/MODIS_Terra_CorrectedReflectance_TrueColor/default/2017-04-08/GoogleMapsCompatible_Level9/{z}/{y}/{x}.jpg"
      }
     },
     "223a4b5181634a7bb46316b0618d24fe": {
      "model_module": "jupyter-leaflet",
      "model_module_version": "^0.12.2",
      "model_name": "LeafletMapStyleModel",
      "state": {
       "_model_module_version": "^0.12.2"
      }
     },
     "23a393a52b3d453189839aebb94f0337": {
      "model_module": "@jupyter-widgets/base",
      "model_module_version": "1.2.0",
      "model_name": "LayoutModel",
      "state": {}
     },
     "24c76d4b15824515854bfb6f02d36c6a": {
      "model_module": "jupyter-leaflet",
      "model_module_version": "^0.12.2",
      "model_name": "LeafletMapModel",
      "state": {
       "_model_module_version": "^0.12.2",
       "_view_module_version": "^0.12.2",
       "center": [
        41.8781,
        -87.6298
       ],
       "controls": [
        "IPY_MODEL_7a54c32c1b4c4047a13aa1dc6bb73962",
        "IPY_MODEL_2c2469f99115464481d424e85502d2a6"
       ],
       "default_style": "IPY_MODEL_223a4b5181634a7bb46316b0618d24fe",
       "dragging_style": "IPY_MODEL_fa25771dcf9e46f082d85dc09b92c36b",
       "east": -84.93530273437501,
       "fullscreen": false,
       "interpolation": "bilinear",
       "layers": [
        "IPY_MODEL_8564701f0c0445dab1a419ea7fa78f6d"
       ],
       "layout": "IPY_MODEL_46ce6bda68c24ecd8b71ec887329f461",
       "modisdate": "yesterday",
       "north": 42.69051116998241,
       "options": [
        "bounce_at_zoom_limits",
        "box_zoom",
        "center",
        "close_popup_on_click",
        "double_click_zoom",
        "dragging",
        "fullscreen",
        "inertia",
        "inertia_deceleration",
        "inertia_max_speed",
        "interpolation",
        "keyboard",
        "keyboard_pan_offset",
        "keyboard_zoom_offset",
        "max_zoom",
        "min_zoom",
        "scroll_wheel_zoom",
        "tap",
        "tap_tolerance",
        "touch_zoom",
        "world_copy_jump",
        "zoom",
        "zoom_animation_threshold",
        "zoom_start"
       ],
       "south": 41.054501963290505,
       "style": "IPY_MODEL_06f8d52c85674356b8169ffad5b3d9a0",
       "west": -90.32409667968751,
       "zoom": 8
      }
     },
     "253b8f6556b64fdeac1bec2477024a8d": {
      "model_module": "jupyter-leaflet",
      "model_module_version": "^0.12.2",
      "model_name": "LeafletMapStyleModel",
      "state": {
       "_model_module_version": "^0.12.2",
       "cursor": "move"
      }
     },
     "25a573eac76541b3bc1452e208db688f": {
      "model_module": "jupyter-leaflet",
      "model_module_version": "^0.12.2",
      "model_name": "LeafletZoomControlModel",
      "state": {
       "_model_module_version": "^0.12.2",
       "_view_module_version": "^0.12.2",
       "options": [
        "position",
        "zoom_in_text",
        "zoom_in_title",
        "zoom_out_text",
        "zoom_out_title"
       ]
      }
     },
     "26c5b8ebda354056b8b9d47cba69ea9d": {
      "model_module": "jupyter-leaflet",
      "model_module_version": "^0.12.2",
      "model_name": "LeafletMapStyleModel",
      "state": {
       "_model_module_version": "^0.12.2",
       "cursor": "move"
      }
     },
     "27892dff123140dfb29701c43b732ddc": {
      "model_module": "jupyter-leaflet",
      "model_module_version": "^0.12.2",
      "model_name": "LeafletMapStyleModel",
      "state": {
       "_model_module_version": "^0.12.2"
      }
     },
     "285fd4b2143448afa876d7091b94ffd6": {
      "model_module": "@jupyter-widgets/controls",
      "model_module_version": "1.5.0",
      "model_name": "HTMLModel",
      "state": {
       "layout": "IPY_MODEL_8d4fce19d2f5401487845a8026509cbd",
       "style": "IPY_MODEL_32f3115dc0dd4d81961faeab9c6c0e15",
       "value": "Try clicking the marker!"
      }
     },
     "292a75fee2034561a9b5678a3f5cef9f": {
      "model_module": "jupyter-leaflet",
      "model_module_version": "^0.12.2",
      "model_name": "LeafletTileLayerModel",
      "state": {
       "_model_module_version": "^0.12.2",
       "_view_module_version": "^0.12.2",
       "base": true,
       "max_native_zoom": 18,
       "max_zoom": 19,
       "min_native_zoom": 0,
       "min_zoom": 1,
       "no_wrap": false,
       "options": [
        "attribution",
        "detect_retina",
        "max_native_zoom",
        "max_zoom",
        "min_native_zoom",
        "min_zoom",
        "no_wrap",
        "tile_size",
        "tms"
       ]
      }
     },
     "2a2a2345bb9e44228eaad516700816db": {
      "model_module": "jupyter-leaflet",
      "model_module_version": "^0.12.2",
      "model_name": "LeafletMapStyleModel",
      "state": {
       "_model_module_version": "^0.12.2",
       "cursor": "move"
      }
     },
     "2a31e2c29d424169b076e8db404514a3": {
      "model_module": "jupyter-leaflet",
      "model_module_version": "^0.12.2",
      "model_name": "LeafletMarkerModel",
      "state": {
       "_model_module_version": "^0.12.2",
       "_view_module_version": "^0.12.2",
       "location": [
        41.8781,
        87.6298
       ],
       "options": [
        "alt",
        "draggable",
        "keyboard",
        "rise_offset",
        "rise_on_hover",
        "rotation_angle",
        "rotation_origin",
        "title",
        "z_index_offset"
       ],
       "popup": "IPY_MODEL_6392e5efbba84675b9ad2605ad6098e9"
      }
     },
     "2a7e3557514b4d889b15aa5f49f6ceb0": {
      "model_module": "jupyter-leaflet",
      "model_module_version": "^0.12.2",
      "model_name": "LeafletTileLayerModel",
      "state": {
       "_model_module_version": "^0.12.2",
       "_view_module_version": "^0.12.2",
       "attribution": "Tiles &copy; Esri &mdash; Source: Esri, i-cubed, USDA, USGS, AEX, GeoEye, Getmapping, Aerogrid, IGN, IGP, UPR-EGP, and the GIS User Community",
       "max_native_zoom": 18,
       "max_zoom": 20,
       "min_native_zoom": 0,
       "min_zoom": 1,
       "name": "Esri.WorldImagery",
       "no_wrap": false,
       "options": [
        "attribution",
        "detect_retina",
        "max_native_zoom",
        "max_zoom",
        "min_native_zoom",
        "min_zoom",
        "no_wrap",
        "tile_size",
        "tms"
       ],
       "url": "http://server.arcgisonline.com/ArcGIS/rest/services/World_Imagery/MapServer/tile/{z}/{y}/{x}"
      }
     },
     "2c2469f99115464481d424e85502d2a6": {
      "model_module": "jupyter-leaflet",
      "model_module_version": "^0.12.2",
      "model_name": "LeafletAttributionControlModel",
      "state": {
       "_model_module_version": "^0.12.2",
       "_view_module_version": "^0.12.2",
       "options": [
        "position",
        "prefix"
       ],
       "position": "bottomright",
       "prefix": "Leaflet"
      }
     },
     "2c2915d236994c6aa892b48db282b430": {
      "model_module": "jupyter-leaflet",
      "model_module_version": "^0.12.2",
      "model_name": "LeafletMapStyleModel",
      "state": {
       "_model_module_version": "^0.12.2"
      }
     },
     "2d801263b12c436181f4c6da288e14f2": {
      "model_module": "jupyter-leaflet",
      "model_module_version": "^0.12.2",
      "model_name": "LeafletZoomControlModel",
      "state": {
       "_model_module_version": "^0.12.2",
       "_view_module_version": "^0.12.2",
       "options": [
        "position",
        "zoom_in_text",
        "zoom_in_title",
        "zoom_out_text",
        "zoom_out_title"
       ]
      }
     },
     "2fd7469bfc854f91a8c15aec85525948": {
      "model_module": "jupyter-leaflet",
      "model_module_version": "^0.12.2",
      "model_name": "LeafletMapModel",
      "state": {
       "_model_module_version": "^0.12.2",
       "_view_module_version": "^0.12.2",
       "center": [
        42.032974332441405,
        -87.18750000000001
       ],
       "controls": [
        "IPY_MODEL_387ea86e716c4bedb4f6734379093d47",
        "IPY_MODEL_b867b3e706d542f58a6788db11f7235b"
       ],
       "default_style": "IPY_MODEL_397560cb8605456fa17233847d8c5a60",
       "dragging_style": "IPY_MODEL_8ab7bd85a2b64edab9f7d6fa23ab734d",
       "east": -180,
       "fullscreen": false,
       "interpolation": "bilinear",
       "layers": [
        "IPY_MODEL_0d75490cc30c41dfa2c19bdd729341dc"
       ],
       "layout": "IPY_MODEL_7cb5186fb83444dbb1324b5639446dbb",
       "modisdate": "yesterday",
       "north": -90,
       "options": [
        "bounce_at_zoom_limits",
        "box_zoom",
        "center",
        "close_popup_on_click",
        "double_click_zoom",
        "dragging",
        "fullscreen",
        "inertia",
        "inertia_deceleration",
        "inertia_max_speed",
        "interpolation",
        "keyboard",
        "keyboard_pan_offset",
        "keyboard_zoom_offset",
        "max_zoom",
        "min_zoom",
        "scroll_wheel_zoom",
        "tap",
        "tap_tolerance",
        "touch_zoom",
        "world_copy_jump",
        "zoom",
        "zoom_animation_threshold",
        "zoom_start"
       ],
       "south": 90,
       "style": "IPY_MODEL_397560cb8605456fa17233847d8c5a60",
       "west": 180,
       "zoom": 1
      }
     },
     "30093b6677e6428ba9428d00c0b6a23a": {
      "model_module": "@jupyter-widgets/base",
      "model_module_version": "1.2.0",
      "model_name": "LayoutModel",
      "state": {}
     },
     "310e87973a3c4d3682e65bca5621a8a5": {
      "model_module": "jupyter-leaflet",
      "model_module_version": "^0.12.2",
      "model_name": "LeafletMapModel",
      "state": {
       "_model_module_version": "^0.12.2",
       "_view_module_version": "^0.12.2",
       "center": [
        42.168365634940436,
        -87.8170680999756
       ],
       "controls": [
        "IPY_MODEL_4297b226a5ae48268ec8412a24abbad4",
        "IPY_MODEL_aecebc3bc2ce4cd79ebe80cc2bdad6c6"
       ],
       "default_style": "IPY_MODEL_014b7896faa34f03b741cd681015e977",
       "dragging_style": "IPY_MODEL_5b386fe7345f4616ac0656d2cd71faf5",
       "east": -85.12267112731935,
       "fullscreen": false,
       "interpolation": "bilinear",
       "layers": [
        "IPY_MODEL_65bd485db9b24686abd73cbd8f9f50f2"
       ],
       "layout": "IPY_MODEL_11f555e1a46841c48f7c80efead788a0",
       "modisdate": "yesterday",
       "north": 42.97739984385911,
       "options": [
        "bounce_at_zoom_limits",
        "box_zoom",
        "center",
        "close_popup_on_click",
        "double_click_zoom",
        "dragging",
        "fullscreen",
        "inertia",
        "inertia_deceleration",
        "inertia_max_speed",
        "interpolation",
        "keyboard",
        "keyboard_pan_offset",
        "keyboard_zoom_offset",
        "max_zoom",
        "min_zoom",
        "scroll_wheel_zoom",
        "tap",
        "tap_tolerance",
        "touch_zoom",
        "world_copy_jump",
        "zoom",
        "zoom_animation_threshold",
        "zoom_start"
       ],
       "south": 41.348850564433505,
       "style": "IPY_MODEL_014b7896faa34f03b741cd681015e977",
       "west": -90.51146507263185,
       "zoom": 8
      }
     },
     "32f3115dc0dd4d81961faeab9c6c0e15": {
      "model_module": "@jupyter-widgets/controls",
      "model_module_version": "1.5.0",
      "model_name": "DescriptionStyleModel",
      "state": {
       "description_width": ""
      }
     },
     "33126502946a41c1a132bc91d32b54c0": {
      "model_module": "jupyter-leaflet",
      "model_module_version": "^0.12.2",
      "model_name": "LeafletAttributionControlModel",
      "state": {
       "_model_module_version": "^0.12.2",
       "_view_module_version": "^0.12.2",
       "options": [
        "position",
        "prefix"
       ],
       "position": "bottomright",
       "prefix": "Leaflet"
      }
     },
     "33e6a5f03c554fcaa40780f9d2f3c762": {
      "model_module": "jupyter-leaflet",
      "model_module_version": "^0.12.2",
      "model_name": "LeafletPopupModel",
      "state": {
       "_model_module_version": "^0.12.2",
       "_view_module_version": "^0.12.2",
       "auto_close": false,
       "auto_pan": true,
       "auto_pan_padding": [
        5,
        5
       ],
       "auto_pan_padding_bottom_right": [],
       "auto_pan_padding_top_left": [],
       "child": "IPY_MODEL_285fd4b2143448afa876d7091b94ffd6",
       "class_name": "",
       "close_button": false,
       "close_on_escape_key": false,
       "keep_in_view": false,
       "location": [
        41.8781,
        -87.6298
       ],
       "options": [
        "auto_close",
        "auto_pan",
        "auto_pan_padding",
        "auto_pan_padding_bottom_right",
        "auto_pan_padding_top_left",
        "class_name",
        "close_button",
        "close_on_escape_key",
        "keep_in_view",
        "max_height",
        "max_width",
        "min_width"
       ]
      }
     },
     "348187cbe0544c0ea8bb5c352e06e2f3": {
      "model_module": "jupyter-leaflet",
      "model_module_version": "^0.12.2",
      "model_name": "LeafletTileLayerModel",
      "state": {
       "_model_module_version": "^0.12.2",
       "_view_module_version": "^0.12.2",
       "attribution": "Imagery provided by services from the Global Imagery Browse Services (GIBS), operated by the NASA/GSFC/Earth Science Data and Information System (<a href=\"https://earthdata.nasa.gov\">ESDIS</a>) with funding provided by NASA/HQ.",
       "max_native_zoom": 18,
       "max_zoom": 9,
       "min_native_zoom": 0,
       "min_zoom": 1,
       "name": "NASAGIBS.ModisTerraTrueColorCR",
       "no_wrap": false,
       "options": [
        "attribution",
        "detect_retina",
        "max_native_zoom",
        "max_zoom",
        "min_native_zoom",
        "min_zoom",
        "no_wrap",
        "tile_size",
        "tms"
       ],
       "url": "https://gibs.earthdata.nasa.gov/wmts/epsg3857/best/MODIS_Terra_CorrectedReflectance_TrueColor/default/2017-04-08/GoogleMapsCompatible_Level9/{z}/{y}/{x}.jpg"
      }
     },
     "36ebc2a3721a4ef99aa0937d6a9f1a0e": {
      "model_module": "jupyter-leaflet",
      "model_module_version": "^0.12.2",
      "model_name": "LeafletMapModel",
      "state": {
       "_model_module_version": "^0.12.2",
       "_view_module_version": "^0.12.2",
       "center": [
        41.73775190618871,
        -87.63358354568481
       ],
       "close_popup_on_click": false,
       "controls": [
        "IPY_MODEL_40b75d769a3a404ea4c50b8e504bc51f",
        "IPY_MODEL_f9eaca8a0b164163bd04b0b973a53831"
       ],
       "default_style": "IPY_MODEL_b40a4a2593db4a97aab43297f2438c1a",
       "dragging_style": "IPY_MODEL_2a2a2345bb9e44228eaad516700816db",
       "east": -86.2863850593567,
       "fullscreen": false,
       "interpolation": "bilinear",
       "layers": [
        "IPY_MODEL_f632959c7d5a483c99a77a68be9dd4f3",
        "IPY_MODEL_2a31e2c29d424169b076e8db404514a3",
        "IPY_MODEL_33e6a5f03c554fcaa40780f9d2f3c762"
       ],
       "layout": "IPY_MODEL_e3815d42239c4d21b1ea1d40ef982a50",
       "modisdate": "yesterday",
       "north": 42.14634285640487,
       "options": [
        "bounce_at_zoom_limits",
        "box_zoom",
        "center",
        "close_popup_on_click",
        "double_click_zoom",
        "dragging",
        "fullscreen",
        "inertia",
        "inertia_deceleration",
        "inertia_max_speed",
        "interpolation",
        "keyboard",
        "keyboard_pan_offset",
        "keyboard_zoom_offset",
        "max_zoom",
        "min_zoom",
        "scroll_wheel_zoom",
        "tap",
        "tap_tolerance",
        "touch_zoom",
        "world_copy_jump",
        "zoom",
        "zoom_animation_threshold",
        "zoom_start"
       ],
       "south": 41.32654480495277,
       "style": "IPY_MODEL_b40a4a2593db4a97aab43297f2438c1a",
       "west": -88.98078203201295,
       "zoom": 9
      }
     },
     "387ea86e716c4bedb4f6734379093d47": {
      "model_module": "jupyter-leaflet",
      "model_module_version": "^0.12.2",
      "model_name": "LeafletZoomControlModel",
      "state": {
       "_model_module_version": "^0.12.2",
       "_view_module_version": "^0.12.2",
       "options": [
        "position",
        "zoom_in_text",
        "zoom_in_title",
        "zoom_out_text",
        "zoom_out_title"
       ]
      }
     },
     "397560cb8605456fa17233847d8c5a60": {
      "model_module": "jupyter-leaflet",
      "model_module_version": "^0.12.2",
      "model_name": "LeafletMapStyleModel",
      "state": {
       "_model_module_version": "^0.12.2"
      }
     },
     "3cc55e91fd74482c910ea16cbe51cb5d": {
      "model_module": "@jupyter-widgets/base",
      "model_module_version": "1.2.0",
      "model_name": "LayoutModel",
      "state": {}
     },
     "3e6bab2c69134a56805abbb32e72e038": {
      "model_module": "jupyter-leaflet",
      "model_module_version": "^0.12.2",
      "model_name": "LeafletAttributionControlModel",
      "state": {
       "_model_module_version": "^0.12.2",
       "_view_module_version": "^0.12.2",
       "options": [
        "position",
        "prefix"
       ],
       "position": "bottomright",
       "prefix": "Leaflet"
      }
     },
     "407abfda4d4d4716ba159e85213dfa60": {
      "model_module": "jupyter-leaflet",
      "model_module_version": "^0.12.2",
      "model_name": "LeafletMapStyleModel",
      "state": {
       "_model_module_version": "^0.12.2"
      }
     },
     "40b75d769a3a404ea4c50b8e504bc51f": {
      "model_module": "jupyter-leaflet",
      "model_module_version": "^0.12.2",
      "model_name": "LeafletZoomControlModel",
      "state": {
       "_model_module_version": "^0.12.2",
       "_view_module_version": "^0.12.2",
       "options": [
        "position",
        "zoom_in_text",
        "zoom_in_title",
        "zoom_out_text",
        "zoom_out_title"
       ]
      }
     },
     "4297b226a5ae48268ec8412a24abbad4": {
      "model_module": "jupyter-leaflet",
      "model_module_version": "^0.12.2",
      "model_name": "LeafletZoomControlModel",
      "state": {
       "_model_module_version": "^0.12.2",
       "_view_module_version": "^0.12.2",
       "options": [
        "position",
        "zoom_in_text",
        "zoom_in_title",
        "zoom_out_text",
        "zoom_out_title"
       ]
      }
     },
     "444a98e8ba6c4a529a1275c8ddd54dd6": {
      "model_module": "jupyter-leaflet",
      "model_module_version": "^0.12.2",
      "model_name": "LeafletMapStyleModel",
      "state": {
       "_model_module_version": "^0.12.2"
      }
     },
     "45cfed0b9a1a4426a156277136efc527": {
      "model_module": "jupyter-leaflet",
      "model_module_version": "^0.12.2",
      "model_name": "LeafletZoomControlModel",
      "state": {
       "_model_module_version": "^0.12.2",
       "_view_module_version": "^0.12.2",
       "options": [
        "position",
        "zoom_in_text",
        "zoom_in_title",
        "zoom_out_text",
        "zoom_out_title"
       ]
      }
     },
     "46ce6bda68c24ecd8b71ec887329f461": {
      "model_module": "@jupyter-widgets/base",
      "model_module_version": "1.2.0",
      "model_name": "LayoutModel",
      "state": {}
     },
     "48927ebf2dc04c30b1c5f348f32a1dc3": {
      "model_module": "jupyter-leaflet",
      "model_module_version": "^0.12.2",
      "model_name": "LeafletMapStyleModel",
      "state": {
       "_model_module_version": "^0.12.2",
       "cursor": "move"
      }
     },
     "49ffb177e5074d0798187adab07b587a": {
      "model_module": "@jupyter-widgets/base",
      "model_module_version": "1.2.0",
      "model_name": "LayoutModel",
      "state": {}
     },
     "4ffce7b7d543409dbf633a93f3c5d149": {
      "model_module": "jupyter-leaflet",
      "model_module_version": "^0.12.2",
      "model_name": "LeafletMarkerModel",
      "state": {
       "_model_module_version": "^0.12.2",
       "_view_module_version": "^0.12.2",
       "location": [
        41.8781,
        87.6298
       ],
       "options": [
        "alt",
        "draggable",
        "keyboard",
        "rise_offset",
        "rise_on_hover",
        "rotation_angle",
        "rotation_origin",
        "title",
        "z_index_offset"
       ],
       "popup": "IPY_MODEL_c78a77a7229648e19e530101ec150d34"
      }
     },
     "52495f4d42284f23b352266984fb749f": {
      "model_module": "jupyter-leaflet",
      "model_module_version": "^0.12.2",
      "model_name": "LeafletMapStyleModel",
      "state": {
       "_model_module_version": "^0.12.2"
      }
     },
     "54b7fc56b05d4a34983176c09577a288": {
      "model_module": "jupyter-leaflet",
      "model_module_version": "^0.12.2",
      "model_name": "LeafletTileLayerModel",
      "state": {
       "_model_module_version": "^0.12.2",
       "_view_module_version": "^0.12.2",
       "attribution": "Map tiles by <a href=\"https://labs.strava.com/heatmap\">Strava 2017</a>",
       "max_native_zoom": 18,
       "max_zoom": 15,
       "min_native_zoom": 0,
       "min_zoom": 1,
       "name": "Strava.All",
       "no_wrap": false,
       "options": [
        "attribution",
        "detect_retina",
        "max_native_zoom",
        "max_zoom",
        "min_native_zoom",
        "min_zoom",
        "no_wrap",
        "tile_size",
        "tms"
       ],
       "url": "https://heatmap-external-a.strava.com//tiles/all/hot/{z}/{x}/{y}.png?v=19"
      }
     },
     "55e377a578cf462a9103036f58cc3657": {
      "model_module": "@jupyter-widgets/controls",
      "model_module_version": "1.5.0",
      "model_name": "HTMLModel",
      "state": {
       "layout": "IPY_MODEL_eae1e9bdc45442f9b1ae11942ab1228a",
       "style": "IPY_MODEL_0dea335967d14284a08c542a8952b0ce",
       "value": "Try clicking the marker!"
      }
     },
     "578f33562f224cca9c1e9fd854e2d838": {
      "model_module": "jupyter-leaflet",
      "model_module_version": "^0.12.2",
      "model_name": "LeafletMapModel",
      "state": {
       "_model_module_version": "^0.12.2",
       "_view_module_version": "^0.12.2",
       "center": [
        41.8781,
        -87.6298
       ],
       "controls": [
        "IPY_MODEL_6306567cf75642109f473e0397a3d25c",
        "IPY_MODEL_7db2222c9a6640939592895beeed1a83"
       ],
       "default_style": "IPY_MODEL_60545ce6545445cc9e6c442369ef451e",
       "dragging_style": "IPY_MODEL_b7614b5f3395443fb91f7c7cbee76a79",
       "east": -82.24365234375001,
       "fullscreen": false,
       "interpolation": "bilinear",
       "layers": [
        "IPY_MODEL_92193c3809f043399adfc3edfc80b50e",
        "IPY_MODEL_b727a20b962c486b9d58bc95e1a606ae"
       ],
       "layout": "IPY_MODEL_f53102e207c6454abbf135940ed953ea",
       "modisdate": "yesterday",
       "north": 43.492782808225,
       "options": [
        "bounce_at_zoom_limits",
        "box_zoom",
        "center",
        "close_popup_on_click",
        "double_click_zoom",
        "dragging",
        "fullscreen",
        "inertia",
        "inertia_deceleration",
        "inertia_max_speed",
        "interpolation",
        "keyboard",
        "keyboard_pan_offset",
        "keyboard_zoom_offset",
        "max_zoom",
        "min_zoom",
        "scroll_wheel_zoom",
        "tap",
        "tap_tolerance",
        "touch_zoom",
        "world_copy_jump",
        "zoom",
        "zoom_animation_threshold",
        "zoom_start"
       ],
       "south": 40.22082997283287,
       "style": "IPY_MODEL_151950345da147549e8b4ba348199a27",
       "west": -93.02124023437501,
       "zoom": 7
      }
     },
     "57c207f935d54bc2adb40a96b855a46a": {
      "model_module": "jupyter-leaflet",
      "model_module_version": "^0.12.2",
      "model_name": "LeafletMapStyleModel",
      "state": {
       "_model_module_version": "^0.12.2"
      }
     },
     "58d5afc0b9cf472cbe206bdab4b36cc3": {
      "model_module": "jupyter-leaflet",
      "model_module_version": "^0.12.2",
      "model_name": "LeafletMapStyleModel",
      "state": {
       "_model_module_version": "^0.12.2",
       "cursor": "move"
      }
     },
     "5ab07af69ca043de820ad4e8c59c66d0": {
      "model_module": "jupyter-leaflet",
      "model_module_version": "^0.12.2",
      "model_name": "LeafletTileLayerModel",
      "state": {
       "_model_module_version": "^0.12.2",
       "_view_module_version": "^0.12.2",
       "base": true,
       "max_native_zoom": 18,
       "max_zoom": 19,
       "min_native_zoom": 0,
       "min_zoom": 1,
       "no_wrap": false,
       "options": [
        "attribution",
        "detect_retina",
        "max_native_zoom",
        "max_zoom",
        "min_native_zoom",
        "min_zoom",
        "no_wrap",
        "tile_size",
        "tms"
       ]
      }
     },
     "5b386fe7345f4616ac0656d2cd71faf5": {
      "model_module": "jupyter-leaflet",
      "model_module_version": "^0.12.2",
      "model_name": "LeafletMapStyleModel",
      "state": {
       "_model_module_version": "^0.12.2",
       "cursor": "move"
      }
     },
     "5ea7d46233a043938ec2d566bc6fe41c": {
      "model_module": "@jupyter-widgets/controls",
      "model_module_version": "1.5.0",
      "model_name": "HTMLModel",
      "state": {
       "layout": "IPY_MODEL_49ffb177e5074d0798187adab07b587a",
       "style": "IPY_MODEL_f69bdf6f9d2b43be887bb27ada109437",
       "value": "Try clicking the marker!"
      }
     },
     "60545ce6545445cc9e6c442369ef451e": {
      "model_module": "jupyter-leaflet",
      "model_module_version": "^0.12.2",
      "model_name": "LeafletMapStyleModel",
      "state": {
       "_model_module_version": "^0.12.2"
      }
     },
     "6306567cf75642109f473e0397a3d25c": {
      "model_module": "jupyter-leaflet",
      "model_module_version": "^0.12.2",
      "model_name": "LeafletZoomControlModel",
      "state": {
       "_model_module_version": "^0.12.2",
       "_view_module_version": "^0.12.2",
       "options": [
        "position",
        "zoom_in_text",
        "zoom_in_title",
        "zoom_out_text",
        "zoom_out_title"
       ]
      }
     },
     "6392e5efbba84675b9ad2605ad6098e9": {
      "model_module": "@jupyter-widgets/controls",
      "model_module_version": "1.5.0",
      "model_name": "HTMLModel",
      "state": {
       "description": "Some HTML",
       "layout": "IPY_MODEL_72c479acd541469c8bf4681b001245d6",
       "placeholder": "Some HTML",
       "style": "IPY_MODEL_cad5dd7aa4f7470c9939be022cebba12",
       "value": "Hello <b>World</b>"
      }
     },
     "65bd485db9b24686abd73cbd8f9f50f2": {
      "model_module": "jupyter-leaflet",
      "model_module_version": "^0.12.2",
      "model_name": "LeafletTileLayerModel",
      "state": {
       "_model_module_version": "^0.12.2",
       "_view_module_version": "^0.12.2",
       "attribution": "Map tiles by <a href=\"https://labs.strava.com/heatmap\">Strava 2017</a>",
       "max_native_zoom": 18,
       "max_zoom": 15,
       "min_native_zoom": 0,
       "min_zoom": 1,
       "name": "Strava.All",
       "no_wrap": false,
       "options": [
        "attribution",
        "detect_retina",
        "max_native_zoom",
        "max_zoom",
        "min_native_zoom",
        "min_zoom",
        "no_wrap",
        "tile_size",
        "tms"
       ],
       "url": "https://heatmap-external-a.strava.com//tiles/all/hot/{z}/{x}/{y}.png?v=19"
      }
     },
     "678a4258f7374328a44de244659a718b": {
      "model_module": "jupyter-leaflet",
      "model_module_version": "^0.12.2",
      "model_name": "LeafletTileLayerModel",
      "state": {
       "_model_module_version": "^0.12.2",
       "_view_module_version": "^0.12.2",
       "attribution": "Imagery provided by services from the Global Imagery Browse Services (GIBS), operated by the NASA/GSFC/Earth Science Data and Information System (<a href=\"https://earthdata.nasa.gov\">ESDIS</a>) with funding provided by NASA/HQ.",
       "max_native_zoom": 18,
       "max_zoom": 9,
       "min_native_zoom": 0,
       "min_zoom": 1,
       "name": "NASAGIBS.ModisTerraTrueColorCR",
       "no_wrap": false,
       "options": [
        "attribution",
        "detect_retina",
        "max_native_zoom",
        "max_zoom",
        "min_native_zoom",
        "min_zoom",
        "no_wrap",
        "tile_size",
        "tms"
       ],
       "url": "https://gibs.earthdata.nasa.gov/wmts/epsg3857/best/MODIS_Terra_CorrectedReflectance_TrueColor/default/2017-04-08/GoogleMapsCompatible_Level9/{z}/{y}/{x}.jpg"
      }
     },
     "683564fe33604645bf7fd8382d76aadd": {
      "model_module": "@jupyter-widgets/base",
      "model_module_version": "1.2.0",
      "model_name": "LayoutModel",
      "state": {}
     },
     "68c18961b89f461c97c32409438727fa": {
      "model_module": "jupyter-leaflet",
      "model_module_version": "^0.12.2",
      "model_name": "LeafletMapStyleModel",
      "state": {
       "_model_module_version": "^0.12.2"
      }
     },
     "6a6ad5ef98e44bc9a5f3e9fa8bba85d8": {
      "model_module": "@jupyter-widgets/base",
      "model_module_version": "1.2.0",
      "model_name": "LayoutModel",
      "state": {}
     },
     "6a7d6d757a1848c0a499cc8476209c57": {
      "model_module": "jupyter-leaflet",
      "model_module_version": "^0.12.2",
      "model_name": "LeafletAttributionControlModel",
      "state": {
       "_model_module_version": "^0.12.2",
       "_view_module_version": "^0.12.2",
       "options": [
        "position",
        "prefix"
       ],
       "position": "bottomright",
       "prefix": "Leaflet"
      }
     },
     "6b548f5e7b3d467f89367ff9925e59e2": {
      "model_module": "jupyter-leaflet",
      "model_module_version": "^0.12.2",
      "model_name": "LeafletTileLayerModel",
      "state": {
       "_model_module_version": "^0.12.2",
       "_view_module_version": "^0.12.2",
       "attribution": "Imagery provided by services from the Global Imagery Browse Services (GIBS), operated by the NASA/GSFC/Earth Science Data and Information System (<a href=\"https://earthdata.nasa.gov\">ESDIS</a>) with funding provided by NASA/HQ.",
       "max_native_zoom": 18,
       "max_zoom": 9,
       "min_native_zoom": 0,
       "min_zoom": 1,
       "name": "NASAGIBS.ModisTerraTrueColorCR",
       "no_wrap": false,
       "options": [
        "attribution",
        "detect_retina",
        "max_native_zoom",
        "max_zoom",
        "min_native_zoom",
        "min_zoom",
        "no_wrap",
        "tile_size",
        "tms"
       ],
       "url": "https://gibs.earthdata.nasa.gov/wmts/epsg3857/best/MODIS_Terra_CorrectedReflectance_TrueColor/default/2017-04-08/GoogleMapsCompatible_Level9/{z}/{y}/{x}.jpg"
      }
     },
     "6cc67c13da094714a6f6ab53133d523c": {
      "model_module": "jupyter-leaflet",
      "model_module_version": "^0.12.2",
      "model_name": "LeafletTileLayerModel",
      "state": {
       "_model_module_version": "^0.12.2",
       "_view_module_version": "^0.12.2",
       "base": true,
       "max_native_zoom": 18,
       "max_zoom": 19,
       "min_native_zoom": 0,
       "min_zoom": 1,
       "no_wrap": false,
       "options": [
        "attribution",
        "detect_retina",
        "max_native_zoom",
        "max_zoom",
        "min_native_zoom",
        "min_zoom",
        "no_wrap",
        "tile_size",
        "tms"
       ]
      }
     },
     "6da459cbb9f24353919a95d05a91ba54": {
      "model_module": "jupyter-leaflet",
      "model_module_version": "^0.12.2",
      "model_name": "LeafletMapModel",
      "state": {
       "_model_module_version": "^0.12.2",
       "_view_module_version": "^0.12.2",
       "center": [
        54.07107394110007,
        357.52498626708984
       ],
       "controls": [
        "IPY_MODEL_1d48f89c69014ccabc98a3d0b99bb383",
        "IPY_MODEL_81a9afdf949a47bc88dff864ed5988e9"
       ],
       "default_style": "IPY_MODEL_1e1ed4bdf84842808dff0eafcef26e61",
       "dragging_style": "IPY_MODEL_1d9c1aa2290d49e1abbe4896bfe7b3f1",
       "east": -180,
       "fullscreen": false,
       "interpolation": "bilinear",
       "layers": [
        "IPY_MODEL_ac87e5c917d9404f8fbb0ee801bfe174"
       ],
       "layout": "IPY_MODEL_1c2b8020daa4480197a8daa097855a2d",
       "modisdate": "yesterday",
       "north": -90,
       "options": [
        "bounce_at_zoom_limits",
        "box_zoom",
        "center",
        "close_popup_on_click",
        "double_click_zoom",
        "dragging",
        "fullscreen",
        "inertia",
        "inertia_deceleration",
        "inertia_max_speed",
        "interpolation",
        "keyboard",
        "keyboard_pan_offset",
        "keyboard_zoom_offset",
        "max_zoom",
        "min_zoom",
        "scroll_wheel_zoom",
        "tap",
        "tap_tolerance",
        "touch_zoom",
        "world_copy_jump",
        "zoom",
        "zoom_animation_threshold",
        "zoom_start"
       ],
       "south": 90,
       "style": "IPY_MODEL_1e1ed4bdf84842808dff0eafcef26e61",
       "west": 180,
       "zoom": 4
      }
     },
     "6e090374137a42d585efd7dee2121682": {
      "model_module": "jupyter-leaflet",
      "model_module_version": "^0.12.2",
      "model_name": "LeafletMapModel",
      "state": {
       "_model_module_version": "^0.12.2",
       "_view_module_version": "^0.12.2",
       "center": [
        41.87774145109676,
        87.63793945312501
       ],
       "close_popup_on_click": false,
       "controls": [
        "IPY_MODEL_aa49569d7e7149819a592b9655fbc367",
        "IPY_MODEL_76224f5107534e53959a521f479c6627"
       ],
       "default_style": "IPY_MODEL_c9f9afced88547b4947b8a024a2340c4",
       "dragging_style": "IPY_MODEL_26c5b8ebda354056b8b9d47cba69ea9d",
       "east": -180,
       "fullscreen": false,
       "interpolation": "bilinear",
       "layers": [
        "IPY_MODEL_0e6b8e4de90e4e958cc53443846e768b",
        "IPY_MODEL_4ffce7b7d543409dbf633a93f3c5d149",
        "IPY_MODEL_09fb918c2f20469c90417ab62eff3b94"
       ],
       "layout": "IPY_MODEL_b9143ff4cc2d444da429411b3734652f",
       "modisdate": "yesterday",
       "north": -90,
       "options": [
        "bounce_at_zoom_limits",
        "box_zoom",
        "center",
        "close_popup_on_click",
        "double_click_zoom",
        "dragging",
        "fullscreen",
        "inertia",
        "inertia_deceleration",
        "inertia_max_speed",
        "interpolation",
        "keyboard",
        "keyboard_pan_offset",
        "keyboard_zoom_offset",
        "max_zoom",
        "min_zoom",
        "scroll_wheel_zoom",
        "tap",
        "tap_tolerance",
        "touch_zoom",
        "world_copy_jump",
        "zoom",
        "zoom_animation_threshold",
        "zoom_start"
       ],
       "south": 90,
       "style": "IPY_MODEL_c9f9afced88547b4947b8a024a2340c4",
       "west": 180,
       "zoom": 7
      }
     },
     "6f617b4042c8410ea14563d85cc786a9": {
      "model_module": "jupyter-leaflet",
      "model_module_version": "^0.12.2",
      "model_name": "LeafletAttributionControlModel",
      "state": {
       "_model_module_version": "^0.12.2",
       "_view_module_version": "^0.12.2",
       "options": [
        "position",
        "prefix"
       ],
       "position": "bottomright",
       "prefix": "Leaflet"
      }
     },
     "72c479acd541469c8bf4681b001245d6": {
      "model_module": "@jupyter-widgets/base",
      "model_module_version": "1.2.0",
      "model_name": "LayoutModel",
      "state": {}
     },
     "73a6fb1416ec4b6bbade509255624ef0": {
      "model_module": "@jupyter-widgets/base",
      "model_module_version": "1.2.0",
      "model_name": "LayoutModel",
      "state": {}
     },
     "75451e6390894e8fb73e7389c0023bc2": {
      "model_module": "jupyter-leaflet",
      "model_module_version": "^0.12.2",
      "model_name": "LeafletMapStyleModel",
      "state": {
       "_model_module_version": "^0.12.2"
      }
     },
     "76224f5107534e53959a521f479c6627": {
      "model_module": "jupyter-leaflet",
      "model_module_version": "^0.12.2",
      "model_name": "LeafletAttributionControlModel",
      "state": {
       "_model_module_version": "^0.12.2",
       "_view_module_version": "^0.12.2",
       "options": [
        "position",
        "prefix"
       ],
       "position": "bottomright",
       "prefix": "Leaflet"
      }
     },
     "77ac20baa7954210b2445d3b5901e3cc": {
      "model_module": "jupyter-leaflet",
      "model_module_version": "^0.12.2",
      "model_name": "LeafletAttributionControlModel",
      "state": {
       "_model_module_version": "^0.12.2",
       "_view_module_version": "^0.12.2",
       "options": [
        "position",
        "prefix"
       ],
       "position": "bottomright",
       "prefix": "Leaflet"
      }
     },
     "77e837e8d05641c9bf78a0328b097b6e": {
      "model_module": "jupyter-leaflet",
      "model_module_version": "^0.12.2",
      "model_name": "LeafletTileLayerModel",
      "state": {
       "_model_module_version": "^0.12.2",
       "_view_module_version": "^0.12.2",
       "attribution": "Map tiles by <a href=\"https://labs.strava.com/heatmap\">Strava 2017</a>",
       "max_native_zoom": 18,
       "max_zoom": 15,
       "min_native_zoom": 0,
       "min_zoom": 1,
       "name": "Strava.All",
       "no_wrap": false,
       "options": [
        "attribution",
        "detect_retina",
        "max_native_zoom",
        "max_zoom",
        "min_native_zoom",
        "min_zoom",
        "no_wrap",
        "tile_size",
        "tms"
       ],
       "url": "https://heatmap-external-a.strava.com//tiles/all/hot/{z}/{x}/{y}.png?v=19"
      }
     },
     "7833848f5db549b88a4d37321e3d9674": {
      "model_module": "jupyter-leaflet",
      "model_module_version": "^0.12.2",
      "model_name": "LeafletAttributionControlModel",
      "state": {
       "_model_module_version": "^0.12.2",
       "_view_module_version": "^0.12.2",
       "options": [
        "position",
        "prefix"
       ],
       "position": "bottomright",
       "prefix": "Leaflet"
      }
     },
     "7a12059944de4f78ba67ca8dfec42e76": {
      "model_module": "jupyter-leaflet",
      "model_module_version": "^0.12.2",
      "model_name": "LeafletMapStyleModel",
      "state": {
       "_model_module_version": "^0.12.2"
      }
     },
     "7a54c32c1b4c4047a13aa1dc6bb73962": {
      "model_module": "jupyter-leaflet",
      "model_module_version": "^0.12.2",
      "model_name": "LeafletZoomControlModel",
      "state": {
       "_model_module_version": "^0.12.2",
       "_view_module_version": "^0.12.2",
       "options": [
        "position",
        "zoom_in_text",
        "zoom_in_title",
        "zoom_out_text",
        "zoom_out_title"
       ]
      }
     },
     "7a7f7ae5fbc4488e92667af3a4fb6a31": {
      "model_module": "jupyter-leaflet",
      "model_module_version": "^0.12.2",
      "model_name": "LeafletZoomControlModel",
      "state": {
       "_model_module_version": "^0.12.2",
       "_view_module_version": "^0.12.2",
       "options": [
        "position",
        "zoom_in_text",
        "zoom_in_title",
        "zoom_out_text",
        "zoom_out_title"
       ]
      }
     },
     "7bc50eccec704862a5df0e82cd740610": {
      "model_module": "jupyter-leaflet",
      "model_module_version": "^0.12.2",
      "model_name": "LeafletZoomControlModel",
      "state": {
       "_model_module_version": "^0.12.2",
       "_view_module_version": "^0.12.2",
       "options": [
        "position",
        "zoom_in_text",
        "zoom_in_title",
        "zoom_out_text",
        "zoom_out_title"
       ]
      }
     },
     "7cb5186fb83444dbb1324b5639446dbb": {
      "model_module": "@jupyter-widgets/base",
      "model_module_version": "1.2.0",
      "model_name": "LayoutModel",
      "state": {}
     },
     "7cf2cdde71484808a6882a21973aeca5": {
      "model_module": "jupyter-leaflet",
      "model_module_version": "^0.12.2",
      "model_name": "LeafletAttributionControlModel",
      "state": {
       "_model_module_version": "^0.12.2",
       "_view_module_version": "^0.12.2",
       "options": [
        "position",
        "prefix"
       ],
       "position": "bottomright",
       "prefix": "Leaflet"
      }
     },
     "7db2222c9a6640939592895beeed1a83": {
      "model_module": "jupyter-leaflet",
      "model_module_version": "^0.12.2",
      "model_name": "LeafletAttributionControlModel",
      "state": {
       "_model_module_version": "^0.12.2",
       "_view_module_version": "^0.12.2",
       "options": [
        "position",
        "prefix"
       ],
       "position": "bottomright",
       "prefix": "Leaflet"
      }
     },
     "81a9afdf949a47bc88dff864ed5988e9": {
      "model_module": "jupyter-leaflet",
      "model_module_version": "^0.12.2",
      "model_name": "LeafletAttributionControlModel",
      "state": {
       "_model_module_version": "^0.12.2",
       "_view_module_version": "^0.12.2",
       "options": [
        "position",
        "prefix"
       ],
       "position": "bottomright",
       "prefix": "Leaflet"
      }
     },
     "81f1d926d79e4c1ca7f10f996533f0ef": {
      "model_module": "jupyter-leaflet",
      "model_module_version": "^0.12.2",
      "model_name": "LeafletMapStyleModel",
      "state": {
       "_model_module_version": "^0.12.2"
      }
     },
     "83545705b4b74cd7be30807977733a64": {
      "model_module": "jupyter-leaflet",
      "model_module_version": "^0.12.2",
      "model_name": "LeafletMapStyleModel",
      "state": {
       "_model_module_version": "^0.12.2"
      }
     },
     "84f27dd250a64cb4b9c608b4f145f201": {
      "model_module": "jupyter-leaflet",
      "model_module_version": "^0.12.2",
      "model_name": "LeafletMapModel",
      "state": {
       "_model_module_version": "^0.12.2",
       "_view_module_version": "^0.12.2",
       "center": [
        41.88592102814744,
        -87.626953125
       ],
       "controls": [
        "IPY_MODEL_e9c4590286be4975ad6455fa15d2f59d",
        "IPY_MODEL_33126502946a41c1a132bc91d32b54c0"
       ],
       "default_style": "IPY_MODEL_a20a1f4f34a34a609b063183287677f6",
       "dragging_style": "IPY_MODEL_48927ebf2dc04c30b1c5f348f32a1dc3",
       "east": -180,
       "fullscreen": false,
       "interpolation": "bilinear",
       "layers": [
        "IPY_MODEL_348187cbe0544c0ea8bb5c352e06e2f3"
       ],
       "layout": "IPY_MODEL_9eace35d61f04afc802a52029c66b053",
       "modisdate": "yesterday",
       "north": -90,
       "options": [
        "bounce_at_zoom_limits",
        "box_zoom",
        "center",
        "close_popup_on_click",
        "double_click_zoom",
        "dragging",
        "fullscreen",
        "inertia",
        "inertia_deceleration",
        "inertia_max_speed",
        "interpolation",
        "keyboard",
        "keyboard_pan_offset",
        "keyboard_zoom_offset",
        "max_zoom",
        "min_zoom",
        "scroll_wheel_zoom",
        "tap",
        "tap_tolerance",
        "touch_zoom",
        "world_copy_jump",
        "zoom",
        "zoom_animation_threshold",
        "zoom_start"
       ],
       "south": 90,
       "style": "IPY_MODEL_a20a1f4f34a34a609b063183287677f6",
       "west": 180,
       "zoom": 6
      }
     },
     "8564701f0c0445dab1a419ea7fa78f6d": {
      "model_module": "jupyter-leaflet",
      "model_module_version": "^0.12.2",
      "model_name": "LeafletTileLayerModel",
      "state": {
       "_model_module_version": "^0.12.2",
       "_view_module_version": "^0.12.2",
       "attribution": "Map tiles by <a href=\"https://labs.strava.com/heatmap\">Strava 2017</a>",
       "max_native_zoom": 18,
       "max_zoom": 15,
       "min_native_zoom": 0,
       "min_zoom": 1,
       "name": "Strava.All",
       "no_wrap": false,
       "options": [
        "attribution",
        "detect_retina",
        "max_native_zoom",
        "max_zoom",
        "min_native_zoom",
        "min_zoom",
        "no_wrap",
        "tile_size",
        "tms"
       ],
       "url": "https://heatmap-external-a.strava.com//tiles/all/hot/{z}/{x}/{y}.png?v=19"
      }
     },
     "856ee3507738484786d196d535e27517": {
      "model_module": "jupyter-leaflet",
      "model_module_version": "^0.12.2",
      "model_name": "LeafletMapModel",
      "state": {
       "_model_module_version": "^0.12.2",
       "_view_module_version": "^0.12.2",
       "center": [
        41.8781,
        -87.6298
       ],
       "controls": [
        "IPY_MODEL_9e8d391913144d40b3a429c7020d8a9a",
        "IPY_MODEL_77ac20baa7954210b2445d3b5901e3cc"
       ],
       "default_style": "IPY_MODEL_75451e6390894e8fb73e7389c0023bc2",
       "dragging_style": "IPY_MODEL_009a3c331c3344c784cce5353e8986aa",
       "fullscreen": false,
       "interpolation": "bilinear",
       "layers": [
        "IPY_MODEL_77e837e8d05641c9bf78a0328b097b6e"
       ],
       "layout": "IPY_MODEL_23a393a52b3d453189839aebb94f0337",
       "modisdate": "yesterday",
       "options": [
        "bounce_at_zoom_limits",
        "box_zoom",
        "center",
        "close_popup_on_click",
        "double_click_zoom",
        "dragging",
        "fullscreen",
        "inertia",
        "inertia_deceleration",
        "inertia_max_speed",
        "interpolation",
        "keyboard",
        "keyboard_pan_offset",
        "keyboard_zoom_offset",
        "max_zoom",
        "min_zoom",
        "scroll_wheel_zoom",
        "tap",
        "tap_tolerance",
        "touch_zoom",
        "world_copy_jump",
        "zoom",
        "zoom_animation_threshold",
        "zoom_start"
       ],
       "style": "IPY_MODEL_27892dff123140dfb29701c43b732ddc",
       "zoom": 8
      }
     },
     "8574861807e54288a110d15a41960f99": {
      "model_module": "jupyter-leaflet",
      "model_module_version": "^0.12.2",
      "model_name": "LeafletMapStyleModel",
      "state": {
       "_model_module_version": "^0.12.2",
       "cursor": "move"
      }
     },
     "865e3c3946d34a7a88dd389285e78fd2": {
      "model_module": "jupyter-leaflet",
      "model_module_version": "^0.12.2",
      "model_name": "LeafletMapStyleModel",
      "state": {
       "_model_module_version": "^0.12.2",
       "cursor": "move"
      }
     },
     "8680a0c7392d4d36b0dc2dfa2e9a4a8f": {
      "model_module": "jupyter-leaflet",
      "model_module_version": "^0.12.2",
      "model_name": "LeafletTileLayerModel",
      "state": {
       "_model_module_version": "^0.12.2",
       "_view_module_version": "^0.12.2",
       "attribution": "Imagery provided by services from the Global Imagery Browse Services (GIBS), operated by the NASA/GSFC/Earth Science Data and Information System (<a href=\"https://earthdata.nasa.gov\">ESDIS</a>) with funding provided by NASA/HQ.",
       "max_native_zoom": 18,
       "max_zoom": 9,
       "min_native_zoom": 0,
       "min_zoom": 1,
       "name": "NASAGIBS.ModisTerraTrueColorCR",
       "no_wrap": false,
       "options": [
        "attribution",
        "detect_retina",
        "max_native_zoom",
        "max_zoom",
        "min_native_zoom",
        "min_zoom",
        "no_wrap",
        "tile_size",
        "tms"
       ],
       "url": "https://gibs.earthdata.nasa.gov/wmts/epsg3857/best/MODIS_Terra_CorrectedReflectance_TrueColor/default/2017-04-08/GoogleMapsCompatible_Level9/{z}/{y}/{x}.jpg"
      }
     },
     "8791f3ffac7841ee8c93f7d689c91ceb": {
      "model_module": "jupyter-leaflet",
      "model_module_version": "^0.12.2",
      "model_name": "LeafletTileLayerModel",
      "state": {
       "_model_module_version": "^0.12.2",
       "_view_module_version": "^0.12.2",
       "attribution": "&copy; <a href=\"http://www.openstreetmap.org/copyright\">OpenStreetMap</a> &copy; <a href=\"http://cartodb.com/attributions\">CartoDB</a>",
       "max_native_zoom": 18,
       "max_zoom": 20,
       "min_native_zoom": 0,
       "min_zoom": 1,
       "name": "CartoDB.DarkMatter",
       "no_wrap": false,
       "options": [
        "attribution",
        "detect_retina",
        "max_native_zoom",
        "max_zoom",
        "min_native_zoom",
        "min_zoom",
        "no_wrap",
        "tile_size",
        "tms"
       ],
       "url": "http://c.basemaps.cartocdn.com/dark_all/{z}/{x}/{y}.png"
      }
     },
     "8ab7bd85a2b64edab9f7d6fa23ab734d": {
      "model_module": "jupyter-leaflet",
      "model_module_version": "^0.12.2",
      "model_name": "LeafletMapStyleModel",
      "state": {
       "_model_module_version": "^0.12.2",
       "cursor": "move"
      }
     },
     "8d10b229575246bb8d561db9c2176a95": {
      "model_module": "jupyter-leaflet",
      "model_module_version": "^0.12.2",
      "model_name": "LeafletTileLayerModel",
      "state": {
       "_model_module_version": "^0.12.2",
       "_view_module_version": "^0.12.2",
       "attribution": "Map tiles by <a href=\"https://labs.strava.com/heatmap\">Strava 2017</a>",
       "max_native_zoom": 18,
       "max_zoom": 15,
       "min_native_zoom": 0,
       "min_zoom": 1,
       "name": "Strava.All",
       "no_wrap": false,
       "options": [
        "attribution",
        "detect_retina",
        "max_native_zoom",
        "max_zoom",
        "min_native_zoom",
        "min_zoom",
        "no_wrap",
        "tile_size",
        "tms"
       ],
       "url": "https://heatmap-external-a.strava.com//tiles/all/hot/{z}/{x}/{y}.png?v=19"
      }
     },
     "8d4fce19d2f5401487845a8026509cbd": {
      "model_module": "@jupyter-widgets/base",
      "model_module_version": "1.2.0",
      "model_name": "LayoutModel",
      "state": {}
     },
     "92193c3809f043399adfc3edfc80b50e": {
      "model_module": "jupyter-leaflet",
      "model_module_version": "^0.12.2",
      "model_name": "LeafletTileLayerModel",
      "state": {
       "_model_module_version": "^0.12.2",
       "_view_module_version": "^0.12.2",
       "base": true,
       "max_native_zoom": 18,
       "max_zoom": 19,
       "min_native_zoom": 0,
       "min_zoom": 1,
       "no_wrap": false,
       "options": [
        "attribution",
        "detect_retina",
        "max_native_zoom",
        "max_zoom",
        "min_native_zoom",
        "min_zoom",
        "no_wrap",
        "tile_size",
        "tms"
       ]
      }
     },
     "94a2c9a0f3604451bca85cca5fd11f23": {
      "model_module": "jupyter-leaflet",
      "model_module_version": "^0.12.2",
      "model_name": "LeafletMapStyleModel",
      "state": {
       "_model_module_version": "^0.12.2"
      }
     },
     "96a9c8e5b9af45d8a18fa51c4a51c3e6": {
      "model_module": "jupyter-leaflet",
      "model_module_version": "^0.12.2",
      "model_name": "LeafletAttributionControlModel",
      "state": {
       "_model_module_version": "^0.12.2",
       "_view_module_version": "^0.12.2",
       "options": [
        "position",
        "prefix"
       ],
       "position": "bottomright",
       "prefix": "Leaflet"
      }
     },
     "978c00a903264639ad738a98a14c385c": {
      "model_module": "jupyter-leaflet",
      "model_module_version": "^0.12.2",
      "model_name": "LeafletMapStyleModel",
      "state": {
       "_model_module_version": "^0.12.2"
      }
     },
     "99c35d707eb04a8d8fc665dcaee1fcce": {
      "model_module": "jupyter-leaflet",
      "model_module_version": "^0.12.2",
      "model_name": "LeafletZoomControlModel",
      "state": {
       "_model_module_version": "^0.12.2",
       "_view_module_version": "^0.12.2",
       "options": [
        "position",
        "zoom_in_text",
        "zoom_in_title",
        "zoom_out_text",
        "zoom_out_title"
       ]
      }
     },
     "9b7a02d03dfd478c8ae361896eebbba7": {
      "model_module": "jupyter-leaflet",
      "model_module_version": "^0.12.2",
      "model_name": "LeafletMapModel",
      "state": {
       "_model_module_version": "^0.12.2",
       "_view_module_version": "^0.12.2",
       "center": [
        41.87774145109676,
        -87.626953125
       ],
       "controls": [
        "IPY_MODEL_25a573eac76541b3bc1452e208db688f",
        "IPY_MODEL_bb758fb207154c6981518c08f532e023"
       ],
       "default_style": "IPY_MODEL_c87508c3972c436188cbf169b2a316de",
       "dragging_style": "IPY_MODEL_f16ccca5408243b78a704a407632a98f",
       "east": -180,
       "fullscreen": false,
       "interpolation": "bilinear",
       "layers": [
        "IPY_MODEL_ed3a6f167ad9430eb3e084bd38ffbae8",
        "IPY_MODEL_a1ba3131409e402087534ef62c8488a9"
       ],
       "layout": "IPY_MODEL_af4565b556594c04951d615b0d616470",
       "modisdate": "yesterday",
       "north": -90,
       "options": [
        "bounce_at_zoom_limits",
        "box_zoom",
        "center",
        "close_popup_on_click",
        "double_click_zoom",
        "dragging",
        "fullscreen",
        "inertia",
        "inertia_deceleration",
        "inertia_max_speed",
        "interpolation",
        "keyboard",
        "keyboard_pan_offset",
        "keyboard_zoom_offset",
        "max_zoom",
        "min_zoom",
        "scroll_wheel_zoom",
        "tap",
        "tap_tolerance",
        "touch_zoom",
        "world_copy_jump",
        "zoom",
        "zoom_animation_threshold",
        "zoom_start"
       ],
       "south": 90,
       "style": "IPY_MODEL_c87508c3972c436188cbf169b2a316de",
       "west": 180,
       "zoom": 7
      }
     },
     "9bb767ea7241448e88f1eceabf008227": {
      "model_module": "@jupyter-widgets/base",
      "model_module_version": "1.2.0",
      "model_name": "LayoutModel",
      "state": {}
     },
     "9c98b43f5ee545d1b401409091bd2e4e": {
      "model_module": "jupyter-leaflet",
      "model_module_version": "^0.12.2",
      "model_name": "LeafletAttributionControlModel",
      "state": {
       "_model_module_version": "^0.12.2",
       "_view_module_version": "^0.12.2",
       "options": [
        "position",
        "prefix"
       ],
       "position": "bottomright",
       "prefix": "Leaflet"
      }
     },
     "9d665e42000d4ea2807dacc284048b5e": {
      "model_module": "jupyter-leaflet",
      "model_module_version": "^0.12.2",
      "model_name": "LeafletMapStyleModel",
      "state": {
       "_model_module_version": "^0.12.2"
      }
     },
     "9d8b5e927081434fb762f24cdf84686f": {
      "model_module": "jupyter-leaflet",
      "model_module_version": "^0.12.2",
      "model_name": "LeafletMapStyleModel",
      "state": {
       "_model_module_version": "^0.12.2",
       "cursor": "move"
      }
     },
     "9e8d391913144d40b3a429c7020d8a9a": {
      "model_module": "jupyter-leaflet",
      "model_module_version": "^0.12.2",
      "model_name": "LeafletZoomControlModel",
      "state": {
       "_model_module_version": "^0.12.2",
       "_view_module_version": "^0.12.2",
       "options": [
        "position",
        "zoom_in_text",
        "zoom_in_title",
        "zoom_out_text",
        "zoom_out_title"
       ]
      }
     },
     "9eace35d61f04afc802a52029c66b053": {
      "model_module": "@jupyter-widgets/base",
      "model_module_version": "1.2.0",
      "model_name": "LayoutModel",
      "state": {}
     },
     "a1ba3131409e402087534ef62c8488a9": {
      "model_module": "jupyter-leaflet",
      "model_module_version": "^0.12.2",
      "model_name": "LeafletTileLayerModel",
      "state": {
       "_model_module_version": "^0.12.2",
       "_view_module_version": "^0.12.2",
       "attribution": "Imagery provided by services from the Global Imagery Browse Services (GIBS), operated by the NASA/GSFC/Earth Science Data and Information System (<a href=\"https://earthdata.nasa.gov\">ESDIS</a>) with funding provided by NASA/HQ.",
       "max_native_zoom": 18,
       "max_zoom": 8,
       "min_native_zoom": 0,
       "min_zoom": 1,
       "name": "NASAGIBS.ViirsEarthAtNight2012",
       "no_wrap": false,
       "options": [
        "attribution",
        "detect_retina",
        "max_native_zoom",
        "max_zoom",
        "min_native_zoom",
        "min_zoom",
        "no_wrap",
        "tile_size",
        "tms"
       ],
       "url": "http://gibs.earthdata.nasa.gov/wmts/epsg3857/best/VIIRS_Black_Marble/default/2012-01-01/GoogleMapsCompatible_Level8/{z}/{y}/{x}.png"
      }
     },
     "a20a1f4f34a34a609b063183287677f6": {
      "model_module": "jupyter-leaflet",
      "model_module_version": "^0.12.2",
      "model_name": "LeafletMapStyleModel",
      "state": {
       "_model_module_version": "^0.12.2"
      }
     },
     "a25226585be1486284d2b7bc09f0ca0f": {
      "model_module": "@jupyter-widgets/base",
      "model_module_version": "1.2.0",
      "model_name": "LayoutModel",
      "state": {}
     },
     "a614d1a0fdcb44059911164227f16e20": {
      "model_module": "jupyter-leaflet",
      "model_module_version": "^0.12.2",
      "model_name": "LeafletAttributionControlModel",
      "state": {
       "_model_module_version": "^0.12.2",
       "_view_module_version": "^0.12.2",
       "options": [
        "position",
        "prefix"
       ],
       "position": "bottomright",
       "prefix": "Leaflet"
      }
     },
     "a6b1b3561b754780a13407238cbcd40a": {
      "model_module": "jupyter-leaflet",
      "model_module_version": "^0.12.2",
      "model_name": "LeafletZoomControlModel",
      "state": {
       "_model_module_version": "^0.12.2",
       "_view_module_version": "^0.12.2",
       "options": [
        "position",
        "zoom_in_text",
        "zoom_in_title",
        "zoom_out_text",
        "zoom_out_title"
       ]
      }
     },
     "a6ce72b468914ac7897f4c9e54c74101": {
      "model_module": "@jupyter-widgets/base",
      "model_module_version": "1.2.0",
      "model_name": "LayoutModel",
      "state": {}
     },
     "a76bb501dc7e41e6b48a0b264f9411f8": {
      "model_module": "jupyter-leaflet",
      "model_module_version": "^0.12.2",
      "model_name": "LeafletMapStyleModel",
      "state": {
       "_model_module_version": "^0.12.2"
      }
     },
     "a9bae8f1d9a042d987b4299ef259d550": {
      "model_module": "@jupyter-widgets/controls",
      "model_module_version": "1.5.0",
      "model_name": "HTMLModel",
      "state": {
       "description": "Some HTML",
       "layout": "IPY_MODEL_f2790a97a2d6487786d01eea9d51099c",
       "placeholder": "Some HTML",
       "style": "IPY_MODEL_adbc843f13dc4542b17c2892d799bf49",
       "value": "Hello <b>World</b>"
      }
     },
     "aa49569d7e7149819a592b9655fbc367": {
      "model_module": "jupyter-leaflet",
      "model_module_version": "^0.12.2",
      "model_name": "LeafletZoomControlModel",
      "state": {
       "_model_module_version": "^0.12.2",
       "_view_module_version": "^0.12.2",
       "options": [
        "position",
        "zoom_in_text",
        "zoom_in_title",
        "zoom_out_text",
        "zoom_out_title"
       ]
      }
     },
     "aa6594a858e044b8a1ed695bfd8635c8": {
      "model_module": "jupyter-leaflet",
      "model_module_version": "^0.12.2",
      "model_name": "LeafletPopupModel",
      "state": {
       "_model_module_version": "^0.12.2",
       "_view_module_version": "^0.12.2",
       "auto_close": false,
       "auto_pan": true,
       "auto_pan_padding": [
        5,
        5
       ],
       "auto_pan_padding_bottom_right": [],
       "auto_pan_padding_top_left": [],
       "child": "IPY_MODEL_55e377a578cf462a9103036f58cc3657",
       "class_name": "",
       "close_button": false,
       "close_on_escape_key": false,
       "keep_in_view": false,
       "location": [
        52.204793,
        360.121558
       ],
       "options": [
        "auto_close",
        "auto_pan",
        "auto_pan_padding",
        "auto_pan_padding_bottom_right",
        "auto_pan_padding_top_left",
        "class_name",
        "close_button",
        "close_on_escape_key",
        "keep_in_view",
        "max_height",
        "max_width",
        "min_width"
       ]
      }
     },
     "aa8d75cdd62a40af83de954ba6d9a3f5": {
      "model_module": "jupyter-leaflet",
      "model_module_version": "^0.12.2",
      "model_name": "LeafletMapStyleModel",
      "state": {
       "_model_module_version": "^0.12.2",
       "cursor": "move"
      }
     },
     "ac87e5c917d9404f8fbb0ee801bfe174": {
      "model_module": "jupyter-leaflet",
      "model_module_version": "^0.12.2",
      "model_name": "LeafletTileLayerModel",
      "state": {
       "_model_module_version": "^0.12.2",
       "_view_module_version": "^0.12.2",
       "attribution": "Imagery provided by services from the Global Imagery Browse Services (GIBS), operated by the NASA/GSFC/Earth Science Data and Information System (<a href=\"https://earthdata.nasa.gov\">ESDIS</a>) with funding provided by NASA/HQ.",
       "max_native_zoom": 18,
       "max_zoom": 9,
       "min_native_zoom": 0,
       "min_zoom": 1,
       "name": "NASAGIBS.ModisTerraTrueColorCR",
       "no_wrap": false,
       "options": [
        "attribution",
        "detect_retina",
        "max_native_zoom",
        "max_zoom",
        "min_native_zoom",
        "min_zoom",
        "no_wrap",
        "tile_size",
        "tms"
       ],
       "url": "https://gibs.earthdata.nasa.gov/wmts/epsg3857/best/MODIS_Terra_CorrectedReflectance_TrueColor/default/2017-04-08/GoogleMapsCompatible_Level9/{z}/{y}/{x}.jpg"
      }
     },
     "acc1c09ec76641f09aebc16b8ca9931f": {
      "model_module": "@jupyter-widgets/base",
      "model_module_version": "1.2.0",
      "model_name": "LayoutModel",
      "state": {}
     },
     "adbc843f13dc4542b17c2892d799bf49": {
      "model_module": "@jupyter-widgets/controls",
      "model_module_version": "1.5.0",
      "model_name": "DescriptionStyleModel",
      "state": {
       "description_width": ""
      }
     },
     "aecebc3bc2ce4cd79ebe80cc2bdad6c6": {
      "model_module": "jupyter-leaflet",
      "model_module_version": "^0.12.2",
      "model_name": "LeafletAttributionControlModel",
      "state": {
       "_model_module_version": "^0.12.2",
       "_view_module_version": "^0.12.2",
       "options": [
        "position",
        "prefix"
       ],
       "position": "bottomright",
       "prefix": "Leaflet"
      }
     },
     "af3bdd0983194310b953a48c4baa8ae4": {
      "model_module": "jupyter-leaflet",
      "model_module_version": "^0.12.2",
      "model_name": "LeafletMapStyleModel",
      "state": {
       "_model_module_version": "^0.12.2",
       "cursor": "move"
      }
     },
     "af4565b556594c04951d615b0d616470": {
      "model_module": "@jupyter-widgets/base",
      "model_module_version": "1.2.0",
      "model_name": "LayoutModel",
      "state": {}
     },
     "b030fb1676b3497380fe0fb3602e12b3": {
      "model_module": "jupyter-leaflet",
      "model_module_version": "^0.12.2",
      "model_name": "LeafletMapStyleModel",
      "state": {
       "_model_module_version": "^0.12.2"
      }
     },
     "b09929ac6672475c97819a80e417dcfc": {
      "model_module": "jupyter-leaflet",
      "model_module_version": "^0.12.2",
      "model_name": "LeafletAttributionControlModel",
      "state": {
       "_model_module_version": "^0.12.2",
       "_view_module_version": "^0.12.2",
       "options": [
        "position",
        "prefix"
       ],
       "position": "bottomright",
       "prefix": "Leaflet"
      }
     },
     "b13fbca5cd16452488326f944863cb5d": {
      "model_module": "jupyter-leaflet",
      "model_module_version": "^0.12.2",
      "model_name": "LeafletZoomControlModel",
      "state": {
       "_model_module_version": "^0.12.2",
       "_view_module_version": "^0.12.2",
       "options": [
        "position",
        "zoom_in_text",
        "zoom_in_title",
        "zoom_out_text",
        "zoom_out_title"
       ]
      }
     },
     "b284a05993764506895fa0fa9747fc00": {
      "model_module": "jupyter-leaflet",
      "model_module_version": "^0.12.2",
      "model_name": "LeafletMapStyleModel",
      "state": {
       "_model_module_version": "^0.12.2"
      }
     },
     "b3786d7ea2b64c87b0884b5249960ee2": {
      "model_module": "jupyter-leaflet",
      "model_module_version": "^0.12.2",
      "model_name": "LeafletMapStyleModel",
      "state": {
       "_model_module_version": "^0.12.2"
      }
     },
     "b3bc1beea9f44045a81b2cad2bddcdea": {
      "model_module": "jupyter-leaflet",
      "model_module_version": "^0.12.2",
      "model_name": "LeafletMapModel",
      "state": {
       "_model_module_version": "^0.12.2",
       "_view_module_version": "^0.12.2",
       "center": [
        52.21321449859192,
        359.9647986888886
       ],
       "close_popup_on_click": false,
       "controls": [
        "IPY_MODEL_2d801263b12c436181f4c6da288e14f2",
        "IPY_MODEL_6f617b4042c8410ea14563d85cc786a9"
       ],
       "default_style": "IPY_MODEL_04dec21a04534408b81f35bb9e050988",
       "dragging_style": "IPY_MODEL_fbaf432b3c974fe5afc13e1d97aa21ed",
       "east": -180,
       "fullscreen": false,
       "interpolation": "bilinear",
       "layers": [
        "IPY_MODEL_f2e2782e691248cca7b672861e6f62df",
        "IPY_MODEL_d0eb6b29150b44278a716d703cf63b34",
        "IPY_MODEL_aa6594a858e044b8a1ed695bfd8635c8"
       ],
       "layout": "IPY_MODEL_6a6ad5ef98e44bc9a5f3e9fa8bba85d8",
       "modisdate": "yesterday",
       "north": -90,
       "options": [
        "bounce_at_zoom_limits",
        "box_zoom",
        "center",
        "close_popup_on_click",
        "double_click_zoom",
        "dragging",
        "fullscreen",
        "inertia",
        "inertia_deceleration",
        "inertia_max_speed",
        "interpolation",
        "keyboard",
        "keyboard_pan_offset",
        "keyboard_zoom_offset",
        "max_zoom",
        "min_zoom",
        "scroll_wheel_zoom",
        "tap",
        "tap_tolerance",
        "touch_zoom",
        "world_copy_jump",
        "zoom",
        "zoom_animation_threshold",
        "zoom_start"
       ],
       "south": 90,
       "style": "IPY_MODEL_04dec21a04534408b81f35bb9e050988",
       "west": 180,
       "zoom": 9
      }
     },
     "b3e08eb1fb93493cbed8abc67c63923e": {
      "model_module": "jupyter-leaflet",
      "model_module_version": "^0.12.2",
      "model_name": "LeafletZoomControlModel",
      "state": {
       "_model_module_version": "^0.12.2",
       "_view_module_version": "^0.12.2",
       "options": [
        "position",
        "zoom_in_text",
        "zoom_in_title",
        "zoom_out_text",
        "zoom_out_title"
       ]
      }
     },
     "b40a4a2593db4a97aab43297f2438c1a": {
      "model_module": "jupyter-leaflet",
      "model_module_version": "^0.12.2",
      "model_name": "LeafletMapStyleModel",
      "state": {
       "_model_module_version": "^0.12.2"
      }
     },
     "b6266418cf564afa8e190104589859df": {
      "model_module": "jupyter-leaflet",
      "model_module_version": "^0.12.2",
      "model_name": "LeafletZoomControlModel",
      "state": {
       "_model_module_version": "^0.12.2",
       "_view_module_version": "^0.12.2",
       "options": [
        "position",
        "zoom_in_text",
        "zoom_in_title",
        "zoom_out_text",
        "zoom_out_title"
       ]
      }
     },
     "b727a20b962c486b9d58bc95e1a606ae": {
      "model_module": "jupyter-leaflet",
      "model_module_version": "^0.12.2",
      "model_name": "LeafletTileLayerModel",
      "state": {
       "_model_module_version": "^0.12.2",
       "_view_module_version": "^0.12.2",
       "attribution": "Map tiles by <a href=\"https://labs.strava.com/heatmap\">Strava 2017</a>",
       "max_native_zoom": 18,
       "max_zoom": 15,
       "min_native_zoom": 0,
       "min_zoom": 1,
       "name": "Strava.All",
       "no_wrap": false,
       "options": [
        "attribution",
        "detect_retina",
        "max_native_zoom",
        "max_zoom",
        "min_native_zoom",
        "min_zoom",
        "no_wrap",
        "tile_size",
        "tms"
       ],
       "url": "https://heatmap-external-a.strava.com//tiles/all/hot/{z}/{x}/{y}.png?v=19"
      }
     },
     "b7614b5f3395443fb91f7c7cbee76a79": {
      "model_module": "jupyter-leaflet",
      "model_module_version": "^0.12.2",
      "model_name": "LeafletMapStyleModel",
      "state": {
       "_model_module_version": "^0.12.2",
       "cursor": "move"
      }
     },
     "b867b3e706d542f58a6788db11f7235b": {
      "model_module": "jupyter-leaflet",
      "model_module_version": "^0.12.2",
      "model_name": "LeafletAttributionControlModel",
      "state": {
       "_model_module_version": "^0.12.2",
       "_view_module_version": "^0.12.2",
       "options": [
        "position",
        "prefix"
       ],
       "position": "bottomright",
       "prefix": "Leaflet"
      }
     },
     "b9143ff4cc2d444da429411b3734652f": {
      "model_module": "@jupyter-widgets/base",
      "model_module_version": "1.2.0",
      "model_name": "LayoutModel",
      "state": {}
     },
     "b9b56230229e46c2a05da1a4fc46d4a8": {
      "model_module": "jupyter-leaflet",
      "model_module_version": "^0.12.2",
      "model_name": "LeafletTileLayerModel",
      "state": {
       "_model_module_version": "^0.12.2",
       "_view_module_version": "^0.12.2",
       "attribution": "&copy; <a href=\"http://www.openstreetmap.org/copyright\">OpenStreetMap</a> &copy; <a href=\"http://cartodb.com/attributions\">CartoDB</a>",
       "max_native_zoom": 18,
       "max_zoom": 20,
       "min_native_zoom": 0,
       "min_zoom": 1,
       "name": "CartoDB.DarkMatter",
       "no_wrap": false,
       "options": [
        "attribution",
        "detect_retina",
        "max_native_zoom",
        "max_zoom",
        "min_native_zoom",
        "min_zoom",
        "no_wrap",
        "tile_size",
        "tms"
       ],
       "url": "http://c.basemaps.cartocdn.com/dark_all/{z}/{x}/{y}.png"
      }
     },
     "bafbe507f82b41a3a17ff4d824e0230b": {
      "model_module": "jupyter-leaflet",
      "model_module_version": "^0.12.2",
      "model_name": "LeafletMapStyleModel",
      "state": {
       "_model_module_version": "^0.12.2"
      }
     },
     "bb758fb207154c6981518c08f532e023": {
      "model_module": "jupyter-leaflet",
      "model_module_version": "^0.12.2",
      "model_name": "LeafletAttributionControlModel",
      "state": {
       "_model_module_version": "^0.12.2",
       "_view_module_version": "^0.12.2",
       "options": [
        "position",
        "prefix"
       ],
       "position": "bottomright",
       "prefix": "Leaflet"
      }
     },
     "c0cf33e83d7f4a0b9841be2526d11a16": {
      "model_module": "jupyter-leaflet",
      "model_module_version": "^0.12.2",
      "model_name": "LeafletMapStyleModel",
      "state": {
       "_model_module_version": "^0.12.2"
      }
     },
     "c68934bdb7ed46b8a1d89ca248cfade8": {
      "model_module": "jupyter-leaflet",
      "model_module_version": "^0.12.2",
      "model_name": "LeafletAttributionControlModel",
      "state": {
       "_model_module_version": "^0.12.2",
       "_view_module_version": "^0.12.2",
       "options": [
        "position",
        "prefix"
       ],
       "position": "bottomright",
       "prefix": "Leaflet"
      }
     },
     "c78a77a7229648e19e530101ec150d34": {
      "model_module": "@jupyter-widgets/controls",
      "model_module_version": "1.5.0",
      "model_name": "HTMLModel",
      "state": {
       "description": "Some HTML",
       "layout": "IPY_MODEL_acc1c09ec76641f09aebc16b8ca9931f",
       "placeholder": "Some HTML",
       "style": "IPY_MODEL_02017643638d4ecda62350cd85cc149d",
       "value": "Hello <b>World</b>"
      }
     },
     "c87508c3972c436188cbf169b2a316de": {
      "model_module": "jupyter-leaflet",
      "model_module_version": "^0.12.2",
      "model_name": "LeafletMapStyleModel",
      "state": {
       "_model_module_version": "^0.12.2"
      }
     },
     "c87674893e304a9baffacb6ec40c042c": {
      "model_module": "jupyter-leaflet",
      "model_module_version": "^0.12.2",
      "model_name": "LeafletMapModel",
      "state": {
       "_model_module_version": "^0.12.2",
       "_view_module_version": "^0.12.2",
       "center": [
        52.20424032262008,
        360.1235961914063
       ],
       "controls": [
        "IPY_MODEL_7bc50eccec704862a5df0e82cd740610",
        "IPY_MODEL_a614d1a0fdcb44059911164227f16e20"
       ],
       "default_style": "IPY_MODEL_52495f4d42284f23b352266984fb749f",
       "dragging_style": "IPY_MODEL_08509a22f0b641f89de622cb1d978083",
       "east": -180,
       "fullscreen": false,
       "interpolation": "bilinear",
       "layers": [
        "IPY_MODEL_5ab07af69ca043de820ad4e8c59c66d0",
        "IPY_MODEL_b9b56230229e46c2a05da1a4fc46d4a8"
       ],
       "layout": "IPY_MODEL_f74e0e6be4354d09864d04dccb81e8d7",
       "modisdate": "yesterday",
       "north": -90,
       "options": [
        "bounce_at_zoom_limits",
        "box_zoom",
        "center",
        "close_popup_on_click",
        "double_click_zoom",
        "dragging",
        "fullscreen",
        "inertia",
        "inertia_deceleration",
        "inertia_max_speed",
        "interpolation",
        "keyboard",
        "keyboard_pan_offset",
        "keyboard_zoom_offset",
        "max_zoom",
        "min_zoom",
        "scroll_wheel_zoom",
        "tap",
        "tap_tolerance",
        "touch_zoom",
        "world_copy_jump",
        "zoom",
        "zoom_animation_threshold",
        "zoom_start"
       ],
       "south": 90,
       "style": "IPY_MODEL_52495f4d42284f23b352266984fb749f",
       "west": 180,
       "zoom": 9
      }
     },
     "c9f9afced88547b4947b8a024a2340c4": {
      "model_module": "jupyter-leaflet",
      "model_module_version": "^0.12.2",
      "model_name": "LeafletMapStyleModel",
      "state": {
       "_model_module_version": "^0.12.2"
      }
     },
     "ca62842e8a594b999886a67c9f6160f3": {
      "model_module": "jupyter-leaflet",
      "model_module_version": "^0.12.2",
      "model_name": "LeafletMapStyleModel",
      "state": {
       "_model_module_version": "^0.12.2"
      }
     },
     "cad5dd7aa4f7470c9939be022cebba12": {
      "model_module": "@jupyter-widgets/controls",
      "model_module_version": "1.5.0",
      "model_name": "DescriptionStyleModel",
      "state": {
       "description_width": ""
      }
     },
     "cbeb1ecffc934da8a2ad9deb6009d100": {
      "model_module": "jupyter-leaflet",
      "model_module_version": "^0.12.2",
      "model_name": "LeafletZoomControlModel",
      "state": {
       "_model_module_version": "^0.12.2",
       "_view_module_version": "^0.12.2",
       "options": [
        "position",
        "zoom_in_text",
        "zoom_in_title",
        "zoom_out_text",
        "zoom_out_title"
       ]
      }
     },
     "cd289c8ecbba4443a15da22fbfd7a61c": {
      "model_module": "jupyter-leaflet",
      "model_module_version": "^0.12.2",
      "model_name": "LeafletTileLayerModel",
      "state": {
       "_model_module_version": "^0.12.2",
       "_view_module_version": "^0.12.2",
       "base": true,
       "max_native_zoom": 18,
       "max_zoom": 19,
       "min_native_zoom": 0,
       "min_zoom": 1,
       "no_wrap": false,
       "options": [
        "attribution",
        "detect_retina",
        "max_native_zoom",
        "max_zoom",
        "min_native_zoom",
        "min_zoom",
        "no_wrap",
        "tile_size",
        "tms"
       ]
      }
     },
     "cee93b379c124d539da078c8219ff35f": {
      "model_module": "jupyter-leaflet",
      "model_module_version": "^0.12.2",
      "model_name": "LeafletMapStyleModel",
      "state": {
       "_model_module_version": "^0.12.2",
       "cursor": "move"
      }
     },
     "d079fa611c1943fcbd41c81b4c3cc92b": {
      "model_module": "@jupyter-widgets/base",
      "model_module_version": "1.2.0",
      "model_name": "LayoutModel",
      "state": {}
     },
     "d0eb6b29150b44278a716d703cf63b34": {
      "model_module": "jupyter-leaflet",
      "model_module_version": "^0.12.2",
      "model_name": "LeafletMarkerModel",
      "state": {
       "_model_module_version": "^0.12.2",
       "_view_module_version": "^0.12.2",
       "location": [
        52.1,
        359.9
       ],
       "options": [
        "alt",
        "draggable",
        "keyboard",
        "rise_offset",
        "rise_on_hover",
        "rotation_angle",
        "rotation_origin",
        "title",
        "z_index_offset"
       ],
       "popup": "IPY_MODEL_a9bae8f1d9a042d987b4299ef259d550"
      }
     },
     "d2d85d1bd6254598a18e01e5a47ef0ad": {
      "model_module": "jupyter-leaflet",
      "model_module_version": "^0.12.2",
      "model_name": "LeafletZoomControlModel",
      "state": {
       "_model_module_version": "^0.12.2",
       "_view_module_version": "^0.12.2",
       "options": [
        "position",
        "zoom_in_text",
        "zoom_in_title",
        "zoom_out_text",
        "zoom_out_title"
       ]
      }
     },
     "d4521357ab2040b8a3bc76af787362d3": {
      "model_module": "jupyter-leaflet",
      "model_module_version": "^0.12.2",
      "model_name": "LeafletMapModel",
      "state": {
       "_model_module_version": "^0.12.2",
       "_view_module_version": "^0.12.2",
       "center": [
        -41.902277040963696,
        87.71484375000001
       ],
       "controls": [
        "IPY_MODEL_cbeb1ecffc934da8a2ad9deb6009d100",
        "IPY_MODEL_96a9c8e5b9af45d8a18fa51c4a51c3e6"
       ],
       "default_style": "IPY_MODEL_e5ba41b4df92465d822d22a04ae91435",
       "dragging_style": "IPY_MODEL_aa8d75cdd62a40af83de954ba6d9a3f5",
       "east": -180,
       "fullscreen": false,
       "interpolation": "bilinear",
       "layers": [
        "IPY_MODEL_8680a0c7392d4d36b0dc2dfa2e9a4a8f"
       ],
       "layout": "IPY_MODEL_30093b6677e6428ba9428d00c0b6a23a",
       "modisdate": "yesterday",
       "north": -90,
       "options": [
        "bounce_at_zoom_limits",
        "box_zoom",
        "center",
        "close_popup_on_click",
        "double_click_zoom",
        "dragging",
        "fullscreen",
        "inertia",
        "inertia_deceleration",
        "inertia_max_speed",
        "interpolation",
        "keyboard",
        "keyboard_pan_offset",
        "keyboard_zoom_offset",
        "max_zoom",
        "min_zoom",
        "scroll_wheel_zoom",
        "tap",
        "tap_tolerance",
        "touch_zoom",
        "world_copy_jump",
        "zoom",
        "zoom_animation_threshold",
        "zoom_start"
       ],
       "south": 90,
       "style": "IPY_MODEL_e5ba41b4df92465d822d22a04ae91435",
       "west": 180,
       "zoom": 4
      }
     },
     "d4cc496f7b5249afbba5aa65997dc732": {
      "model_module": "jupyter-leaflet",
      "model_module_version": "^0.12.2",
      "model_name": "LeafletMapStyleModel",
      "state": {
       "_model_module_version": "^0.12.2"
      }
     },
     "d5fecd5c696c4c10a16cab8526893c7c": {
      "model_module": "jupyter-leaflet",
      "model_module_version": "^0.12.2",
      "model_name": "LeafletMapModel",
      "state": {
       "_model_module_version": "^0.12.2",
       "_view_module_version": "^0.12.2",
       "center": [
        41.902277040963696,
        -87.626953125
       ],
       "controls": [
        "IPY_MODEL_99c35d707eb04a8d8fc665dcaee1fcce",
        "IPY_MODEL_f8f3131e4a40457283fe233d9d9afc61"
       ],
       "default_style": "IPY_MODEL_2c2915d236994c6aa892b48db282b430",
       "dragging_style": "IPY_MODEL_e4673ef40f254c7ab86d85cedf00536b",
       "east": -180,
       "fullscreen": false,
       "interpolation": "bilinear",
       "layers": [
        "IPY_MODEL_678a4258f7374328a44de244659a718b"
       ],
       "layout": "IPY_MODEL_9bb767ea7241448e88f1eceabf008227",
       "modisdate": "yesterday",
       "north": -90,
       "options": [
        "bounce_at_zoom_limits",
        "box_zoom",
        "center",
        "close_popup_on_click",
        "double_click_zoom",
        "dragging",
        "fullscreen",
        "inertia",
        "inertia_deceleration",
        "inertia_max_speed",
        "interpolation",
        "keyboard",
        "keyboard_pan_offset",
        "keyboard_zoom_offset",
        "max_zoom",
        "min_zoom",
        "scroll_wheel_zoom",
        "tap",
        "tap_tolerance",
        "touch_zoom",
        "world_copy_jump",
        "zoom",
        "zoom_animation_threshold",
        "zoom_start"
       ],
       "south": 90,
       "style": "IPY_MODEL_2c2915d236994c6aa892b48db282b430",
       "west": 180,
       "zoom": 4
      }
     },
     "d7130d1d50184729a70e68626b9dab5f": {
      "model_module": "jupyter-leaflet",
      "model_module_version": "^0.12.2",
      "model_name": "LeafletMapModel",
      "state": {
       "_model_module_version": "^0.12.2",
       "_view_module_version": "^0.12.2",
       "center": [
        41.8781,
        -87.6298
       ],
       "controls": [
        "IPY_MODEL_b13fbca5cd16452488326f944863cb5d",
        "IPY_MODEL_101faba6e1eb4bfaa9ebc62a468d654e"
       ],
       "default_style": "IPY_MODEL_407abfda4d4d4716ba159e85213dfa60",
       "dragging_style": "IPY_MODEL_cee93b379c124d539da078c8219ff35f",
       "east": -82.24365234375001,
       "fullscreen": false,
       "interpolation": "bilinear",
       "layers": [
        "IPY_MODEL_cd289c8ecbba4443a15da22fbfd7a61c",
        "IPY_MODEL_54b7fc56b05d4a34983176c09577a288"
       ],
       "layout": "IPY_MODEL_f507ad5053634258b13bdb317cdd3b98",
       "modisdate": "yesterday",
       "north": 43.492782808225,
       "options": [
        "bounce_at_zoom_limits",
        "box_zoom",
        "center",
        "close_popup_on_click",
        "double_click_zoom",
        "dragging",
        "fullscreen",
        "inertia",
        "inertia_deceleration",
        "inertia_max_speed",
        "interpolation",
        "keyboard",
        "keyboard_pan_offset",
        "keyboard_zoom_offset",
        "max_zoom",
        "min_zoom",
        "scroll_wheel_zoom",
        "tap",
        "tap_tolerance",
        "touch_zoom",
        "world_copy_jump",
        "zoom",
        "zoom_animation_threshold",
        "zoom_start"
       ],
       "south": 40.22082997283287,
       "style": "IPY_MODEL_d7f32ae0989143b3a1e788371c6279d3",
       "west": -93.02124023437501,
       "zoom": 7
      }
     },
     "d7f32ae0989143b3a1e788371c6279d3": {
      "model_module": "jupyter-leaflet",
      "model_module_version": "^0.12.2",
      "model_name": "LeafletMapStyleModel",
      "state": {
       "_model_module_version": "^0.12.2"
      }
     },
     "da80e2f71a24430ab136192eb5268084": {
      "model_module": "jupyter-leaflet",
      "model_module_version": "^0.12.2",
      "model_name": "LeafletMapModel",
      "state": {
       "_model_module_version": "^0.12.2",
       "_view_module_version": "^0.12.2",
       "center": [
        41.8781,
        -87.6298
       ],
       "controls": [
        "IPY_MODEL_45cfed0b9a1a4426a156277136efc527",
        "IPY_MODEL_9c98b43f5ee545d1b401409091bd2e4e"
       ],
       "default_style": "IPY_MODEL_83545705b4b74cd7be30807977733a64",
       "dragging_style": "IPY_MODEL_58d5afc0b9cf472cbe206bdab4b36cc3",
       "east": -84.93530273437501,
       "fullscreen": false,
       "interpolation": "bilinear",
       "layers": [
        "IPY_MODEL_2a7e3557514b4d889b15aa5f49f6ceb0"
       ],
       "layout": "IPY_MODEL_73a6fb1416ec4b6bbade509255624ef0",
       "modisdate": "yesterday",
       "north": 42.69051116998241,
       "options": [
        "bounce_at_zoom_limits",
        "box_zoom",
        "center",
        "close_popup_on_click",
        "double_click_zoom",
        "dragging",
        "fullscreen",
        "inertia",
        "inertia_deceleration",
        "inertia_max_speed",
        "interpolation",
        "keyboard",
        "keyboard_pan_offset",
        "keyboard_zoom_offset",
        "max_zoom",
        "min_zoom",
        "scroll_wheel_zoom",
        "tap",
        "tap_tolerance",
        "touch_zoom",
        "world_copy_jump",
        "zoom",
        "zoom_animation_threshold",
        "zoom_start"
       ],
       "south": 41.054501963290505,
       "style": "IPY_MODEL_444a98e8ba6c4a529a1275c8ddd54dd6",
       "west": -90.32409667968751,
       "zoom": 8
      }
     },
     "df21117085f641efbcd760cffee9192f": {
      "model_module": "jupyter-leaflet",
      "model_module_version": "^0.12.2",
      "model_name": "LeafletMapModel",
      "state": {
       "_model_module_version": "^0.12.2",
       "_view_module_version": "^0.12.2",
       "center": [
        41.60928183876483,
        -88.00323486328125
       ],
       "controls": [
        "IPY_MODEL_a6b1b3561b754780a13407238cbcd40a",
        "IPY_MODEL_7cf2cdde71484808a6882a21973aeca5"
       ],
       "default_style": "IPY_MODEL_0228b80b3cef4c9d8d81bbc77919d1b1",
       "dragging_style": "IPY_MODEL_af3bdd0983194310b953a48c4baa8ae4",
       "east": -180,
       "fullscreen": false,
       "interpolation": "bilinear",
       "layers": [
        "IPY_MODEL_04ac72f9d9144241accb90631d55e872"
       ],
       "layout": "IPY_MODEL_3cc55e91fd74482c910ea16cbe51cb5d",
       "modisdate": "yesterday",
       "north": -90,
       "options": [
        "bounce_at_zoom_limits",
        "box_zoom",
        "center",
        "close_popup_on_click",
        "double_click_zoom",
        "dragging",
        "fullscreen",
        "inertia",
        "inertia_deceleration",
        "inertia_max_speed",
        "interpolation",
        "keyboard",
        "keyboard_pan_offset",
        "keyboard_zoom_offset",
        "max_zoom",
        "min_zoom",
        "scroll_wheel_zoom",
        "tap",
        "tap_tolerance",
        "touch_zoom",
        "world_copy_jump",
        "zoom",
        "zoom_animation_threshold",
        "zoom_start"
       ],
       "south": 90,
       "style": "IPY_MODEL_0228b80b3cef4c9d8d81bbc77919d1b1",
       "west": 180,
       "zoom": 9
      }
     },
     "e065cb7c741b4b058043a921d36cc41f": {
      "model_module": "jupyter-leaflet",
      "model_module_version": "^0.12.2",
      "model_name": "LeafletMapStyleModel",
      "state": {
       "_model_module_version": "^0.12.2"
      }
     },
     "e3815d42239c4d21b1ea1d40ef982a50": {
      "model_module": "@jupyter-widgets/base",
      "model_module_version": "1.2.0",
      "model_name": "LayoutModel",
      "state": {}
     },
     "e3984317755943a8a45a383aae356d4a": {
      "model_module": "jupyter-leaflet",
      "model_module_version": "^0.12.2",
      "model_name": "LeafletMapStyleModel",
      "state": {
       "_model_module_version": "^0.12.2"
      }
     },
     "e4673ef40f254c7ab86d85cedf00536b": {
      "model_module": "jupyter-leaflet",
      "model_module_version": "^0.12.2",
      "model_name": "LeafletMapStyleModel",
      "state": {
       "_model_module_version": "^0.12.2",
       "cursor": "move"
      }
     },
     "e5ba41b4df92465d822d22a04ae91435": {
      "model_module": "jupyter-leaflet",
      "model_module_version": "^0.12.2",
      "model_name": "LeafletMapStyleModel",
      "state": {
       "_model_module_version": "^0.12.2"
      }
     },
     "e807282018294613a79f0bc134f5c025": {
      "model_module": "jupyter-leaflet",
      "model_module_version": "^0.12.2",
      "model_name": "LeafletMapStyleModel",
      "state": {
       "_model_module_version": "^0.12.2"
      }
     },
     "e8e10760a459464197f81260b77ba917": {
      "model_module": "jupyter-leaflet",
      "model_module_version": "^0.12.2",
      "model_name": "LeafletMapStyleModel",
      "state": {
       "_model_module_version": "^0.12.2"
      }
     },
     "e9c4590286be4975ad6455fa15d2f59d": {
      "model_module": "jupyter-leaflet",
      "model_module_version": "^0.12.2",
      "model_name": "LeafletZoomControlModel",
      "state": {
       "_model_module_version": "^0.12.2",
       "_view_module_version": "^0.12.2",
       "options": [
        "position",
        "zoom_in_text",
        "zoom_in_title",
        "zoom_out_text",
        "zoom_out_title"
       ]
      }
     },
     "ea1f6232f2904683acfaafaa919f7400": {
      "model_module": "jupyter-leaflet",
      "model_module_version": "^0.12.2",
      "model_name": "LeafletMapStyleModel",
      "state": {
       "_model_module_version": "^0.12.2"
      }
     },
     "eaca7befe49a48f59e8393ce779cc330": {
      "model_module": "jupyter-leaflet",
      "model_module_version": "^0.12.2",
      "model_name": "LeafletMapModel",
      "state": {
       "_model_module_version": "^0.12.2",
       "_view_module_version": "^0.12.2",
       "center": [
        41.87774145109676,
        -87.626953125
       ],
       "controls": [
        "IPY_MODEL_b6266418cf564afa8e190104589859df",
        "IPY_MODEL_c68934bdb7ed46b8a1d89ca248cfade8"
       ],
       "default_style": "IPY_MODEL_c0cf33e83d7f4a0b9841be2526d11a16",
       "dragging_style": "IPY_MODEL_865e3c3946d34a7a88dd389285e78fd2",
       "east": -180,
       "fullscreen": false,
       "interpolation": "bilinear",
       "layers": [
        "IPY_MODEL_292a75fee2034561a9b5678a3f5cef9f",
        "IPY_MODEL_f718164e14bc4c8691527f0db70645f7"
       ],
       "layout": "IPY_MODEL_a6ce72b468914ac7897f4c9e54c74101",
       "modisdate": "yesterday",
       "north": -90,
       "options": [
        "bounce_at_zoom_limits",
        "box_zoom",
        "center",
        "close_popup_on_click",
        "double_click_zoom",
        "dragging",
        "fullscreen",
        "inertia",
        "inertia_deceleration",
        "inertia_max_speed",
        "interpolation",
        "keyboard",
        "keyboard_pan_offset",
        "keyboard_zoom_offset",
        "max_zoom",
        "min_zoom",
        "scroll_wheel_zoom",
        "tap",
        "tap_tolerance",
        "touch_zoom",
        "world_copy_jump",
        "zoom",
        "zoom_animation_threshold",
        "zoom_start"
       ],
       "south": 90,
       "style": "IPY_MODEL_c0cf33e83d7f4a0b9841be2526d11a16",
       "west": 180,
       "zoom": 7
      }
     },
     "eae1e9bdc45442f9b1ae11942ab1228a": {
      "model_module": "@jupyter-widgets/base",
      "model_module_version": "1.2.0",
      "model_name": "LayoutModel",
      "state": {}
     },
     "eb908821470b4a9f9fb4e3f4ca60998c": {
      "model_module": "jupyter-leaflet",
      "model_module_version": "^0.12.2",
      "model_name": "LeafletZoomControlModel",
      "state": {
       "_model_module_version": "^0.12.2",
       "_view_module_version": "^0.12.2",
       "options": [
        "position",
        "zoom_in_text",
        "zoom_in_title",
        "zoom_out_text",
        "zoom_out_title"
       ]
      }
     },
     "ed3a6f167ad9430eb3e084bd38ffbae8": {
      "model_module": "jupyter-leaflet",
      "model_module_version": "^0.12.2",
      "model_name": "LeafletTileLayerModel",
      "state": {
       "_model_module_version": "^0.12.2",
       "_view_module_version": "^0.12.2",
       "base": true,
       "max_native_zoom": 18,
       "max_zoom": 19,
       "min_native_zoom": 0,
       "min_zoom": 1,
       "no_wrap": false,
       "options": [
        "attribution",
        "detect_retina",
        "max_native_zoom",
        "max_zoom",
        "min_native_zoom",
        "min_zoom",
        "no_wrap",
        "tile_size",
        "tms"
       ]
      }
     },
     "f16ccca5408243b78a704a407632a98f": {
      "model_module": "jupyter-leaflet",
      "model_module_version": "^0.12.2",
      "model_name": "LeafletMapStyleModel",
      "state": {
       "_model_module_version": "^0.12.2",
       "cursor": "move"
      }
     },
     "f2790a97a2d6487786d01eea9d51099c": {
      "model_module": "@jupyter-widgets/base",
      "model_module_version": "1.2.0",
      "model_name": "LayoutModel",
      "state": {}
     },
     "f2b37dd23f1347d58be9861bc7c8ea6c": {
      "model_module": "jupyter-leaflet",
      "model_module_version": "^0.12.2",
      "model_name": "LeafletMapStyleModel",
      "state": {
       "_model_module_version": "^0.12.2"
      }
     },
     "f2e2782e691248cca7b672861e6f62df": {
      "model_module": "jupyter-leaflet",
      "model_module_version": "^0.12.2",
      "model_name": "LeafletTileLayerModel",
      "state": {
       "_model_module_version": "^0.12.2",
       "_view_module_version": "^0.12.2",
       "base": true,
       "max_native_zoom": 18,
       "max_zoom": 19,
       "min_native_zoom": 0,
       "min_zoom": 1,
       "no_wrap": false,
       "options": [
        "attribution",
        "detect_retina",
        "max_native_zoom",
        "max_zoom",
        "min_native_zoom",
        "min_zoom",
        "no_wrap",
        "tile_size",
        "tms"
       ]
      }
     },
     "f507ad5053634258b13bdb317cdd3b98": {
      "model_module": "@jupyter-widgets/base",
      "model_module_version": "1.2.0",
      "model_name": "LayoutModel",
      "state": {}
     },
     "f53102e207c6454abbf135940ed953ea": {
      "model_module": "@jupyter-widgets/base",
      "model_module_version": "1.2.0",
      "model_name": "LayoutModel",
      "state": {}
     },
     "f632959c7d5a483c99a77a68be9dd4f3": {
      "model_module": "jupyter-leaflet",
      "model_module_version": "^0.12.2",
      "model_name": "LeafletTileLayerModel",
      "state": {
       "_model_module_version": "^0.12.2",
       "_view_module_version": "^0.12.2",
       "base": true,
       "max_native_zoom": 18,
       "max_zoom": 19,
       "min_native_zoom": 0,
       "min_zoom": 1,
       "no_wrap": false,
       "options": [
        "attribution",
        "detect_retina",
        "max_native_zoom",
        "max_zoom",
        "min_native_zoom",
        "min_zoom",
        "no_wrap",
        "tile_size",
        "tms"
       ]
      }
     },
     "f69bdf6f9d2b43be887bb27ada109437": {
      "model_module": "@jupyter-widgets/controls",
      "model_module_version": "1.5.0",
      "model_name": "DescriptionStyleModel",
      "state": {
       "description_width": ""
      }
     },
     "f6ecbdb953f146f0a682536b4a1da98f": {
      "model_module": "jupyter-leaflet",
      "model_module_version": "^0.12.2",
      "model_name": "LeafletMapModel",
      "state": {
       "_model_module_version": "^0.12.2",
       "_view_module_version": "^0.12.2",
       "center": [
        32.2,
        34.8
       ],
       "controls": [
        "IPY_MODEL_eb908821470b4a9f9fb4e3f4ca60998c",
        "IPY_MODEL_6a7d6d757a1848c0a499cc8476209c57"
       ],
       "default_style": "IPY_MODEL_978c00a903264639ad738a98a14c385c",
       "dragging_style": "IPY_MODEL_f7a40c875d444525b8805659be359975",
       "fullscreen": false,
       "interpolation": "bilinear",
       "layers": [
        "IPY_MODEL_fed0697618ef451b996808c41d4a2dce"
       ],
       "layout": "IPY_MODEL_a25226585be1486284d2b7bc09f0ca0f",
       "modisdate": "yesterday",
       "options": [
        "bounce_at_zoom_limits",
        "box_zoom",
        "center",
        "close_popup_on_click",
        "double_click_zoom",
        "dragging",
        "fullscreen",
        "inertia",
        "inertia_deceleration",
        "inertia_max_speed",
        "interpolation",
        "keyboard",
        "keyboard_pan_offset",
        "keyboard_zoom_offset",
        "max_zoom",
        "min_zoom",
        "scroll_wheel_zoom",
        "tap",
        "tap_tolerance",
        "touch_zoom",
        "world_copy_jump",
        "zoom",
        "zoom_animation_threshold",
        "zoom_start"
       ],
       "style": "IPY_MODEL_ca62842e8a594b999886a67c9f6160f3"
      }
     },
     "f718164e14bc4c8691527f0db70645f7": {
      "model_module": "jupyter-leaflet",
      "model_module_version": "^0.12.2",
      "model_name": "LeafletTileLayerModel",
      "state": {
       "_model_module_version": "^0.12.2",
       "_view_module_version": "^0.12.2",
       "attribution": "Map tiles by <a href=\"https://labs.strava.com/heatmap\">Strava 2017</a>",
       "max_native_zoom": 18,
       "max_zoom": 15,
       "min_native_zoom": 0,
       "min_zoom": 1,
       "name": "Strava.All",
       "no_wrap": false,
       "options": [
        "attribution",
        "detect_retina",
        "max_native_zoom",
        "max_zoom",
        "min_native_zoom",
        "min_zoom",
        "no_wrap",
        "tile_size",
        "tms"
       ],
       "url": "https://heatmap-external-a.strava.com//tiles/all/hot/{z}/{x}/{y}.png?v=19"
      }
     },
     "f74e0e6be4354d09864d04dccb81e8d7": {
      "model_module": "@jupyter-widgets/base",
      "model_module_version": "1.2.0",
      "model_name": "LayoutModel",
      "state": {}
     },
     "f7a40c875d444525b8805659be359975": {
      "model_module": "jupyter-leaflet",
      "model_module_version": "^0.12.2",
      "model_name": "LeafletMapStyleModel",
      "state": {
       "_model_module_version": "^0.12.2",
       "cursor": "move"
      }
     },
     "f8f3131e4a40457283fe233d9d9afc61": {
      "model_module": "jupyter-leaflet",
      "model_module_version": "^0.12.2",
      "model_name": "LeafletAttributionControlModel",
      "state": {
       "_model_module_version": "^0.12.2",
       "_view_module_version": "^0.12.2",
       "options": [
        "position",
        "prefix"
       ],
       "position": "bottomright",
       "prefix": "Leaflet"
      }
     },
     "f9eaca8a0b164163bd04b0b973a53831": {
      "model_module": "jupyter-leaflet",
      "model_module_version": "^0.12.2",
      "model_name": "LeafletAttributionControlModel",
      "state": {
       "_model_module_version": "^0.12.2",
       "_view_module_version": "^0.12.2",
       "options": [
        "position",
        "prefix"
       ],
       "position": "bottomright",
       "prefix": "Leaflet"
      }
     },
     "fa25771dcf9e46f082d85dc09b92c36b": {
      "model_module": "jupyter-leaflet",
      "model_module_version": "^0.12.2",
      "model_name": "LeafletMapStyleModel",
      "state": {
       "_model_module_version": "^0.12.2",
       "cursor": "move"
      }
     },
     "fb024878d03a4410add8d4c6fd0c89d4": {
      "model_module": "jupyter-leaflet",
      "model_module_version": "^0.12.2",
      "model_name": "LeafletMapModel",
      "state": {
       "_model_module_version": "^0.12.2",
       "_view_module_version": "^0.12.2",
       "center": [
        41.87774145109676,
        -87.62969970703126
       ],
       "controls": [
        "IPY_MODEL_b3e08eb1fb93493cbed8abc67c63923e",
        "IPY_MODEL_b09929ac6672475c97819a80e417dcfc"
       ],
       "default_style": "IPY_MODEL_94a2c9a0f3604451bca85cca5fd11f23",
       "dragging_style": "IPY_MODEL_253b8f6556b64fdeac1bec2477024a8d",
       "east": -76.86035156250001,
       "fullscreen": false,
       "interpolation": "bilinear",
       "layers": [
        "IPY_MODEL_1ea30fd90a7f4b4e82b1df7657f33b3a"
       ],
       "layout": "IPY_MODEL_683564fe33604645bf7fd8382d76aadd",
       "modisdate": "yesterday",
       "north": 45.058001435398296,
       "options": [
        "bounce_at_zoom_limits",
        "box_zoom",
        "center",
        "close_popup_on_click",
        "double_click_zoom",
        "dragging",
        "fullscreen",
        "inertia",
        "inertia_deceleration",
        "inertia_max_speed",
        "interpolation",
        "keyboard",
        "keyboard_pan_offset",
        "keyboard_zoom_offset",
        "max_zoom",
        "min_zoom",
        "scroll_wheel_zoom",
        "tap",
        "tap_tolerance",
        "touch_zoom",
        "world_copy_jump",
        "zoom",
        "zoom_animation_threshold",
        "zoom_start"
       ],
       "south": 38.51378825951165,
       "style": "IPY_MODEL_94a2c9a0f3604451bca85cca5fd11f23",
       "west": -98.41552734375001,
       "zoom": 6
      }
     },
     "fbaf432b3c974fe5afc13e1d97aa21ed": {
      "model_module": "jupyter-leaflet",
      "model_module_version": "^0.12.2",
      "model_name": "LeafletMapStyleModel",
      "state": {
       "_model_module_version": "^0.12.2",
       "cursor": "move"
      }
     },
     "fed0697618ef451b996808c41d4a2dce": {
      "model_module": "jupyter-leaflet",
      "model_module_version": "^0.12.2",
      "model_name": "LeafletTileLayerModel",
      "state": {
       "_model_module_version": "^0.12.2",
       "_view_module_version": "^0.12.2",
       "base": true,
       "max_native_zoom": 18,
       "max_zoom": 19,
       "min_native_zoom": 0,
       "min_zoom": 1,
       "no_wrap": false,
       "options": [
        "attribution",
        "detect_retina",
        "max_native_zoom",
        "max_zoom",
        "min_native_zoom",
        "min_zoom",
        "no_wrap",
        "tile_size",
        "tms"
       ]
      }
     }
    },
    "version_major": 2,
    "version_minor": 0
   }
  }
 },
 "nbformat": 4,
 "nbformat_minor": 2
}
